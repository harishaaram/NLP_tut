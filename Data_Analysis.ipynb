{
 "cells": [
  {
   "cell_type": "markdown",
   "metadata": {},
   "source": [
    "# Preprocessing"
   ]
  },
  {
   "cell_type": "markdown",
   "metadata": {},
   "source": [
    "### Resources:\n",
    "1. [collocation](https://www.youtube.com/watch?v=Kf25kCKuOUI)\n",
    "2. [Unicode and WHy?](https://www.youtube.com/watch?v=sqPTR_v4qFA)\n",
    "3. [concordance](http://www.nltk.org/book/ch01.html)\n",
    "4. [vader sentiment analysis](http://www.nltk.org/howto/sentiment.html)\n",
    "5. [ALl about vader](http://t-redactyl.io/blog/2017/04/using-vader-to-handle-sentiment-analysis-with-social-media-text.html)"
   ]
  },
  {
   "cell_type": "code",
   "execution_count": 1,
   "metadata": {},
   "outputs": [
    {
     "name": "stdout",
     "output_type": "stream",
     "text": [
      "[nltk_data] Downloading package words to /home/harish/nltk_data...\n",
      "[nltk_data]   Package words is already up-to-date!\n",
      "[nltk_data] Downloading package stopwords to /home/harish/nltk_data...\n",
      "[nltk_data]   Package stopwords is already up-to-date!\n"
     ]
    }
   ],
   "source": [
    "#The following commands import the modules, algorithms, corpora, lists that will be needed for exploratory book analysis\n",
    "import nltk #imports the nltk module\n",
    "nltk.download(\"words\") # downloads English words\n",
    "nltk.download(\"stopwords\") # downloads English stopwords \n",
    "from nltk.text import Text #imports the Text module that enables the exploratory search of the text\n",
    "from nltk import bigrams # imports the bigrams module\n",
    "from nltk.collocations import * # imports the collocations methods\n",
    "import string # imports string module that allows running processs on strings\n",
    "from string import punctuation # imports punctuation symbols\n",
    "import os #this module allows interfacing with the underlying operating system\n",
    "import re #imports regular expression module \n",
    "from collections import OrderedDict #imports collections module, an alternative to list, dict, set, tuple\n",
    "from nltk.draw import dispersion_plot\n",
    "from IPython.display import display # a module that wraps the object to be displayed"
   ]
  },
  {
   "cell_type": "code",
   "execution_count": 2,
   "metadata": {
    "collapsed": true
   },
   "outputs": [],
   "source": [
    "import pandas as pd\n",
    "import os\n",
    "# from wordcloud import WordCloud\n",
    "import matplotlib.pyplot as plt\n",
    "%matplotlib inline\n",
    "\n",
    "os.chdir('/home/harish/PycharmProjects/NewsOptimism/')\n",
    "df = pd.read_csv('csvdataset/11192017/cnn.csv')\n",
    "df = df.dropna(how='any')"
   ]
  },
  {
   "cell_type": "code",
   "execution_count": 3,
   "metadata": {},
   "outputs": [
    {
     "data": {
      "text/plain": [
       "'The naked truth'"
      ]
     },
     "execution_count": 3,
     "metadata": {},
     "output_type": "execute_result"
    }
   ],
   "source": [
    "df.shape\n",
    "df['TITLE'].iloc[326]"
   ]
  },
  {
   "cell_type": "code",
   "execution_count": 4,
   "metadata": {},
   "outputs": [
    {
     "data": {
      "text/plain": [
       "'To her 5,000 friends and thousands more followers on Facebook, Paulette was already a hero.\\n\"I lost my mother to breast cancer but I know if she were alive, she would be walking with you -- the whole way.\\nIt was God who woke her up one night in December 2013 to tell her she had breast cancer, which doctors later confirmed.\\nShe worried a lump under her arm was the return of breast cancer, and supporters overwhelmed her with more prayers.\\nAnnette Johnson, a longtime acquaintance of PauletteAnd then there was this: She told Paulette she was marrying her long-lost love.'"
      ]
     },
     "execution_count": 4,
     "metadata": {},
     "output_type": "execute_result"
    }
   ],
   "source": [
    "\n",
    "df['SUMMARY'].iloc[326]"
   ]
  },
  {
   "cell_type": "code",
   "execution_count": 5,
   "metadata": {
    "scrolled": true
   },
   "outputs": [
    {
     "name": "stdout",
     "output_type": "stream",
     "text": [
      "[(326, 69924), (250, 68707), (112, 50964), (106, 38367), (823, 36668)]\n"
     ]
    }
   ],
   "source": [
    "#Top 5 More text contented article\n",
    "maxdf = {}\n",
    "max_i = 0\n",
    "for i in range(df.shape[0]):\n",
    "    maxdf[i] = len(str(df['TEXT'].iloc[i]))\n",
    "print(sorted(maxdf.items(), key=lambda x:x[1], reverse=True)[:5])"
   ]
  },
  {
   "cell_type": "code",
   "execution_count": 6,
   "metadata": {
    "collapsed": true
   },
   "outputs": [],
   "source": [
    "#Testing with single text:\n",
    "data = str(df['TEXT'][326])\n",
    "data = data.replace(\"\\n\",\"\")"
   ]
  },
  {
   "cell_type": "code",
   "execution_count": 7,
   "metadata": {
    "collapsed": true
   },
   "outputs": [],
   "source": [
    "import string"
   ]
  },
  {
   "cell_type": "code",
   "execution_count": 8,
   "metadata": {},
   "outputs": [
    {
     "data": {
      "text/plain": [
       "13989"
      ]
     },
     "execution_count": 8,
     "metadata": {},
     "output_type": "execute_result"
    }
   ],
   "source": [
    "words_string = nltk.word_tokenize(data)\n",
    "words_string#need to remove punctuations# todo\n",
    "len(words_string)"
   ]
  },
  {
   "cell_type": "markdown",
   "metadata": {},
   "source": [
    "## Removing stop words:\n"
   ]
  },
  {
   "cell_type": "code",
   "execution_count": 9,
   "metadata": {
    "collapsed": true
   },
   "outputs": [],
   "source": [
    "custom_stopwords = ['said','say']"
   ]
  },
  {
   "cell_type": "code",
   "execution_count": 10,
   "metadata": {
    "collapsed": true
   },
   "outputs": [],
   "source": [
    "stopwords = set(nltk.corpus.stopwords.words(\"english\"))\n",
    "# len(stopwords)\n",
    "\n",
    "for w in custom_stopwords:\n",
    "    stopwords.add(w)\n",
    "# if 'says' in stopwords:\n",
    "#     print(\"true\")"
   ]
  },
  {
   "cell_type": "code",
   "execution_count": 11,
   "metadata": {},
   "outputs": [
    {
     "data": {
      "text/plain": [
       "6054"
      ]
     },
     "execution_count": 11,
     "metadata": {},
     "output_type": "execute_result"
    }
   ],
   "source": [
    "#To remove single character's punctations(char len 2) and stopwords; also lower words:\n",
    "words_string = [word.lower() for word in words_string if (len(word) > 2 and word.lower() not in stopwords)]\n",
    "# reduced list:\n",
    "len(words_string)"
   ]
  },
  {
   "cell_type": "code",
   "execution_count": 12,
   "metadata": {},
   "outputs": [],
   "source": [
    "#converting back to text\n",
    "textList = Text(words_string)\n",
    "# textList[:]"
   ]
  },
  {
   "cell_type": "markdown",
   "metadata": {},
   "source": [
    "### Finding some context:"
   ]
  },
  {
   "cell_type": "code",
   "execution_count": 13,
   "metadata": {},
   "outputs": [
    {
     "name": "stdout",
     "output_type": "stream",
     "text": [
      "Displaying 25 of 28 matches:\n",
      "ed walk away paulette story even one woman life saved thanks conversation paule\n",
      "breast cancer five years october one woman nine years cancer-free another sport\n",
      " one man survived lymphoma himself.a woman driven night took shirt reveal tangl\n",
      "ry step way love wrote another brave woman year phenomenal woman wrote third lo\n",
      " another brave woman year phenomenal woman wrote third lost mother breast cance\n",
      "t photographed.she people surrounded woman began cry onlookers applauded paulet\n",
      "yone internet ever put down.only one woman n't know spreading lies criminal rec\n",
      " know spreading lies criminal record woman suspected crazy jealous woman determ\n",
      "record woman suspected crazy jealous woman determined ignore.what documentary g\n",
      "ested god knows could leave homeless woman someone reached wondering could orga\n",
      "rly mccarty paulette chief adversary woman paulette spreading lies her.paulette\n",
      "east cancer deeply personal decision woman makes doctor.perhaps paulette radiat\n",
      " facebook posts critical pauletteone woman get caught carmen lawrence cleveland\n",
      "ours side marveled calling strongest woman alive.local reporters popped meet fi\n",
      "cars something never done walked one woman chest discolored radiation burns alm\n",
      "ubled pretty sure oncologist surgeon woman lost one breasts cancer later woman \n",
      " woman lost one breasts cancer later woman devout catholic n't doubt power god \n",
      "canned crowd looking shameka fulston woman driven night atlanta walk paulette c\n",
      "ence ever existing labor day weekend woman consistently posted facebook multipl\n",
      "ople ask questions 've told time one woman noticing paulette posts newfound fam\n",
      "able touches one person inspires one woman get mammogram n't win activist added\n",
      "d paulette journey saw facebook post woman stage paulette successfully prayed a\n",
      "ant makeup artist.we need story need woman need woman tip tongues nikky finney \n",
      "artist.we need story need woman need woman tip tongues nikky finney poet author\n",
      "e shero says stopped tracks reminded woman truly made iron lavender need story \n"
     ]
    }
   ],
   "source": [
    "textList.concordance('woman')"
   ]
  },
  {
   "cell_type": "code",
   "execution_count": 15,
   "metadata": {},
   "outputs": [
    {
     "name": "stdout",
     "output_type": "stream",
     "text": [
      "cure story\n"
     ]
    }
   ],
   "source": [
    "textList.similar('woman')\n",
    "# textList._word_context_index.similar_words('woman')"
   ]
  },
  {
   "cell_type": "code",
   "execution_count": 16,
   "metadata": {
    "collapsed": true
   },
   "outputs": [],
   "source": [
    "#builds a text index object: based on the textlist\n",
    "textIndex = nltk.text.ContextIndex(textList)"
   ]
  },
  {
   "cell_type": "code",
   "execution_count": 20,
   "metadata": {},
   "outputs": [
    {
     "data": {
      "text/plain": [
       "[('woman', 1.0),\n",
       " ('cure', 0.058823529411764705),\n",
       " ('story', 0.028169014084507043),\n",
       " ('israel.these', 0),\n",
       " ('morning.our', 0)]"
      ]
     },
     "execution_count": 20,
     "metadata": {},
     "output_type": "execute_result"
    }
   ],
   "source": [
    "#how simil\n",
    "sorted(textIndex.word_similarity_dict('woman').items(), key=lambda x:x[1], reverse=True)[:5]"
   ]
  },
  {
   "cell_type": "code",
   "execution_count": 21,
   "metadata": {},
   "outputs": [
    {
     "data": {
      "image/png": "[encoded data removed]",
      "text/plain": [
       "<matplotlib.figure.Figure at 0x7fe72e3c6a20>"
      ]
     },
     "metadata": {},
     "output_type": "display_data"
    }
   ],
   "source": [
    "textList.dispersion_plot(['man','woman', 'cancer', \"cure\"])"
   ]
  },
  {
   "cell_type": "markdown",
   "metadata": {},
   "source": [
    "##### Freq Distribution"
   ]
  },
  {
   "cell_type": "code",
   "execution_count": 22,
   "metadata": {},
   "outputs": [
    {
     "data": {
      "text/plain": [
       "'paulette 261'"
      ]
     },
     "metadata": {},
     "output_type": "display_data"
    },
    {
     "data": {
      "text/plain": [
       "'cancer 79'"
      ]
     },
     "metadata": {},
     "output_type": "display_data"
    },
    {
     "data": {
      "text/plain": [
       "\"n't 76\""
      ]
     },
     "metadata": {},
     "output_type": "display_data"
    },
    {
     "data": {
      "text/plain": [
       "'told 57'"
      ]
     },
     "metadata": {},
     "output_type": "display_data"
    },
    {
     "data": {
      "text/plain": [
       "'walk 50'"
      ]
     },
     "metadata": {},
     "output_type": "display_data"
    },
    {
     "data": {
      "text/plain": [
       "'story 47'"
      ]
     },
     "metadata": {},
     "output_type": "display_data"
    },
    {
     "data": {
      "text/plain": [
       "'day 45'"
      ]
     },
     "metadata": {},
     "output_type": "display_data"
    },
    {
     "data": {
      "text/plain": [
       "'could 44'"
      ]
     },
     "metadata": {},
     "output_type": "display_data"
    },
    {
     "data": {
      "text/plain": [
       "'one 40'"
      ]
     },
     "metadata": {},
     "output_type": "display_data"
    },
    {
     "data": {
      "text/plain": [
       "'breast 39'"
      ]
     },
     "metadata": {},
     "output_type": "display_data"
    }
   ],
   "source": [
    "fdist = nltk.FreqDist(words_string)\n",
    "for word, freq in fdist.most_common(10):\n",
    "    display(\"%s %d\" % (str(word), freq))"
   ]
  },
  {
   "cell_type": "code",
   "execution_count": 23,
   "metadata": {},
   "outputs": [
    {
     "data": {
      "image/png": "[encoded data removed]",
      "text/plain": [
       "<matplotlib.figure.Figure at 0x7fe72bbb0fd0>"
      ]
     },
     "metadata": {},
     "output_type": "display_data"
    }
   ],
   "source": [
    "from wordcloud import WordCloud as wc\n",
    "wordcloud1 = wc(width = 1000, height = 500).generate(' '.join(textList))\n",
    "plt.figure(figsize=(15,8))\n",
    "plt.imshow(wordcloud1)\n",
    "plt.axis(\"off\")\n",
    "plt.show()"
   ]
  },
  {
   "cell_type": "code",
   "execution_count": 24,
   "metadata": {},
   "outputs": [
    {
     "name": "stdout",
     "output_type": "stream",
     "text": [
      "breast cancer; paulette leaphart; reconstructive surgery; could n't;\n",
      "new orleans; double mastectomy; care center; seven months; north\n",
      "carolina; tested positive; n't want; 're going; medical records;\n",
      "social media; 5,000 month; long-lost love; miles day; day care;\n",
      "criminal record; hostile unsafe\n"
     ]
    }
   ],
   "source": [
    "textList.collocations()"
   ]
  },
  {
   "cell_type": "code",
   "execution_count": 25,
   "metadata": {},
   "outputs": [
    {
     "name": "stdout",
     "output_type": "stream",
     "text": [
      "breast cancer\n",
      "reconstructive surgery\n",
      "need need\n",
      "medical records\n",
      "new orleans\n",
      "could n't\n",
      "need woman\n",
      "paulette leaphart\n",
      "care center\n",
      "'re going\n",
      "n't want\n",
      "day center\n",
      "miles day\n",
      "one woman\n",
      "paulette paulette\n",
      "leaphart walk\n",
      "cancer treatment\n",
      "day care\n",
      "story need\n",
      "day posted\n",
      "would walk\n",
      "mccarty n't\n",
      "n't know\n",
      "help n't\n",
      "paulette story\n",
      "paulette even\n",
      "months paulette\n",
      "one day\n",
      "told story\n",
      "beyoncé paulette\n",
      "paulette journey\n",
      "paulette tell\n",
      "see paulette\n",
      "zane paulette\n",
      "paulette told\n",
      "lawrence paulette\n",
      "paulette charlotte\n",
      "paulette facebook\n",
      "cancer paulette\n",
      "walk paulette\n",
      "paulette often\n",
      "way paulette\n",
      "cancer breast\n",
      "johnson paulette\n",
      "asked paulette\n",
      "began paulette\n",
      "walked paulette\n",
      "paulette one\n",
      "paulette walk\n",
      "mccarty paulette\n",
      "paulette wanted\n",
      "paulette johnson\n",
      "paulette breast\n",
      "one paulette\n",
      "paulette daughter\n",
      "first paulette\n",
      "day paulette\n",
      "facebook paulette\n",
      "n't paulette\n",
      "paulette took\n",
      "paulette made\n",
      "daughter paulette\n",
      "paulette day\n",
      "told paulette\n",
      "could paulette\n",
      "n't n't\n",
      "paulette would\n",
      "woman paulette\n",
      "cancer n't\n",
      "cancer cancer\n",
      "story paulette\n",
      "paulette cancer\n",
      "paulette n't\n"
     ]
    }
   ],
   "source": [
    "bigram_measures = nltk.collocations.BigramAssocMeasures() # obtains bigram association measures\n",
    "\n",
    "\n",
    "finder = BigramCollocationFinder.from_words(words_string, 5) # finds bigrams in the text\n",
    "finder.apply_freq_filter(5) #removes bigrams that appear less than 5 times\n",
    "bigrams = finder.nbest(bigram_measures.likelihood_ratio, 1000) #obtain the bigrams with the highest likelihood ratio\n",
    "print('\\n'.join('%s %s' % v for v in bigrams)) #printing them out"
   ]
  },
  {
   "cell_type": "code",
   "execution_count": null,
   "metadata": {
    "collapsed": true
   },
   "outputs": [],
   "source": [
    "# fdist.plot(50, cumulative =False)"
   ]
  },
  {
   "cell_type": "markdown",
   "metadata": {},
   "source": [
    "#### Determining the window size"
   ]
  },
  {
   "cell_type": "code",
   "execution_count": 26,
   "metadata": {},
   "outputs": [
    {
     "name": "stdout",
     "output_type": "stream",
     "text": [
      "                story even one   woman   life saved thanks\n",
      "             years october one   woman   nine years cancer-free\n",
      "   survived lymphoma himself.a   woman   driven night took\n",
      "           wrote another brave   woman   year phenomenal woman\n",
      "         woman year phenomenal   woman   wrote third lost\n",
      "photographed.she people surrounded   woman   began cry onlookers\n",
      "             put down.only one   woman   n't know spreading\n",
      "          lies criminal record   woman   suspected crazy jealous\n",
      "       suspected crazy jealous   woman   determined ignore.what documentary\n",
      "          could leave homeless   woman   someone reached wondering\n",
      "      paulette chief adversary   woman   paulette spreading lies\n",
      "      deeply personal decision   woman   makes doctor.perhaps paulette\n",
      "    posts critical pauletteone   woman   get caught carmen\n",
      "    marveled calling strongest   woman   alive.local reporters popped\n",
      "               done walked one   woman   chest discolored radiation\n",
      "       sure oncologist surgeon   woman   lost one breasts\n",
      "          breasts cancer later   woman   devout catholic n't\n",
      "       looking shameka fulston   woman   driven night atlanta\n",
      "             labor day weekend   woman   consistently posted facebook\n",
      "                 told time one   woman   noticing paulette posts\n",
      "           person inspires one   woman   get mammogram n't\n",
      "             saw facebook post   woman   stage paulette successfully\n",
      "               need story need   woman   need woman tip\n",
      "               need woman need   woman   tip tongues nikky\n",
      "       stopped tracks reminded   woman   truly made iron\n",
      "               need story need   woman   finney writes need\n",
      "            finney writes need   woman   tip tongues heat\n",
      "         children friends fans   woman   says paulette manager\n"
     ]
    }
   ],
   "source": [
    "# If we are interested in examining the surrounding context of a particular word in the text, we need to decide on the parameters of that context.\n",
    "# If, for example, we are interested in three words that precede a particular word and three words after then we are interested in a 7-word window size.\n",
    "# This window size can be established as follows:\n",
    "ngrams = [words_string[i:i+7] for i in range(len(words_string)-6)]# http://digitalhistoryhacks.blogspot.com/2006/08/easy-pieces-in-python-keyword-in.html\n",
    "    \n",
    "kwicdict = {}           # opens up a kwicdict        \n",
    "for n in ngrams: #indexes the fourth word in a sliding window of 7 (three words on each side) \n",
    "    if n[3] not in kwicdict: \n",
    "        kwicdict[n[3]] = [n]\n",
    "    else:\n",
    "        kwicdict[n[3]].append(n)\n",
    "        \n",
    "for n in kwicdict['woman']: # nicely formatted output for the word we are interested in determining the context for\n",
    "    outstring = ' '.join(n[:3]).rjust(30) #output as a string and right justify first three words in the sliding window\n",
    "    outstring += str(n[3]).center(len(n[3])+6) # output as a string and center fourth word in the sliding window\n",
    "    outstring += ' '.join(n[4:]) # output as a string last three words in the sliding window of 7 consecutive words in the text\n",
    "    print(outstring)"
   ]
  },
  {
   "cell_type": "markdown",
   "metadata": {},
   "source": [
    "# Named Entities Extraction"
   ]
  },
  {
   "cell_type": "code",
   "execution_count": 27,
   "metadata": {},
   "outputs": [
    {
     "name": "stdout",
     "output_type": "stream",
     "text": [
      "[nltk_data] Downloading package punkt to /home/harish/nltk_data...\n",
      "[nltk_data]   Package punkt is already up-to-date!\n",
      "[nltk_data] Downloading package averaged_perceptron_tagger to\n",
      "[nltk_data]     /home/harish/nltk_data...\n",
      "[nltk_data]   Package averaged_perceptron_tagger is already up-to-\n",
      "[nltk_data]       date!\n",
      "[nltk_data] Downloading package maxent_ne_chunker to\n",
      "[nltk_data]     /home/harish/nltk_data...\n",
      "[nltk_data]   Package maxent_ne_chunker is already up-to-date!\n"
     ]
    }
   ],
   "source": [
    "nltk.download(\"punkt\") # downloads punkt tokenizer models\n",
    "nltk.download('averaged_perceptron_tagger') # downloads the algorithm for predicting the part of speech information\n",
    "nltk.download('maxent_ne_chunker') # downloads the maximum entropy chunker that has been trained on the ACE 2004 corpus https://catalog.ldc.upenn.edu/LDC2005T09\n",
    "from nltk import word_tokenize, pos_tag, ne_chunk #imports a word tokenizer, part of speech tagger and named entity tagger"
   ]
  },
  {
   "cell_type": "code",
   "execution_count": 28,
   "metadata": {
    "collapsed": true
   },
   "outputs": [],
   "source": [
    "\n",
    "#function for extracting named entities:\n",
    "def extract_entity_names(t, entity_type): # this function has been defined here: https://gist.github.com/onyxfish/322906\n",
    "    entity_names = []\n",
    "\n",
    "    if hasattr(t, 'label') and t.label:\n",
    "        if t.label() == entity_type:\n",
    "            entity_names.append(' '.join([child[0] for child in t]))\n",
    "        else:\n",
    "            for child in t:\n",
    "                entity_names.extend(extract_entity_names(child, entity_type))\n",
    "\n",
    "    return entity_names"
   ]
  },
  {
   "cell_type": "code",
   "execution_count": 29,
   "metadata": {},
   "outputs": [
    {
     "data": {
      "text/plain": [
       "['(CNN) Behind the double-mastectomy scars that run across her bare chest, she had a story to tell.So late last April, Paulette Leaphart embarked on a 1,000-mile walk from her childhood hometown of Biloxi, Mississippi, to the halls of Congress in Washington.And she did it topless.The breast cancer survivor screamed for a cure and demanded better and more affordable health care.',\n",
       " 'She wanted women without breasts to believe in their beauty and be proud of their strength.']"
      ]
     },
     "execution_count": 29,
     "metadata": {},
     "output_type": "execute_result"
    }
   ],
   "source": [
    "# sentence tokenization\n",
    "sentences = nltk.sent_tokenize(data)\n",
    "sentences[:2]#2 sentences"
   ]
  },
  {
   "cell_type": "code",
   "execution_count": 30,
   "metadata": {},
   "outputs": [
    {
     "data": {
      "text/plain": [
       "589"
      ]
     },
     "execution_count": 30,
     "metadata": {},
     "output_type": "execute_result"
    }
   ],
   "source": [
    "len(sentences)"
   ]
  },
  {
   "cell_type": "code",
   "execution_count": 31,
   "metadata": {
    "collapsed": true
   },
   "outputs": [],
   "source": [
    "# word tokenization\n",
    "words = [nltk.word_tokenize(sent) for sent in sentences] # rather than tokenizing the entire file that has been converted into a string, this function tokenizes each of the sentence -- the sentence boundaries are maintained"
   ]
  },
  {
   "cell_type": "code",
   "execution_count": 33,
   "metadata": {},
   "outputs": [],
   "source": [
    "# words[:5]"
   ]
  },
  {
   "cell_type": "code",
   "execution_count": 34,
   "metadata": {
    "collapsed": true
   },
   "outputs": [],
   "source": [
    "tagged_sentences = [nltk.pos_tag(word) for word in words] # for each sentence in words (sentence boundaries are maintained in words) assign the most probable part of speech for each word in the sentence\n"
   ]
  },
  {
   "cell_type": "code",
   "execution_count": 36,
   "metadata": {},
   "outputs": [
    {
     "data": {
      "text/plain": [
       "[[('(', '('),\n",
       "  ('CNN', 'NNP'),\n",
       "  (')', ')'),\n",
       "  ('Behind', 'IN'),\n",
       "  ('the', 'DT'),\n",
       "  ('double-mastectomy', 'JJ'),\n",
       "  ('scars', 'NNS'),\n",
       "  ('that', 'WDT'),\n",
       "  ('run', 'VBP'),\n",
       "  ('across', 'IN'),\n",
       "  ('her', 'PRP$'),\n",
       "  ('bare', 'NN'),\n",
       "  ('chest', 'NN'),\n",
       "  (',', ','),\n",
       "  ('she', 'PRP'),\n",
       "  ('had', 'VBD'),\n",
       "  ('a', 'DT'),\n",
       "  ('story', 'NN'),\n",
       "  ('to', 'TO'),\n",
       "  ('tell.So', 'VB'),\n",
       "  ('late', 'JJ'),\n",
       "  ('last', 'JJ'),\n",
       "  ('April', 'NNP'),\n",
       "  (',', ','),\n",
       "  ('Paulette', 'NNP'),\n",
       "  ('Leaphart', 'NNP'),\n",
       "  ('embarked', 'VBD'),\n",
       "  ('on', 'IN'),\n",
       "  ('a', 'DT'),\n",
       "  ('1,000-mile', 'JJ'),\n",
       "  ('walk', 'NN'),\n",
       "  ('from', 'IN'),\n",
       "  ('her', 'PRP$'),\n",
       "  ('childhood', 'NN'),\n",
       "  ('hometown', 'NN'),\n",
       "  ('of', 'IN'),\n",
       "  ('Biloxi', 'NNP'),\n",
       "  (',', ','),\n",
       "  ('Mississippi', 'NNP'),\n",
       "  (',', ','),\n",
       "  ('to', 'TO'),\n",
       "  ('the', 'DT'),\n",
       "  ('halls', 'NNS'),\n",
       "  ('of', 'IN'),\n",
       "  ('Congress', 'NNP'),\n",
       "  ('in', 'IN'),\n",
       "  ('Washington.And', 'NNP'),\n",
       "  ('she', 'PRP'),\n",
       "  ('did', 'VBD'),\n",
       "  ('it', 'PRP'),\n",
       "  ('topless.The', 'VB'),\n",
       "  ('breast', 'NN'),\n",
       "  ('cancer', 'NN'),\n",
       "  ('survivor', 'NN'),\n",
       "  ('screamed', 'VBD'),\n",
       "  ('for', 'IN'),\n",
       "  ('a', 'DT'),\n",
       "  ('cure', 'NN'),\n",
       "  ('and', 'CC'),\n",
       "  ('demanded', 'VBD'),\n",
       "  ('better', 'JJR'),\n",
       "  ('and', 'CC'),\n",
       "  ('more', 'RBR'),\n",
       "  ('affordable', 'JJ'),\n",
       "  ('health', 'NN'),\n",
       "  ('care', 'NN'),\n",
       "  ('.', '.')]]"
      ]
     },
     "execution_count": 36,
     "metadata": {},
     "output_type": "execute_result"
    }
   ],
   "source": [
    "tagged_sentences[:1]"
   ]
  },
  {
   "cell_type": "code",
   "execution_count": 38,
   "metadata": {},
   "outputs": [],
   "source": [
    "# nltk.download('tagsets')\n",
    "# nltk.help.upenn_tagset()"
   ]
  },
  {
   "cell_type": "code",
   "execution_count": 39,
   "metadata": {
    "collapsed": true
   },
   "outputs": [],
   "source": [
    "gpe = []\n",
    "# locations = [] # opens an empty list for locations\n",
    "gpe =[] #opens an empty list for geopolitical entities\n",
    "persons = [] #opens an empty list for persons\n",
    "organizations = [] #opens an empty list for organizations\n",
    "\n",
    "\n",
    "for i in tagged_sentences: # for each part of speech tagged sentence in a tagged_sentences list, extract named entities based on the chunking\n",
    "    chunked_sentence = nltk.ne_chunk(i, binary=False) # predict which noun phrases in the text are named entities. If binary is set to True, ask the model to predict whether something is a named entity or not. If set to False, the model predicts the type of named entity.   \n",
    "#     print(chunked_sentence)\n",
    "#     break\n",
    "    gpe.extend(extract_entity_names(chunked_sentence, 'GPE'))#extract geopolitical entities from the text\n",
    "    #locations.extend(extract_entity_names(chunked_sentence, 'LOCATION')) # extract loctions from the text\n",
    "    persons.extend(extract_entity_names(chunked_sentence, 'PERSON')) #extract persons from the text\n",
    "    organizations.extend(extract_entity_names(chunked_sentence, 'ORGANIZATION')) #extract organizations from the text\n"
   ]
  },
  {
   "cell_type": "code",
   "execution_count": 40,
   "metadata": {},
   "outputs": [
    {
     "data": {
      "text/plain": [
       "{'Affordable Care',\n",
       " 'American Cancer Society',\n",
       " 'BRCA',\n",
       " 'BeyoncéIt',\n",
       " 'CBS',\n",
       " 'CNN',\n",
       " 'Cadillac',\n",
       " 'Capitol',\n",
       " 'Catholic',\n",
       " 'Centers',\n",
       " 'Century Cures Act',\n",
       " 'Congress',\n",
       " 'Cook Out',\n",
       " 'Cummings',\n",
       " 'Democratic',\n",
       " 'ESPN',\n",
       " 'Facebook',\n",
       " 'Finney',\n",
       " 'Forrest Gump',\n",
       " 'Fort Worth',\n",
       " 'GoFundMe',\n",
       " 'GodI',\n",
       " 'ID',\n",
       " 'IRS',\n",
       " 'Labor',\n",
       " 'LeaphartApropos',\n",
       " 'LeaphartIt',\n",
       " 'MD Anderson',\n",
       " 'MRI',\n",
       " 'MacKenzie',\n",
       " 'McCarty',\n",
       " 'McDonald',\n",
       " 'Mercedes',\n",
       " 'Michigan',\n",
       " 'Mississippi',\n",
       " 'PauletteIt',\n",
       " 'PauletteOne',\n",
       " 'Santa Claus',\n",
       " 'Susan',\n",
       " 'THE',\n",
       " 'US',\n",
       " 'United State',\n",
       " 'Upworthy',\n",
       " 'backI',\n",
       " 'crowdShe',\n",
       " 'defensePorsha Cummings',\n",
       " 'directionPart',\n",
       " 'espnW Pegasus Award',\n",
       " 'espnW Women',\n",
       " 'messageOne',\n",
       " 'questionsThe',\n",
       " 'recordsPaulette',\n",
       " 'woesAs'}"
      ]
     },
     "execution_count": 40,
     "metadata": {},
     "output_type": "execute_result"
    }
   ],
   "source": [
    "set(organizations)"
   ]
  },
  {
   "cell_type": "code",
   "execution_count": 41,
   "metadata": {},
   "outputs": [
    {
     "name": "stdout",
     "output_type": "stream",
     "text": [
      "          first cousin monique   mcdonald   died breast cancer.paulette\n",
      "             little girl ashia   mcdonald   mesmerized paulette relative\n",
      "    custody grandmother brenda   mcdonald   never saw financial\n",
      "            tears sister child   mcdonald   quit job care\n",
      "        paulette cousins candy   mcdonald   told anger paulette\n",
      "       paulette cousin monique   mcdonald   died months paulette\n"
     ]
    }
   ],
   "source": [
    "# why McDonald?\n",
    "for n in kwicdict['mcdonald']: # nicely formatted output for the word we are interested in determining the context for\n",
    "    outstring = ' '.join(n[:3]).rjust(30) #output as a string and right justify first three words in the sliding window\n",
    "    outstring += str(n[3]).center(len(n[3])+6) # output as a string and center fourth word in the sliding window\n",
    "    outstring += ' '.join(n[4:]) # output as a string last three words in the sliding window of 7 consecutive words in the text\n",
    "    print(outstring)"
   ]
  },
  {
   "cell_type": "markdown",
   "metadata": {},
   "source": [
    "# MCdonald is the name of the person not the restuarant chain"
   ]
  },
  {
   "cell_type": "code",
   "execution_count": 42,
   "metadata": {},
   "outputs": [
    {
     "data": {
      "text/plain": [
       "{'Adams',\n",
       " 'Always Beautiful',\n",
       " 'Angelina Jolie',\n",
       " 'Annette',\n",
       " 'Ashia',\n",
       " 'Ashia McDonald',\n",
       " 'Auntie Paulette',\n",
       " 'Barack Obama',\n",
       " 'Barbara',\n",
       " 'Barbara Smith',\n",
       " 'Beyoncé',\n",
       " 'Biloxi Beach',\n",
       " 'Blue Ivy',\n",
       " 'Brenda McDonald',\n",
       " 'Candy',\n",
       " 'Candy McDonald',\n",
       " 'Carmen Lawrence',\n",
       " 'Chantay Savage',\n",
       " 'Charlotte',\n",
       " 'Child',\n",
       " 'Christmas',\n",
       " 'Craig Leaphart',\n",
       " 'Cummings',\n",
       " 'David McKenzie',\n",
       " 'Destiny',\n",
       " 'Director',\n",
       " 'Disease Control',\n",
       " 'Donald M. Payne Jr.',\n",
       " 'Dusk',\n",
       " 'Emily',\n",
       " 'Emily MacKenzie',\n",
       " 'Facebook',\n",
       " 'Facebook Live',\n",
       " 'Fantasia',\n",
       " 'Filmmaker',\n",
       " 'Finney',\n",
       " 'Fulston',\n",
       " 'Girls Trip',\n",
       " 'God',\n",
       " 'Harry',\n",
       " 'Harry Connick Jr.',\n",
       " 'Hill',\n",
       " 'Jada Pinkett Smith',\n",
       " 'Jamaica',\n",
       " 'Jesus',\n",
       " 'Jesus Storybook Bible',\n",
       " 'John Conyers',\n",
       " 'Johnson',\n",
       " 'Katrina Adams',\n",
       " 'Kenya',\n",
       " 'Kimberly McCarty',\n",
       " 'Labor',\n",
       " 'Lawrence',\n",
       " 'Leaphart',\n",
       " 'Maclin',\n",
       " 'Marriott',\n",
       " 'Marwin Jones',\n",
       " 'McCarty',\n",
       " 'Melanye Maclin',\n",
       " 'Memorial',\n",
       " 'Michelle Obama',\n",
       " 'Michigan',\n",
       " 'Mom',\n",
       " 'Monique',\n",
       " 'Monique McDonald',\n",
       " 'Nikky',\n",
       " 'Nikky Finney',\n",
       " 'Oprah Winfrey',\n",
       " 'Paulette',\n",
       " 'Paulette Leaphart',\n",
       " 'Paulette.Johnson',\n",
       " 'Queen Latifah',\n",
       " 'Roger Wicker',\n",
       " 'Santa',\n",
       " 'Scar Story',\n",
       " 'Scott',\n",
       " 'Scott Bakula',\n",
       " 'Shameka Fulston',\n",
       " 'Sidney Williams',\n",
       " 'Smith',\n",
       " 'Split',\n",
       " 'Will Smith',\n",
       " 'Williams',\n",
       " 'Women Summit',\n",
       " 'Zane'}"
      ]
     },
     "execution_count": 42,
     "metadata": {},
     "output_type": "execute_result"
    }
   ],
   "source": [
    "set(persons)"
   ]
  },
  {
   "cell_type": "code",
   "execution_count": 43,
   "metadata": {},
   "outputs": [
    {
     "data": {
      "text/plain": [
       "[('Paulette', 230),\n",
       " ('Paulette Leaphart', 17),\n",
       " ('Johnson', 16),\n",
       " ('Beyoncé', 8),\n",
       " ('Zane', 8)]"
      ]
     },
     "execution_count": 43,
     "metadata": {},
     "output_type": "execute_result"
    }
   ],
   "source": [
    "from collections import Counter,OrderedDict\n",
    "\n",
    "dict_persons = Counter(persons)\n",
    "dict_persons.most_common(5)"
   ]
  },
  {
   "cell_type": "markdown",
   "metadata": {},
   "source": [
    "### Extracting Noun phrases:"
   ]
  },
  {
   "cell_type": "code",
   "execution_count": 44,
   "metadata": {},
   "outputs": [
    {
     "name": "stdout",
     "output_type": "stream",
     "text": [
      "[('bare', 'NN')]\n",
      "[('chest', 'NN')]\n",
      "[('a', 'DT'), ('story', 'NN')]\n",
      "[('a', 'DT'), ('1,000-mile', 'JJ'), ('walk', 'NN')]\n",
      "[('childhood', 'NN')]\n",
      "[('hometown', 'NN')]\n",
      "[('breast', 'NN')]\n",
      "[('cancer', 'NN')]\n",
      "[('survivor', 'NN')]\n",
      "[('a', 'DT'), ('cure', 'NN')]\n",
      "[('affordable', 'JJ'), ('health', 'NN')]\n",
      "[('care', 'NN')]\n",
      "[('beauty', 'NN')]\n",
      "[('strength', 'NN')]\n",
      "[('the', 'DT'), ('same.Her', 'NN')]\n",
      "[('journey', 'NN')]\n",
      "[('a', 'DT'), ('hero', 'NN')]\n",
      "[('audacious', 'JJ'), ('decision', 'NN')]\n",
      "[('shirtless', 'NN')]\n",
      "[('the', 'DT'), ('face', 'NN')]\n",
      "[('a', 'DT'), ('rich', 'JJ'), ('spectacle', 'NN')]\n",
      "[('breast', 'NN')]\n",
      "[('cancer', 'NN')]\n",
      "[('mortality', 'NN')]\n",
      "[('rate', 'NN')]\n",
      "[('someone', 'NN')]\n",
      "[('the', 'DT'), ('disease.It', 'NN')]\n",
      "[('a', 'DT'), ('storyteller', 'NN')]\n",
      "[('dream', 'NN')]\n",
      "[('reality', 'NN')]\n",
      "[('potential', 'NN')]\n",
      "[('a', 'DT'), ('producer', 'NN')]\n",
      "[('a', 'DT'), ('shoot', 'NN')]\n",
      "[('shirt', 'NN')]\n",
      "[('story', 'NN')]\n",
      "[('A', 'DT'), ('stunning', 'JJ'), ('trailer', 'NN')]\n",
      "[('the', 'DT'), ('film', 'NN')]\n",
      "[('crew', 'NN')]\n",
      "[('entire', 'JJ'), ('walk', 'NN')]\n",
      "[('campaign', 'NN')]\n",
      "[('the', 'DT'), ('film', 'NN')]\n",
      "[('the', 'DT'), ('walk', 'NN')]\n",
      "[('story', 'NN')]\n",
      "[('megastar', 'NN')]\n",
      "[('notice', 'NN')]\n",
      "[('the', 'DT'), ('trailer', 'NN')]\n",
      "[('a', 'DT'), ('world', 'NN')]\n",
      "[('hungry', 'NN')]\n",
      "[('inspiration', 'NN')]\n",
      "[('darkness', 'NN')]\n",
      "[('that', 'DT'), ('craving', 'NN')]\n",
      "[('8-year-old', 'JJ'), ('daughter', 'NN')]\n",
      "[('no', 'DT'), ('less', 'NN')]\n",
      "[('car', 'NN')]\n",
      "[('amateur', 'NN')]\n",
      "[('photographer', 'NN')]\n",
      "[('stepson', 'NN')]\n",
      "[('a', 'DT'), ('journalist', 'NN')]\n",
      "[('plate', 'NN')]\n",
      "[('manna', 'NN')]\n",
      "[('heaven', 'NN')]\n",
      "[('share', 'NN')]\n",
      "[('a', 'DT'), ('mess', 'NN')]\n",
      "[('no', 'DT'), ('recipe', 'NN')]\n",
      "[('the', 'DT'), ('first', 'JJ'), ('way', 'NN')]\n",
      "[('the', 'DT'), ('other.After', 'NN')]\n",
      "[('a', 'DT'), ('full', 'JJ'), ('day', 'NN')]\n",
      "[('No', 'DT'), ('matter', 'NN')]\n",
      "[('story', 'NN')]\n",
      "[('past', 'NN')]\n",
      "[('cancer', 'NN')]\n",
      "[('treatment', 'NN')]\n",
      "[('motivations.Part', 'NN')]\n",
      "[('the', 'DT'), ('story', 'NN')]\n",
      "[('woman', 'NN')]\n",
      "[('life', 'NN')]\n",
      "[('a', 'DT'), ('conversation', 'NN')]\n",
      "[('hero', 'NN')]\n",
      "[('journey', 'NN')]\n",
      "[('the', 'DT'), ('online', 'JJ'), ('video', 'NN')]\n",
      "[('times.And', 'NN')]\n",
      "[('This', 'DT'), ('story', 'NN')]\n",
      "[('need', 'NN')]\n",
      "[('the', 'DT'), ('unchecked', 'JJ'), ('storytelling', 'NN')]\n",
      "[('self-promotion', 'NN')]\n",
      "[('the', 'DT'), ('disappointment', 'NN')]\n",
      "[('reality', 'NN')]\n",
      "[('reverie.In', 'NN')]\n",
      "[('desperation', 'NN')]\n",
      "[('collective', 'JJ'), ('enchantment', 'NN')]\n",
      "[('a', 'DT'), ('community', 'NN')]\n",
      "[('walk', 'NN')]\n",
      "[('walk', 'NN')]\n",
      "[('disenchanted.A', 'JJ'), ('vision', 'NN')]\n",
      "[('a', 'DT'), ('house', 'NN')]\n",
      "[('daughter', 'NN')]\n",
      "[('The', 'DT'), ('grill', 'NN')]\n",
      "[('food', 'NN')]\n",
      "[('the', 'DT'), ('music', 'NN')]\n",
      "[('a', 'DT'), ('T-shirt', 'NN')]\n",
      "[('a', 'DT'), ('hug', 'NN')]\n",
      "[('The', 'DT'), ('walk', 'NN')]\n",
      "[('everything', 'NN')]\n",
      "[('the', 'DT'), ('devil', 'JJ'), ('stole', 'NN')]\n",
      "[('the', 'DT'), ('room', 'NN')]\n",
      "[('journey.The', 'NN')]\n",
      "[('hostess', 'NN')]\n",
      "[('home', 'NN')]\n",
      "[('own', 'JJ'), ('sister', 'NN')]\n",
      "[('cancer', 'NN')]\n",
      "[('care', 'NN')]\n",
      "[('Dusk', 'NN')]\n",
      "[('night', 'NN')]\n",
      "[('eye', 'NN')]\n",
      "[('the', 'DT'), ('time', 'NN')]\n",
      "[('phone', 'NN')]\n",
      "[('each', 'DT'), ('morning', 'NN')]\n",
      "[('each', 'DT'), ('day', 'NN')]\n",
      "[('rest', 'NN')]\n",
      "[('that', 'DT'), ('sort', 'NN')]\n",
      "[('ground', 'NN')]\n",
      "[('goal', 'NN')]\n",
      "[('50th', 'JJ'), ('birthday', 'NN')]\n",
      "[('decent', 'JJ'), ('shape', 'NN')]\n",
      "[('little', 'JJ'), ('sleep', 'NN')]\n",
      "[('tomorrow', 'NN')]\n",
      "[('the', 'DT'), ('night', 'NN')]\n",
      "[('wore', 'NN')]\n",
      "[('A', 'DT'), ('community', 'NN')]\n",
      "[('walk', 'NN')]\n",
      "[('downtown', 'NN')]\n",
      "[('a', 'DT'), ('sigh', 'NN')]\n",
      "[('relief.The', 'JJ'), ('next', 'JJ'), ('morning', 'NN')]\n",
      "[('the', 'DT'), ('crowd', 'NN')]\n",
      "[('dozen', 'NN')]\n",
      "[('breast', 'NN')]\n",
      "[('cancer', 'NN')]\n",
      "[('woman', 'NN')]\n",
      "[('T-shirt', 'NN')]\n",
      "[('man', 'NN')]\n",
      "[('lymphoma', 'NN')]\n",
      "[('himself.A', 'NN')]\n",
      "[('woman', 'NN')]\n",
      "[('the', 'DT'), ('night', 'NN')]\n",
      "[('shirt', 'NN')]\n",
      "[('her.After', 'NN')]\n",
      "[('the', 'DT'), ('pavement', 'NN')]\n",
      "[('way', 'NN')]\n",
      "[('downtown', 'NN')]\n",
      "[('a', 'DT'), ('cure', 'NN')]\n",
      "[('a', 'DT'), ('cure', 'NN')]\n",
      "[('lead', 'NN')]\n",
      "[('cancer', 'NN')]\n",
      "[('cancer', 'NN')]\n",
      "[('hymns', 'NN')]\n",
      "[('this', 'DT'), ('demon', 'NN')]\n",
      "[('the', 'DT'), ('pain', 'NN')]\n",
      "[('the', 'DT'), ('day', 'NN')]\n",
      "[('purpose', 'NN')]\n",
      "[('purpose', 'NN')]\n",
      "[('chest', 'NN')]\n",
      "[('month', 'NN')]\n",
      "[('the', 'DT'), ('day', 'NN')]\n",
      "[('the', 'DT'), ('commotion', 'NN')]\n",
      "[('1-mile', 'JJ'), ('march', 'NN')]\n",
      "[('the', 'DT'), ('walk', 'NN')]\n",
      "[('daughter', 'NN')]\n",
      "[('a', 'DT'), ('month.They', 'NN')]\n",
      "[('the', 'DT'), ('journey', 'NN')]\n",
      "[('a', 'DT'), ('day', 'NN')]\n",
      "[('foot.We', 'NN')]\n",
      "[('noon', 'NN')]\n",
      "[('quaint', 'NN')]\n",
      "[('towns.Paulette', 'NN')]\n",
      "[('a', 'DT'), ('busier', 'NN')]\n",
      "[('route', 'NN')]\n",
      "[('mind', 'NN')]\n",
      "[('message', 'NN')]\n",
      "[('no', 'DT'), ('sign', 'NN')]\n",
      "[('a', 'DT'), ('hero', 'NN')]\n",
      "[('love', 'NN')]\n",
      "[('praise', 'NN')]\n",
      "[('thousand', 'NN')]\n",
      "[('person', 'NN')]\n",
      "[('the', 'DT'), ('day', 'NN')]\n",
      "[('fight', 'NN')]\n",
      "[('every', 'DT'), ('step', 'NN')]\n",
      "[('the', 'DT'), ('way', 'NN')]\n",
      "[('a', 'DT'), ('phenomenal', 'JJ'), ('woman', 'NN')]\n",
      "[('mother', 'NN')]\n",
      "[('breast', 'NN')]\n",
      "[('cancer', 'NN')]\n",
      "[('the', 'DT'), ('whole', 'JJ'), ('way', 'NN')]\n",
      "[('bless', 'NN')]\n",
      "[('the', 'DT'), ('world', 'NN')]\n",
      "[('suicide', 'NN')]\n",
      "[('global', 'JJ'), ('attention', 'NN')]\n",
      "[('weekend', 'NN')]\n",
      "[('herself', 'NN')]\n",
      "[('a', 'DT'), ('beach', 'NN')]\n",
      "[('depression', 'NN')]\n",
      "[('reconstructive', 'JJ'), ('surgery', 'NN')]\n",
      "[('a', 'DT'), ('pre-existing', 'JJ'), ('blood-clotting', 'JJ'), ('disorder', 'NN')]\n",
      "[('a', 'DT'), ('vision', 'NN')]\n",
      "[('shirt', 'NN')]\n",
      "[('A', 'DT'), ('woman', 'NN')]\n",
      "[('that', 'DT'), ('moment', 'NN')]\n",
      "[('a', 'DT'), ('man', 'NN')]\n",
      "[('wife', 'NN')]\n",
      "[('chest', 'NN')]\n",
      "[('him.She', 'NN')]\n",
      "[('a', 'DT'), ('vessel', 'NN')]\n",
      "[('work', 'NN')]\n",
      "[('night', 'NN')]\n",
      "[('breast', 'NN')]\n",
      "[('cancer', 'NN')]\n",
      "[('this', 'DT'), ('1,000-mile', 'JJ'), ('topless', 'NN')]\n",
      "[('walk', 'NN')]\n",
      "[('the', 'DT'), ('pain', 'NN')]\n",
      "[('the', 'DT'), ('day', 'NN')]\n",
      "[('purpose', 'NN')]\n",
      "[('purpose', 'NN')]\n",
      "[('chest', 'NN')]\n",
      "[('daughter', 'NN')]\n",
      "[('a', 'DT'), ('weighed-down', 'JJ'), ('stroller', 'NN')]\n",
      "[('way', 'NN')]\n",
      "[('downtown', 'NN')]\n",
      "[('journey', 'NN')]\n",
      "[('everyone', 'NN')]\n",
      "[('the', 'DT'), ('purpose', 'NN')]\n",
      "[('a', 'DT'), ('bag', 'NN')]\n",
      "[('lady', 'NN')]\n",
      "[('A', 'DT'), ('church', 'NN')]\n",
      "[('group', 'NN')]\n",
      "[('a', 'DT'), ('circle', 'NN')]\n",
      "[('story', 'NN')]\n",
      "[('rode', 'NN')]\n",
      "[('bills.Paulette', 'NN')]\n",
      "[('fruit', 'NN')]\n",
      "[('this', 'DT'), ('day', 'NN')]\n",
      "[('fried', 'JJ'), ('chicken', 'NN')]\n",
      "[('a', 'DT'), ('Southern', 'JJ'), ('fast-food', 'NN')]\n",
      "[('chain', 'NN')]\n",
      "[('everything', 'NN')]\n",
      "[('the', 'DT'), ('apple', 'NN')]\n",
      "[('a', 'DT'), ('piece', 'NN')]\n",
      "[('fruit.It', 'NN')]\n",
      "[('The', 'DT'), ('heat', 'NN')]\n",
      "[('down', 'NN')]\n",
      "[('a', 'DT'), ('day', 'NN')]\n",
      "[('news', 'NN')]\n",
      "[('a', 'DT'), ('relief', 'NN')]\n",
      "[('late', 'JJ'), ('afternoon', 'NN')]\n",
      "[('daughter', 'NN')]\n",
      "[('a', 'DT'), ('stroller', 'NN')]\n",
      "[('built', 'NN')]\n",
      "[('half', 'NN')]\n",
      "[('size', 'NN')]\n",
      "[('lap', 'NN')]\n",
      "[('the', 'DT'), ('awkward', 'JJ'), ('contraption', 'NN')]\n",
      "[('an', 'DT'), ('overstuffed', 'JJ'), ('wallet', 'NN')]\n",
      "[('bug', 'JJ'), ('spray', 'NN')]\n",
      "[('water', 'NN')]\n",
      "[('daughter', 'NN')]\n",
      "[('driver', 'NN')]\n",
      "[('license', 'NN')]\n",
      "[('passport', 'NN')]\n",
      "[('desk', 'NN')]\n",
      "[('Everyone', 'NN')]\n",
      "[('a', 'DT'), ('smile', 'NN')]\n",
      "[('another', 'DT'), ('mental', 'JJ'), ('note.The', 'JJ'), ('highway', 'NN')]\n",
      "[('daughter', 'NN')]\n",
      "[('the', 'DT'), ('stroller', 'NN')]\n",
      "[('breath', 'NN')]\n",
      "[('part', 'NN')]\n",
      "[('the', 'DT'), ('day', 'NN')]\n",
      "[('daughter', 'NN')]\n",
      "[('a', 'DT'), ('place', 'NN')]\n",
      "[('a', 'DT'), ('movie', 'NN')]\n",
      "[('a', 'DT'), ('garden', 'NN')]\n",
      "[('the', 'DT'), ('day', 'NN')]\n",
      "[('bowling.Paulette', 'NN')]\n",
      "[('phone', 'NN')]\n",
      "[('monitoring', 'NN')]\n",
      "[('anyone', 'NN')]\n",
      "[('a', 'DT'), ('woman', 'NN')]\n",
      "[('a', 'DT'), ('criminal', 'JJ'), ('record', 'NN')]\n",
      "[('A', 'DT'), ('woman', 'NN')]\n",
      "[('A', 'DT'), ('woman', 'NN')]\n",
      "[('the', 'DT'), ('documentary', 'JJ'), ('group', 'NN')]\n",
      "[('money', 'NN')]\n",
      "[('story', 'NN')]\n",
      "[('consent', 'NN')]\n",
      "[('daughter', 'NN')]\n",
      "[('the', 'DT'), ('side', 'NN')]\n",
      "[('the', 'DT'), ('road', 'NN')]\n",
      "[('undertaking', 'NN')]\n",
      "[('a', 'DT'), ('walk', 'NN')]\n",
      "[('faith', 'NN')]\n",
      "[('a', 'DT'), ('small', 'JJ'), ('child', 'NN')]\n",
      "[('the', 'DT'), ('first', 'JJ'), ('book', 'NN')]\n",
      "[('something', 'NN')]\n",
      "[('brutal', 'JJ'), ('beating', 'NN')]\n",
      "[('life', 'NN')]\n",
      "[('care', 'NN')]\n",
      "[('birth', 'NN')]\n",
      "[('the', 'DT'), ('walk', 'NN')]\n",
      "[('home', 'NN')]\n",
      "[('point', 'NN')]\n",
      "[('cancer', 'NN')]\n",
      "[('daughter', 'NN')]\n",
      "[('battle', 'NN')]\n",
      "[('breathing', 'NN')]\n",
      "[('bed', 'NN')]\n",
      "[('cancer', 'NN')]\n",
      "[('The', 'DT'), ('highway', 'NN')]\n",
      "[('daughter', 'NN')]\n",
      "[('the', 'DT'), ('stroller', 'NN')]\n",
      "[('breath', 'NN')]\n",
      "[('the', 'DT'), ('shoulder', 'NN')]\n",
      "[('the', 'DT'), ('road', 'NN')]\n",
      "[('Fear', 'NN')]\n",
      "[('nothing', 'NN')]\n",
      "[('the', 'DT'), ('devil', 'NN')]\n",
      "[('daughter', 'NN')]\n",
      "[('me.Salvation', 'NN')]\n",
      "[('the', 'DT'), ('form', 'NN')]\n",
      "[('a', 'DT'), ('flat', 'JJ'), ('stroller', 'NN')]\n",
      "[('tire', 'NN')]\n",
      "[('contraption', 'NN')]\n",
      "[('lead.Paulette', 'NN')]\n",
      "[('help', 'NN')]\n",
      "[('the', 'DT'), ('day', 'NN')]\n",
      "[('this', 'DT'), ('day', 'NN')]\n",
      "[('done.An', 'JJ'), ('auto', 'NN')]\n",
      "[('shop', 'NN')]\n",
      "[('A', 'DT'), ('taxi', 'NN')]\n",
      "[('ride', 'NN')]\n",
      "[('the', 'DT'), ('other', 'JJ'), ('side', 'NN')]\n",
      "[('an', 'DT'), ('interstate.I', 'NN')]\n",
      "[('back', 'NN')]\n",
      "[('car', 'NN')]\n",
      "[('daughter', 'NN')]\n",
      "[('a', 'DT'), ('ride', 'NN')]\n",
      "[('the', 'DT'), ('house', 'NN')]\n",
      "[('a', 'DT'), ('new', 'JJ'), ('stroller', 'NN')]\n",
      "[('first', 'JJ'), ('thing', 'NN')]\n",
      "[('the', 'DT'), ('morning.Our', 'JJ'), ('day', 'NN')]\n",
      "[('the', 'DT'), ('sun', 'NN')]\n",
      "[('trailer', 'NN')]\n",
      "[('the', 'DT'), ('attention', 'NN')]\n",
      "[('financial', 'JJ'), ('woesAs', 'NN')]\n",
      "[('story', 'NN')]\n",
      "[('local', 'JJ'), ('TV', 'NN')]\n",
      "[('reporter', 'NN')]\n",
      "[('online', 'NN')]\n",
      "[('the', 'DT'), ('piece', 'NN')]\n",
      "[('a', 'DT'), ('social', 'JJ'), ('worker', 'NN')]\n",
      "[('a', 'DT'), ('career', 'NN')]\n",
      "[('this', 'DT'), ('point', 'NN')]\n",
      "[('kind', 'NN')]\n",
      "[('work', 'NN')]\n",
      "[('a', 'DT'), ('successful', 'JJ'), ('day', 'NN')]\n",
      "[('care', 'NN')]\n",
      "[('center', 'NN')]\n",
      "[('a', 'DT'), ('profit', 'NN')]\n",
      "[('homeless', 'NN')]\n",
      "[('cancer', 'NN')]\n",
      "[('treatment', 'NN')]\n",
      "[('a', 'DT'), ('roof', 'NN')]\n",
      "[('head', 'NN')]\n",
      "[('a', 'DT'), ('full', 'JJ'), ('day', 'NN')]\n",
      "[('a', 'DT'), ('horrible', 'JJ'), ('person', 'NN')]\n",
      "[('story', 'NN')]\n",
      "[('wholesale', 'NN')]\n",
      "[('this', 'DT'), ('time', 'NN')]\n",
      "[('fake', 'JJ'), ('news', 'NN')]\n",
      "[('the', 'DT'), ('recent', 'JJ'), ('story', 'NN')]\n",
      "[('5-year-old', 'JJ'), ('boy', 'NN')]\n",
      "[('The', 'DT'), ('world', 'NN')]\n",
      "[('this', 'DT'), ('tearjerker', 'NN')]\n",
      "[('the', 'DT'), ('story', 'NN')]\n",
      "[('none', 'NN')]\n",
      "[('anyone', 'NN')]\n",
      "[('story', 'NN')]\n",
      "[('a', 'DT'), ('person', 'NN')]\n",
      "[('a', 'DT'), ('journalist', 'NN')]\n",
      "[('job', 'NN')]\n",
      "[('doubt', 'NN')]\n",
      "[('researcher', 'NN')]\n",
      "[('a', 'DT'), ('background', 'NN')]\n",
      "[('report', 'NN')]\n",
      "[('story', 'NN')]\n",
      "[('a', 'DT'), ('way', 'NN')]\n",
      "[('sorry', 'NN')]\n",
      "[('a', 'DT'), ('way', 'NN')]\n",
      "[('money', 'NN')]\n",
      "[('notoriety', 'NN')]\n",
      "[('part', 'NN')]\n",
      "[('judgment', 'NN')]\n",
      "[('cancer', 'NN')]\n",
      "[('breast', 'NN')]\n",
      "[('cancer', 'NN')]\n",
      "[('a', 'DT'), ('half', 'JJ'), ('dozen', 'NN')]\n",
      "[('bankruptcy', 'NN')]\n",
      "[('multiple', 'JJ'), ('evictions.The', 'JJ'), ('bulk', 'NN')]\n",
      "[('day', 'NN')]\n",
      "[('care', 'NN')]\n",
      "[('center', 'NN')]\n",
      "[('a', 'DT'), ('friend', 'NN')]\n",
      "[('the', 'DT'), ('day', 'NN')]\n",
      "[('care', 'NN')]\n",
      "[('center', 'NN')]\n",
      "[('the', 'DT'), ('friend', 'NN')]\n",
      "[('church', 'NN')]\n",
      "[('the', 'DT'), ('business', 'NN')]\n",
      "[('the', 'DT'), ('state', 'NN')]\n",
      "[('day', 'NN')]\n",
      "[('care', 'NN')]\n",
      "[('center', 'NN')]\n",
      "[('the', 'DT'), ('hole', 'NN')]\n",
      "[('rent', 'NN')]\n",
      "[('the', 'DT'), ('building', 'NN')]\n",
      "[('The', 'DT'), ('pair', 'NN')]\n",
      "[('everything', 'NN')]\n",
      "[('something', 'NN')]\n",
      "[('kind', 'NN')]\n",
      "[('lease', 'NN')]\n",
      "[('the', 'DT'), ('worth', 'NN')]\n",
      "[('business', 'NN')]\n",
      "[('counsel', 'NN')]\n",
      "[('trial', 'NN')]\n",
      "[('the', 'DT'), ('court', 'NN')]\n",
      "[('order', 'NN')]\n",
      "[('read.The', 'NN')]\n",
      "[('a', 'DT'), ('red', 'JJ'), ('cent', 'NN')]\n",
      "[('bankruptcy', 'NN')]\n",
      "[('1,000-mile', 'JJ'), ('walk', 'NN')]\n",
      "[('friend', 'NN')]\n",
      "[('the', 'DT'), ('way', 'NN')]\n",
      "[('newfangled', 'JJ'), ('idea', 'NN')]\n",
      "[('money', 'NN')]\n",
      "[('a', 'DT'), ('way', 'NN')]\n",
      "[('sorry', 'NN')]\n",
      "[('a', 'DT'), ('way', 'NN')]\n",
      "[('money', 'NN')]\n",
      "[('notoriety', 'NN')]\n",
      "[('the', 'DT'), ('attention', 'NN')]\n",
      "[('a', 'DT'), ('producer', 'NN')]\n",
      "[('shirt', 'NN')]\n",
      "[('story', 'NN')]\n",
      "[('told.A', 'JJ'), ('day', 'NN')]\n",
      "[('an', 'DT'), ('inflated', 'JJ'), ('sense', 'NN')]\n",
      "[('fame.She', 'NN')]\n",
      "[('own', 'JJ'), ('reality', 'NN')]\n",
      "[('TV', 'NN')]\n",
      "[('show', 'NN')]\n",
      "[('a', 'DT'), ('movie', 'NN')]\n",
      "[('deal', 'NN')]\n",
      "[('the', 'DT'), ('time', 'NN')]\n",
      "[('walk', 'NN')]\n",
      "[('a', 'DT'), ('career', 'NN')]\n",
      "[('motivational', 'JJ'), ('speaking', 'NN')]\n",
      "[('the', 'DT'), ('globe.She', 'NN')]\n",
      "[('the', 'DT'), ('star', 'NN')]\n",
      "[('a', 'DT'), ('whole', 'JJ'), ('day', 'NN')]\n",
      "[('the', 'DT'), ('set', 'NN')]\n",
      "[('daughter', 'NN')]\n",
      "[('a', 'DT'), ('mile.I', 'NN')]\n",
      "[('a', 'DT'), ('number', 'NN')]\n",
      "[('publicist', 'NN')]\n",
      "[('relationship', 'NN')]\n",
      "[('a', 'DT'), ('response.Paulette', 'NN')]\n",
      "[('the', 'DT'), ('time', 'NN')]\n",
      "[('a', 'DT'), ('hero', 'NN')]\n",
      "[('question', 'NN')]\n",
      "[('further.I', 'NN')]\n",
      "[('Part', 'NN')]\n",
      "[('the', 'DT'), ('book', 'NN')]\n",
      "[('this', 'DT'), ('story', 'NN')]\n",
      "[('on.I', 'NN')]\n",
      "[('a', 'DT'), ('picture', 'NN')]\n",
      "[('the', 'DT'), ('stroller', 'NN')]\n",
      "[('the', 'DT'), ('flat', 'JJ'), ('tire', 'NN')]\n",
      "[('The', 'DT'), ('next', 'JJ'), ('day', 'NN')]\n",
      "[('a', 'DT'), ('picture', 'NN')]\n",
      "[('take', 'NN')]\n",
      "[('a', 'DT'), ('man', 'NN')]\n",
      "[('this', 'DT'), ('point', 'NN')]\n",
      "[('goodbye', 'NN')]\n",
      "[('a', 'DT'), ('week', 'NN')]\n",
      "[('the', 'DT'), ('house', 'NN')]\n",
      "[('a', 'DT'), ('beach', 'NN')]\n",
      "[('circulation', 'NN')]\n",
      "[('online', 'NN')]\n",
      "[('walk', 'NN')]\n",
      "[('hold', 'NN')]\n",
      "[('first', 'JJ'), ('lady', 'NN')]\n",
      "[('The', 'DT'), ('next', 'JJ'), ('day', 'NN')]\n",
      "[('herself', 'NN')]\n",
      "[('a', 'DT'), ('hospital', 'NN')]\n",
      "[('bed', 'NN')]\n",
      "[('the', 'DT'), ('attention', 'NN')]\n",
      "[('initial', 'JJ'), ('mission', 'NN')]\n",
      "[('something', 'NN')]\n",
      "[('Part', 'NN')]\n",
      "[('the', 'DT'), ('book', 'NN')]\n",
      "[('this', 'DT'), ('story', 'NN')]\n",
      "[('journey', 'NN')]\n",
      "[('purpose', 'NN')]\n",
      "[('the', 'DT'), ('spotlight', 'NN')]\n",
      "[('story', 'NN')]\n",
      "[('plenty', 'NN')]\n",
      "[('notoriety', 'NN')]\n",
      "[('something', 'NN')]\n",
      "[('us.The', 'JJ'), ('trailer', 'NN')]\n",
      "[('documentary', 'NN')]\n",
      "[('1,000-mile', 'JJ'), ('walk', 'NN')]\n",
      "[('directionPart', 'NN')]\n",
      "[('the', 'DT'), ('documentary.The', 'NN')]\n",
      "[('this', 'DT'), ('venture', 'NN')]\n",
      "[('the', 'DT'), ('trailer', 'NN')]\n",
      "[('page', 'NN')]\n",
      "[('time', 'NN')]\n",
      "[('the', 'DT'), ('film', 'NN')]\n",
      "[('crew', 'NN')]\n",
      "[('intention', 'NN')]\n",
      "[('journey.They', 'NN')]\n",
      "[('support', 'NN')]\n",
      "[('system', 'NN')]\n",
      "[('the', 'DT'), ('departure', 'NN')]\n",
      "[('date', 'NN')]\n",
      "[('schedule', 'NN')]\n",
      "[('ready.The', 'JJ'), ('day', 'NN')]\n",
      "[('plan', 'NN')]\n",
      "[('Which', 'JJ'), ('way', 'NN')]\n",
      "[('heart', 'NN')]\n",
      "[('sank', 'NN')]\n",
      "[('that', 'DT'), ('moment', 'NN')]\n",
      "[('daughter', 'NN')]\n",
      "[('walk', 'NN')]\n",
      "[('care', 'NN')]\n",
      "[('the', 'DT'), ('same', 'JJ'), ('time', 'NN')]\n",
      "[('daughter', 'NN')]\n",
      "[('the', 'DT'), ('bathroom', 'NN')]\n",
      "[('a', 'DT'), ('sandwich', 'NN')]\n",
      "[('the', 'DT'), ('walk', 'NN')]\n",
      "[('responsibility', 'NN')]\n",
      "[('daughter', 'NN')]\n",
      "[('furious.They', 'NN')]\n",
      "[('a', 'DT'), ('film', 'NN')]\n",
      "[('the', 'DT'), ('welfare', 'NN')]\n",
      "[('a', 'DT'), ('child', 'NN')]\n",
      "[('her.I', 'NN')]\n",
      "[('the', 'DT'), ('road', 'NN')]\n",
      "[('the', 'DT'), ('environment', 'NN')]\n",
      "[('team', 'NN')]\n",
      "[('the', 'DT'), ('walk', 'NN')]\n",
      "[('a', 'DT'), ('year', 'NN')]\n",
      "[('explanation', 'NN')]\n",
      "[('flat', 'JJ'), ('ground', 'NN')]\n",
      "[('disaster', 'NN')]\n",
      "[('hold', 'NN')]\n",
      "[('a', 'DT'), ('year', 'NN')]\n",
      "[('this', 'DT'), ('project', 'NN')]\n",
      "[('no', 'DT'), ('choice', 'NN')]\n",
      "[('daughter', 'NN')]\n",
      "[('home', 'NN')]\n",
      "[('daughter', 'NN')]\n",
      "[('contact', 'NN')]\n",
      "[('the', 'DT'), ('way.Soon', 'NN')]\n",
      "[('mileage', 'NN')]\n",
      "[('day', 'NN')]\n",
      "[('online', 'NN')]\n",
      "[('a', 'DT'), ('full', 'JJ'), ('day', 'NN')]\n",
      "[('the', 'DT'), ('distance', 'NN')]\n",
      "[('self-reported', 'JJ'), ('starting', 'NN')]\n",
      "[('a', 'DT'), ('letter', 'NN')]\n",
      "[('the', 'DT'), ('film', 'NN')]\n",
      "[('website', 'NN')]\n",
      "[('behalf', 'NN')]\n",
      "[('the', 'DT'), ('team', 'NN')]\n",
      "[('the', 'DT'), ('film', 'NN')]\n",
      "[('focus', 'NN')]\n",
      "[('the', 'DT'), ('road', 'NN')]\n",
      "[('the', 'DT'), ('environment', 'NN')]\n",
      "[('team', 'NN')]\n",
      "[('truth', 'NN')]\n",
      "[('film', 'NN')]\n",
      "[('the', 'DT'), ('documentary', 'NN')]\n",
      "[('liable', 'JJ'), ('position', 'NN')]\n",
      "[('the', 'DT'), ('road', 'NN')]\n",
      "[('good', 'JJ'), ('conscience', 'NN')]\n",
      "[('crew', 'NN')]\n",
      "[('the', 'DT'), ('road', 'NN')]\n",
      "[('a', 'DT'), ('homeless', 'NN')]\n",
      "[('woman', 'NN')]\n",
      "[('Someone', 'NN')]\n",
      "[('a', 'DT'), ('house', 'NN')]\n",
      "[('home', 'NN')]\n",
      "[('the', 'DT'), ('letter', 'NN')]\n",
      "[('legal', 'JJ'), ('action', 'NN')]\n",
      "[('lawyer', 'NN')]\n",
      "[('touch', 'NN')]\n",
      "[('an', 'DT'), ('attorney.A', 'JJ'), ('frequent', 'JJ'), ('presence', 'NN')]\n",
      "[('a', 'DT'), ('big', 'JJ'), ('fan', 'NN')]\n",
      "[('a', 'DT'), ('certain', 'JJ'), ('point', 'NN')]\n",
      "[('background', 'NN')]\n",
      "[('the', 'DT'), ('helm', 'NN')]\n",
      "[('chief', 'JJ'), ('adversary', 'NN')]\n",
      "[('the', 'DT'), ('woman', 'NN')]\n",
      "[('her.Paulette', 'NN')]\n",
      "[('diagnosis', 'NN')]\n",
      "[('out', 'NN')]\n",
      "[('a', 'DT'), ('nice', 'JJ'), ('birthday', 'NN')]\n",
      "[('dinner', 'NN')]\n",
      "[('credit', 'NN')]\n",
      "[('card', 'NN')]\n",
      "[('McCarty', 'NN')]\n",
      "[('the', 'DT'), ('bill', 'NN')]\n",
      "[('a', 'DT'), ('movie', 'NN')]\n",
      "[('a', 'DT'), ('book', 'NN')]\n",
      "[('artist', 'NN')]\n",
      "[('the', 'DT'), ('soundtrack', 'NN')]\n",
      "[('breast', 'NN')]\n",
      "[('cancer', 'NN')]\n",
      "[('it.Paulette', 'NN')]\n",
      "[('a', 'DT'), ('criminal', 'JJ'), ('record', 'NN')]\n",
      "[('McCarty', 'NN')]\n",
      "[('theft', 'NN')]\n",
      "[('forgery', 'NN')]\n",
      "[('false', 'JJ'), ('pretense', 'NN')]\n",
      "[('a', 'DT'), ('questionable', 'JJ'), ('source', 'NN')]\n",
      "[('mistakes.McCarty', 'NN')]\n",
      "[('an', 'DT'), ('obsessive', 'JJ'), ('mission', 'NN')]\n",
      "[('a', 'DT'), ('fraud', 'NN')]\n",
      "[('cancer', 'NN')]\n",
      "[('double', 'JJ'), ('mastectomy', 'NN')]\n",
      "[('gene', 'NN')]\n",
      "[('preventive', 'JJ'), ('surgery', 'NN')]\n",
      "[('fight', 'NN')]\n",
      "[('father', 'NN')]\n",
      "[('cancer', 'NN')]\n",
      "[('the', 'DT'), ('disease', 'NN')]\n",
      "[('cruel', 'NN')]\n",
      "[('appearance', 'NN')]\n",
      "[('fun', 'NN')]\n",
      "[('weight.Whether', 'NN')]\n",
      "[('pause', 'NN')]\n",
      "[('certainty', 'NN')]\n",
      "[('herself', 'NN')]\n",
      "[('the', 'DT'), ('hundreds.15', 'NN')]\n",
      "[('medical', 'JJ'), ('recordsPaulette', 'NN')]\n",
      "[('the', 'DT'), ('chance', 'NN')]\n",
      "[('the', 'DT'), ('line', 'NN')]\n",
      "[('the', 'DT'), ('receptionist', 'NN')]\n",
      "[('fax', 'NN')]\n",
      "[('number', 'NN')]\n",
      "[('fact', 'NN')]\n",
      "[('cm', 'NN')]\n",
      "[('cancerous', 'JJ'), ('tumor', 'NN')]\n",
      "[('right', 'JJ'), ('breast', 'NN')]\n",
      "[('right', 'JJ'), ('side', 'NN')]\n",
      "[('story', 'NN')]\n",
      "[('cancer', 'NN')]\n",
      "[('left', 'JJ'), ('breast', 'NN')]\n",
      "[('The', 'DT'), ('left', 'NN')]\n",
      "[('breast', 'NN')]\n",
      "[('the', 'DT'), ('pathology', 'NN')]\n",
      "[('report', 'NN')]\n",
      "[('cancer', 'NN')]\n",
      "[('metastasizing', 'NN')]\n",
      "[('body', 'NN')]\n",
      "[('permission', 'NN')]\n",
      "[('doctor', 'NN')]\n",
      "[('understanding', 'NN')]\n",
      "[('disease', 'NN')]\n",
      "[('treatment', 'NN')]\n",
      "[('radiation', 'NN')]\n",
      "[('chemotherapy', 'NN')]\n",
      "[('the', 'DT'), ('information', 'NN')]\n",
      "[('oncologist', 'JJ'), ('talk', 'NN')]\n",
      "[('office', 'NN')]\n",
      "[('no', 'DT'), ('such', 'JJ'), ('request', 'NN')]\n",
      "[('the', 'DT'), ('doctor', 'NN')]\n",
      "[('a', 'DT'), ('surgeon', 'NN')]\n",
      "[('breast', 'NN')]\n",
      "[('surgical', 'JJ'), ('oncology', 'NN')]\n",
      "[('cancer', 'NN')]\n",
      "[('right', 'JJ'), ('breast', 'NN')]\n",
      "[('cancer', 'NN')]\n",
      "[('cm', 'JJ'), ('tumor', 'NN')]\n",
      "[('the', 'DT'), ('surgeon', 'NN')]\n",
      "[('re-excision', 'NN')]\n",
      "[('an', 'DT'), ('initial', 'JJ'), ('lumpectomy', 'NN')]\n",
      "[('the', 'DT'), ('slight', 'JJ'), ('margin', 'NN')]\n",
      "[('cancer', 'NN')]\n",
      "[('the', 'DT'), ('surgeon', 'NN')]\n",
      "[('a', 'DT'), ('double', 'JJ'), ('mastectomy.Paulette', 'NN')]\n",
      "[('a', 'DT'), ('family', 'NN')]\n",
      "[('history', 'NN')]\n",
      "[('cancer', 'NN')]\n",
      "[('an', 'DT'), ('aggressive', 'JJ'), ('approach', 'NN')]\n",
      "[('the', 'DT'), ('surgeon', 'NN')]\n",
      "[('lymph', 'NN')]\n",
      "[('stage', 'NN')]\n",
      "[('cancer', 'NN')]\n",
      "[('the', 'DT'), ('surgeon', 'NN')]\n",
      "[('saw', 'NN')]\n",
      "[('chemotherapy', 'NN')]\n",
      "[('radiation', 'NN')]\n",
      "[('no', 'DT'), ('definitive', 'JJ'), ('course', 'NN')]\n",
      "[('treatment', 'NN')]\n",
      "[('breast', 'NN')]\n",
      "[('cancer', 'NN')]\n",
      "[('a', 'DT'), ('deeply', 'JJ'), ('personal', 'JJ'), ('decision', 'NN')]\n",
      "[('a', 'DT'), ('woman', 'NN')]\n",
      "[('radiation', 'NN')]\n",
      "[('chemotherapy', 'NN')]\n",
      "[('oncologist', 'NN')]\n",
      "[('something', 'NN')]\n",
      "[('help', 'NN')]\n",
      "[('certainty', 'NN')]\n",
      "[('medical', 'JJ'), ('records.What', 'NN')]\n",
      "[('cancer', 'NN')]\n",
      "[('right', 'JJ'), ('breast', 'NN')]\n",
      "[('cancer', 'NN')]\n",
      "[('treatment', 'NN')]\n",
      "[('the', 'DT'), ('double', 'JJ'), ('mastectomy', 'NN')]\n",
      "[('do', 'NN')]\n",
      "[('cancer', 'NN')]\n",
      "[('story', 'NN')]\n",
      "[('every', 'DT'), ('post', 'NN')]\n",
      "[('case', 'NN')]\n",
      "[('chemotherapy', 'NN')]\n",
      "[('different', 'JJ'), ('doctor', 'NN')]\n",
      "[('the', 'DT'), ('cancer', 'NN')]\n",
      "[('liver', 'NN')]\n",
      "[('pneumonia', 'NN')]\n",
      "[('each', 'DT'), ('way', 'NN')]\n",
      "[('another', 'DT'), ('member', 'NN')]\n",
      "[('sympathy', 'NN')]\n",
      "[('day', 'NN')]\n",
      "[('a', 'DT'), ('hospital', 'NN')]\n",
      "[('bed', 'NN')]\n",
      "[('own', 'JJ'), ('mother-in-law', 'NN')]\n",
      "[('cancer', 'NN')]\n",
      "[('body', 'NN')]\n",
      "[('the', 'DT'), ('way', 'NN')]\n",
      "[('a', 'DT'), ('while', 'NN')]\n",
      "[('this', 'DT'), ('walk', 'NN')]\n",
      "[('the', 'DT'), ('edge', 'NN')]\n",
      "[('pseudonym', 'NN')]\n",
      "[('outrage', 'NN')]\n",
      "[('heart', 'NN')]\n",
      "[('liver', 'NN')]\n",
      "[('surgery', 'NN')]\n",
      "[('pneumonia', 'NN')]\n",
      "[('train', 'NN')]\n",
      "[('home', 'NN')]\n",
      "[('school', 'NN')]\n",
      "[('stage', 'NN')]\n",
      "[('aggressive', 'JJ'), ('breast', 'NN')]\n",
      "[('cancer', 'NN')]\n",
      "[('liver', 'NN')]\n",
      "[('the', 'DT'), ('cancer', 'NN')]\n",
      "[('treatment', 'NN')]\n",
      "[('leisure', 'NN')]\n",
      "[('This', 'DT'), ('alone', 'NN')]\n",
      "[('eye', 'NN')]\n",
      "[('a', 'DT'), ('hero', 'NN')]\n",
      "[('a', 'DT'), ('reality', 'NN')]\n",
      "[('TV', 'NN')]\n",
      "[('show', 'NN')]\n",
      "[('movie', 'NN')]\n",
      "[('deal', 'NN')]\n",
      "[('the', 'DT'), ('end', 'NN')]\n",
      "[('walk.From', 'NN')]\n",
      "[('help', 'NN')]\n",
      "[('nothing', 'NN')]\n",
      "[('insider', 'NN')]\n",
      "[('a', 'DT'), ('breast', 'NN')]\n",
      "[('cancer', 'NN')]\n",
      "[('foundation', 'NN')]\n",
      "[('a', 'DT'), ('best-selling', 'JJ'), ('erotic-fiction', 'NN')]\n",
      "[('author', 'NN')]\n",
      "[('publisher', 'NN')]\n",
      "[('friend', 'NN')]\n",
      "[('offer', 'NN')]\n",
      "[('help', 'NN')]\n",
      "[('the', 'DT'), ('story', 'NN')]\n",
      "[('change', 'NN')]\n",
      "[('the', 'DT'), ('course', 'NN')]\n",
      "[('a', 'DT'), ('day', 'NN')]\n",
      "[('minute', 'NN')]\n",
      "[('cancer', 'NN')]\n",
      "[('a', 'DT'), ('way', 'NN')]\n",
      "[('disability', 'NN')]\n",
      "[('everything', 'NN')]\n",
      "[('someone', 'NN')]\n",
      "[('money', 'NN')]\n",
      "[('the', 'DT'), ('condition', 'NN')]\n",
      "[('the', 'DT'), ('offer', 'NN')]\n",
      "[('bankruptcy', 'NN')]\n",
      "[('the', 'DT'), ('walk.Another', 'NN')]\n",
      "[('friend', 'NN')]\n",
      "[('hotel', 'NN')]\n",
      "[('walk', 'NN')]\n",
      "[('no', 'DT'), ('animosity', 'NN')]\n",
      "[('the', 'DT'), ('end', 'NN')]\n",
      "[('the', 'DT'), ('day', 'NN')]\n",
      "[('well', 'NN')]\n",
      "[('a', 'DT'), ('blind', 'JJ'), ('man', 'NN')]\n",
      "[('woman', 'NN')]\n",
      "[('a', 'DT'), ('few', 'JJ'), ('years.She', 'NN')]\n",
      "[('battle', 'NN')]\n",
      "[('cancer', 'NN')]\n",
      "[('pneumonia', 'NN')]\n",
      "[('this', 'DT'), ('ambitious', 'JJ'), ('walk', 'NN')]\n",
      "[('a', 'DT'), ('collection', 'NN')]\n",
      "[('work', 'NN')]\n",
      "[('page', 'NN')]\n",
      "[('a', 'DT'), ('goal', 'NN')]\n",
      "[('money', 'NN')]\n",
      "[('walk', 'NN')]\n",
      "[('page', 'NN')]\n",
      "[('a', 'DT'), ('blind', 'JJ'), ('man', 'NN')]\n",
      "[('walk', 'NN')]\n",
      "[('cancer', 'NN')]\n",
      "[('page', 'NN')]\n",
      "[('that', 'DT'), ('moment', 'NN')]\n",
      "[('any', 'DT'), ('trust', 'NN')]\n",
      "[('story', 'NN')]\n",
      "[('breast', 'NN')]\n",
      "[('cancer', 'NN')]\n",
      "[('reconstructive', 'JJ'), ('surgery', 'NN')]\n",
      "[('a', 'DT'), ('blood-clotting', 'JJ'), ('disorder.Family', 'JJ'), ('mattersPart', 'NN')]\n",
      "[('story', 'NN')]\n",
      "[('cancer', 'NN')]\n",
      "[('struck', 'NN')]\n",
      "[('a', 'DT'), ('first', 'JJ'), ('cousin', 'NN')]\n",
      "[('breast', 'NN')]\n",
      "[('cancer.Paulette', 'NN')]\n",
      "[('a', 'DT'), ('crowd', 'NN')]\n",
      "[('the', 'DT'), ('only', 'JJ'), ('one', 'NN')]\n",
      "[('cousin', 'NN')]\n",
      "[('mother', 'NN')]\n",
      "[('child', 'NN')]\n",
      "[('a', 'DT'), ('little', 'JJ'), ('girl', 'NN')]\n",
      "[('the', 'DT'), ('relative', 'NN')]\n",
      "[('a', 'DT'), ('glamorous', 'JJ'), ('life', 'NN')]\n",
      "[('mom', 'NN')]\n",
      "[('every', 'DT'), ('day', 'NN')]\n",
      "[('money', 'NN')]\n",
      "[('help', 'NN')]\n",
      "[('the', 'DT'), ('day', 'NN')]\n",
      "[('home', 'NN')]\n",
      "[('the', 'DT'), ('one', 'NN')]\n",
      "[('help.Court', 'NN')]\n",
      "[('rent', 'NN')]\n",
      "[('home', 'NN')]\n",
      "[('landlord', 'NN')]\n",
      "[('legal', 'JJ'), ('action', 'NN')]\n",
      "[('mid-May', 'NN')]\n",
      "[('an', 'DT'), ('eviction', 'NN')]\n",
      "[('family', 'NN')]\n",
      "[('area', 'NN')]\n",
      "[('dorm', 'NN')]\n",
      "[('fee', 'NN')]\n",
      "[('college', 'NN')]\n",
      "[('fall', 'NN')]\n",
      "[('the', 'DT'), ('custody', 'NN')]\n",
      "[('grandmother', 'NN')]\n",
      "[('this', 'DT'), ('financial', 'JJ'), ('help', 'NN')]\n",
      "[('sister', 'NN')]\n",
      "[('child', 'NN')]\n",
      "[('job', 'NN')]\n",
      "[('grandchildren', 'NN')]\n",
      "[('the', 'DT'), ('phone', 'NN')]\n",
      "[('advantage', 'NN')]\n",
      "[('mother', 'NN')]\n",
      "[('death', 'NN')]\n",
      "[('ran', 'NN')]\n",
      "[('mother', 'NN')]\n",
      "[('demeanor', 'NN')]\n",
      "[('something', 'NN')]\n",
      "[('no', 'DT'), ('sympathy', 'NN')]\n",
      "[('no', 'DT'), ('sadness', 'NN')]\n",
      "[('mother', 'NN')]\n",
      "[('everything', 'NN')]\n",
      "[('the', 'DT'), ('crowd', 'NN')]\n",
      "[('the', 'DT'), ('love', 'NN')]\n",
      "[('something', 'NN')]\n",
      "[('sleeve', 'NN')]\n",
      "[('breast', 'NN')]\n",
      "[('mom', 'NN')]\n",
      "[('childAnother', 'NN')]\n",
      "[('own', 'JJ'), ('anger', 'NN')]\n",
      "[('a', 'DT'), ('lease', 'NN')]\n",
      "[('credit', 'NN')]\n",
      "[('beloved', 'JJ'), ('Yorkie', 'NN')]\n",
      "[('a', 'DT'), ('week', 'NN')]\n",
      "[('men.Her', 'NN')]\n",
      "[('husband', 'NN')]\n",
      "[('a', 'DT'), ('stay-at-home', 'JJ'), ('mom', 'NN')]\n",
      "[('day', 'NN')]\n",
      "[('home', 'NN')]\n",
      "[('a', 'DT'), ('military', 'JJ'), ('man', 'NN')]\n",
      "[('journey', 'NN')]\n",
      "[('walking', 'NN')]\n",
      "[('a', 'DT'), ('child', 'NN')]\n",
      "[('effort', 'NN')]\n",
      "[('awareness', 'NN')]\n",
      "[('cancer.He', 'NN')]\n",
      "[('character', 'NN')]\n",
      "[('exercise', 'NN')]\n",
      "[('the', 'DT'), ('street', 'NN')]\n",
      "[('the', 'DT'), ('block', 'NN')]\n",
      "[('life', 'NN')]\n",
      "[('The', 'DT'), ('second', 'JJ'), ('man', 'NN')]\n",
      "[('heart', 'NN')]\n",
      "[('the', 'DT'), ('right', 'JJ'), ('place', 'NN')]\n",
      "[('serious', 'JJ'), ('health', 'NN')]\n",
      "[('mom', 'NN')]\n",
      "[('cancer', 'NN')]\n",
      "[('daughter', 'NN')]\n",
      "[('no', 'DT'), ('comment', 'NN')]\n",
      "[('up.Her', 'JJ'), ('third', 'JJ'), ('husband', 'NN')]\n",
      "[('an', 'DT'), ('online', 'NN')]\n",
      "[('site', 'NN')]\n",
      "[('right', 'NN')]\n",
      "[('double', 'JJ'), ('mastectomy', 'NN')]\n",
      "[('cancer', 'NN')]\n",
      "[('the', 'DT'), ('double', 'JJ'), ('mastectomy', 'NN')]\n",
      "[('cancer', 'NN')]\n",
      "[('treatment', 'NN')]\n",
      "[('a', 'DT'), ('cancer', 'NN')]\n",
      "[('center', 'NN')]\n",
      "[('treatment', 'NN')]\n",
      "[('the', 'DT'), ('room', 'NN')]\n",
      "[('a', 'DT'), ('doctor', 'NN')]\n",
      "[('no', 'DT'), ('sign', 'NN')]\n",
      "[('cancer', 'NN')]\n",
      "[('the', 'DT'), ('office', 'NN')]\n",
      "[('that', 'DT'), ('point', 'NN')]\n",
      "[('cancer', 'NN')]\n",
      "[('that', 'DT'), ('moment', 'NN')]\n",
      "[('a', 'DT'), ('word', 'NN')]\n",
      "[('the', 'DT'), ('marriage', 'NN')]\n",
      "[('early.She', 'NN')]\n",
      "[('cancer', 'NN')]\n",
      "[('battle', 'NN')]\n",
      "[('die', 'NN')]\n",
      "[('the', 'DT'), ('state', 'NN')]\n",
      "[('car', 'NN')]\n",
      "[('cross-country', 'NN')]\n",
      "[('spite', 'NN')]\n",
      "[('car', 'NN')]\n",
      "[('again.Paulette', 'NN')]\n",
      "[('no', 'DT'), ('sign', 'NN')]\n",
      "[('chest', 'NN')]\n",
      "[('story', 'NN')]\n",
      "[('noticed.A', 'JJ'), ('daughter', 'NN')]\n",
      "[('the', 'DT'), ('criticism', 'NN')]\n",
      "[('child', 'NN')]\n",
      "[('hairstylist', 'NN')]\n",
      "[('mother', 'NN')]\n",
      "[('a', 'DT'), ('mom', 'NN')]\n",
      "[('thought', 'NN')]\n",
      "[('mom', 'NN')]\n",
      "[('A', 'DT'), ('daughter', 'NN')]\n",
      "[('a', 'DT'), ('relationship', 'NN')]\n",
      "[('first', 'JJ'), ('marriage', 'NN')]\n",
      "[('military', 'JJ'), ('brat', 'NN')]\n",
      "[('a', 'DT'), ('family', 'NN')]\n",
      "[('affluent', 'JJ'), ('lifestyle', 'NN')]\n",
      "[('mother', 'NN')]\n",
      "[('the', 'DT'), ('foster', 'NN')]\n",
      "[('system', 'NN')]\n",
      "[('a', 'DT'), ('day', 'NN')]\n",
      "[('care', 'NN')]\n",
      "[('center', 'NN')]\n",
      "[('home', 'NN')]\n",
      "[('the', 'DT'), ('care', 'NN')]\n",
      "[('private-school', 'JJ'), ('educations.So', 'NN')]\n",
      "[('cancer', 'NN')]\n",
      "[('care', 'NN')]\n",
      "[('mother', 'NN')]\n",
      "[('mom', 'NN')]\n",
      "[('fiancé', 'NN')]\n",
      "[('a', 'DT'), ('strong', 'JJ'), ('face', 'NN')]\n",
      "[('anyone.Paulette', 'NN')]\n",
      "[('insurance', 'NN')]\n",
      "[('chemo', 'NN')]\n",
      "[('wedding', 'NN')]\n",
      "[('mother', 'NN')]\n",
      "[('mom', 'NN')]\n",
      "[('an', 'DT'), ('air', 'NN')]\n",
      "[('mattress', 'NN')]\n",
      "[('cancer', 'NN')]\n",
      "[('daughter', 'NN')]\n",
      "[('story', 'NN')]\n",
      "[('survival', 'NN')]\n",
      "[('daughter', 'NN')]\n",
      "[('The', 'DT'), ('trailer', 'NN')]\n",
      "[('documentary', 'NN')]\n",
      "[('neighborhood.Back', 'NN')]\n",
      "[('questionsThe', 'JJ'), ('next', 'JJ'), ('time', 'NN')]\n",
      "[('the', 'DT'), ('capital', 'NN')]\n",
      "[('50th', 'JJ'), ('birthday', 'NN')]\n",
      "[('a', 'DT'), ('bridge', 'NN')]\n",
      "[('the', 'DT'), ('district', 'NN')]\n",
      "[('foot', 'NN')]\n",
      "[('A', 'DT'), ('rally', 'NN')]\n",
      "[('a', 'DT'), ('week', 'NN')]\n",
      "[('session.She', 'NN')]\n",
      "[('the', 'DT'), ('curb', 'NN')]\n",
      "[('the', 'DT'), ('cold', 'JJ'), ('description', 'NN')]\n",
      "[('daughter', 'NN')]\n",
      "[('the', 'DT'), ('side', 'NN')]\n",
      "[('the', 'DT'), ('road', 'NN')]\n",
      "[('a', 'DT'), ('church', 'NN')]\n",
      "[('a', 'DT'), ('crowd', 'NN')]\n",
      "[('walk', 'NN')]\n",
      "[('a', 'DT'), ('rally', 'NN')]\n",
      "[('side', 'NN')]\n",
      "[('woman', 'NN')]\n",
      "[('a', 'DT'), ('cameraman', 'JJ'), ('turn', 'NN')]\n",
      "[('something', 'NN')]\n",
      "[('woman', 'NN')]\n",
      "[('radiation', 'NN')]\n",
      "[('pain', 'NN')]\n",
      "[('hero.We', 'NN')]\n",
      "[('that', 'DT'), ('day', 'NN')]\n",
      "[('a', 'DT'), ('difference', 'NN')]\n",
      "[('this', 'DT'), ('power', 'NN')]\n",
      "[('her.But', 'NN')]\n",
      "[('own', 'JJ'), ('way.She', 'NN')]\n",
      "[('a', 'DT'), ('knack', 'NN')]\n",
      "[('cancer', 'NN')]\n",
      "[('health', 'NN')]\n",
      "[('faith', 'NN')]\n",
      "[('prone', 'NN')]\n",
      "[('trouble.They', 'NN')]\n",
      "[('the', 'DT'), ('same', 'JJ'), ('thing', 'NN')]\n",
      "[('nothing', 'NN')]\n",
      "[('the', 'DT'), ('premiere', 'NN')]\n",
      "[('new', 'JJ'), ('show', 'NN')]\n",
      "[('a', 'DT'), ('spokeswoman', 'NN')]\n",
      "[('the', 'DT'), ('show', 'NN')]\n",
      "[('a', 'DT'), ('producer', 'NN')]\n",
      "[('touch', 'NN')]\n",
      "[('story', 'NN')]\n",
      "[('the', 'DT'), ('premiere', 'NN')]\n",
      "[('any', 'DT'), ('shows.I', 'NN')]\n",
      "[('a', 'DT'), ('coy', 'NN')]\n",
      "[('smile', 'NN')]\n",
      "[('work', 'NN')]\n",
      "[('a', 'DT'), ('social', 'JJ'), ('worker', 'NN')]\n",
      "[('the', 'DT'), ('foster', 'NN')]\n",
      "[('care', 'NN')]\n",
      "[('system', 'NN')]\n",
      "[('the', 'DT'), ('state', 'NN')]\n",
      "[('the', 'DT'), ('program', 'NN')]\n",
      "[('the', 'DT'), ('program', 'NN')]\n",
      "[('a', 'DT'), ('name', 'NN')]\n",
      "[('story', 'NN')]\n",
      "[('the', 'DT'), ('director', 'NN')]\n",
      "[('the', 'DT'), ('city', 'NN')]\n",
      "[('a', 'DT'), ('dozen', 'NN')]\n",
      "[('The', 'DT'), ('director', 'NN')]\n",
      "[('assistant', 'NN')]\n",
      "[('the', 'DT'), ('system.I', 'NN')]\n",
      "[('cancer', 'NN')]\n",
      "[('a', 'DT'), ('month', 'NN')]\n",
      "[('child', 'JJ'), ('support', 'NN')]\n",
      "[('half', 'NN')]\n",
      "[('an', 'DT'), ('ex-husband', 'NN')]\n",
      "[('retirement', 'NN')]\n",
      "[('money.In', 'NN')]\n",
      "[('breath', 'NN')]\n",
      "[('homeless.I', 'NN')]\n",
      "[('everything', 'NN')]\n",
      "[('a', 'DT'), ('house', 'NN')]\n",
      "[('jewelry', 'NN')]\n",
      "[('cars.', 'NN')]\n",
      "[('the', 'DT'), ('money', 'NN')]\n",
      "[('a', 'DT'), ('cause', 'NN')]\n",
      "[('research', 'NN')]\n",
      "[('a', 'DT'), ('cure', 'NN')]\n",
      "[('the', 'DT'), ('money', 'NN')]\n",
      "[('money', 'NN')]\n",
      "[('a', 'DT'), ('driver', 'NN')]\n",
      "[('passenger', 'NN')]\n",
      "[('seat', 'NN')]\n",
      "[('bill.Her', 'NN')]\n",
      "[('online', 'NN')]\n",
      "[('wire', 'NN')]\n",
      "[('person', 'NN')]\n",
      "[('light', 'NN')]\n",
      "[('Facebook', 'NN')]\n",
      "[('down', 'NN')]\n",
      "[('the', 'DT'), ('same', 'JJ'), ('thing', 'NN')]\n",
      "[('the', 'DT'), ('way', 'NN')]\n",
      "[('community', 'NN')]\n",
      "[('This', 'DT'), ('group', 'NN')]\n",
      "[('sang', 'NN')]\n",
      "[('hymns', 'NN')]\n",
      "[('a', 'DT'), ('cure', 'NN')]\n",
      "[('cancer', 'NN')]\n",
      "[('the', 'DT'), ('crowdShe', 'NN')]\n",
      "[('the', 'DT'), ('stage', 'NN')]\n",
      "[('a', 'DT'), ('park', 'NN')]\n",
      "[('a', 'DT'), ('rock', 'NN')]\n",
      "[('star', 'NN')]\n",
      "[('Survivor', 'NN')]\n",
      "[('couple', 'NN')]\n",
      "[('sat', 'NN')]\n",
      "[('awe', 'NN')]\n",
      "[('the', 'DT'), ('other.Paulette', 'NN')]\n",
      "[('a', 'DT'), ('surgeon', 'NN')]\n",
      "[('pretty', 'JJ'), ('sure', 'NN')]\n",
      "[('an', 'DT'), ('oncologist', 'NN')]\n",
      "[('the', 'DT'), ('surgeon', 'NN')]\n",
      "[('a', 'DT'), ('woman', 'NN')]\n",
      "[('cancer', 'NN')]\n",
      "[('This', 'DT'), ('woman', 'NN')]\n",
      "[('a', 'DT'), ('devout', 'NN')]\n",
      "[('the', 'DT'), ('power', 'NN')]\n",
      "[('this', 'DT'), ('part', 'NN')]\n",
      "[('story', 'NN')]\n",
      "[('day', 'NN')]\n",
      "[('the', 'DT'), ('crowd', 'NN')]\n",
      "[('the', 'DT'), ('woman', 'NN')]\n",
      "[('the', 'DT'), ('night', 'NN')]\n",
      "[('breastless', 'JJ'), ('chest', 'NN')]\n",
      "[('journey', 'NN')]\n",
      "[('sort', 'NN')]\n",
      "[('sad', 'NN')]\n",
      "[('this', 'DT'), ('walk', 'NN')]\n",
      "[('a', 'DT'), ('new', 'JJ'), ('house', 'NN')]\n",
      "[('the', 'DT'), ('end', 'NN')]\n",
      "[('the', 'DT'), ('year', 'NN')]\n",
      "[('a', 'DT'), ('crowd', 'NN')]\n",
      "[('pause', 'NN')]\n",
      "[('reconstructive', 'JJ'), ('surgery', 'NN')]\n",
      "[('size', 'NN')]\n",
      "[('breast', 'NN')]\n",
      "[('reconstructive', 'JJ'), ('surgery', 'NN')]\n",
      "[('reconstructive', 'JJ'), ('surgery', 'NN')]\n",
      "[('body', 'NN')]\n",
      "[('the', 'DT'), ('person', 'NN')]\n",
      "[('no', 'DT'), ('clear', 'JJ'), ('answer', 'NN')]\n",
      "[('a', 'DT'), ('part', 'NN')]\n",
      "[('something', 'NN')]\n",
      "[('a', 'DT'), ('lot', 'NN')]\n",
      "[('direction', 'NN')]\n",
      "[('said.Later', 'NN')]\n",
      "[('a', 'DT'), ('photo', 'NN')]\n",
      "[('op', 'NN')]\n",
      "[('a', 'DT'), ('waste', 'NN')]\n",
      "[('time', 'NN')]\n",
      "[('a', 'DT'), ('stage', 'NN')]\n",
      "[('the', 'DT'), ('park', 'NN')]\n",
      "[('none', 'NN')]\n",
      "[('this', 'DT'), ('walking', 'NN')]\n",
      "[('the', 'DT'), ('money', 'NN')]\n",
      "[('the', 'DT'), ('time', 'NN')]\n",
      "[('day', 'NN')]\n",
      "[('sort', 'NN')]\n",
      "[('sad', 'NN')]\n",
      "[('this', 'DT'), ('walk', 'NN')]\n",
      "[('the', 'DT'), ('crowd', 'NN')]\n",
      "[('a', 'DT'), ('new', 'JJ'), ('house', 'NN')]\n",
      "[('the', 'DT'), ('end', 'NN')]\n",
      "[('the', 'DT'), ('year', 'NN')]\n",
      "[('film', 'NN')]\n",
      "[('walk', 'NN')]\n",
      "[('the', 'DT'), ('walk', 'NN')]\n",
      "[('plush', 'NN')]\n",
      "[('leather', 'NN')]\n",
      "[('wheel', 'NN')]\n",
      "[('a', 'DT'), ('crowd', 'NN')]\n",
      "[('weekend', 'NN')]\n",
      "[('the', 'DT'), ('name', 'NN')]\n",
      "[('the', 'DT'), ('event', 'NN')]\n",
      "[('any', 'DT'), ('evidence', 'NN')]\n",
      "[('weekend', 'NN')]\n",
      "[('this', 'DT'), ('woman', 'NN')]\n",
      "[('a', 'DT'), ('day', 'NN')]\n",
      "[('nothing', 'NN')]\n",
      "[('a', 'DT'), ('speaking', 'NN')]\n",
      "[('engagement.Paulette', 'NN')]\n",
      "[('fame', 'NN')]\n",
      "[('attention', 'NN')]\n",
      "[('glamor', 'NN')]\n",
      "[('TV', 'NN')]\n",
      "[('film', 'NN')]\n",
      "[('daughter', 'NN')]\n",
      "[('an', 'DT'), ('agent', 'NN')]\n",
      "[('more.She', 'NN')]\n",
      "[('account.It', 'NN')]\n",
      "[('told', 'JJ'), ('time', 'NN')]\n",
      "[('woman', 'NN')]\n",
      "[('newfound', 'NN')]\n",
      "[('fame', 'NN')]\n",
      "[('attention', 'NN')]\n",
      "[('a', 'DT'), ('video', 'NN')]\n",
      "[('reporter', 'NN')]\n",
      "[('a', 'DT'), ('witch', 'NN')]\n",
      "[('hunt', 'NN')]\n",
      "[('a', 'DT'), ('story', 'NN')]\n",
      "[('a', 'DT'), ('negative', 'JJ'), ('article', 'NN')]\n",
      "[('this', 'DT'), ('spirit', 'NN')]\n",
      "[('manager', 'NN')]\n",
      "[('something', 'NN')]\n",
      "[('breast', 'NN')]\n",
      "[('cancer', 'NN')]\n",
      "[('The', 'DT'), ('exploitation', 'NN')]\n",
      "[('dermatologistNot', 'NN')]\n",
      "[('fall', 'NN')]\n",
      "[('someone', 'NN')]\n",
      "[('touch', 'NN')]\n",
      "[('dermatologist', 'NN')]\n",
      "[('research', 'NN')]\n",
      "[('hair', 'NN')]\n",
      "[('skin', 'NN')]\n",
      "[('care', 'NN')]\n",
      "[('product', 'NN')]\n",
      "[('lines.She', 'NN')]\n",
      "[('celebrity', 'NN')]\n",
      "[('area', 'NN')]\n",
      "[('publicity', 'NN')]\n",
      "[('the', 'DT'), ('nation', 'NN')]\n",
      "[('capital', 'NN')]\n",
      "[('the', 'DT'), ('end', 'NN')]\n",
      "[('walk', 'NN')]\n",
      "[('journey', 'NN')]\n",
      "[('a', 'DT'), ('couple', 'NN')]\n",
      "[('quick', 'JJ'), ('calls.She', 'NN')]\n",
      "[('home', 'NN')]\n",
      "[('lunch', 'NN')]\n",
      "[('a', 'DT'), ('campaign', 'NN')]\n",
      "[('skincare', 'JJ'), ('line', 'NN')]\n",
      "[('a', 'DT'), ('person', 'NN')]\n",
      "[('inner', 'JJ'), ('beauty', 'NN')]\n",
      "[('living', 'JJ'), ('example', 'NN')]\n",
      "[('the', 'DT'), ('message', 'NN')]\n",
      "[('the', 'DT'), ('face', 'NN')]\n",
      "[('the', 'DT'), ('campaign.A', 'JJ'), ('couple', 'NN')]\n",
      "[('a', 'DT'), ('breast', 'NN')]\n",
      "[('cancer', 'NN')]\n",
      "[('surgeon', 'NN')]\n",
      "[('enthusiasm', 'NN')]\n",
      "[('friend', 'NN')]\n",
      "[('artist', 'NN')]\n",
      "[('remake', 'NN')]\n",
      "[('gold', 'NN')]\n",
      "[('Savage', 'NN')]\n",
      "[('mother', 'NN')]\n",
      "[('breast', 'NN')]\n",
      "[('cancer', 'NN')]\n",
      "[('a', 'DT'), ('song', 'NN')]\n",
      "[('The', 'DT'), ('song', 'NN')]\n",
      "[('the', 'DT'), ('video.The', 'NN')]\n",
      "[('flood', 'NN')]\n",
      "[('the', 'DT'), ('doctor', 'NN')]\n",
      "[('Savage', 'NN')]\n",
      "[('surprise', 'NN')]\n",
      "[('the', 'DT'), ('video', 'NN')]\n",
      "[('an', 'DT'), ('email', 'NN')]\n",
      "[('page', 'NN')]\n",
      "[('heard', 'NN')]\n",
      "[('hyperpigmentation', 'NN')]\n",
      "[('radiation', 'NN')]\n",
      "[('liver', 'NN')]\n",
      "[('lung', 'NN')]\n",
      "[('metastasis', 'NN')]\n",
      "[('breast', 'NN')]\n",
      "[('surgeon', 'NN')]\n",
      "[('no', 'DT'), ('obvious', 'JJ'), ('sign', 'NN')]\n",
      "[('radiation', 'NN')]\n",
      "[('judgment', 'NN')]\n",
      "[('chemotherapy', 'NN')]\n",
      "[('the', 'DT'), ('story', 'NN')]\n",
      "[('social', 'JJ'), ('media.Her', 'NN')]\n",
      "[('breast', 'NN')]\n",
      "[('cancer', 'NN')]\n",
      "[('The', 'DT'), ('exploitation', 'NN')]\n",
      "[('walk', 'NN')]\n",
      "[('frenzy', 'NN')]\n",
      "[('image', 'NN')]\n",
      "[('story', 'NN')]\n",
      "[('print', 'NN')]\n",
      "[('online', 'NN')]\n",
      "[('the', 'DT'), ('messageOne', 'JJ'), ('leader', 'NN')]\n",
      "[('breast', 'NN')]\n",
      "[('cancer', 'NN')]\n",
      "[('activism', 'NN')]\n",
      "[('a', 'DT'), ('different', 'JJ'), ('way', 'NN')]\n",
      "[('prone', 'NN')]\n",
      "[('exaggeration', 'NN')]\n",
      "[('person', 'NN')]\n",
      "[('woman', 'NN')]\n",
      "[('a', 'DT'), ('mammogram', 'NN')]\n",
      "[('a', 'DT'), ('win', 'NN')]\n",
      "[('this', 'DT'), ('activist', 'NN')]\n",
      "[('a', 'DT'), ('population', 'NN')]\n",
      "[('breast', 'NN')]\n",
      "[('cancer', 'NN')]\n",
      "[('an', 'DT'), ('early', 'JJ'), ('stage', 'NN')]\n",
      "[('a', 'DT'), ('diagnosis', 'NN')]\n",
      "[('triple-negative', 'JJ'), ('breast', 'NN')]\n",
      "[('cancer', 'NN')]\n",
      "[('cancer', 'NN')]\n",
      "[('breast', 'NN')]\n",
      "[('cancer', 'NN')]\n",
      "[('survival', 'NN')]\n",
      "[('rate', 'NN')]\n",
      "[('racial', 'JJ'), ('group', 'NN')]\n",
      "[('difference', 'NN')]\n",
      "[('mortality', 'NN')]\n",
      "[('the', 'DT'), ('stage', 'NN')]\n",
      "[('diagnosis', 'NN')]\n",
      "[('tumor', 'NN')]\n",
      "[('obesity', 'NN')]\n",
      "[('education', 'NN')]\n",
      "[('access', 'NN')]\n",
      "[('treatment', 'NN')]\n",
      "[('health', 'NN')]\n",
      "[('insurance', 'NN')]\n",
      "[('report', 'NN')]\n",
      "[('says.Furthermore', 'NN')]\n",
      "[('an', 'DT'), ('audience', 'NN')]\n",
      "[('notice', 'NN')]\n",
      "[('attention', 'NN')]\n",
      "[('The', 'DT'), ('message', 'NN')]\n",
      "[('no', 'DT'), ('way', 'NN')]\n",
      "[('a', 'DT'), ('difference', 'NN')]\n",
      "[('the', 'DT'), ('conversation', 'NN')]\n",
      "[('cancer', 'NN')]\n",
      "[('this', 'DT'), ('country.But', 'NN')]\n",
      "[('another', 'DT'), ('activist', 'NN')]\n",
      "[('This', 'DT'), ('activist', 'NN')]\n",
      "[('stage', 'NN')]\n",
      "[('metastatic', 'JJ'), ('cancer', 'NN')]\n",
      "[('cancer', 'NN')]\n",
      "[('brain', 'NN')]\n",
      "[('liver', 'NN')]\n",
      "[('survival', 'NN')]\n",
      "[('rate', 'NN')]\n",
      "[('this', 'DT'), ('activist', 'NN')]\n",
      "[('the', 'DT'), ('end.For', 'NN')]\n",
      "[('a', 'DT'), ('while', 'NN')]\n",
      "[('journey', 'NN')]\n",
      "[('post', 'NN')]\n",
      "[('a', 'DT'), ('woman', 'NN')]\n",
      "[('stage', 'NN')]\n",
      "[('cancer', 'NN')]\n",
      "[('the', 'DT'), ('activist', 'NN')]\n",
      "[('preying', 'NN')]\n",
      "[('a', 'DT'), ('pedestal', 'NN')]\n",
      "[('a', 'DT'), ('cause', 'NN')]\n",
      "[('newspaper', 'NN')]\n",
      "[('reporter', 'NN')]\n",
      "[('condition', 'NN')]\n",
      "[('anonymity', 'NN')]\n",
      "[('a', 'DT'), ('tight', 'JJ'), ('deadline', 'NN')]\n",
      "[('Another', 'DT'), ('piece', 'NN')]\n",
      "[('someone', 'NN')]\n",
      "[('a', 'DT'), ('journalist', 'NN')]\n",
      "[('obligation', 'NN')]\n",
      "[('story', 'NN')]\n",
      "[('this', 'DT'), ('case', 'NN')]\n",
      "[('voice', 'NN')]\n",
      "[('a', 'DT'), ('website', 'NN')]\n",
      "[('viral', 'JJ'), ('content', 'NN')]\n",
      "[('the', 'DT'), ('documentary', 'JJ'), ('filmmaker', 'NN')]\n",
      "[('story', 'NN')]\n",
      "[('good', 'JJ'), ('conscience', 'NN')]\n",
      "[('the', 'DT'), ('site', 'NN')]\n",
      "[('any', 'DT'), ('videos', 'NN')]\n",
      "[('The', 'DT'), ('site', 'NN')]\n",
      "[('video', 'NN')]\n",
      "[('story.I', 'NN')]\n",
      "[('the', 'DT'), ('vice', 'NN')]\n",
      "[('president', 'NN')]\n",
      "[('a', 'DT'), ('dozen', 'NN')]\n",
      "[('vetting', 'NN')]\n",
      "[('process', 'NN')]\n",
      "[('the', 'DT'), ('decision', 'NN')]\n",
      "[('share', 'NN')]\n",
      "[('TV', 'NN')]\n",
      "[('film', 'NN')]\n",
      "[('walk', 'NN')]\n",
      "[('page', 'NN')]\n",
      "[('presence', 'NN')]\n",
      "[('time', 'NN')]\n",
      "[('time', 'NN')]\n",
      "[('a', 'DT'), ('mixture', 'NN')]\n",
      "[('posing', 'NN')]\n",
      "[('the', 'DT'), ('upcoming', 'JJ'), ('movie', 'NN')]\n",
      "[('a', 'DT'), ('shot', 'NN')]\n",
      "[('set', 'NN')]\n",
      "[('set', 'NN')]\n",
      "[('story', 'NN')]\n",
      "[('hand', 'NN')]\n",
      "[('photos', 'NN')]\n",
      "[('home', 'NN')]\n",
      "[('bed', 'NN')]\n",
      "[('a', 'DT'), ('gurney', 'NN')]\n",
      "[('an', 'DT'), ('ambulance', 'NN')]\n",
      "[('a', 'DT'), ('hospital', 'NN')]\n",
      "[('room', 'NN')]\n",
      "[('bed', 'NN')]\n",
      "[('pain', 'NN')]\n",
      "[('point', 'NN')]\n",
      "[('kidney', 'NN')]\n",
      "[('cancer', 'NN')]\n",
      "[('a', 'DT'), ('kidney', 'NN')]\n",
      "[('stone', 'NN')]\n",
      "[('a', 'DT'), ('lump', 'NN')]\n",
      "[('arm', 'NN')]\n",
      "[('the', 'DT'), ('return', 'NN')]\n",
      "[('breast', 'NN')]\n",
      "[('cancer', 'NN')]\n",
      "[('a', 'DT'), ('cyst.One', 'NN')]\n",
      "[('day', 'NN')]\n",
      "[('personal', 'JJ'), ('stylist', 'NN')]\n",
      "[('fashion', 'NN')]\n",
      "[('consultant', 'NN')]\n",
      "[('makeup', 'NN')]\n",
      "[('artist.We', 'NN')]\n",
      "[('this', 'DT'), ('story', 'NN')]\n",
      "[('this', 'DT'), ('woman', 'NN')]\n",
      "[('this', 'DT'), ('woman', 'NN')]\n",
      "[('the', 'DT'), ('tip', 'NN')]\n",
      "[('poet', 'NN')]\n",
      "[('point', 'NN')]\n",
      "[('the', 'DT'), ('summer', 'NN')]\n",
      "[('a', 'DT'), ('petition', 'NN')]\n",
      "[('cancer', 'NN')]\n",
      "[('relief', 'NN')]\n",
      "[('bill', 'NN')]\n",
      "[('resident', 'NN')]\n",
      "[('that', 'DT'), ('push', 'NN')]\n",
      "[('sporadic.Since', 'NN')]\n",
      "[('tabs', 'NN')]\n",
      "[('posts.She', 'NN')]\n",
      "[('the', 'DT'), ('keynote', 'NN')]\n",
      "[('speaker', 'NN')]\n",
      "[('turquoise', 'NN')]\n",
      "[('cruise', 'NN')]\n",
      "[('own', 'JJ'), ('account', 'NN')]\n",
      "[('dental', 'JJ'), ('work', 'NN')]\n",
      "[('charge', 'NN')]\n",
      "[('first', 'JJ'), ('class', 'NN')]\n",
      "[('a', 'DT'), ('posh', 'NN')]\n",
      "[('resort', 'NN')]\n",
      "[('swag', 'NN')]\n",
      "[('headquarters', 'NN')]\n",
      "[('poet', 'NN')]\n",
      "[('author', 'NN')]\n",
      "[('the', 'DT'), ('stage', 'NN')]\n",
      "[('the', 'DT'), ('summit', 'NN')]\n",
      "[('share', 'NN')]\n",
      "[('powerful', 'JJ'), ('piece', 'NN')]\n",
      "[('honor.I', 'NN')]\n",
      "[('story', 'NN')]\n",
      "[('website', 'NN')]\n",
      "[('shero', 'NN')]\n",
      "[('a', 'DT'), ('woman', 'NN')]\n",
      "[('this', 'DT'), ('story', 'NN')]\n",
      "[('this', 'DT'), ('woman', 'NN')]\n",
      "[('this', 'DT'), ('woman', 'NN')]\n",
      "[('the', 'DT'), ('tip', 'NN')]\n",
      "[('the', 'DT'), ('heat', 'NN')]\n",
      "[('late', 'JJ'), ('last', 'JJ'), ('spring', 'NN')]\n",
      "[('a', 'DT'), ('day', 'NN')]\n",
      "[('the', 'DT'), ('up', 'NN')]\n",
      "[('a', 'DT'), ('day', 'NN')]\n",
      "[('praise', 'NN')]\n",
      "[('the', 'DT'), ('same', 'JJ'), ('church', 'NN')]\n",
      "[('breast', 'NN')]\n",
      "[('cancer', 'NN')]\n",
      "[('cousin', 'NN')]\n",
      "[('own', 'JJ'), ('diagnosis', 'NN')]\n",
      "[('cancer', 'NN')]\n",
      "[('time', 'NN')]\n",
      "[('something', 'NN')]\n",
      "[('phone', 'NN')]\n",
      "[('workout', 'NN')]\n",
      "[('hair', 'NN')]\n",
      "[('the', 'DT'), ('first', 'JJ'), ('chemo', 'NN')]\n",
      "[('treatment', 'NN')]\n",
      "[('head', 'NN')]\n",
      "[('a', 'DT'), ('chemo', 'NN')]\n",
      "[('treatment', 'NN')]\n",
      "[('white', 'JJ'), ('blood', 'NN')]\n",
      "[('cell', 'NN')]\n",
      "[('count', 'NN')]\n",
      "[('The', 'DT'), ('same', 'JJ'), ('thing', 'NN')]\n",
      "[('a', 'DT'), ('workup', 'NN')]\n",
      "[('a', 'DT'), ('spot', 'NN')]\n",
      "[('liver', 'NN')]\n",
      "[('an', 'DT'), ('unusual', 'JJ'), ('request', 'NN')]\n",
      "[('chemo', 'NN')]\n",
      "[('port', 'NN')]\n",
      "[('lifeline', 'NN')]\n",
      "[('The', 'DT'), ('next', 'JJ'), ('thing', 'NN')]\n",
      "[('an', 'DT'), ('original', 'JJ'), ('thought', 'NN')]\n",
      "[('story', 'NN')]\n",
      "[('someone', 'NN')]\n",
      "[('own', 'JJ'), ('selfish', 'JJ'), ('gain', 'NN')]\n",
      "[('a', 'DT'), ('sin', 'NN')]\n",
      "[('a', 'DT'), ('shame', 'NN')]\n",
      "[('a', 'DT'), ('longtime', 'JJ'), ('acquaintance', 'NN')]\n",
      "[('long-lost', 'JJ'), ('love', 'NN')]\n",
      "[('long-lost', 'JJ'), ('love', 'NN')]\n",
      "[('third', 'JJ'), ('husband', 'NN')]\n",
      "[('long-lost', 'NN')]\n",
      "[('love', 'NN')]\n",
      "[('story', 'NN')]\n",
      "[('treatment', 'NN')]\n",
      "[('the', 'DT'), ('kitchen', 'NN')]\n",
      "[('bed', 'NN')]\n",
      "[('cross-country', 'NN')]\n",
      "[('car', 'NN')]\n",
      "[('the', 'DT'), ('midst', 'NN')]\n",
      "[('treatment', 'NN')]\n",
      "[('a', 'DT'), ('year', 'NN')]\n",
      "[('answering.Paulette', 'NN')]\n",
      "[('herself', 'NN')]\n",
      "[('emergency', 'NN')]\n",
      "[('every', 'DT'), ('week', 'NN')]\n",
      "[('deathly', 'JJ'), ('ill.', 'NN')]\n",
      "[('treatment', 'NN')]\n",
      "[('no', 'DT'), ('sense', 'NN')]\n",
      "[('pain', 'NN')]\n",
      "[('a', 'DT'), ('fellow', 'JJ'), ('survivor', 'NN')]\n",
      "[('share', 'NN')]\n",
      "[('another', 'DT'), ('sister', 'NN')]\n",
      "[('brother', 'NN')]\n",
      "[('the', 'DT'), ('process', 'NN')]\n",
      "[('story', 'NN')]\n",
      "[('someone', 'NN')]\n",
      "[('own', 'JJ'), ('selfish', 'JJ'), ('gain', 'NN')]\n",
      "[('a', 'DT'), ('sin', 'NN')]\n",
      "[('a', 'DT'), ('shame', 'NN')]\n",
      "[('the', 'DT'), ('core', 'NN')]\n",
      "[('real', 'JJ'), ('Paulette', 'NN')]\n",
      "[('own', 'JJ'), ('story', 'NN')]\n",
      "[('message', 'NN')]\n",
      "[('clear.The', 'JJ'), ('devil', 'NN')]\n",
      "[('backI', 'NN')]\n",
      "[('a', 'DT'), ('psychologist', 'NN')]\n",
      "[('blog', 'NN')]\n",
      "[('post', 'NN')]\n",
      "[('psychology', 'NN')]\n",
      "[('hero', 'NN')]\n",
      "[('worship', 'NN')]\n",
      "[('everyone', 'NN')]\n",
      "[('access', 'NN')]\n",
      "[('fame', 'NN')]\n",
      "[('the', 'DT'), ('ante', 'NN')]\n",
      "[('the', 'DT'), ('storytelling', 'NN')]\n",
      "[('the', 'DT'), ('case', 'NN')]\n",
      "[('ante', 'NN')]\n",
      "[('own', 'JJ'), ('detriment.On', 'NN')]\n",
      "[('bill', 'NN')]\n",
      "[('medical', 'JJ'), ('research', 'NN')]\n",
      "[('cancer', 'NN')]\n",
      "[('other', 'JJ'), ('diseases.Paulette', 'NN')]\n",
      "[('the', 'DT'), ('good', 'JJ'), ('news', 'NN')]\n",
      "[('phone', 'NN')]\n",
      "[('a', 'DT'), ('cure', 'NN')]\n",
      "[('that', 'DT'), ('walk', 'NN')]\n",
      "[('attention', 'NN')]\n",
      "[('an', 'DT'), ('entourage', 'NN')]\n",
      "[('a', 'DT'), ('woman', 'NN')]\n",
      "[('manager', 'NN')]\n",
      "[('the', 'DT'), ('very', 'JJ'), ('end', 'NN')]\n",
      "[('meeting', 'NN')]\n",
      "[('office', 'NN')]\n",
      "[('side', 'NN')]\n",
      "[('a', 'DT'), ('cure', 'NN')]\n",
      "[('cancer', 'NN')]\n",
      "[('affordable', 'JJ'), ('health', 'NN')]\n",
      "[('care', 'NN')]\n",
      "[('the', 'DT'), ('legislative', 'JJ'), ('system', 'NN')]\n",
      "[('place.She', 'NN')]\n",
      "[('insurance', 'NN')]\n",
      "[('a', 'DT'), ('business', 'NN')]\n",
      "[('owner', 'NN')]\n",
      "[('homeless', 'NN')]\n",
      "[('food', 'NN')]\n",
      "[('a', 'DT'), ('month', 'NN')]\n",
      "[('blood', 'NN')]\n",
      "[('disorder', 'NN')]\n",
      "[('addition', 'NN')]\n",
      "[('a', 'DT'), ('month', 'NN')]\n",
      "[('cancer', 'NN')]\n",
      "[('the', 'DT'), ('choir', 'NN')]\n",
      "[('an', 'DT'), ('aide', 'NN')]\n",
      "[('This', 'DT'), ('congressman', 'NN')]\n",
      "[('the', 'DT'), ('system', 'NN')]\n",
      "[('a', 'DT'), ('certain', 'JJ'), ('number', 'NN')]\n",
      "[('own', 'JJ'), ('district', 'NN')]\n",
      "[('effect', 'NN')]\n",
      "[('change.Paulette', 'NN')]\n",
      "[('human', 'JJ'), ('life', 'NN')]\n",
      "[('This', 'DT'), ('story', 'NN')]\n",
      "[('need', 'NN')]\n",
      "[('no', 'DT'), ('way', 'NN')]\n",
      "[('a', 'DT'), ('difference', 'NN')]\n",
      "[('the', 'DT'), ('conversation', 'NN')]\n",
      "[('cancer', 'NN')]\n",
      "[('this', 'DT'), ('country', 'NN')]\n",
      "[('transparent', 'JJ'), ('way', 'NN')]\n",
      "[('questionable.The', 'JJ'), ('day', 'NN')]\n",
      "[('a', 'DT'), ('new', 'JJ'), ('photo', 'NN')]\n",
      "[('a', 'DT'), ('hospital', 'NN')]\n",
      "[('bed', 'NN')]\n",
      "[('pain', 'NN')]\n",
      "[('a', 'DT'), ('new', 'JJ'), ('mass', 'NN')]\n",
      "[('this', 'DT'), ('time', 'NN')]\n",
      "[('right', 'JJ'), ('ovary', 'NN')]\n",
      "[('stomach', 'NN')]\n",
      "[('the', 'DT'), ('hundreds.Then', 'NN')]\n",
      "[('an', 'DT'), ('old', 'JJ'), ('post', 'NN')]\n",
      "[('the', 'DT'), ('post', 'NN')]\n",
      "[('mother', 'NN')]\n",
      "[('fear', 'NN')]\n",
      "[('breast', 'NN')]\n",
      "[('cancer', 'NN')]\n",
      "[('a', 'DT'), ('vaginal', 'JJ'), ('ultrasound', 'NN')]\n",
      "[('the', 'DT'), ('victory', 'NN')]\n",
      "[('sign', 'NN')]\n",
      "[('machine', 'NN')]\n",
      "[('the', 'DT'), ('doctor', 'NN')]\n",
      "[('no', 'DT'), ('cancer', 'NN')]\n",
      "[('this', 'DT'), ('story', 'NN')]\n",
      "[('a', 'DT'), ('chance', 'NN')]\n",
      "[('reporting', 'NN')]\n",
      "[('everything', 'NN')]\n",
      "[('career', 'NN')]\n",
      "[('court', 'NN')]\n",
      "[('cancer', 'NN')]\n",
      "[('treatment', 'NN')]\n",
      "[('no', 'DT'), ('reply', 'NN')]\n",
      "[('editor', 'NN')]\n",
      "[('message', 'NN')]\n",
      "[('me.Soon', 'NN')]\n",
      "[('first', 'JJ'), ('email', 'NN')]\n",
      "[('brand', 'NN')]\n",
      "[('new', 'JJ'), ('house', 'NN')]\n",
      "[('a', 'DT'), ('photograph', 'NN')]\n",
      "[('the', 'DT'), ('home', 'NN')]\n",
      "[('the', 'DT'), ('devil', 'NN')]\n",
      "[('back', 'NN')]\n",
      "[('this', 'DT'), ('story', 'NN')]\n",
      "[('multiple', 'JJ'), ('suicide', 'NN')]\n",
      "[('a', 'DT'), ('nervous', 'JJ'), ('breakdown', 'NN')]\n",
      "[('dissociative', 'JJ'), ('identity', 'NN')]\n",
      "[('disorder', 'NN')]\n",
      "[('multiple', 'JJ'), ('personality', 'NN')]\n",
      "[('disorder', 'NN')]\n",
      "[('therapy', 'NN')]\n",
      "[('integrate', 'NN')]\n",
      "[('the', 'DT'), ('movie', 'NN')]\n",
      "[('life', 'NN')]\n",
      "[('lemonade', 'NN')]\n",
      "[('the', 'DT'), ('color', 'NN')]\n",
      "[('campaign', 'NN')]\n",
      "[('the', 'DT'), ('new', 'JJ'), ('pink', 'NN')]\n",
      "[('the', 'DT'), ('embodiment', 'NN')]\n",
      "[('cancer', 'NN')]\n",
      "[('a', 'DT'), ('hit', 'NN')]\n",
      "[('attention', 'NN')]\n",
      "[('organization.I', 'NN')]\n",
      "[('the', 'DT'), ('full', 'JJ'), ('truth', 'NN')]\n",
      "[('the', 'DT'), ('color', 'NN')]\n",
      "[('pink', 'NN')]\n",
      "[('the', 'DT'), ('murkiest', 'NN')]\n"
     ]
    }
   ],
   "source": [
    "nounphrases = []\n",
    "grammar = \"NP: {<DT>?<JJ>*<NN>}\" #running regular expressions on part of speech to obtain noun phrase constituents from the text\n",
    "for sent in tagged_sentences:\n",
    "    cp = nltk.RegexpParser(grammar)\n",
    "    result = cp.parse(sent)\n",
    "    for sent in result.subtrees():\n",
    "            if sent.label() == \"NP\":\n",
    "                nounphrases.append(str(sent.leaves()))\n",
    "for i in nounphrases:\n",
    "    print (i)"
   ]
  },
  {
   "cell_type": "markdown",
   "metadata": {
    "collapsed": true
   },
   "source": [
    "# Sentiment_Analysis"
   ]
  },
  {
   "cell_type": "code",
   "execution_count": 3,
   "metadata": {},
   "outputs": [
    {
     "name": "stdout",
     "output_type": "stream",
     "text": [
      "[nltk_data] Downloading package vader_lexicon to\n",
      "[nltk_data]     /home/harish/nltk_data...\n"
     ]
    },
    {
     "data": {
      "text/plain": [
       "True"
      ]
     },
     "execution_count": 3,
     "metadata": {},
     "output_type": "execute_result"
    }
   ],
   "source": [
    "nltk.download(\"vader_lexicon\")"
   ]
  },
  {
   "cell_type": "code",
   "execution_count": 217,
   "metadata": {
    "collapsed": true
   },
   "outputs": [],
   "source": [
    "from nltk.sentiment.vader import SentimentIntensityAnalyzer\n",
    "from nltk.stem import WordNetLemmatizer # imports WordNetLemmatizer\n",
    "from nltk.corpus import wordnet as wn # imports Wordnet corpus\n",
    "from nltk.corpus import sentiwordnet as swn # imports SentiWordNet"
   ]
  },
  {
   "cell_type": "code",
   "execution_count": 215,
   "metadata": {},
   "outputs": [
    {
     "data": {
      "text/plain": [
       "'(CNN) Behind the double-mastectomy scars that run across her bare chest, she had a story to tell.So late last April, Paulette Leaphart embarked on a 1,000-mile walk from her childhood hometown of Biloxi, Mississippi, to the halls of Congress in Washington.And she did it topless.The breast cancer survivor screamed for a cure and demanded better and more affordable health care.'"
      ]
     },
     "metadata": {},
     "output_type": "display_data"
    },
    {
     "data": {
      "text/plain": [
       "'compound: 0.0679, '"
      ]
     },
     "metadata": {},
     "output_type": "display_data"
    },
    {
     "data": {
      "text/plain": [
       "'neg: 0.126, '"
      ]
     },
     "metadata": {},
     "output_type": "display_data"
    },
    {
     "data": {
      "text/plain": [
       "'neu: 0.745, '"
      ]
     },
     "metadata": {},
     "output_type": "display_data"
    },
    {
     "data": {
      "text/plain": [
       "'pos: 0.129, '"
      ]
     },
     "metadata": {},
     "output_type": "display_data"
    },
    {
     "data": {
      "text/plain": [
       "'She wanted women without breasts to believe in their beauty and be proud of their strength.'"
      ]
     },
     "metadata": {},
     "output_type": "display_data"
    },
    {
     "data": {
      "text/plain": [
       "'compound: 0.8779, '"
      ]
     },
     "metadata": {},
     "output_type": "display_data"
    },
    {
     "data": {
      "text/plain": [
       "'neg: 0.0, '"
      ]
     },
     "metadata": {},
     "output_type": "display_data"
    },
    {
     "data": {
      "text/plain": [
       "'neu: 0.563, '"
      ]
     },
     "metadata": {},
     "output_type": "display_data"
    },
    {
     "data": {
      "text/plain": [
       "'pos: 0.437, '"
      ]
     },
     "metadata": {},
     "output_type": "display_data"
    },
    {
     "data": {
      "text/plain": [
       "'By showcasing and embracing her scars, she hoped to inspire others to do the same.Her journey was bold, visual, moving.'"
      ]
     },
     "metadata": {},
     "output_type": "display_data"
    },
    {
     "data": {
      "text/plain": [
       "'compound: 0.836, '"
      ]
     },
     "metadata": {},
     "output_type": "display_data"
    },
    {
     "data": {
      "text/plain": [
       "'neg: 0.0, '"
      ]
     },
     "metadata": {},
     "output_type": "display_data"
    },
    {
     "data": {
      "text/plain": [
       "'neu: 0.656, '"
      ]
     },
     "metadata": {},
     "output_type": "display_data"
    },
    {
     "data": {
      "text/plain": [
       "'pos: 0.344, '"
      ]
     },
     "metadata": {},
     "output_type": "display_data"
    },
    {
     "data": {
      "text/plain": [
       "\"It offered a hero to admire and, given Paulette's audacious decision to walk shirtless in the face of strangers, a rich spectacle to witness.\""
      ]
     },
     "metadata": {},
     "output_type": "display_data"
    },
    {
     "data": {
      "text/plain": [
       "'compound: 0.9042, '"
      ]
     },
     "metadata": {},
     "output_type": "display_data"
    },
    {
     "data": {
      "text/plain": [
       "'neg: 0.0, '"
      ]
     },
     "metadata": {},
     "output_type": "display_data"
    },
    {
     "data": {
      "text/plain": [
       "'neu: 0.596, '"
      ]
     },
     "metadata": {},
     "output_type": "display_data"
    },
    {
     "data": {
      "text/plain": [
       "'pos: 0.404, '"
      ]
     },
     "metadata": {},
     "output_type": "display_data"
    },
    {
     "data": {
      "text/plain": [
       "'It spoke to African-American women, who face the highest breast cancer mortality rate.'"
      ]
     },
     "metadata": {},
     "output_type": "display_data"
    },
    {
     "data": {
      "text/plain": [
       "'compound: -0.6597, '"
      ]
     },
     "metadata": {},
     "output_type": "display_data"
    },
    {
     "data": {
      "text/plain": [
       "'neg: 0.268, '"
      ]
     },
     "metadata": {},
     "output_type": "display_data"
    },
    {
     "data": {
      "text/plain": [
       "'neu: 0.732, '"
      ]
     },
     "metadata": {},
     "output_type": "display_data"
    },
    {
     "data": {
      "text/plain": [
       "'pos: 0.0, '"
      ]
     },
     "metadata": {},
     "output_type": "display_data"
    },
    {
     "data": {
      "text/plain": [
       "'It inspired legions of survivors.'"
      ]
     },
     "metadata": {},
     "output_type": "display_data"
    },
    {
     "data": {
      "text/plain": [
       "'compound: 0.4939, '"
      ]
     },
     "metadata": {},
     "output_type": "display_data"
    },
    {
     "data": {
      "text/plain": [
       "'neg: 0.0, '"
      ]
     },
     "metadata": {},
     "output_type": "display_data"
    },
    {
     "data": {
      "text/plain": [
       "'neu: 0.556, '"
      ]
     },
     "metadata": {},
     "output_type": "display_data"
    },
    {
     "data": {
      "text/plain": [
       "'pos: 0.444, '"
      ]
     },
     "metadata": {},
     "output_type": "display_data"
    },
    {
     "data": {
      "text/plain": [
       "\"And it spoke to many who'd lost someone to the disease.It seemed a storyteller's dream.\""
      ]
     },
     "metadata": {},
     "output_type": "display_data"
    },
    {
     "data": {
      "text/plain": [
       "'compound: -0.0772, '"
      ]
     },
     "metadata": {},
     "output_type": "display_data"
    },
    {
     "data": {
      "text/plain": [
       "'neg: 0.141, '"
      ]
     },
     "metadata": {},
     "output_type": "display_data"
    },
    {
     "data": {
      "text/plain": [
       "'neu: 0.736, '"
      ]
     },
     "metadata": {},
     "output_type": "display_data"
    },
    {
     "data": {
      "text/plain": [
       "'pos: 0.123, '"
      ]
     },
     "metadata": {},
     "output_type": "display_data"
    },
    {
     "data": {
      "text/plain": [
       "\"But reality would eventually intrude.Documentary filmmakers were first to seize on Paulette's potential -- after she approached a producer who was out on a shoot, lifted up her shirt and said her story needed to be told.\""
      ]
     },
     "metadata": {},
     "output_type": "display_data"
    },
    {
     "data": {
      "text/plain": [
       "'compound: -0.34, '"
      ]
     },
     "metadata": {},
     "output_type": "display_data"
    },
    {
     "data": {
      "text/plain": [
       "'neg: 0.066, '"
      ]
     },
     "metadata": {},
     "output_type": "display_data"
    },
    {
     "data": {
      "text/plain": [
       "'neu: 0.934, '"
      ]
     },
     "metadata": {},
     "output_type": "display_data"
    },
    {
     "data": {
      "text/plain": [
       "'pos: 0.0, '"
      ]
     },
     "metadata": {},
     "output_type": "display_data"
    },
    {
     "data": {
      "text/plain": [
       "'A stunning trailer for \"Scar Story,\" in which the film crew would follow her entire walk, was released in late October 2015.A Kickstarter campaign to help fund the film went up weeks before the walk began, attracting enthusiastic donors.'"
      ]
     },
     "metadata": {},
     "output_type": "display_data"
    },
    {
     "data": {
      "text/plain": [
       "'compound: 0.891, '"
      ]
     },
     "metadata": {},
     "output_type": "display_data"
    },
    {
     "data": {
      "text/plain": [
       "'neg: 0.0, '"
      ]
     },
     "metadata": {},
     "output_type": "display_data"
    },
    {
     "data": {
      "text/plain": [
       "'neu: 0.746, '"
      ]
     },
     "metadata": {},
     "output_type": "display_data"
    },
    {
     "data": {
      "text/plain": [
       "'pos: 0.254, '"
      ]
     },
     "metadata": {},
     "output_type": "display_data"
    },
    {
     "data": {
      "text/plain": [
       "'Journalists flocked to Paulette, eager to tell her story.'"
      ]
     },
     "metadata": {},
     "output_type": "display_data"
    },
    {
     "data": {
      "text/plain": [
       "'compound: 0.3612, '"
      ]
     },
     "metadata": {},
     "output_type": "display_data"
    },
    {
     "data": {
      "text/plain": [
       "'neg: 0.0, '"
      ]
     },
     "metadata": {},
     "output_type": "display_data"
    },
    {
     "data": {
      "text/plain": [
       "'neu: 0.762, '"
      ]
     },
     "metadata": {},
     "output_type": "display_data"
    },
    {
     "data": {
      "text/plain": [
       "'pos: 0.238, '"
      ]
     },
     "metadata": {},
     "output_type": "display_data"
    },
    {
     "data": {
      "text/plain": [
       "'Even megastar Beyoncé took notice and featured Paulette in \"Lemonade.'"
      ]
     },
     "metadata": {},
     "output_type": "display_data"
    },
    {
     "data": {
      "text/plain": [
       "'compound: 0.0, '"
      ]
     },
     "metadata": {},
     "output_type": "display_data"
    },
    {
     "data": {
      "text/plain": [
       "'neg: 0.0, '"
      ]
     },
     "metadata": {},
     "output_type": "display_data"
    },
    {
     "data": {
      "text/plain": [
       "'neu: 1.0, '"
      ]
     },
     "metadata": {},
     "output_type": "display_data"
    },
    {
     "data": {
      "text/plain": [
       "'pos: 0.0, '"
      ]
     },
     "metadata": {},
     "output_type": "display_data"
    },
    {
     "data": {
      "text/plain": [
       "'\"I saw the trailer on Facebook and, like so many others, was hooked.'"
      ]
     },
     "metadata": {},
     "output_type": "display_data"
    },
    {
     "data": {
      "text/plain": [
       "'compound: 0.3612, '"
      ]
     },
     "metadata": {},
     "output_type": "display_data"
    },
    {
     "data": {
      "text/plain": [
       "'neg: 0.0, '"
      ]
     },
     "metadata": {},
     "output_type": "display_data"
    },
    {
     "data": {
      "text/plain": [
       "'neu: 0.828, '"
      ]
     },
     "metadata": {},
     "output_type": "display_data"
    },
    {
     "data": {
      "text/plain": [
       "'pos: 0.172, '"
      ]
     },
     "metadata": {},
     "output_type": "display_data"
    },
    {
     "data": {
      "text/plain": [
       "'In a world hungry for heroes, whose stories of inspiration bring us light amid darkness, Paulette seemed to feed that craving.'"
      ]
     },
     "metadata": {},
     "output_type": "display_data"
    },
    {
     "data": {
      "text/plain": [
       "'compound: 0.6908, '"
      ]
     },
     "metadata": {},
     "output_type": "display_data"
    },
    {
     "data": {
      "text/plain": [
       "'neg: 0.078, '"
      ]
     },
     "metadata": {},
     "output_type": "display_data"
    },
    {
     "data": {
      "text/plain": [
       "'neu: 0.661, '"
      ]
     },
     "metadata": {},
     "output_type": "display_data"
    },
    {
     "data": {
      "text/plain": [
       "'pos: 0.261, '"
      ]
     },
     "metadata": {},
     "output_type": "display_data"
    },
    {
     "data": {
      "text/plain": [
       "\"After making a few calls and learning she was walking with her 8-year-old daughter, no less, I hopped in my car, picked up my amateur photographer stepson, and headed to North Carolina to walk with her.Some stories land on a journalist's plate like manna from heaven.\""
      ]
     },
     "metadata": {},
     "output_type": "display_data"
    },
    {
     "data": {
      "text/plain": [
       "'compound: 0.5574, '"
      ]
     },
     "metadata": {},
     "output_type": "display_data"
    },
    {
     "data": {
      "text/plain": [
       "'neg: 0.046, '"
      ]
     },
     "metadata": {},
     "output_type": "display_data"
    },
    {
     "data": {
      "text/plain": [
       "'neu: 0.833, '"
      ]
     },
     "metadata": {},
     "output_type": "display_data"
    },
    {
     "data": {
      "text/plain": [
       "'pos: 0.121, '"
      ]
     },
     "metadata": {},
     "output_type": "display_data"
    },
    {
     "data": {
      "text/plain": [
       "\"They're perfect morsels you can't wait to share.\""
      ]
     },
     "metadata": {},
     "output_type": "display_data"
    },
    {
     "data": {
      "text/plain": [
       "'compound: 0.4238, '"
      ]
     },
     "metadata": {},
     "output_type": "display_data"
    },
    {
     "data": {
      "text/plain": [
       "'neg: 0.163, '"
      ]
     },
     "metadata": {},
     "output_type": "display_data"
    },
    {
     "data": {
      "text/plain": [
       "'neu: 0.518, '"
      ]
     },
     "metadata": {},
     "output_type": "display_data"
    },
    {
     "data": {
      "text/plain": [
       "'pos: 0.319, '"
      ]
     },
     "metadata": {},
     "output_type": "display_data"
    },
    {
     "data": {
      "text/plain": [
       "'Others arrive a mess of ingredients with no recipe to follow.'"
      ]
     },
     "metadata": {},
     "output_type": "display_data"
    },
    {
     "data": {
      "text/plain": [
       "'compound: -0.5719, '"
      ]
     },
     "metadata": {},
     "output_type": "display_data"
    },
    {
     "data": {
      "text/plain": [
       "'neg: 0.37, '"
      ]
     },
     "metadata": {},
     "output_type": "display_data"
    },
    {
     "data": {
      "text/plain": [
       "'neu: 0.63, '"
      ]
     },
     "metadata": {},
     "output_type": "display_data"
    },
    {
     "data": {
      "text/plain": [
       "'pos: 0.0, '"
      ]
     },
     "metadata": {},
     "output_type": "display_data"
    },
    {
     "data": {
      "text/plain": [
       "'This one started the first way and finished the other.After walking with Paulette for a full day, I left with more questions than answers.'"
      ]
     },
     "metadata": {},
     "output_type": "display_data"
    },
    {
     "data": {
      "text/plain": [
       "'compound: 0.0, '"
      ]
     },
     "metadata": {},
     "output_type": "display_data"
    },
    {
     "data": {
      "text/plain": [
       "'neg: 0.0, '"
      ]
     },
     "metadata": {},
     "output_type": "display_data"
    },
    {
     "data": {
      "text/plain": [
       "'neu: 1.0, '"
      ]
     },
     "metadata": {},
     "output_type": "display_data"
    },
    {
     "data": {
      "text/plain": [
       "'pos: 0.0, '"
      ]
     },
     "metadata": {},
     "output_type": "display_data"
    },
    {
     "data": {
      "text/plain": [
       "\"No matter how much I hated to admit it, aspects of her story simply didn't add up.\""
      ]
     },
     "metadata": {},
     "output_type": "display_data"
    },
    {
     "data": {
      "text/plain": [
       "'compound: -0.6705, '"
      ]
     },
     "metadata": {},
     "output_type": "display_data"
    },
    {
     "data": {
      "text/plain": [
       "'neg: 0.3, '"
      ]
     },
     "metadata": {},
     "output_type": "display_data"
    },
    {
     "data": {
      "text/plain": [
       "'neu: 0.563, '"
      ]
     },
     "metadata": {},
     "output_type": "display_data"
    },
    {
     "data": {
      "text/plain": [
       "'pos: 0.136, '"
      ]
     },
     "metadata": {},
     "output_type": "display_data"
    },
    {
     "data": {
      "text/plain": [
       "'And the more I kept digging, the more inconsistencies I found: about her past and her cancer treatment, about how much she was actually walking, even about her motivations.Part of me wanted to walk away -- from Paulette and the story.'"
      ]
     },
     "metadata": {},
     "output_type": "display_data"
    },
    {
     "data": {
      "text/plain": [
       "'compound: -0.6597, '"
      ]
     },
     "metadata": {},
     "output_type": "display_data"
    },
    {
     "data": {
      "text/plain": [
       "'neg: 0.104, '"
      ]
     },
     "metadata": {},
     "output_type": "display_data"
    },
    {
     "data": {
      "text/plain": [
       "'neu: 0.896, '"
      ]
     },
     "metadata": {},
     "output_type": "display_data"
    },
    {
     "data": {
      "text/plain": [
       "'pos: 0.0, '"
      ]
     },
     "metadata": {},
     "output_type": "display_data"
    },
    {
     "data": {
      "text/plain": [
       "\"If even one woman's life was saved thanks to a conversation Paulette started, wasn't that enough?\""
      ]
     },
     "metadata": {},
     "output_type": "display_data"
    },
    {
     "data": {
      "text/plain": [
       "'compound: 0.6908, '"
      ]
     },
     "metadata": {},
     "output_type": "display_data"
    },
    {
     "data": {
      "text/plain": [
       "'neg: 0.0, '"
      ]
     },
     "metadata": {},
     "output_type": "display_data"
    },
    {
     "data": {
      "text/plain": [
       "'neu: 0.695, '"
      ]
     },
     "metadata": {},
     "output_type": "display_data"
    },
    {
     "data": {
      "text/plain": [
       "'pos: 0.305, '"
      ]
     },
     "metadata": {},
     "output_type": "display_data"
    },
    {
     "data": {
      "text/plain": [
       "\"So what if our hero was flawed?But then I thought about the thousands of people following Paulette on Facebook, all the journalists who covered her journey and the online video viewed more than 20 million times.And I realized: This story wasn't just about Paulette.\""
      ]
     },
     "metadata": {},
     "output_type": "display_data"
    },
    {
     "data": {
      "text/plain": [
       "'compound: 0.5574, '"
      ]
     },
     "metadata": {},
     "output_type": "display_data"
    },
    {
     "data": {
      "text/plain": [
       "'neg: 0.0, '"
      ]
     },
     "metadata": {},
     "output_type": "display_data"
    },
    {
     "data": {
      "text/plain": [
       "'neu: 0.919, '"
      ]
     },
     "metadata": {},
     "output_type": "display_data"
    },
    {
     "data": {
      "text/plain": [
       "'pos: 0.081, '"
      ]
     },
     "metadata": {},
     "output_type": "display_data"
    },
    {
     "data": {
      "text/plain": [
       "\"It's about our need to find -- and, for some of us, become -- heroes.\""
      ]
     },
     "metadata": {},
     "output_type": "display_data"
    },
    {
     "data": {
      "text/plain": [
       "'compound: 0.5106, '"
      ]
     },
     "metadata": {},
     "output_type": "display_data"
    },
    {
     "data": {
      "text/plain": [
       "'neg: 0.0, '"
      ]
     },
     "metadata": {},
     "output_type": "display_data"
    },
    {
     "data": {
      "text/plain": [
       "'neu: 0.809, '"
      ]
     },
     "metadata": {},
     "output_type": "display_data"
    },
    {
     "data": {
      "text/plain": [
       "'pos: 0.191, '"
      ]
     },
     "metadata": {},
     "output_type": "display_data"
    },
    {
     "data": {
      "text/plain": [
       "\"It's about the unchecked storytelling and self-promotion that thrives on social media.\""
      ]
     },
     "metadata": {},
     "output_type": "display_data"
    },
    {
     "data": {
      "text/plain": [
       "'compound: 0.0, '"
      ]
     },
     "metadata": {},
     "output_type": "display_data"
    },
    {
     "data": {
      "text/plain": [
       "'neg: 0.0, '"
      ]
     },
     "metadata": {},
     "output_type": "display_data"
    },
    {
     "data": {
      "text/plain": [
       "'neu: 1.0, '"
      ]
     },
     "metadata": {},
     "output_type": "display_data"
    },
    {
     "data": {
      "text/plain": [
       "'pos: 0.0, '"
      ]
     },
     "metadata": {},
     "output_type": "display_data"
    },
    {
     "data": {
      "text/plain": [
       "\"It's about the disappointment we feel when reality jolts us awake from our reverie.In our desperation to believe in people, do we dole out passes too easily?\""
      ]
     },
     "metadata": {},
     "output_type": "display_data"
    },
    {
     "data": {
      "text/plain": [
       "'compound: -0.5994, '"
      ]
     },
     "metadata": {},
     "output_type": "display_data"
    },
    {
     "data": {
      "text/plain": [
       "'neg: 0.193, '"
      ]
     },
     "metadata": {},
     "output_type": "display_data"
    },
    {
     "data": {
      "text/plain": [
       "'neu: 0.734, '"
      ]
     },
     "metadata": {},
     "output_type": "display_data"
    },
    {
     "data": {
      "text/plain": [
       "'pos: 0.073, '"
      ]
     },
     "metadata": {},
     "output_type": "display_data"
    },
    {
     "data": {
      "text/plain": [
       "'Had we, in our collective enchantment with Paulette, all become blind?Shameka Fulston, left, and others join Paulette Leaphart for a community walk in Charlotte.'"
      ]
     },
     "metadata": {},
     "output_type": "display_data"
    },
    {
     "data": {
      "text/plain": [
       "'compound: 0.296, '"
      ]
     },
     "metadata": {},
     "output_type": "display_data"
    },
    {
     "data": {
      "text/plain": [
       "'neg: 0.0, '"
      ]
     },
     "metadata": {},
     "output_type": "display_data"
    },
    {
     "data": {
      "text/plain": [
       "'neu: 0.909, '"
      ]
     },
     "metadata": {},
     "output_type": "display_data"
    },
    {
     "data": {
      "text/plain": [
       "'pos: 0.091, '"
      ]
     },
     "metadata": {},
     "output_type": "display_data"
    },
    {
     "data": {
      "text/plain": [
       "'Fulston planned to rejoin Paulette for the last 100 miles of her walk but left Charlotte feeling disenchanted.A vision from GodI caught up with Paulette at a house outside Charlotte, North Carolina, where she and her daughter were staying.'"
      ]
     },
     "metadata": {},
     "output_type": "display_data"
    },
    {
     "data": {
      "text/plain": [
       "'compound: 0.5023, '"
      ]
     },
     "metadata": {},
     "output_type": "display_data"
    },
    {
     "data": {
      "text/plain": [
       "'neg: 0.0, '"
      ]
     },
     "metadata": {},
     "output_type": "display_data"
    },
    {
     "data": {
      "text/plain": [
       "'neu: 0.894, '"
      ]
     },
     "metadata": {},
     "output_type": "display_data"
    },
    {
     "data": {
      "text/plain": [
       "'pos: 0.106, '"
      ]
     },
     "metadata": {},
     "output_type": "display_data"
    },
    {
     "data": {
      "text/plain": [
       "'The grill was fired up, food filled the counters and the music was pumping.'"
      ]
     },
     "metadata": {},
     "output_type": "display_data"
    },
    {
     "data": {
      "text/plain": [
       "'compound: -0.5574, '"
      ]
     },
     "metadata": {},
     "output_type": "display_data"
    },
    {
     "data": {
      "text/plain": [
       "'neg: 0.217, '"
      ]
     },
     "metadata": {},
     "output_type": "display_data"
    },
    {
     "data": {
      "text/plain": [
       "'neu: 0.783, '"
      ]
     },
     "metadata": {},
     "output_type": "display_data"
    },
    {
     "data": {
      "text/plain": [
       "'pos: 0.0, '"
      ]
     },
     "metadata": {},
     "output_type": "display_data"
    },
    {
     "data": {
      "text/plain": [
       "'Paulette, who wore a T-shirt emblazoned with the words \"Living beautifully,\" greeted me with a hug.'"
      ]
     },
     "metadata": {},
     "output_type": "display_data"
    },
    {
     "data": {
      "text/plain": [
       "'compound: 0.6369, '"
      ]
     },
     "metadata": {},
     "output_type": "display_data"
    },
    {
     "data": {
      "text/plain": [
       "'neg: 0.0, '"
      ]
     },
     "metadata": {},
     "output_type": "display_data"
    },
    {
     "data": {
      "text/plain": [
       "'neu: 0.698, '"
      ]
     },
     "metadata": {},
     "output_type": "display_data"
    },
    {
     "data": {
      "text/plain": [
       "'pos: 0.302, '"
      ]
     },
     "metadata": {},
     "output_type": "display_data"
    },
    {
     "data": {
      "text/plain": [
       "'\"The walk has given me back everything the devil stole from me,\" she told those in the room, as they gathered to pray for her journey.The hostess said she opened her home because she\\'d lost her own sister to breast cancer.'"
      ]
     },
     "metadata": {},
     "output_type": "display_data"
    },
    {
     "data": {
      "text/plain": [
       "'compound: -0.8689, '"
      ]
     },
     "metadata": {},
     "output_type": "display_data"
    },
    {
     "data": {
      "text/plain": [
       "'neg: 0.22, '"
      ]
     },
     "metadata": {},
     "output_type": "display_data"
    },
    {
     "data": {
      "text/plain": [
       "'neu: 0.734, '"
      ]
     },
     "metadata": {},
     "output_type": "display_data"
    },
    {
     "data": {
      "text/plain": [
       "'pos: 0.046, '"
      ]
     },
     "metadata": {},
     "output_type": "display_data"
    },
    {
     "data": {
      "text/plain": [
       "'As her tears fell, she told Paulette, \"That\\'s why I wanted to take care of you.'"
      ]
     },
     "metadata": {},
     "output_type": "display_data"
    },
    {
     "data": {
      "text/plain": [
       "'compound: 0.3182, '"
      ]
     },
     "metadata": {},
     "output_type": "display_data"
    },
    {
     "data": {
      "text/plain": [
       "'neg: 0.105, '"
      ]
     },
     "metadata": {},
     "output_type": "display_data"
    },
    {
     "data": {
      "text/plain": [
       "'neu: 0.718, '"
      ]
     },
     "metadata": {},
     "output_type": "display_data"
    },
    {
     "data": {
      "text/plain": [
       "'pos: 0.177, '"
      ]
     },
     "metadata": {},
     "output_type": "display_data"
    },
    {
     "data": {
      "text/plain": [
       "'\"Dusk turned to night, and I kept my eye on the time.'"
      ]
     },
     "metadata": {},
     "output_type": "display_data"
    },
    {
     "data": {
      "text/plain": [
       "'compound: 0.0, '"
      ]
     },
     "metadata": {},
     "output_type": "display_data"
    },
    {
     "data": {
      "text/plain": [
       "'neg: 0.0, '"
      ]
     },
     "metadata": {},
     "output_type": "display_data"
    },
    {
     "data": {
      "text/plain": [
       "'neu: 1.0, '"
      ]
     },
     "metadata": {},
     "output_type": "display_data"
    },
    {
     "data": {
      "text/plain": [
       "'pos: 0.0, '"
      ]
     },
     "metadata": {},
     "output_type": "display_data"
    },
    {
     "data": {
      "text/plain": [
       "'When we spoke by phone, Paulette had warned me she woke up at 4:30 each morning and walked 20 to 40 miles each day except weekends, which were for rest.'"
      ]
     },
     "metadata": {},
     "output_type": "display_data"
    },
    {
     "data": {
      "text/plain": [
       "'compound: -0.2732, '"
      ]
     },
     "metadata": {},
     "output_type": "display_data"
    },
    {
     "data": {
      "text/plain": [
       "'neg: 0.068, '"
      ]
     },
     "metadata": {},
     "output_type": "display_data"
    },
    {
     "data": {
      "text/plain": [
       "'neu: 0.932, '"
      ]
     },
     "metadata": {},
     "output_type": "display_data"
    },
    {
     "data": {
      "text/plain": [
       "'pos: 0.0, '"
      ]
     },
     "metadata": {},
     "output_type": "display_data"
    },
    {
     "data": {
      "text/plain": [
       "'She had to cover that sort of ground, she explained, if she wanted to meet her goal of reaching Washington by June 27, her 50th birthday.'"
      ]
     },
     "metadata": {},
     "output_type": "display_data"
    },
    {
     "data": {
      "text/plain": [
       "'compound: 0.2023, '"
      ]
     },
     "metadata": {},
     "output_type": "display_data"
    },
    {
     "data": {
      "text/plain": [
       "'neg: 0.0, '"
      ]
     },
     "metadata": {},
     "output_type": "display_data"
    },
    {
     "data": {
      "text/plain": [
       "'neu: 0.933, '"
      ]
     },
     "metadata": {},
     "output_type": "display_data"
    },
    {
     "data": {
      "text/plain": [
       "'pos: 0.067, '"
      ]
     },
     "metadata": {},
     "output_type": "display_data"
    },
    {
     "data": {
      "text/plain": [
       "\"I'm in decent shape, but walking at least 20 miles on little sleep scared me.\""
      ]
     },
     "metadata": {},
     "output_type": "display_data"
    },
    {
     "data": {
      "text/plain": [
       "'compound: -0.5319, '"
      ]
     },
     "metadata": {},
     "output_type": "display_data"
    },
    {
     "data": {
      "text/plain": [
       "'neg: 0.197, '"
      ]
     },
     "metadata": {},
     "output_type": "display_data"
    },
    {
     "data": {
      "text/plain": [
       "'neu: 0.803, '"
      ]
     },
     "metadata": {},
     "output_type": "display_data"
    },
    {
     "data": {
      "text/plain": [
       "'pos: 0.0, '"
      ]
     },
     "metadata": {},
     "output_type": "display_data"
    },
    {
     "data": {
      "text/plain": [
       "'\"Oh, we\\'re not starting \\'til 9 a.m. tomorrow,\" Paulette finally told me as the night wore on.'"
      ]
     },
     "metadata": {},
     "output_type": "display_data"
    },
    {
     "data": {
      "text/plain": [
       "'compound: 0.0, '"
      ]
     },
     "metadata": {},
     "output_type": "display_data"
    },
    {
     "data": {
      "text/plain": [
       "'neg: 0.0, '"
      ]
     },
     "metadata": {},
     "output_type": "display_data"
    },
    {
     "data": {
      "text/plain": [
       "'neu: 1.0, '"
      ]
     },
     "metadata": {},
     "output_type": "display_data"
    },
    {
     "data": {
      "text/plain": [
       "'pos: 0.0, '"
      ]
     },
     "metadata": {},
     "output_type": "display_data"
    },
    {
     "data": {
      "text/plain": [
       "'A community walk was planned in downtown Charlotte.'"
      ]
     },
     "metadata": {},
     "output_type": "display_data"
    },
    {
     "data": {
      "text/plain": [
       "'compound: 0.0, '"
      ]
     },
     "metadata": {},
     "output_type": "display_data"
    },
    {
     "data": {
      "text/plain": [
       "'neg: 0.0, '"
      ]
     },
     "metadata": {},
     "output_type": "display_data"
    },
    {
     "data": {
      "text/plain": [
       "'neu: 1.0, '"
      ]
     },
     "metadata": {},
     "output_type": "display_data"
    },
    {
     "data": {
      "text/plain": [
       "'pos: 0.0, '"
      ]
     },
     "metadata": {},
     "output_type": "display_data"
    },
    {
     "data": {
      "text/plain": [
       "'I breathed a sigh of relief.The next morning, the crowd was passionate but small -- about three dozen women, men and children.'"
      ]
     },
     "metadata": {},
     "output_type": "display_data"
    },
    {
     "data": {
      "text/plain": [
       "'compound: 0.3071, '"
      ]
     },
     "metadata": {},
     "output_type": "display_data"
    },
    {
     "data": {
      "text/plain": [
       "'neg: 0.0, '"
      ]
     },
     "metadata": {},
     "output_type": "display_data"
    },
    {
     "data": {
      "text/plain": [
       "'neu: 0.847, '"
      ]
     },
     "metadata": {},
     "output_type": "display_data"
    },
    {
     "data": {
      "text/plain": [
       "'pos: 0.153, '"
      ]
     },
     "metadata": {},
     "output_type": "display_data"
    },
    {
     "data": {
      "text/plain": [
       "'Many wore pink , and most had been touched by breast cancer.'"
      ]
     },
     "metadata": {},
     "output_type": "display_data"
    },
    {
     "data": {
      "text/plain": [
       "'compound: -0.6597, '"
      ]
     },
     "metadata": {},
     "output_type": "display_data"
    },
    {
     "data": {
      "text/plain": [
       "'neg: 0.306, '"
      ]
     },
     "metadata": {},
     "output_type": "display_data"
    },
    {
     "data": {
      "text/plain": [
       "'neu: 0.694, '"
      ]
     },
     "metadata": {},
     "output_type": "display_data"
    },
    {
     "data": {
      "text/plain": [
       "'pos: 0.0, '"
      ]
     },
     "metadata": {},
     "output_type": "display_data"
    },
    {
     "data": {
      "text/plain": [
       "'\"Five years in October,\" said one woman.'"
      ]
     },
     "metadata": {},
     "output_type": "display_data"
    },
    {
     "data": {
      "text/plain": [
       "'compound: 0.0, '"
      ]
     },
     "metadata": {},
     "output_type": "display_data"
    },
    {
     "data": {
      "text/plain": [
       "'neg: 0.0, '"
      ]
     },
     "metadata": {},
     "output_type": "display_data"
    },
    {
     "data": {
      "text/plain": [
       "'neu: 1.0, '"
      ]
     },
     "metadata": {},
     "output_type": "display_data"
    },
    {
     "data": {
      "text/plain": [
       "'pos: 0.0, '"
      ]
     },
     "metadata": {},
     "output_type": "display_data"
    },
    {
     "data": {
      "text/plain": [
       "'\"Nine years cancer-free,\" said another, sporting a \"Fight Like a Girl\" T-shirt.'"
      ]
     },
     "metadata": {},
     "output_type": "display_data"
    },
    {
     "data": {
      "text/plain": [
       "'compound: -0.0258, '"
      ]
     },
     "metadata": {},
     "output_type": "display_data"
    },
    {
     "data": {
      "text/plain": [
       "'neg: 0.198, '"
      ]
     },
     "metadata": {},
     "output_type": "display_data"
    },
    {
     "data": {
      "text/plain": [
       "'neu: 0.611, '"
      ]
     },
     "metadata": {},
     "output_type": "display_data"
    },
    {
     "data": {
      "text/plain": [
       "'pos: 0.191, '"
      ]
     },
     "metadata": {},
     "output_type": "display_data"
    },
    {
     "data": {
      "text/plain": [
       "'\"Mom died in 2004,\" said one man, who survived lymphoma himself.A woman who\\'d driven through the night to be here took off her shirt to reveal her own tangled scars.'"
      ]
     },
     "metadata": {},
     "output_type": "display_data"
    },
    {
     "data": {
      "text/plain": [
       "'compound: -0.0772, '"
      ]
     },
     "metadata": {},
     "output_type": "display_data"
    },
    {
     "data": {
      "text/plain": [
       "'neg: 0.103, '"
      ]
     },
     "metadata": {},
     "output_type": "display_data"
    },
    {
     "data": {
      "text/plain": [
       "'neu: 0.802, '"
      ]
     },
     "metadata": {},
     "output_type": "display_data"
    },
    {
     "data": {
      "text/plain": [
       "'pos: 0.095, '"
      ]
     },
     "metadata": {},
     "output_type": "display_data"
    },
    {
     "data": {
      "text/plain": [
       "\"She'd seen Paulette in Atlanta and vowed to walk with her.After photos, videos and prayers, the walkers hit the pavement, weaving their way through downtown.\""
      ]
     },
     "metadata": {},
     "output_type": "display_data"
    },
    {
     "data": {
      "text/plain": [
       "'compound: 0.0, '"
      ]
     },
     "metadata": {},
     "output_type": "display_data"
    },
    {
     "data": {
      "text/plain": [
       "'neg: 0.0, '"
      ]
     },
     "metadata": {},
     "output_type": "display_data"
    },
    {
     "data": {
      "text/plain": [
       "'neu: 1.0, '"
      ]
     },
     "metadata": {},
     "output_type": "display_data"
    },
    {
     "data": {
      "text/plain": [
       "'pos: 0.0, '"
      ]
     },
     "metadata": {},
     "output_type": "display_data"
    },
    {
     "data": {
      "text/plain": [
       "'\"We need a cure!'"
      ]
     },
     "metadata": {},
     "output_type": "display_data"
    },
    {
     "data": {
      "text/plain": [
       "'compound: 0.0, '"
      ]
     },
     "metadata": {},
     "output_type": "display_data"
    },
    {
     "data": {
      "text/plain": [
       "'neg: 0.0, '"
      ]
     },
     "metadata": {},
     "output_type": "display_data"
    },
    {
     "data": {
      "text/plain": [
       "'neu: 1.0, '"
      ]
     },
     "metadata": {},
     "output_type": "display_data"
    },
    {
     "data": {
      "text/plain": [
       "'pos: 0.0, '"
      ]
     },
     "metadata": {},
     "output_type": "display_data"
    },
    {
     "data": {
      "text/plain": [
       "'We need a cure!\"'"
      ]
     },
     "metadata": {},
     "output_type": "display_data"
    },
    {
     "data": {
      "text/plain": [
       "'compound: 0.0, '"
      ]
     },
     "metadata": {},
     "output_type": "display_data"
    },
    {
     "data": {
      "text/plain": [
       "'neg: 0.0, '"
      ]
     },
     "metadata": {},
     "output_type": "display_data"
    },
    {
     "data": {
      "text/plain": [
       "'neu: 1.0, '"
      ]
     },
     "metadata": {},
     "output_type": "display_data"
    },
    {
     "data": {
      "text/plain": [
       "'pos: 0.0, '"
      ]
     },
     "metadata": {},
     "output_type": "display_data"
    },
    {
     "data": {
      "text/plain": [
       "\"they screamed, following Paulette's lead.\""
      ]
     },
     "metadata": {},
     "output_type": "display_data"
    },
    {
     "data": {
      "text/plain": [
       "'compound: -0.3182, '"
      ]
     },
     "metadata": {},
     "output_type": "display_data"
    },
    {
     "data": {
      "text/plain": [
       "'neg: 0.365, '"
      ]
     },
     "metadata": {},
     "output_type": "display_data"
    },
    {
     "data": {
      "text/plain": [
       "'neu: 0.635, '"
      ]
     },
     "metadata": {},
     "output_type": "display_data"
    },
    {
     "data": {
      "text/plain": [
       "'pos: 0.0, '"
      ]
     },
     "metadata": {},
     "output_type": "display_data"
    },
    {
     "data": {
      "text/plain": [
       "'\"Breast cancer sucks!'"
      ]
     },
     "metadata": {},
     "output_type": "display_data"
    },
    {
     "data": {
      "text/plain": [
       "'compound: -0.8016, '"
      ]
     },
     "metadata": {},
     "output_type": "display_data"
    },
    {
     "data": {
      "text/plain": [
       "'neg: 0.878, '"
      ]
     },
     "metadata": {},
     "output_type": "display_data"
    },
    {
     "data": {
      "text/plain": [
       "'neu: 0.122, '"
      ]
     },
     "metadata": {},
     "output_type": "display_data"
    },
    {
     "data": {
      "text/plain": [
       "'pos: 0.0, '"
      ]
     },
     "metadata": {},
     "output_type": "display_data"
    },
    {
     "data": {
      "text/plain": [
       "'Breast cancer sucks!\"'"
      ]
     },
     "metadata": {},
     "output_type": "display_data"
    },
    {
     "data": {
      "text/plain": [
       "'compound: -0.69, '"
      ]
     },
     "metadata": {},
     "output_type": "display_data"
    },
    {
     "data": {
      "text/plain": [
       "'neg: 0.701, '"
      ]
     },
     "metadata": {},
     "output_type": "display_data"
    },
    {
     "data": {
      "text/plain": [
       "'neu: 0.299, '"
      ]
     },
     "metadata": {},
     "output_type": "display_data"
    },
    {
     "data": {
      "text/plain": [
       "'pos: 0.0, '"
      ]
     },
     "metadata": {},
     "output_type": "display_data"
    },
    {
     "data": {
      "text/plain": [
       "'They also sang hymns.'"
      ]
     },
     "metadata": {},
     "output_type": "display_data"
    },
    {
     "data": {
      "text/plain": [
       "'compound: 0.0, '"
      ]
     },
     "metadata": {},
     "output_type": "display_data"
    },
    {
     "data": {
      "text/plain": [
       "'neg: 0.0, '"
      ]
     },
     "metadata": {},
     "output_type": "display_data"
    },
    {
     "data": {
      "text/plain": [
       "'neu: 1.0, '"
      ]
     },
     "metadata": {},
     "output_type": "display_data"
    },
    {
     "data": {
      "text/plain": [
       "'pos: 0.0, '"
      ]
     },
     "metadata": {},
     "output_type": "display_data"
    },
    {
     "data": {
      "text/plain": [
       "'\"We will walk until we defeat this demon!\"'"
      ]
     },
     "metadata": {},
     "output_type": "display_data"
    },
    {
     "data": {
      "text/plain": [
       "'compound: -0.5093, '"
      ]
     },
     "metadata": {},
     "output_type": "display_data"
    },
    {
     "data": {
      "text/plain": [
       "'neg: 0.32, '"
      ]
     },
     "metadata": {},
     "output_type": "display_data"
    },
    {
     "data": {
      "text/plain": [
       "'neu: 0.68, '"
      ]
     },
     "metadata": {},
     "output_type": "display_data"
    },
    {
     "data": {
      "text/plain": [
       "'pos: 0.0, '"
      ]
     },
     "metadata": {},
     "output_type": "display_data"
    },
    {
     "data": {
      "text/plain": [
       "\"Paulette yelled.All the pain I felt from the day I was born had purpose, and I'm living that purpose.\""
      ]
     },
     "metadata": {},
     "output_type": "display_data"
    },
    {
     "data": {
      "text/plain": [
       "'compound: -0.5106, '"
      ]
     },
     "metadata": {},
     "output_type": "display_data"
    },
    {
     "data": {
      "text/plain": [
       "'neg: 0.171, '"
      ]
     },
     "metadata": {},
     "output_type": "display_data"
    },
    {
     "data": {
      "text/plain": [
       "'neu: 0.829, '"
      ]
     },
     "metadata": {},
     "output_type": "display_data"
    },
    {
     "data": {
      "text/plain": [
       "'pos: 0.0, '"
      ]
     },
     "metadata": {},
     "output_type": "display_data"
    },
    {
     "data": {
      "text/plain": [
       "\"God said I'm going to use your chest.\""
      ]
     },
     "metadata": {},
     "output_type": "display_data"
    },
    {
     "data": {
      "text/plain": [
       "'compound: 0.2732, '"
      ]
     },
     "metadata": {},
     "output_type": "display_data"
    },
    {
     "data": {
      "text/plain": [
       "'neg: 0.0, '"
      ]
     },
     "metadata": {},
     "output_type": "display_data"
    },
    {
     "data": {
      "text/plain": [
       "'neu: 0.769, '"
      ]
     },
     "metadata": {},
     "output_type": "display_data"
    },
    {
     "data": {
      "text/plain": [
       "'pos: 0.231, '"
      ]
     },
     "metadata": {},
     "output_type": "display_data"
    },
    {
     "data": {
      "text/plain": [
       "'Paulette LeaphartIt was Memorial Day, one month to the day since she started, and the streets were quiet.'"
      ]
     },
     "metadata": {},
     "output_type": "display_data"
    },
    {
     "data": {
      "text/plain": [
       "'compound: 0.0, '"
      ]
     },
     "metadata": {},
     "output_type": "display_data"
    },
    {
     "data": {
      "text/plain": [
       "'neg: 0.0, '"
      ]
     },
     "metadata": {},
     "output_type": "display_data"
    },
    {
     "data": {
      "text/plain": [
       "'neu: 1.0, '"
      ]
     },
     "metadata": {},
     "output_type": "display_data"
    },
    {
     "data": {
      "text/plain": [
       "'pos: 0.0, '"
      ]
     },
     "metadata": {},
     "output_type": "display_data"
    },
    {
     "data": {
      "text/plain": [
       "'Occasional onlookers gawked, wondering what the commotion was about.'"
      ]
     },
     "metadata": {},
     "output_type": "display_data"
    },
    {
     "data": {
      "text/plain": [
       "'compound: 0.0, '"
      ]
     },
     "metadata": {},
     "output_type": "display_data"
    },
    {
     "data": {
      "text/plain": [
       "'neg: 0.0, '"
      ]
     },
     "metadata": {},
     "output_type": "display_data"
    },
    {
     "data": {
      "text/plain": [
       "'neu: 1.0, '"
      ]
     },
     "metadata": {},
     "output_type": "display_data"
    },
    {
     "data": {
      "text/plain": [
       "'pos: 0.0, '"
      ]
     },
     "metadata": {},
     "output_type": "display_data"
    },
    {
     "data": {
      "text/plain": [
       "'I walked along taking notes and wondered myself: How effective was this small, 1-mile march, really?I was more interested in what would come next: the walk she was resuming with her daughter to reach Washington in less than a month.They had already covered 710 miles.'"
      ]
     },
     "metadata": {},
     "output_type": "display_data"
    },
    {
     "data": {
      "text/plain": [
       "'compound: 0.7346, '"
      ]
     },
     "metadata": {},
     "output_type": "display_data"
    },
    {
     "data": {
      "text/plain": [
       "'neg: 0.0, '"
      ]
     },
     "metadata": {},
     "output_type": "display_data"
    },
    {
     "data": {
      "text/plain": [
       "'neu: 0.848, '"
      ]
     },
     "metadata": {},
     "output_type": "display_data"
    },
    {
     "data": {
      "text/plain": [
       "'pos: 0.152, '"
      ]
     },
     "metadata": {},
     "output_type": "display_data"
    },
    {
     "data": {
      "text/plain": [
       "\"They'd walked all but 100 of them, Paulette said.\""
      ]
     },
     "metadata": {},
     "output_type": "display_data"
    },
    {
     "data": {
      "text/plain": [
       "'compound: 0.0, '"
      ]
     },
     "metadata": {},
     "output_type": "display_data"
    },
    {
     "data": {
      "text/plain": [
       "'neg: 0.0, '"
      ]
     },
     "metadata": {},
     "output_type": "display_data"
    },
    {
     "data": {
      "text/plain": [
       "'neu: 1.0, '"
      ]
     },
     "metadata": {},
     "output_type": "display_data"
    },
    {
     "data": {
      "text/plain": [
       "'pos: 0.0, '"
      ]
     },
     "metadata": {},
     "output_type": "display_data"
    },
    {
     "data": {
      "text/plain": [
       "'She said she often used cabs to carry her through dangerous parts of the journey.'"
      ]
     },
     "metadata": {},
     "output_type": "display_data"
    },
    {
     "data": {
      "text/plain": [
       "'compound: -0.4767, '"
      ]
     },
     "metadata": {},
     "output_type": "display_data"
    },
    {
     "data": {
      "text/plain": [
       "'neg: 0.181, '"
      ]
     },
     "metadata": {},
     "output_type": "display_data"
    },
    {
     "data": {
      "text/plain": [
       "'neu: 0.819, '"
      ]
     },
     "metadata": {},
     "output_type": "display_data"
    },
    {
     "data": {
      "text/plain": [
       "'pos: 0.0, '"
      ]
     },
     "metadata": {},
     "output_type": "display_data"
    },
    {
     "data": {
      "text/plain": [
       "\"With most weekends off, that would mean they'd averaged more than 27 miles a day on foot.We got started around noon.\""
      ]
     },
     "metadata": {},
     "output_type": "display_data"
    },
    {
     "data": {
      "text/plain": [
       "'compound: 0.0, '"
      ]
     },
     "metadata": {},
     "output_type": "display_data"
    },
    {
     "data": {
      "text/plain": [
       "'neg: 0.0, '"
      ]
     },
     "metadata": {},
     "output_type": "display_data"
    },
    {
     "data": {
      "text/plain": [
       "'neu: 1.0, '"
      ]
     },
     "metadata": {},
     "output_type": "display_data"
    },
    {
     "data": {
      "text/plain": [
       "'pos: 0.0, '"
      ]
     },
     "metadata": {},
     "output_type": "display_data"
    },
    {
     "data": {
      "text/plain": [
       "\"I'd pictured us rambling through rolling hills of green.\""
      ]
     },
     "metadata": {},
     "output_type": "display_data"
    },
    {
     "data": {
      "text/plain": [
       "'compound: 0.0, '"
      ]
     },
     "metadata": {},
     "output_type": "display_data"
    },
    {
     "data": {
      "text/plain": [
       "'neg: 0.0, '"
      ]
     },
     "metadata": {},
     "output_type": "display_data"
    },
    {
     "data": {
      "text/plain": [
       "'neu: 1.0, '"
      ]
     },
     "metadata": {},
     "output_type": "display_data"
    },
    {
     "data": {
      "text/plain": [
       "'pos: 0.0, '"
      ]
     },
     "metadata": {},
     "output_type": "display_data"
    },
    {
     "data": {
      "text/plain": [
       "'Paulette would be like Forrest Gump, I thought, gathering disciples as she strode through quaint towns.Paulette preferred a busier route and steered us toward US 29.'"
      ]
     },
     "metadata": {},
     "output_type": "display_data"
    },
    {
     "data": {
      "text/plain": [
       "'compound: 0.3612, '"
      ]
     },
     "metadata": {},
     "output_type": "display_data"
    },
    {
     "data": {
      "text/plain": [
       "'neg: 0.0, '"
      ]
     },
     "metadata": {},
     "output_type": "display_data"
    },
    {
     "data": {
      "text/plain": [
       "'neu: 0.902, '"
      ]
     },
     "metadata": {},
     "output_type": "display_data"
    },
    {
     "data": {
      "text/plain": [
       "'pos: 0.098, '"
      ]
     },
     "metadata": {},
     "output_type": "display_data"
    },
    {
     "data": {
      "text/plain": [
       "'In her mind it was safer, and only along highways could she and her message be seen.'"
      ]
     },
     "metadata": {},
     "output_type": "display_data"
    },
    {
     "data": {
      "text/plain": [
       "'compound: 0.4215, '"
      ]
     },
     "metadata": {},
     "output_type": "display_data"
    },
    {
     "data": {
      "text/plain": [
       "'neg: 0.0, '"
      ]
     },
     "metadata": {},
     "output_type": "display_data"
    },
    {
     "data": {
      "text/plain": [
       "'neu: 0.851, '"
      ]
     },
     "metadata": {},
     "output_type": "display_data"
    },
    {
     "data": {
      "text/plain": [
       "'pos: 0.149, '"
      ]
     },
     "metadata": {},
     "output_type": "display_data"
    },
    {
     "data": {
      "text/plain": [
       "'She carried no sign, insisting the scars told her story.To her 5,000 friends and thousands more followers on Facebook, Paulette was already a hero.'"
      ]
     },
     "metadata": {},
     "output_type": "display_data"
    },
    {
     "data": {
      "text/plain": [
       "'compound: 0.6705, '"
      ]
     },
     "metadata": {},
     "output_type": "display_data"
    },
    {
     "data": {
      "text/plain": [
       "'neg: 0.076, '"
      ]
     },
     "metadata": {},
     "output_type": "display_data"
    },
    {
     "data": {
      "text/plain": [
       "'neu: 0.692, '"
      ]
     },
     "metadata": {},
     "output_type": "display_data"
    },
    {
     "data": {
      "text/plain": [
       "'pos: 0.232, '"
      ]
     },
     "metadata": {},
     "output_type": "display_data"
    },
    {
     "data": {
      "text/plain": [
       "'They showered her with love and praise.'"
      ]
     },
     "metadata": {},
     "output_type": "display_data"
    },
    {
     "data": {
      "text/plain": [
       "'compound: 0.8316, '"
      ]
     },
     "metadata": {},
     "output_type": "display_data"
    },
    {
     "data": {
      "text/plain": [
       "'neg: 0.0, '"
      ]
     },
     "metadata": {},
     "output_type": "display_data"
    },
    {
     "data": {
      "text/plain": [
       "'neu: 0.391, '"
      ]
     },
     "metadata": {},
     "output_type": "display_data"
    },
    {
     "data": {
      "text/plain": [
       "'pos: 0.609, '"
      ]
     },
     "metadata": {},
     "output_type": "display_data"
    },
    {
     "data": {
      "text/plain": [
       "'\"If I had 10,000 thousand tongues, I couldn\\'t thank you enough,\" one person wrote the day after I walked with her.'"
      ]
     },
     "metadata": {},
     "output_type": "display_data"
    },
    {
     "data": {
      "text/plain": [
       "'compound: -0.2755, '"
      ]
     },
     "metadata": {},
     "output_type": "display_data"
    },
    {
     "data": {
      "text/plain": [
       "'neg: 0.11, '"
      ]
     },
     "metadata": {},
     "output_type": "display_data"
    },
    {
     "data": {
      "text/plain": [
       "'neu: 0.89, '"
      ]
     },
     "metadata": {},
     "output_type": "display_data"
    },
    {
     "data": {
      "text/plain": [
       "'pos: 0.0, '"
      ]
     },
     "metadata": {},
     "output_type": "display_data"
    },
    {
     "data": {
      "text/plain": [
       "'\"I understand your fight!'"
      ]
     },
     "metadata": {},
     "output_type": "display_data"
    },
    {
     "data": {
      "text/plain": [
       "'compound: -0.4389, '"
      ]
     },
     "metadata": {},
     "output_type": "display_data"
    },
    {
     "data": {
      "text/plain": [
       "'neg: 0.491, '"
      ]
     },
     "metadata": {},
     "output_type": "display_data"
    },
    {
     "data": {
      "text/plain": [
       "'neu: 0.509, '"
      ]
     },
     "metadata": {},
     "output_type": "display_data"
    },
    {
     "data": {
      "text/plain": [
       "'pos: 0.0, '"
      ]
     },
     "metadata": {},
     "output_type": "display_data"
    },
    {
     "data": {
      "text/plain": [
       "'God is with you every step of the way.'"
      ]
     },
     "metadata": {},
     "output_type": "display_data"
    },
    {
     "data": {
      "text/plain": [
       "'compound: 0.2732, '"
      ]
     },
     "metadata": {},
     "output_type": "display_data"
    },
    {
     "data": {
      "text/plain": [
       "'neg: 0.0, '"
      ]
     },
     "metadata": {},
     "output_type": "display_data"
    },
    {
     "data": {
      "text/plain": [
       "'neu: 0.792, '"
      ]
     },
     "metadata": {},
     "output_type": "display_data"
    },
    {
     "data": {
      "text/plain": [
       "'pos: 0.208, '"
      ]
     },
     "metadata": {},
     "output_type": "display_data"
    },
    {
     "data": {
      "text/plain": [
       "'\"\"I love you for what you are doing,\" wrote another.'"
      ]
     },
     "metadata": {},
     "output_type": "display_data"
    },
    {
     "data": {
      "text/plain": [
       "'compound: 0.6369, '"
      ]
     },
     "metadata": {},
     "output_type": "display_data"
    },
    {
     "data": {
      "text/plain": [
       "'neg: 0.0, '"
      ]
     },
     "metadata": {},
     "output_type": "display_data"
    },
    {
     "data": {
      "text/plain": [
       "'neu: 0.682, '"
      ]
     },
     "metadata": {},
     "output_type": "display_data"
    },
    {
     "data": {
      "text/plain": [
       "'pos: 0.318, '"
      ]
     },
     "metadata": {},
     "output_type": "display_data"
    },
    {
     "data": {
      "text/plain": [
       "'\"You are so brave you are my WOMAN OF THE YEAR.'"
      ]
     },
     "metadata": {},
     "output_type": "display_data"
    },
    {
     "data": {
      "text/plain": [
       "'compound: 0.656, '"
      ]
     },
     "metadata": {},
     "output_type": "display_data"
    },
    {
     "data": {
      "text/plain": [
       "'neg: 0.0, '"
      ]
     },
     "metadata": {},
     "output_type": "display_data"
    },
    {
     "data": {
      "text/plain": [
       "'neu: 0.696, '"
      ]
     },
     "metadata": {},
     "output_type": "display_data"
    },
    {
     "data": {
      "text/plain": [
       "'pos: 0.304, '"
      ]
     },
     "metadata": {},
     "output_type": "display_data"
    },
    {
     "data": {
      "text/plain": [
       "'\"\"You are such a phenomenal woman,\" wrote a third.'"
      ]
     },
     "metadata": {},
     "output_type": "display_data"
    },
    {
     "data": {
      "text/plain": [
       "'compound: 0.0, '"
      ]
     },
     "metadata": {},
     "output_type": "display_data"
    },
    {
     "data": {
      "text/plain": [
       "'neg: 0.0, '"
      ]
     },
     "metadata": {},
     "output_type": "display_data"
    },
    {
     "data": {
      "text/plain": [
       "'neu: 1.0, '"
      ]
     },
     "metadata": {},
     "output_type": "display_data"
    },
    {
     "data": {
      "text/plain": [
       "'pos: 0.0, '"
      ]
     },
     "metadata": {},
     "output_type": "display_data"
    },
    {
     "data": {
      "text/plain": [
       "'\"I lost my mother to breast cancer but I know if she were alive, she would be walking with you -- the whole way.'"
      ]
     },
     "metadata": {},
     "output_type": "display_data"
    },
    {
     "data": {
      "text/plain": [
       "'compound: 0.0129, '"
      ]
     },
     "metadata": {},
     "output_type": "display_data"
    },
    {
     "data": {
      "text/plain": [
       "'neg: 0.157, '"
      ]
     },
     "metadata": {},
     "output_type": "display_data"
    },
    {
     "data": {
      "text/plain": [
       "'neu: 0.721, '"
      ]
     },
     "metadata": {},
     "output_type": "display_data"
    },
    {
     "data": {
      "text/plain": [
       "'pos: 0.123, '"
      ]
     },
     "metadata": {},
     "output_type": "display_data"
    },
    {
     "data": {
      "text/plain": [
       "'... God bless you.'"
      ]
     },
     "metadata": {},
     "output_type": "display_data"
    },
    {
     "data": {
      "text/plain": [
       "'compound: 0.5994, '"
      ]
     },
     "metadata": {},
     "output_type": "display_data"
    },
    {
     "data": {
      "text/plain": [
       "'neg: 0.0, '"
      ]
     },
     "metadata": {},
     "output_type": "display_data"
    },
    {
     "data": {
      "text/plain": [
       "'neu: 0.29, '"
      ]
     },
     "metadata": {},
     "output_type": "display_data"
    },
    {
     "data": {
      "text/plain": [
       "'pos: 0.71, '"
      ]
     },
     "metadata": {},
     "output_type": "display_data"
    },
    {
     "data": {
      "text/plain": [
       "'\"Paulette has inspired women all over the world and said she has even saved lives.'"
      ]
     },
     "metadata": {},
     "output_type": "display_data"
    },
    {
     "data": {
      "text/plain": [
       "'compound: 0.7184, '"
      ]
     },
     "metadata": {},
     "output_type": "display_data"
    },
    {
     "data": {
      "text/plain": [
       "'neg: 0.0, '"
      ]
     },
     "metadata": {},
     "output_type": "display_data"
    },
    {
     "data": {
      "text/plain": [
       "'neu: 0.684, '"
      ]
     },
     "metadata": {},
     "output_type": "display_data"
    },
    {
     "data": {
      "text/plain": [
       "'pos: 0.316, '"
      ]
     },
     "metadata": {},
     "output_type": "display_data"
    },
    {
     "data": {
      "text/plain": [
       "\"People who'd been considering suicide, she said, were motivated by her to go on.The global attention began two years earlier, when, over Labor Day weekend, she posted topless photos of herself on a beach in Mississippi.\""
      ]
     },
     "metadata": {},
     "output_type": "display_data"
    },
    {
     "data": {
      "text/plain": [
       "'compound: -0.3612, '"
      ]
     },
     "metadata": {},
     "output_type": "display_data"
    },
    {
     "data": {
      "text/plain": [
       "'neg: 0.111, '"
      ]
     },
     "metadata": {},
     "output_type": "display_data"
    },
    {
     "data": {
      "text/plain": [
       "'neu: 0.815, '"
      ]
     },
     "metadata": {},
     "output_type": "display_data"
    },
    {
     "data": {
      "text/plain": [
       "'pos: 0.074, '"
      ]
     },
     "metadata": {},
     "output_type": "display_data"
    },
    {
     "data": {
      "text/plain": [
       "\"She had just emerged from eight months of depression after losing her breasts and being told she couldn't have reconstructive surgery because of a pre-existing blood-clotting disorder.\""
      ]
     },
     "metadata": {},
     "output_type": "display_data"
    },
    {
     "data": {
      "text/plain": [
       "'compound: -0.8402, '"
      ]
     },
     "metadata": {},
     "output_type": "display_data"
    },
    {
     "data": {
      "text/plain": [
       "'neg: 0.281, '"
      ]
     },
     "metadata": {},
     "output_type": "display_data"
    },
    {
     "data": {
      "text/plain": [
       "'neu: 0.719, '"
      ]
     },
     "metadata": {},
     "output_type": "display_data"
    },
    {
     "data": {
      "text/plain": [
       "'pos: 0.0, '"
      ]
     },
     "metadata": {},
     "output_type": "display_data"
    },
    {
     "data": {
      "text/plain": [
       "'She says she had a vision from God to go to Biloxi Beach, take off her shirt and be photographed.She said people surrounded her.'"
      ]
     },
     "metadata": {},
     "output_type": "display_data"
    },
    {
     "data": {
      "text/plain": [
       "'compound: 0.4767, '"
      ]
     },
     "metadata": {},
     "output_type": "display_data"
    },
    {
     "data": {
      "text/plain": [
       "'neg: 0.0, '"
      ]
     },
     "metadata": {},
     "output_type": "display_data"
    },
    {
     "data": {
      "text/plain": [
       "'neu: 0.837, '"
      ]
     },
     "metadata": {},
     "output_type": "display_data"
    },
    {
     "data": {
      "text/plain": [
       "'pos: 0.163, '"
      ]
     },
     "metadata": {},
     "output_type": "display_data"
    },
    {
     "data": {
      "text/plain": [
       "'A woman began to cry and then she did, too.'"
      ]
     },
     "metadata": {},
     "output_type": "display_data"
    },
    {
     "data": {
      "text/plain": [
       "'compound: -0.4767, '"
      ]
     },
     "metadata": {},
     "output_type": "display_data"
    },
    {
     "data": {
      "text/plain": [
       "'neg: 0.279, '"
      ]
     },
     "metadata": {},
     "output_type": "display_data"
    },
    {
     "data": {
      "text/plain": [
       "'neu: 0.721, '"
      ]
     },
     "metadata": {},
     "output_type": "display_data"
    },
    {
     "data": {
      "text/plain": [
       "'pos: 0.0, '"
      ]
     },
     "metadata": {},
     "output_type": "display_data"
    },
    {
     "data": {
      "text/plain": [
       "'Onlookers applauded.'"
      ]
     },
     "metadata": {},
     "output_type": "display_data"
    },
    {
     "data": {
      "text/plain": [
       "'compound: 0.3612, '"
      ]
     },
     "metadata": {},
     "output_type": "display_data"
    },
    {
     "data": {
      "text/plain": [
       "'neg: 0.0, '"
      ]
     },
     "metadata": {},
     "output_type": "display_data"
    },
    {
     "data": {
      "text/plain": [
       "'neu: 0.286, '"
      ]
     },
     "metadata": {},
     "output_type": "display_data"
    },
    {
     "data": {
      "text/plain": [
       "'pos: 0.714, '"
      ]
     },
     "metadata": {},
     "output_type": "display_data"
    },
    {
     "data": {
      "text/plain": [
       "'Paulette freed herself in that moment and, in posting photos on Facebook, did the same for others.'"
      ]
     },
     "metadata": {},
     "output_type": "display_data"
    },
    {
     "data": {
      "text/plain": [
       "'compound: 0.4019, '"
      ]
     },
     "metadata": {},
     "output_type": "display_data"
    },
    {
     "data": {
      "text/plain": [
       "'neg: 0.0, '"
      ]
     },
     "metadata": {},
     "output_type": "display_data"
    },
    {
     "data": {
      "text/plain": [
       "'neu: 0.856, '"
      ]
     },
     "metadata": {},
     "output_type": "display_data"
    },
    {
     "data": {
      "text/plain": [
       "'pos: 0.144, '"
      ]
     },
     "metadata": {},
     "output_type": "display_data"
    },
    {
     "data": {
      "text/plain": [
       "'She said a man wrote to thank her, saying that his wife, who\\'d lost her breasts years before, had finally bared her chest for him.She was chosen by God to be a vessel for his work, she said, and her photos were \"liked\" almost 300,000 times.'"
      ]
     },
     "metadata": {},
     "output_type": "display_data"
    },
    {
     "data": {
      "text/plain": [
       "'compound: 0.3182, '"
      ]
     },
     "metadata": {},
     "output_type": "display_data"
    },
    {
     "data": {
      "text/plain": [
       "'neg: 0.048, '"
      ]
     },
     "metadata": {},
     "output_type": "display_data"
    },
    {
     "data": {
      "text/plain": [
       "'neu: 0.856, '"
      ]
     },
     "metadata": {},
     "output_type": "display_data"
    },
    {
     "data": {
      "text/plain": [
       "'pos: 0.096, '"
      ]
     },
     "metadata": {},
     "output_type": "display_data"
    },
    {
     "data": {
      "text/plain": [
       "'It was God who woke her up one night in December 2013 to tell her she had breast cancer, which doctors later confirmed.'"
      ]
     },
     "metadata": {},
     "output_type": "display_data"
    },
    {
     "data": {
      "text/plain": [
       "'compound: -0.5106, '"
      ]
     },
     "metadata": {},
     "output_type": "display_data"
    },
    {
     "data": {
      "text/plain": [
       "'neg: 0.16, '"
      ]
     },
     "metadata": {},
     "output_type": "display_data"
    },
    {
     "data": {
      "text/plain": [
       "'neu: 0.764, '"
      ]
     },
     "metadata": {},
     "output_type": "display_data"
    },
    {
     "data": {
      "text/plain": [
       "'pos: 0.076, '"
      ]
     },
     "metadata": {},
     "output_type": "display_data"
    },
    {
     "data": {
      "text/plain": [
       "'And it was God who told her to go on this 1,000-mile topless walk.'"
      ]
     },
     "metadata": {},
     "output_type": "display_data"
    },
    {
     "data": {
      "text/plain": [
       "'compound: 0.2732, '"
      ]
     },
     "metadata": {},
     "output_type": "display_data"
    },
    {
     "data": {
      "text/plain": [
       "'neg: 0.0, '"
      ]
     },
     "metadata": {},
     "output_type": "display_data"
    },
    {
     "data": {
      "text/plain": [
       "'neu: 0.861, '"
      ]
     },
     "metadata": {},
     "output_type": "display_data"
    },
    {
     "data": {
      "text/plain": [
       "'pos: 0.139, '"
      ]
     },
     "metadata": {},
     "output_type": "display_data"
    },
    {
     "data": {
      "text/plain": [
       "'\"All the pain I felt from the day I was born had purpose, and I\\'m living that purpose,\" she said.'"
      ]
     },
     "metadata": {},
     "output_type": "display_data"
    },
    {
     "data": {
      "text/plain": [
       "'compound: -0.5106, '"
      ]
     },
     "metadata": {},
     "output_type": "display_data"
    },
    {
     "data": {
      "text/plain": [
       "'neg: 0.163, '"
      ]
     },
     "metadata": {},
     "output_type": "display_data"
    },
    {
     "data": {
      "text/plain": [
       "'neu: 0.837, '"
      ]
     },
     "metadata": {},
     "output_type": "display_data"
    },
    {
     "data": {
      "text/plain": [
       "'pos: 0.0, '"
      ]
     },
     "metadata": {},
     "output_type": "display_data"
    },
    {
     "data": {
      "text/plain": [
       "'\"God said I\\'m going to use your chest.'"
      ]
     },
     "metadata": {},
     "output_type": "display_data"
    },
    {
     "data": {
      "text/plain": [
       "'compound: 0.2732, '"
      ]
     },
     "metadata": {},
     "output_type": "display_data"
    },
    {
     "data": {
      "text/plain": [
       "'neg: 0.0, '"
      ]
     },
     "metadata": {},
     "output_type": "display_data"
    },
    {
     "data": {
      "text/plain": [
       "'neu: 0.769, '"
      ]
     },
     "metadata": {},
     "output_type": "display_data"
    },
    {
     "data": {
      "text/plain": [
       "'pos: 0.231, '"
      ]
     },
     "metadata": {},
     "output_type": "display_data"
    },
    {
     "data": {
      "text/plain": [
       "'\"Pushing her daughter in a weighed-down stroller, Paulette Leaphart winds her way out of downtown Charlotte to continue her journey toward Washington.The first signsBased on the expressions of the people we passed, not everyone saw the purpose.'"
      ]
     },
     "metadata": {},
     "output_type": "display_data"
    },
    {
     "data": {
      "text/plain": [
       "'compound: 0.0, '"
      ]
     },
     "metadata": {},
     "output_type": "display_data"
    },
    {
     "data": {
      "text/plain": [
       "'neg: 0.0, '"
      ]
     },
     "metadata": {},
     "output_type": "display_data"
    },
    {
     "data": {
      "text/plain": [
       "'neu: 1.0, '"
      ]
     },
     "metadata": {},
     "output_type": "display_data"
    },
    {
     "data": {
      "text/plain": [
       "'pos: 0.0, '"
      ]
     },
     "metadata": {},
     "output_type": "display_data"
    },
    {
     "data": {
      "text/plain": [
       "'She joked that she must look like a bag lady to some.'"
      ]
     },
     "metadata": {},
     "output_type": "display_data"
    },
    {
     "data": {
      "text/plain": [
       "'compound: 0.5859, '"
      ]
     },
     "metadata": {},
     "output_type": "display_data"
    },
    {
     "data": {
      "text/plain": [
       "'neg: 0.0, '"
      ]
     },
     "metadata": {},
     "output_type": "display_data"
    },
    {
     "data": {
      "text/plain": [
       "'neu: 0.652, '"
      ]
     },
     "metadata": {},
     "output_type": "display_data"
    },
    {
     "data": {
      "text/plain": [
       "'pos: 0.348, '"
      ]
     },
     "metadata": {},
     "output_type": "display_data"
    },
    {
     "data": {
      "text/plain": [
       "'Others got what this was about and offered her cheers and hugs.'"
      ]
     },
     "metadata": {},
     "output_type": "display_data"
    },
    {
     "data": {
      "text/plain": [
       "'compound: 0.743, '"
      ]
     },
     "metadata": {},
     "output_type": "display_data"
    },
    {
     "data": {
      "text/plain": [
       "'neg: 0.0, '"
      ]
     },
     "metadata": {},
     "output_type": "display_data"
    },
    {
     "data": {
      "text/plain": [
       "'neu: 0.613, '"
      ]
     },
     "metadata": {},
     "output_type": "display_data"
    },
    {
     "data": {
      "text/plain": [
       "'pos: 0.387, '"
      ]
     },
     "metadata": {},
     "output_type": "display_data"
    },
    {
     "data": {
      "text/plain": [
       "'A church group giving out toiletries to homeless people gathered her in a circle for prayers.'"
      ]
     },
     "metadata": {},
     "output_type": "display_data"
    },
    {
     "data": {
      "text/plain": [
       "'compound: 0.34, '"
      ]
     },
     "metadata": {},
     "output_type": "display_data"
    },
    {
     "data": {
      "text/plain": [
       "'neg: 0.0, '"
      ]
     },
     "metadata": {},
     "output_type": "display_data"
    },
    {
     "data": {
      "text/plain": [
       "'neu: 0.844, '"
      ]
     },
     "metadata": {},
     "output_type": "display_data"
    },
    {
     "data": {
      "text/plain": [
       "'pos: 0.156, '"
      ]
     },
     "metadata": {},
     "output_type": "display_data"
    },
    {
     "data": {
      "text/plain": [
       "\"Two women on bikes who'd seen her story rode up and passed her $20 bills.Paulette had said she only ate fruit when she walked.\""
      ]
     },
     "metadata": {},
     "output_type": "display_data"
    },
    {
     "data": {
      "text/plain": [
       "'compound: 0.0, '"
      ]
     },
     "metadata": {},
     "output_type": "display_data"
    },
    {
     "data": {
      "text/plain": [
       "'neg: 0.0, '"
      ]
     },
     "metadata": {},
     "output_type": "display_data"
    },
    {
     "data": {
      "text/plain": [
       "'neu: 1.0, '"
      ]
     },
     "metadata": {},
     "output_type": "display_data"
    },
    {
     "data": {
      "text/plain": [
       "'pos: 0.0, '"
      ]
     },
     "metadata": {},
     "output_type": "display_data"
    },
    {
     "data": {
      "text/plain": [
       "'On this day, though, she ate fried chicken tenders from Popeyes and two hot dogs at Cook Out, a Southern fast-food chain.'"
      ]
     },
     "metadata": {},
     "output_type": "display_data"
    },
    {
     "data": {
      "text/plain": [
       "'compound: 0.1531, '"
      ]
     },
     "metadata": {},
     "output_type": "display_data"
    },
    {
     "data": {
      "text/plain": [
       "'neg: 0.0, '"
      ]
     },
     "metadata": {},
     "output_type": "display_data"
    },
    {
     "data": {
      "text/plain": [
       "'neu: 0.926, '"
      ]
     },
     "metadata": {},
     "output_type": "display_data"
    },
    {
     "data": {
      "text/plain": [
       "'pos: 0.074, '"
      ]
     },
     "metadata": {},
     "output_type": "display_data"
    },
    {
     "data": {
      "text/plain": [
       "\"I wasn't judging her choices; I matched everything she ate and then some.\""
      ]
     },
     "metadata": {},
     "output_type": "display_data"
    },
    {
     "data": {
      "text/plain": [
       "'compound: 0.0, '"
      ]
     },
     "metadata": {},
     "output_type": "display_data"
    },
    {
     "data": {
      "text/plain": [
       "'neg: 0.0, '"
      ]
     },
     "metadata": {},
     "output_type": "display_data"
    },
    {
     "data": {
      "text/plain": [
       "'neu: 1.0, '"
      ]
     },
     "metadata": {},
     "output_type": "display_data"
    },
    {
     "data": {
      "text/plain": [
       "'pos: 0.0, '"
      ]
     },
     "metadata": {},
     "output_type": "display_data"
    },
    {
     "data": {
      "text/plain": [
       "\"But she didn't eat the apple I offered, and I never saw her eat a piece of fruit.It was one of those tiny, perhaps silly, observations I filed away.\""
      ]
     },
     "metadata": {},
     "output_type": "display_data"
    },
    {
     "data": {
      "text/plain": [
       "'compound: 0.0258, '"
      ]
     },
     "metadata": {},
     "output_type": "display_data"
    },
    {
     "data": {
      "text/plain": [
       "'neg: 0.0, '"
      ]
     },
     "metadata": {},
     "output_type": "display_data"
    },
    {
     "data": {
      "text/plain": [
       "'neu: 0.956, '"
      ]
     },
     "metadata": {},
     "output_type": "display_data"
    },
    {
     "data": {
      "text/plain": [
       "'pos: 0.044, '"
      ]
     },
     "metadata": {},
     "output_type": "display_data"
    },
    {
     "data": {
      "text/plain": [
       "\"But aren't we all guilty of saying and doing different things, especially when it comes to diet?The heat had slowed her down.\""
      ]
     },
     "metadata": {},
     "output_type": "display_data"
    },
    {
     "data": {
      "text/plain": [
       "'compound: 0.3252, '"
      ]
     },
     "metadata": {},
     "output_type": "display_data"
    },
    {
     "data": {
      "text/plain": [
       "'neg: 0.0, '"
      ]
     },
     "metadata": {},
     "output_type": "display_data"
    },
    {
     "data": {
      "text/plain": [
       "'neu: 0.9, '"
      ]
     },
     "metadata": {},
     "output_type": "display_data"
    },
    {
     "data": {
      "text/plain": [
       "'pos: 0.1, '"
      ]
     },
     "metadata": {},
     "output_type": "display_data"
    },
    {
     "data": {
      "text/plain": [
       "'She said she was now aiming for 20 miles a day, news that came as a relief.'"
      ]
     },
     "metadata": {},
     "output_type": "display_data"
    },
    {
     "data": {
      "text/plain": [
       "'compound: 0.4767, '"
      ]
     },
     "metadata": {},
     "output_type": "display_data"
    },
    {
     "data": {
      "text/plain": [
       "'neg: 0.0, '"
      ]
     },
     "metadata": {},
     "output_type": "display_data"
    },
    {
     "data": {
      "text/plain": [
       "'neu: 0.819, '"
      ]
     },
     "metadata": {},
     "output_type": "display_data"
    },
    {
     "data": {
      "text/plain": [
       "'pos: 0.181, '"
      ]
     },
     "metadata": {},
     "output_type": "display_data"
    },
    {
     "data": {
      "text/plain": [
       "\"It was late afternoon, though, and we hadn't even gone 10 miles.\""
      ]
     },
     "metadata": {},
     "output_type": "display_data"
    },
    {
     "data": {
      "text/plain": [
       "'compound: 0.0, '"
      ]
     },
     "metadata": {},
     "output_type": "display_data"
    },
    {
     "data": {
      "text/plain": [
       "'neg: 0.0, '"
      ]
     },
     "metadata": {},
     "output_type": "display_data"
    },
    {
     "data": {
      "text/plain": [
       "'neu: 1.0, '"
      ]
     },
     "metadata": {},
     "output_type": "display_data"
    },
    {
     "data": {
      "text/plain": [
       "'pos: 0.0, '"
      ]
     },
     "metadata": {},
     "output_type": "display_data"
    },
    {
     "data": {
      "text/plain": [
       "'Sometimes her daughter trudged along with us.'"
      ]
     },
     "metadata": {},
     "output_type": "display_data"
    },
    {
     "data": {
      "text/plain": [
       "'compound: 0.0, '"
      ]
     },
     "metadata": {},
     "output_type": "display_data"
    },
    {
     "data": {
      "text/plain": [
       "'neg: 0.0, '"
      ]
     },
     "metadata": {},
     "output_type": "display_data"
    },
    {
     "data": {
      "text/plain": [
       "'neu: 1.0, '"
      ]
     },
     "metadata": {},
     "output_type": "display_data"
    },
    {
     "data": {
      "text/plain": [
       "'pos: 0.0, '"
      ]
     },
     "metadata": {},
     "output_type": "display_data"
    },
    {
     "data": {
      "text/plain": [
       "'More often, she climbed into a stroller built for kids less than half her size.'"
      ]
     },
     "metadata": {},
     "output_type": "display_data"
    },
    {
     "data": {
      "text/plain": [
       "'compound: 0.0, '"
      ]
     },
     "metadata": {},
     "output_type": "display_data"
    },
    {
     "data": {
      "text/plain": [
       "'neg: 0.0, '"
      ]
     },
     "metadata": {},
     "output_type": "display_data"
    },
    {
     "data": {
      "text/plain": [
       "'neu: 1.0, '"
      ]
     },
     "metadata": {},
     "output_type": "display_data"
    },
    {
     "data": {
      "text/plain": [
       "'pos: 0.0, '"
      ]
     },
     "metadata": {},
     "output_type": "display_data"
    },
    {
     "data": {
      "text/plain": [
       "'Bags spilled over the sides; one balanced across her lap.'"
      ]
     },
     "metadata": {},
     "output_type": "display_data"
    },
    {
     "data": {
      "text/plain": [
       "'compound: 0.0, '"
      ]
     },
     "metadata": {},
     "output_type": "display_data"
    },
    {
     "data": {
      "text/plain": [
       "'neg: 0.0, '"
      ]
     },
     "metadata": {},
     "output_type": "display_data"
    },
    {
     "data": {
      "text/plain": [
       "'neu: 1.0, '"
      ]
     },
     "metadata": {},
     "output_type": "display_data"
    },
    {
     "data": {
      "text/plain": [
       "'pos: 0.0, '"
      ]
     },
     "metadata": {},
     "output_type": "display_data"
    },
    {
     "data": {
      "text/plain": [
       "'Several times the awkward contraption tumbled over when she was getting in or out.While picking up her scattered belongings -- an overstuffed wallet, sunscreen and bug spray, water bottles and her daughter\\'s \"Jesus Storybook Bible\" -- Paulette told me she\\'d already lost her driver\\'s license and passport.'"
      ]
     },
     "metadata": {},
     "output_type": "display_data"
    },
    {
     "data": {
      "text/plain": [
       "'compound: -0.4404, '"
      ]
     },
     "metadata": {},
     "output_type": "display_data"
    },
    {
     "data": {
      "text/plain": [
       "'neg: 0.08, '"
      ]
     },
     "metadata": {},
     "output_type": "display_data"
    },
    {
     "data": {
      "text/plain": [
       "'neu: 0.92, '"
      ]
     },
     "metadata": {},
     "output_type": "display_data"
    },
    {
     "data": {
      "text/plain": [
       "'pos: 0.0, '"
      ]
     },
     "metadata": {},
     "output_type": "display_data"
    },
    {
     "data": {
      "text/plain": [
       "'\"How do you check into hotels?\"'"
      ]
     },
     "metadata": {},
     "output_type": "display_data"
    },
    {
     "data": {
      "text/plain": [
       "'compound: 0.0, '"
      ]
     },
     "metadata": {},
     "output_type": "display_data"
    },
    {
     "data": {
      "text/plain": [
       "'neg: 0.0, '"
      ]
     },
     "metadata": {},
     "output_type": "display_data"
    },
    {
     "data": {
      "text/plain": [
       "'neu: 1.0, '"
      ]
     },
     "metadata": {},
     "output_type": "display_data"
    },
    {
     "data": {
      "text/plain": [
       "'pos: 0.0, '"
      ]
     },
     "metadata": {},
     "output_type": "display_data"
    },
    {
     "data": {
      "text/plain": [
       "'I asked, knowing desk clerks always ask for ID.'"
      ]
     },
     "metadata": {},
     "output_type": "display_data"
    },
    {
     "data": {
      "text/plain": [
       "'compound: 0.0, '"
      ]
     },
     "metadata": {},
     "output_type": "display_data"
    },
    {
     "data": {
      "text/plain": [
       "'neg: 0.0, '"
      ]
     },
     "metadata": {},
     "output_type": "display_data"
    },
    {
     "data": {
      "text/plain": [
       "'neu: 1.0, '"
      ]
     },
     "metadata": {},
     "output_type": "display_data"
    },
    {
     "data": {
      "text/plain": [
       "'pos: 0.0, '"
      ]
     },
     "metadata": {},
     "output_type": "display_data"
    },
    {
     "data": {
      "text/plain": [
       "'\"Everyone knows who I am,\" she answered with a smile.'"
      ]
     },
     "metadata": {},
     "output_type": "display_data"
    },
    {
     "data": {
      "text/plain": [
       "'compound: 0.3612, '"
      ]
     },
     "metadata": {},
     "output_type": "display_data"
    },
    {
     "data": {
      "text/plain": [
       "'neg: 0.0, '"
      ]
     },
     "metadata": {},
     "output_type": "display_data"
    },
    {
     "data": {
      "text/plain": [
       "'neu: 0.737, '"
      ]
     },
     "metadata": {},
     "output_type": "display_data"
    },
    {
     "data": {
      "text/plain": [
       "'pos: 0.263, '"
      ]
     },
     "metadata": {},
     "output_type": "display_data"
    },
    {
     "data": {
      "text/plain": [
       "'I made another mental note.The highway we walked along grew busy.'"
      ]
     },
     "metadata": {},
     "output_type": "display_data"
    },
    {
     "data": {
      "text/plain": [
       "'compound: 0.0, '"
      ]
     },
     "metadata": {},
     "output_type": "display_data"
    },
    {
     "data": {
      "text/plain": [
       "'neg: 0.0, '"
      ]
     },
     "metadata": {},
     "output_type": "display_data"
    },
    {
     "data": {
      "text/plain": [
       "'neu: 1.0, '"
      ]
     },
     "metadata": {},
     "output_type": "display_data"
    },
    {
     "data": {
      "text/plain": [
       "'pos: 0.0, '"
      ]
     },
     "metadata": {},
     "output_type": "display_data"
    },
    {
     "data": {
      "text/plain": [
       "\"When Paulette's daughter was out of the stroller, I often caught myself holding my breath as cars whizzed by.In the hottest part of the day, she took breaks.\""
      ]
     },
     "metadata": {},
     "output_type": "display_data"
    },
    {
     "data": {
      "text/plain": [
       "'compound: 0.0, '"
      ]
     },
     "metadata": {},
     "output_type": "display_data"
    },
    {
     "data": {
      "text/plain": [
       "'neg: 0.0, '"
      ]
     },
     "metadata": {},
     "output_type": "display_data"
    },
    {
     "data": {
      "text/plain": [
       "'neu: 1.0, '"
      ]
     },
     "metadata": {},
     "output_type": "display_data"
    },
    {
     "data": {
      "text/plain": [
       "'pos: 0.0, '"
      ]
     },
     "metadata": {},
     "output_type": "display_data"
    },
    {
     "data": {
      "text/plain": [
       "'Sometimes, she said, she and her daughter studied.'"
      ]
     },
     "metadata": {},
     "output_type": "display_data"
    },
    {
     "data": {
      "text/plain": [
       "'compound: 0.0, '"
      ]
     },
     "metadata": {},
     "output_type": "display_data"
    },
    {
     "data": {
      "text/plain": [
       "'neg: 0.0, '"
      ]
     },
     "metadata": {},
     "output_type": "display_data"
    },
    {
     "data": {
      "text/plain": [
       "'neu: 1.0, '"
      ]
     },
     "metadata": {},
     "output_type": "display_data"
    },
    {
     "data": {
      "text/plain": [
       "'pos: 0.0, '"
      ]
     },
     "metadata": {},
     "output_type": "display_data"
    },
    {
     "data": {
      "text/plain": [
       "'Other times, they found a place to swim, catch a movie or visit a garden.'"
      ]
     },
     "metadata": {},
     "output_type": "display_data"
    },
    {
     "data": {
      "text/plain": [
       "'compound: 0.0, '"
      ]
     },
     "metadata": {},
     "output_type": "display_data"
    },
    {
     "data": {
      "text/plain": [
       "'neg: 0.0, '"
      ]
     },
     "metadata": {},
     "output_type": "display_data"
    },
    {
     "data": {
      "text/plain": [
       "'neu: 1.0, '"
      ]
     },
     "metadata": {},
     "output_type": "display_data"
    },
    {
     "data": {
      "text/plain": [
       "'pos: 0.0, '"
      ]
     },
     "metadata": {},
     "output_type": "display_data"
    },
    {
     "data": {
      "text/plain": [
       "'On the day I walked with her, we went bowling.Paulette was on her phone often and obsessed with charging it wherever we stopped.'"
      ]
     },
     "metadata": {},
     "output_type": "display_data"
    },
    {
     "data": {
      "text/plain": [
       "'compound: -0.3818, '"
      ]
     },
     "metadata": {},
     "output_type": "display_data"
    },
    {
     "data": {
      "text/plain": [
       "'neg: 0.153, '"
      ]
     },
     "metadata": {},
     "output_type": "display_data"
    },
    {
     "data": {
      "text/plain": [
       "'neu: 0.847, '"
      ]
     },
     "metadata": {},
     "output_type": "display_data"
    },
    {
     "data": {
      "text/plain": [
       "'pos: 0.0, '"
      ]
     },
     "metadata": {},
     "output_type": "display_data"
    },
    {
     "data": {
      "text/plain": [
       "\"She wasn't making calls as much as checking Facebook.\""
      ]
     },
     "metadata": {},
     "output_type": "display_data"
    },
    {
     "data": {
      "text/plain": [
       "'compound: 0.0, '"
      ]
     },
     "metadata": {},
     "output_type": "display_data"
    },
    {
     "data": {
      "text/plain": [
       "'neg: 0.0, '"
      ]
     },
     "metadata": {},
     "output_type": "display_data"
    },
    {
     "data": {
      "text/plain": [
       "'neu: 1.0, '"
      ]
     },
     "metadata": {},
     "output_type": "display_data"
    },
    {
     "data": {
      "text/plain": [
       "'pos: 0.0, '"
      ]
     },
     "metadata": {},
     "output_type": "display_data"
    },
    {
     "data": {
      "text/plain": [
       "'She seemed consumed with monitoring likes, shares and comments.'"
      ]
     },
     "metadata": {},
     "output_type": "display_data"
    },
    {
     "data": {
      "text/plain": [
       "'compound: 0.6124, '"
      ]
     },
     "metadata": {},
     "output_type": "display_data"
    },
    {
     "data": {
      "text/plain": [
       "'neg: 0.0, '"
      ]
     },
     "metadata": {},
     "output_type": "display_data"
    },
    {
     "data": {
      "text/plain": [
       "'neu: 0.583, '"
      ]
     },
     "metadata": {},
     "output_type": "display_data"
    },
    {
     "data": {
      "text/plain": [
       "'pos: 0.417, '"
      ]
     },
     "metadata": {},
     "output_type": "display_data"
    },
    {
     "data": {
      "text/plain": [
       "\"I asked if anyone on the Internet ever put her down.Only one, she said: a woman she didn't know who was spreading lies and had a criminal record.\""
      ]
     },
     "metadata": {},
     "output_type": "display_data"
    },
    {
     "data": {
      "text/plain": [
       "'compound: -0.7351, '"
      ]
     },
     "metadata": {},
     "output_type": "display_data"
    },
    {
     "data": {
      "text/plain": [
       "'neg: 0.212, '"
      ]
     },
     "metadata": {},
     "output_type": "display_data"
    },
    {
     "data": {
      "text/plain": [
       "'neu: 0.788, '"
      ]
     },
     "metadata": {},
     "output_type": "display_data"
    },
    {
     "data": {
      "text/plain": [
       "'pos: 0.0, '"
      ]
     },
     "metadata": {},
     "output_type": "display_data"
    },
    {
     "data": {
      "text/plain": [
       "'A woman she suspected was crazy and jealous.'"
      ]
     },
     "metadata": {},
     "output_type": "display_data"
    },
    {
     "data": {
      "text/plain": [
       "'compound: -0.743, '"
      ]
     },
     "metadata": {},
     "output_type": "display_data"
    },
    {
     "data": {
      "text/plain": [
       "'neg: 0.646, '"
      ]
     },
     "metadata": {},
     "output_type": "display_data"
    },
    {
     "data": {
      "text/plain": [
       "'neu: 0.354, '"
      ]
     },
     "metadata": {},
     "output_type": "display_data"
    },
    {
     "data": {
      "text/plain": [
       "'pos: 0.0, '"
      ]
     },
     "metadata": {},
     "output_type": "display_data"
    },
    {
     "data": {
      "text/plain": [
       "\"A woman she was determined to ignore.What about the documentary group who'd set out to follow her?\""
      ]
     },
     "metadata": {},
     "output_type": "display_data"
    },
    {
     "data": {
      "text/plain": [
       "'compound: 0.34, '"
      ]
     },
     "metadata": {},
     "output_type": "display_data"
    },
    {
     "data": {
      "text/plain": [
       "'neg: 0.0, '"
      ]
     },
     "metadata": {},
     "output_type": "display_data"
    },
    {
     "data": {
      "text/plain": [
       "'neu: 0.862, '"
      ]
     },
     "metadata": {},
     "output_type": "display_data"
    },
    {
     "data": {
      "text/plain": [
       "'pos: 0.138, '"
      ]
     },
     "metadata": {},
     "output_type": "display_data"
    },
    {
     "data": {
      "text/plain": [
       "'What had happened to them?'"
      ]
     },
     "metadata": {},
     "output_type": "display_data"
    },
    {
     "data": {
      "text/plain": [
       "'compound: 0.0, '"
      ]
     },
     "metadata": {},
     "output_type": "display_data"
    },
    {
     "data": {
      "text/plain": [
       "'neg: 0.0, '"
      ]
     },
     "metadata": {},
     "output_type": "display_data"
    },
    {
     "data": {
      "text/plain": [
       "'neu: 1.0, '"
      ]
     },
     "metadata": {},
     "output_type": "display_data"
    },
    {
     "data": {
      "text/plain": [
       "'pos: 0.0, '"
      ]
     },
     "metadata": {},
     "output_type": "display_data"
    },
    {
     "data": {
      "text/plain": [
       "'Paulette told me they\\'d made money off her story without her consent and left after just a few days, abandoning her and her daughter \"like dogs on the side of the road.'"
      ]
     },
     "metadata": {},
     "output_type": "display_data"
    },
    {
     "data": {
      "text/plain": [
       "'compound: -0.194, '"
      ]
     },
     "metadata": {},
     "output_type": "display_data"
    },
    {
     "data": {
      "text/plain": [
       "'neg: 0.123, '"
      ]
     },
     "metadata": {},
     "output_type": "display_data"
    },
    {
     "data": {
      "text/plain": [
       "'neu: 0.805, '"
      ]
     },
     "metadata": {},
     "output_type": "display_data"
    },
    {
     "data": {
      "text/plain": [
       "'pos: 0.072, '"
      ]
     },
     "metadata": {},
     "output_type": "display_data"
    },
    {
     "data": {
      "text/plain": [
       "'\"Paulette often described her undertaking as \"a walk of faith\" and said Jesus has always been with her.'"
      ]
     },
     "metadata": {},
     "output_type": "display_data"
    },
    {
     "data": {
      "text/plain": [
       "'compound: 0.4215, '"
      ]
     },
     "metadata": {},
     "output_type": "display_data"
    },
    {
     "data": {
      "text/plain": [
       "'neg: 0.0, '"
      ]
     },
     "metadata": {},
     "output_type": "display_data"
    },
    {
     "data": {
      "text/plain": [
       "'neu: 0.859, '"
      ]
     },
     "metadata": {},
     "output_type": "display_data"
    },
    {
     "data": {
      "text/plain": [
       "'pos: 0.141, '"
      ]
     },
     "metadata": {},
     "output_type": "display_data"
    },
    {
     "data": {
      "text/plain": [
       "'When she was a small child, she said, she was sexually, physically and emotionally abused.'"
      ]
     },
     "metadata": {},
     "output_type": "display_data"
    },
    {
     "data": {
      "text/plain": [
       "'compound: -0.5106, '"
      ]
     },
     "metadata": {},
     "output_type": "display_data"
    },
    {
     "data": {
      "text/plain": [
       "'neg: 0.202, '"
      ]
     },
     "metadata": {},
     "output_type": "display_data"
    },
    {
     "data": {
      "text/plain": [
       "'neu: 0.798, '"
      ]
     },
     "metadata": {},
     "output_type": "display_data"
    },
    {
     "data": {
      "text/plain": [
       "'pos: 0.0, '"
      ]
     },
     "metadata": {},
     "output_type": "display_data"
    },
    {
     "data": {
      "text/plain": [
       "'Her great-grandmother gave her a Bible.'"
      ]
     },
     "metadata": {},
     "output_type": "display_data"
    },
    {
     "data": {
      "text/plain": [
       "'compound: 0.0, '"
      ]
     },
     "metadata": {},
     "output_type": "display_data"
    },
    {
     "data": {
      "text/plain": [
       "'neg: 0.0, '"
      ]
     },
     "metadata": {},
     "output_type": "display_data"
    },
    {
     "data": {
      "text/plain": [
       "'neu: 1.0, '"
      ]
     },
     "metadata": {},
     "output_type": "display_data"
    },
    {
     "data": {
      "text/plain": [
       "'pos: 0.0, '"
      ]
     },
     "metadata": {},
     "output_type": "display_data"
    },
    {
     "data": {
      "text/plain": [
       "'She said it was the first book she ever read.'"
      ]
     },
     "metadata": {},
     "output_type": "display_data"
    },
    {
     "data": {
      "text/plain": [
       "'compound: 0.0, '"
      ]
     },
     "metadata": {},
     "output_type": "display_data"
    },
    {
     "data": {
      "text/plain": [
       "'neg: 0.0, '"
      ]
     },
     "metadata": {},
     "output_type": "display_data"
    },
    {
     "data": {
      "text/plain": [
       "'neu: 1.0, '"
      ]
     },
     "metadata": {},
     "output_type": "display_data"
    },
    {
     "data": {
      "text/plain": [
       "'pos: 0.0, '"
      ]
     },
     "metadata": {},
     "output_type": "display_data"
    },
    {
     "data": {
      "text/plain": [
       "'\"She couldn\\'t protect me, but she gave me something that would.'"
      ]
     },
     "metadata": {},
     "output_type": "display_data"
    },
    {
     "data": {
      "text/plain": [
       "'compound: -0.1511, '"
      ]
     },
     "metadata": {},
     "output_type": "display_data"
    },
    {
     "data": {
      "text/plain": [
       "'neg: 0.137, '"
      ]
     },
     "metadata": {},
     "output_type": "display_data"
    },
    {
     "data": {
      "text/plain": [
       "'neu: 0.863, '"
      ]
     },
     "metadata": {},
     "output_type": "display_data"
    },
    {
     "data": {
      "text/plain": [
       "'pos: 0.0, '"
      ]
     },
     "metadata": {},
     "output_type": "display_data"
    },
    {
     "data": {
      "text/plain": [
       "'\"After one particularly brutal beating, Paulette said, she promised God that if he let her live, she\\'d dedicate her life to taking care of children.'"
      ]
     },
     "metadata": {},
     "output_type": "display_data"
    },
    {
     "data": {
      "text/plain": [
       "'compound: -0.2195, '"
      ]
     },
     "metadata": {},
     "output_type": "display_data"
    },
    {
     "data": {
      "text/plain": [
       "'neg: 0.216, '"
      ]
     },
     "metadata": {},
     "output_type": "display_data"
    },
    {
     "data": {
      "text/plain": [
       "'neu: 0.564, '"
      ]
     },
     "metadata": {},
     "output_type": "display_data"
    },
    {
     "data": {
      "text/plain": [
       "'pos: 0.22, '"
      ]
     },
     "metadata": {},
     "output_type": "display_data"
    },
    {
     "data": {
      "text/plain": [
       "'She has eight; she said she gave birth to four and adopted four others.'"
      ]
     },
     "metadata": {},
     "output_type": "display_data"
    },
    {
     "data": {
      "text/plain": [
       "'compound: 0.0, '"
      ]
     },
     "metadata": {},
     "output_type": "display_data"
    },
    {
     "data": {
      "text/plain": [
       "'neg: 0.0, '"
      ]
     },
     "metadata": {},
     "output_type": "display_data"
    },
    {
     "data": {
      "text/plain": [
       "'neu: 1.0, '"
      ]
     },
     "metadata": {},
     "output_type": "display_data"
    },
    {
     "data": {
      "text/plain": [
       "'pos: 0.0, '"
      ]
     },
     "metadata": {},
     "output_type": "display_data"
    },
    {
     "data": {
      "text/plain": [
       "\"Over the years, she said, she's fostered hundreds more.Her older kids were caring for her teens during the walk, she said.\""
      ]
     },
     "metadata": {},
     "output_type": "display_data"
    },
    {
     "data": {
      "text/plain": [
       "'compound: 0.4939, '"
      ]
     },
     "metadata": {},
     "output_type": "display_data"
    },
    {
     "data": {
      "text/plain": [
       "'neg: 0.0, '"
      ]
     },
     "metadata": {},
     "output_type": "display_data"
    },
    {
     "data": {
      "text/plain": [
       "'neu: 0.862, '"
      ]
     },
     "metadata": {},
     "output_type": "display_data"
    },
    {
     "data": {
      "text/plain": [
       "'pos: 0.138, '"
      ]
     },
     "metadata": {},
     "output_type": "display_data"
    },
    {
     "data": {
      "text/plain": [
       "'Her youngest, whom she said she home schools, refused to be left behind.'"
      ]
     },
     "metadata": {},
     "output_type": "display_data"
    },
    {
     "data": {
      "text/plain": [
       "'compound: -0.296, '"
      ]
     },
     "metadata": {},
     "output_type": "display_data"
    },
    {
     "data": {
      "text/plain": [
       "'neg: 0.155, '"
      ]
     },
     "metadata": {},
     "output_type": "display_data"
    },
    {
     "data": {
      "text/plain": [
       "'neu: 0.845, '"
      ]
     },
     "metadata": {},
     "output_type": "display_data"
    },
    {
     "data": {
      "text/plain": [
       "'pos: 0.0, '"
      ]
     },
     "metadata": {},
     "output_type": "display_data"
    },
    {
     "data": {
      "text/plain": [
       "'When Paulette was at her lowest point fighting cancer, she said, her daughter pushed her to battle on.'"
      ]
     },
     "metadata": {},
     "output_type": "display_data"
    },
    {
     "data": {
      "text/plain": [
       "'compound: -0.9022, '"
      ]
     },
     "metadata": {},
     "output_type": "display_data"
    },
    {
     "data": {
      "text/plain": [
       "'neg: 0.464, '"
      ]
     },
     "metadata": {},
     "output_type": "display_data"
    },
    {
     "data": {
      "text/plain": [
       "'neu: 0.536, '"
      ]
     },
     "metadata": {},
     "output_type": "display_data"
    },
    {
     "data": {
      "text/plain": [
       "'pos: 0.0, '"
      ]
     },
     "metadata": {},
     "output_type": "display_data"
    },
    {
     "data": {
      "text/plain": [
       "'\"There were days I wanted to stop breathing.'"
      ]
     },
     "metadata": {},
     "output_type": "display_data"
    },
    {
     "data": {
      "text/plain": [
       "'compound: -0.296, '"
      ]
     },
     "metadata": {},
     "output_type": "display_data"
    },
    {
     "data": {
      "text/plain": [
       "'neg: 0.268, '"
      ]
     },
     "metadata": {},
     "output_type": "display_data"
    },
    {
     "data": {
      "text/plain": [
       "'neu: 0.732, '"
      ]
     },
     "metadata": {},
     "output_type": "display_data"
    },
    {
     "data": {
      "text/plain": [
       "'pos: 0.0, '"
      ]
     },
     "metadata": {},
     "output_type": "display_data"
    },
    {
     "data": {
      "text/plain": [
       "\"She'd climb up into my bed and love all over me.\""
      ]
     },
     "metadata": {},
     "output_type": "display_data"
    },
    {
     "data": {
      "text/plain": [
       "'compound: 0.6369, '"
      ]
     },
     "metadata": {},
     "output_type": "display_data"
    },
    {
     "data": {
      "text/plain": [
       "'neg: 0.0, '"
      ]
     },
     "metadata": {},
     "output_type": "display_data"
    },
    {
     "data": {
      "text/plain": [
       "'neu: 0.704, '"
      ]
     },
     "metadata": {},
     "output_type": "display_data"
    },
    {
     "data": {
      "text/plain": [
       "'pos: 0.296, '"
      ]
     },
     "metadata": {},
     "output_type": "display_data"
    },
    {
     "data": {
      "text/plain": [
       "\"She'd say, 'Mama, promise me you're going to beat cancer.'\""
      ]
     },
     "metadata": {},
     "output_type": "display_data"
    },
    {
     "data": {
      "text/plain": [
       "'compound: 0.3182, '"
      ]
     },
     "metadata": {},
     "output_type": "display_data"
    },
    {
     "data": {
      "text/plain": [
       "'neg: 0.0, '"
      ]
     },
     "metadata": {},
     "output_type": "display_data"
    },
    {
     "data": {
      "text/plain": [
       "'neu: 0.796, '"
      ]
     },
     "metadata": {},
     "output_type": "display_data"
    },
    {
     "data": {
      "text/plain": [
       "'pos: 0.204, '"
      ]
     },
     "metadata": {},
     "output_type": "display_data"
    },
    {
     "data": {
      "text/plain": [
       "'I promised her and I kept it.'"
      ]
     },
     "metadata": {},
     "output_type": "display_data"
    },
    {
     "data": {
      "text/plain": [
       "'compound: 0.3612, '"
      ]
     },
     "metadata": {},
     "output_type": "display_data"
    },
    {
     "data": {
      "text/plain": [
       "'neg: 0.0, '"
      ]
     },
     "metadata": {},
     "output_type": "display_data"
    },
    {
     "data": {
      "text/plain": [
       "'neu: 0.615, '"
      ]
     },
     "metadata": {},
     "output_type": "display_data"
    },
    {
     "data": {
      "text/plain": [
       "'pos: 0.385, '"
      ]
     },
     "metadata": {},
     "output_type": "display_data"
    },
    {
     "data": {
      "text/plain": [
       "'\"The highway we walked along grew busy.'"
      ]
     },
     "metadata": {},
     "output_type": "display_data"
    },
    {
     "data": {
      "text/plain": [
       "'compound: 0.0, '"
      ]
     },
     "metadata": {},
     "output_type": "display_data"
    },
    {
     "data": {
      "text/plain": [
       "'neg: 0.0, '"
      ]
     },
     "metadata": {},
     "output_type": "display_data"
    },
    {
     "data": {
      "text/plain": [
       "'neu: 1.0, '"
      ]
     },
     "metadata": {},
     "output_type": "display_data"
    },
    {
     "data": {
      "text/plain": [
       "'pos: 0.0, '"
      ]
     },
     "metadata": {},
     "output_type": "display_data"
    },
    {
     "data": {
      "text/plain": [
       "\"When Paulette's daughter was out of the stroller, I often caught myself holding my breath as cars whizzed by.\""
      ]
     },
     "metadata": {},
     "output_type": "display_data"
    },
    {
     "data": {
      "text/plain": [
       "'compound: 0.0, '"
      ]
     },
     "metadata": {},
     "output_type": "display_data"
    },
    {
     "data": {
      "text/plain": [
       "'neg: 0.0, '"
      ]
     },
     "metadata": {},
     "output_type": "display_data"
    },
    {
     "data": {
      "text/plain": [
       "'neu: 1.0, '"
      ]
     },
     "metadata": {},
     "output_type": "display_data"
    },
    {
     "data": {
      "text/plain": [
       "'pos: 0.0, '"
      ]
     },
     "metadata": {},
     "output_type": "display_data"
    },
    {
     "data": {
      "text/plain": [
       "'When the shoulder narrowed, Paulette simply walked on the road.'"
      ]
     },
     "metadata": {},
     "output_type": "display_data"
    },
    {
     "data": {
      "text/plain": [
       "'compound: 0.0, '"
      ]
     },
     "metadata": {},
     "output_type": "display_data"
    },
    {
     "data": {
      "text/plain": [
       "'neg: 0.0, '"
      ]
     },
     "metadata": {},
     "output_type": "display_data"
    },
    {
     "data": {
      "text/plain": [
       "'neu: 1.0, '"
      ]
     },
     "metadata": {},
     "output_type": "display_data"
    },
    {
     "data": {
      "text/plain": [
       "'pos: 0.0, '"
      ]
     },
     "metadata": {},
     "output_type": "display_data"
    },
    {
     "data": {
      "text/plain": [
       "'\"I force them to respect me.'"
      ]
     },
     "metadata": {},
     "output_type": "display_data"
    },
    {
     "data": {
      "text/plain": [
       "'compound: 0.4767, '"
      ]
     },
     "metadata": {},
     "output_type": "display_data"
    },
    {
     "data": {
      "text/plain": [
       "'neg: 0.0, '"
      ]
     },
     "metadata": {},
     "output_type": "display_data"
    },
    {
     "data": {
      "text/plain": [
       "'neu: 0.617, '"
      ]
     },
     "metadata": {},
     "output_type": "display_data"
    },
    {
     "data": {
      "text/plain": [
       "'pos: 0.383, '"
      ]
     },
     "metadata": {},
     "output_type": "display_data"
    },
    {
     "data": {
      "text/plain": [
       "'\"Fear, she insisted, was nothing more than the devil.'"
      ]
     },
     "metadata": {},
     "output_type": "display_data"
    },
    {
     "data": {
      "text/plain": [
       "'compound: -0.6872, '"
      ]
     },
     "metadata": {},
     "output_type": "display_data"
    },
    {
     "data": {
      "text/plain": [
       "'neg: 0.368, '"
      ]
     },
     "metadata": {},
     "output_type": "display_data"
    },
    {
     "data": {
      "text/plain": [
       "'neu: 0.632, '"
      ]
     },
     "metadata": {},
     "output_type": "display_data"
    },
    {
     "data": {
      "text/plain": [
       "'pos: 0.0, '"
      ]
     },
     "metadata": {},
     "output_type": "display_data"
    },
    {
     "data": {
      "text/plain": [
       "'She said God would protect her and her daughter.'"
      ]
     },
     "metadata": {},
     "output_type": "display_data"
    },
    {
     "data": {
      "text/plain": [
       "'compound: 0.5719, '"
      ]
     },
     "metadata": {},
     "output_type": "display_data"
    },
    {
     "data": {
      "text/plain": [
       "'neg: 0.0, '"
      ]
     },
     "metadata": {},
     "output_type": "display_data"
    },
    {
     "data": {
      "text/plain": [
       "'neu: 0.598, '"
      ]
     },
     "metadata": {},
     "output_type": "display_data"
    },
    {
     "data": {
      "text/plain": [
       "'pos: 0.402, '"
      ]
     },
     "metadata": {},
     "output_type": "display_data"
    },
    {
     "data": {
      "text/plain": [
       "'I hoped God would also remember me.Salvation came for us in the form of a flat stroller tire.'"
      ]
     },
     "metadata": {},
     "output_type": "display_data"
    },
    {
     "data": {
      "text/plain": [
       "'compound: 0.5719, '"
      ]
     },
     "metadata": {},
     "output_type": "display_data"
    },
    {
     "data": {
      "text/plain": [
       "'neg: 0.0, '"
      ]
     },
     "metadata": {},
     "output_type": "display_data"
    },
    {
     "data": {
      "text/plain": [
       "'neu: 0.749, '"
      ]
     },
     "metadata": {},
     "output_type": "display_data"
    },
    {
     "data": {
      "text/plain": [
       "'pos: 0.251, '"
      ]
     },
     "metadata": {},
     "output_type": "display_data"
    },
    {
     "data": {
      "text/plain": [
       "'The weighed down contraption now moved like lead.Paulette had asked for help pushing it throughout the day, and I was happy to oblige in spurts.'"
      ]
     },
     "metadata": {},
     "output_type": "display_data"
    },
    {
     "data": {
      "text/plain": [
       "'compound: 0.836, '"
      ]
     },
     "metadata": {},
     "output_type": "display_data"
    },
    {
     "data": {
      "text/plain": [
       "'neg: 0.0, '"
      ]
     },
     "metadata": {},
     "output_type": "display_data"
    },
    {
     "data": {
      "text/plain": [
       "'neu: 0.702, '"
      ]
     },
     "metadata": {},
     "output_type": "display_data"
    },
    {
     "data": {
      "text/plain": [
       "'pos: 0.298, '"
      ]
     },
     "metadata": {},
     "output_type": "display_data"
    },
    {
     "data": {
      "text/plain": [
       "\"But now, unless she could fix it, this day looked done.An auto shop tried to help but couldn't.\""
      ]
     },
     "metadata": {},
     "output_type": "display_data"
    },
    {
     "data": {
      "text/plain": [
       "'compound: 0.2144, '"
      ]
     },
     "metadata": {},
     "output_type": "display_data"
    },
    {
     "data": {
      "text/plain": [
       "'neg: 0.0, '"
      ]
     },
     "metadata": {},
     "output_type": "display_data"
    },
    {
     "data": {
      "text/plain": [
       "'neu: 0.902, '"
      ]
     },
     "metadata": {},
     "output_type": "display_data"
    },
    {
     "data": {
      "text/plain": [
       "'pos: 0.098, '"
      ]
     },
     "metadata": {},
     "output_type": "display_data"
    },
    {
     "data": {
      "text/plain": [
       "'A taxi ride took us to the other side of an interstate.I left her at Cook Out and took an Uber back to my car.'"
      ]
     },
     "metadata": {},
     "output_type": "display_data"
    },
    {
     "data": {
      "text/plain": [
       "'compound: 0.0, '"
      ]
     },
     "metadata": {},
     "output_type": "display_data"
    },
    {
     "data": {
      "text/plain": [
       "'neg: 0.0, '"
      ]
     },
     "metadata": {},
     "output_type": "display_data"
    },
    {
     "data": {
      "text/plain": [
       "'neu: 1.0, '"
      ]
     },
     "metadata": {},
     "output_type": "display_data"
    },
    {
     "data": {
      "text/plain": [
       "'pos: 0.0, '"
      ]
     },
     "metadata": {},
     "output_type": "display_data"
    },
    {
     "data": {
      "text/plain": [
       "\"She planned to wait with her daughter for a ride back to the house where she'd been staying.\""
      ]
     },
     "metadata": {},
     "output_type": "display_data"
    },
    {
     "data": {
      "text/plain": [
       "'compound: 0.0, '"
      ]
     },
     "metadata": {},
     "output_type": "display_data"
    },
    {
     "data": {
      "text/plain": [
       "'neg: 0.0, '"
      ]
     },
     "metadata": {},
     "output_type": "display_data"
    },
    {
     "data": {
      "text/plain": [
       "'neu: 1.0, '"
      ]
     },
     "metadata": {},
     "output_type": "display_data"
    },
    {
     "data": {
      "text/plain": [
       "'pos: 0.0, '"
      ]
     },
     "metadata": {},
     "output_type": "display_data"
    },
    {
     "data": {
      "text/plain": [
       "'She had miles to make up, she said, and needed to get to Walmart to buy a new stroller so she could pick up where she left off first thing in the morning.Our day ended as the sun began to set.'"
      ]
     },
     "metadata": {},
     "output_type": "display_data"
    },
    {
     "data": {
      "text/plain": [
       "'compound: 0.0, '"
      ]
     },
     "metadata": {},
     "output_type": "display_data"
    },
    {
     "data": {
      "text/plain": [
       "'neg: 0.0, '"
      ]
     },
     "metadata": {},
     "output_type": "display_data"
    },
    {
     "data": {
      "text/plain": [
       "'neu: 1.0, '"
      ]
     },
     "metadata": {},
     "output_type": "display_data"
    },
    {
     "data": {
      "text/plain": [
       "'pos: 0.0, '"
      ]
     },
     "metadata": {},
     "output_type": "display_data"
    },
    {
     "data": {
      "text/plain": [
       "'We\\'d logged less than 14 miles.The \"Scar Story\" trailer was widely shared on social media and gained the attention of journalists, as well as Beyoncé, who featured Paulette in \"Lemonade.'"
      ]
     },
     "metadata": {},
     "output_type": "display_data"
    },
    {
     "data": {
      "text/plain": [
       "'compound: 0.7269, '"
      ]
     },
     "metadata": {},
     "output_type": "display_data"
    },
    {
     "data": {
      "text/plain": [
       "'neg: 0.0, '"
      ]
     },
     "metadata": {},
     "output_type": "display_data"
    },
    {
     "data": {
      "text/plain": [
       "'neu: 0.792, '"
      ]
     },
     "metadata": {},
     "output_type": "display_data"
    },
    {
     "data": {
      "text/plain": [
       "'pos: 0.208, '"
      ]
     },
     "metadata": {},
     "output_type": "display_data"
    },
    {
     "data": {
      "text/plain": [
       "'\"Paulette\\'s financial woesAs more local, national and international reporters told Paulette\\'s story, my reservations mounted.One local TV reporter wrote online that Beyoncé had walked with Paulette, though it was later trimmed from the piece.'"
      ]
     },
     "metadata": {},
     "output_type": "display_data"
    },
    {
     "data": {
      "text/plain": [
       "'compound: 0.0, '"
      ]
     },
     "metadata": {},
     "output_type": "display_data"
    },
    {
     "data": {
      "text/plain": [
       "'neg: 0.0, '"
      ]
     },
     "metadata": {},
     "output_type": "display_data"
    },
    {
     "data": {
      "text/plain": [
       "'neu: 1.0, '"
      ]
     },
     "metadata": {},
     "output_type": "display_data"
    },
    {
     "data": {
      "text/plain": [
       "'pos: 0.0, '"
      ]
     },
     "metadata": {},
     "output_type": "display_data"
    },
    {
     "data": {
      "text/plain": [
       "\"Another referred to her as a social worker, a career that, up until this point, she hadn't mentioned to me.\""
      ]
     },
     "metadata": {},
     "output_type": "display_data"
    },
    {
     "data": {
      "text/plain": [
       "'compound: 0.0, '"
      ]
     },
     "metadata": {},
     "output_type": "display_data"
    },
    {
     "data": {
      "text/plain": [
       "'neg: 0.0, '"
      ]
     },
     "metadata": {},
     "output_type": "display_data"
    },
    {
     "data": {
      "text/plain": [
       "'neu: 1.0, '"
      ]
     },
     "metadata": {},
     "output_type": "display_data"
    },
    {
     "data": {
      "text/plain": [
       "'pos: 0.0, '"
      ]
     },
     "metadata": {},
     "output_type": "display_data"
    },
    {
     "data": {
      "text/plain": [
       "\"When I'd asked Paulette what kind of work she'd done, she only mentioned owning a successful day care center in Virginia -- which, she said, she'd sold years before for a profit.\""
      ]
     },
     "metadata": {},
     "output_type": "display_data"
    },
    {
     "data": {
      "text/plain": [
       "'compound: 0.872, '"
      ]
     },
     "metadata": {},
     "output_type": "display_data"
    },
    {
     "data": {
      "text/plain": [
       "'neg: 0.0, '"
      ]
     },
     "metadata": {},
     "output_type": "display_data"
    },
    {
     "data": {
      "text/plain": [
       "'neu: 0.732, '"
      ]
     },
     "metadata": {},
     "output_type": "display_data"
    },
    {
     "data": {
      "text/plain": [
       "'pos: 0.268, '"
      ]
     },
     "metadata": {},
     "output_type": "display_data"
    },
    {
     "data": {
      "text/plain": [
       "'She became homeless, she said, when medical expenses mounted from two years of cancer treatment.'"
      ]
     },
     "metadata": {},
     "output_type": "display_data"
    },
    {
     "data": {
      "text/plain": [
       "'compound: -0.6597, '"
      ]
     },
     "metadata": {},
     "output_type": "display_data"
    },
    {
     "data": {
      "text/plain": [
       "'neg: 0.239, '"
      ]
     },
     "metadata": {},
     "output_type": "display_data"
    },
    {
     "data": {
      "text/plain": [
       "'neu: 0.761, '"
      ]
     },
     "metadata": {},
     "output_type": "display_data"
    },
    {
     "data": {
      "text/plain": [
       "'pos: 0.0, '"
      ]
     },
     "metadata": {},
     "output_type": "display_data"
    },
    {
     "data": {
      "text/plain": [
       "'She had to choose between having a roof over her head or fighting to get well.I wondered how many of these journalists actually spent a full day with her; besides the filmmakers, Paulette had told me I was the first.'"
      ]
     },
     "metadata": {},
     "output_type": "display_data"
    },
    {
     "data": {
      "text/plain": [
       "'compound: -0.3612, '"
      ]
     },
     "metadata": {},
     "output_type": "display_data"
    },
    {
     "data": {
      "text/plain": [
       "'neg: 0.065, '"
      ]
     },
     "metadata": {},
     "output_type": "display_data"
    },
    {
     "data": {
      "text/plain": [
       "'neu: 0.935, '"
      ]
     },
     "metadata": {},
     "output_type": "display_data"
    },
    {
     "data": {
      "text/plain": [
       "'pos: 0.0, '"
      ]
     },
     "metadata": {},
     "output_type": "display_data"
    },
    {
     "data": {
      "text/plain": [
       "\"Was I a horrible person for not buying her story wholesale?I know we're all vulnerable in this time of Internet hoaxes and fake news.\""
      ]
     },
     "metadata": {},
     "output_type": "display_data"
    },
    {
     "data": {
      "text/plain": [
       "'compound: -0.8176, '"
      ]
     },
     "metadata": {},
     "output_type": "display_data"
    },
    {
     "data": {
      "text/plain": [
       "'neg: 0.309, '"
      ]
     },
     "metadata": {},
     "output_type": "display_data"
    },
    {
     "data": {
      "text/plain": [
       "'neu: 0.691, '"
      ]
     },
     "metadata": {},
     "output_type": "display_data"
    },
    {
     "data": {
      "text/plain": [
       "'pos: 0.0, '"
      ]
     },
     "metadata": {},
     "output_type": "display_data"
    },
    {
     "data": {
      "text/plain": [
       "'Remember the recent story of a Santa Claus in Tennessee who claimed an ailing 5-year-old boy died in his arms?'"
      ]
     },
     "metadata": {},
     "output_type": "display_data"
    },
    {
     "data": {
      "text/plain": [
       "'compound: -0.5574, '"
      ]
     },
     "metadata": {},
     "output_type": "display_data"
    },
    {
     "data": {
      "text/plain": [
       "'neg: 0.167, '"
      ]
     },
     "metadata": {},
     "output_type": "display_data"
    },
    {
     "data": {
      "text/plain": [
       "'neu: 0.833, '"
      ]
     },
     "metadata": {},
     "output_type": "display_data"
    },
    {
     "data": {
      "text/plain": [
       "'pos: 0.0, '"
      ]
     },
     "metadata": {},
     "output_type": "display_data"
    },
    {
     "data": {
      "text/plain": [
       "\"The world went nuts over this tearjerker, the story went viral, and none of it was publicly corroborated by anyone other than Santa.I got teary-eyed when I saw Santa's story, and when I first learned about Paulette's I was similarly taken.\""
      ]
     },
     "metadata": {},
     "output_type": "display_data"
    },
    {
     "data": {
      "text/plain": [
       "'compound: -0.3182, '"
      ]
     },
     "metadata": {},
     "output_type": "display_data"
    },
    {
     "data": {
      "text/plain": [
       "'neg: 0.059, '"
      ]
     },
     "metadata": {},
     "output_type": "display_data"
    },
    {
     "data": {
      "text/plain": [
       "'neu: 0.941, '"
      ]
     },
     "metadata": {},
     "output_type": "display_data"
    },
    {
     "data": {
      "text/plain": [
       "'pos: 0.0, '"
      ]
     },
     "metadata": {},
     "output_type": "display_data"
    },
    {
     "data": {
      "text/plain": [
       "\"It's who I am as a person; I want to believe.\""
      ]
     },
     "metadata": {},
     "output_type": "display_data"
    },
    {
     "data": {
      "text/plain": [
       "'compound: 0.0772, '"
      ]
     },
     "metadata": {},
     "output_type": "display_data"
    },
    {
     "data": {
      "text/plain": [
       "'neg: 0.0, '"
      ]
     },
     "metadata": {},
     "output_type": "display_data"
    },
    {
     "data": {
      "text/plain": [
       "'neu: 0.843, '"
      ]
     },
     "metadata": {},
     "output_type": "display_data"
    },
    {
     "data": {
      "text/plain": [
       "'pos: 0.157, '"
      ]
     },
     "metadata": {},
     "output_type": "display_data"
    },
    {
     "data": {
      "text/plain": [
       "'But as a journalist my job is to ask questions and pull on those loose threads of doubt.'"
      ]
     },
     "metadata": {},
     "output_type": "display_data"
    },
    {
     "data": {
      "text/plain": [
       "'compound: -0.5859, '"
      ]
     },
     "metadata": {},
     "output_type": "display_data"
    },
    {
     "data": {
      "text/plain": [
       "'neg: 0.242, '"
      ]
     },
     "metadata": {},
     "output_type": "display_data"
    },
    {
     "data": {
      "text/plain": [
       "'neu: 0.758, '"
      ]
     },
     "metadata": {},
     "output_type": "display_data"
    },
    {
     "data": {
      "text/plain": [
       "'pos: 0.0, '"
      ]
     },
     "metadata": {},
     "output_type": "display_data"
    },
    {
     "data": {
      "text/plain": [
       "\"So I enlisted a CNN researcher to pull up a background report on Paulette.That's when her story began to unravel.She found a way for people to feel sorry for her, a way to collect money and notoriety.\""
      ]
     },
     "metadata": {},
     "output_type": "display_data"
    },
    {
     "data": {
      "text/plain": [
       "'compound: -0.0772, '"
      ]
     },
     "metadata": {},
     "output_type": "display_data"
    },
    {
     "data": {
      "text/plain": [
       "'neg: 0.04, '"
      ]
     },
     "metadata": {},
     "output_type": "display_data"
    },
    {
     "data": {
      "text/plain": [
       "'neu: 0.96, '"
      ]
     },
     "metadata": {},
     "output_type": "display_data"
    },
    {
     "data": {
      "text/plain": [
       "'pos: 0.0, '"
      ]
     },
     "metadata": {},
     "output_type": "display_data"
    },
    {
     "data": {
      "text/plain": [
       "'Barbara Smith, who won part of a $100,000 judgment against PauletteIt turns out her financial struggles long predated cancer.'"
      ]
     },
     "metadata": {},
     "output_type": "display_data"
    },
    {
     "data": {
      "text/plain": [
       "'compound: -0.4939, '"
      ]
     },
     "metadata": {},
     "output_type": "display_data"
    },
    {
     "data": {
      "text/plain": [
       "'neg: 0.27, '"
      ]
     },
     "metadata": {},
     "output_type": "display_data"
    },
    {
     "data": {
      "text/plain": [
       "'neu: 0.586, '"
      ]
     },
     "metadata": {},
     "output_type": "display_data"
    },
    {
     "data": {
      "text/plain": [
       "'pos: 0.145, '"
      ]
     },
     "metadata": {},
     "output_type": "display_data"
    },
    {
     "data": {
      "text/plain": [
       "\"Years before Paulette said God woke her up to say she had breast cancer, there'd been more than a half dozen civil judgments and liens against her totaling well over $100,000.\""
      ]
     },
     "metadata": {},
     "output_type": "display_data"
    },
    {
     "data": {
      "text/plain": [
       "'compound: -0.296, '"
      ]
     },
     "metadata": {},
     "output_type": "display_data"
    },
    {
     "data": {
      "text/plain": [
       "'neg: 0.124, '"
      ]
     },
     "metadata": {},
     "output_type": "display_data"
    },
    {
     "data": {
      "text/plain": [
       "'neu: 0.758, '"
      ]
     },
     "metadata": {},
     "output_type": "display_data"
    },
    {
     "data": {
      "text/plain": [
       "'pos: 0.118, '"
      ]
     },
     "metadata": {},
     "output_type": "display_data"
    },
    {
     "data": {
      "text/plain": [
       "\"She'd filed for bankruptcy, owed the IRS about $45,000 and had faced multiple evictions.The bulk of the civil judgments stemmed from the Virginia day care center, which Paulette had owned for less than two years.\""
      ]
     },
     "metadata": {},
     "output_type": "display_data"
    },
    {
     "data": {
      "text/plain": [
       "'compound: 0.4939, '"
      ]
     },
     "metadata": {},
     "output_type": "display_data"
    },
    {
     "data": {
      "text/plain": [
       "'neg: 0.0, '"
      ]
     },
     "metadata": {},
     "output_type": "display_data"
    },
    {
     "data": {
      "text/plain": [
       "'neu: 0.914, '"
      ]
     },
     "metadata": {},
     "output_type": "display_data"
    },
    {
     "data": {
      "text/plain": [
       "'pos: 0.086, '"
      ]
     },
     "metadata": {},
     "output_type": "display_data"
    },
    {
     "data": {
      "text/plain": [
       "'I spoke to Barbara Smith, who said she and a friend were bilked out of more than $60,000 after Paulette persuaded them to invest in the day care center and become her partners.'"
      ]
     },
     "metadata": {},
     "output_type": "display_data"
    },
    {
     "data": {
      "text/plain": [
       "'compound: 0.7506, '"
      ]
     },
     "metadata": {},
     "output_type": "display_data"
    },
    {
     "data": {
      "text/plain": [
       "'neg: 0.0, '"
      ]
     },
     "metadata": {},
     "output_type": "display_data"
    },
    {
     "data": {
      "text/plain": [
       "'neu: 0.819, '"
      ]
     },
     "metadata": {},
     "output_type": "display_data"
    },
    {
     "data": {
      "text/plain": [
       "'pos: 0.181, '"
      ]
     },
     "metadata": {},
     "output_type": "display_data"
    },
    {
     "data": {
      "text/plain": [
       "'They agreed that Smith and the friend, who knew Paulette from church, would later take over the business from Paulette, which she had valued at $200,000.'"
      ]
     },
     "metadata": {},
     "output_type": "display_data"
    },
    {
     "data": {
      "text/plain": [
       "'compound: 0.802, '"
      ]
     },
     "metadata": {},
     "output_type": "display_data"
    },
    {
     "data": {
      "text/plain": [
       "'neg: 0.0, '"
      ]
     },
     "metadata": {},
     "output_type": "display_data"
    },
    {
     "data": {
      "text/plain": [
       "'neu: 0.737, '"
      ]
     },
     "metadata": {},
     "output_type": "display_data"
    },
    {
     "data": {
      "text/plain": [
       "'pos: 0.263, '"
      ]
     },
     "metadata": {},
     "output_type": "display_data"
    },
    {
     "data": {
      "text/plain": [
       "\"But she'd been dishonest about the state of her day care center, was in the hole and hadn't even been paying rent on the building, Smith said.\""
      ]
     },
     "metadata": {},
     "output_type": "display_data"
    },
    {
     "data": {
      "text/plain": [
       "'compound: -0.128, '"
      ]
     },
     "metadata": {},
     "output_type": "display_data"
    },
    {
     "data": {
      "text/plain": [
       "'neg: 0.116, '"
      ]
     },
     "metadata": {},
     "output_type": "display_data"
    },
    {
     "data": {
      "text/plain": [
       "'neu: 0.784, '"
      ]
     },
     "metadata": {},
     "output_type": "display_data"
    },
    {
     "data": {
      "text/plain": [
       "'pos: 0.1, '"
      ]
     },
     "metadata": {},
     "output_type": "display_data"
    },
    {
     "data": {
      "text/plain": [
       "'The pair lost everything they gave Paulette.'"
      ]
     },
     "metadata": {},
     "output_type": "display_data"
    },
    {
     "data": {
      "text/plain": [
       "'compound: -0.3182, '"
      ]
     },
     "metadata": {},
     "output_type": "display_data"
    },
    {
     "data": {
      "text/plain": [
       "'neg: 0.277, '"
      ]
     },
     "metadata": {},
     "output_type": "display_data"
    },
    {
     "data": {
      "text/plain": [
       "'neu: 0.723, '"
      ]
     },
     "metadata": {},
     "output_type": "display_data"
    },
    {
     "data": {
      "text/plain": [
       "'pos: 0.0, '"
      ]
     },
     "metadata": {},
     "output_type": "display_data"
    },
    {
     "data": {
      "text/plain": [
       "'\"We were investing in something that wasn\\'t even there,\" said Smith, who admitted they were too trusting.'"
      ]
     },
     "metadata": {},
     "output_type": "display_data"
    },
    {
     "data": {
      "text/plain": [
       "'compound: 0.4767, '"
      ]
     },
     "metadata": {},
     "output_type": "display_data"
    },
    {
     "data": {
      "text/plain": [
       "'neg: 0.0, '"
      ]
     },
     "metadata": {},
     "output_type": "display_data"
    },
    {
     "data": {
      "text/plain": [
       "'neu: 0.785, '"
      ]
     },
     "metadata": {},
     "output_type": "display_data"
    },
    {
     "data": {
      "text/plain": [
       "'pos: 0.215, '"
      ]
     },
     "metadata": {},
     "output_type": "display_data"
    },
    {
     "data": {
      "text/plain": [
       "'\"She just kind of shrugged it off as if we knew what we were getting into.'"
      ]
     },
     "metadata": {},
     "output_type": "display_data"
    },
    {
     "data": {
      "text/plain": [
       "'compound: 0.0, '"
      ]
     },
     "metadata": {},
     "output_type": "display_data"
    },
    {
     "data": {
      "text/plain": [
       "'neg: 0.0, '"
      ]
     },
     "metadata": {},
     "output_type": "display_data"
    },
    {
     "data": {
      "text/plain": [
       "'neu: 1.0, '"
      ]
     },
     "metadata": {},
     "output_type": "display_data"
    },
    {
     "data": {
      "text/plain": [
       "'pos: 0.0, '"
      ]
     },
     "metadata": {},
     "output_type": "display_data"
    },
    {
     "data": {
      "text/plain": [
       "'\"Court documents show that Paulette had defaulted on her lease and had \"fraudulently represented\" the worth of her business.'"
      ]
     },
     "metadata": {},
     "output_type": "display_data"
    },
    {
     "data": {
      "text/plain": [
       "'compound: 0.2263, '"
      ]
     },
     "metadata": {},
     "output_type": "display_data"
    },
    {
     "data": {
      "text/plain": [
       "'neg: 0.0, '"
      ]
     },
     "metadata": {},
     "output_type": "display_data"
    },
    {
     "data": {
      "text/plain": [
       "'neu: 0.905, '"
      ]
     },
     "metadata": {},
     "output_type": "display_data"
    },
    {
     "data": {
      "text/plain": [
       "'pos: 0.095, '"
      ]
     },
     "metadata": {},
     "output_type": "display_data"
    },
    {
     "data": {
      "text/plain": [
       "'Paulette \"declined to cooperate with her counsel and failed to appear for trial,\" the court order read.The plaintiffs were awarded more than $100,000, but they \"never saw a red cent,\" Smith said.'"
      ]
     },
     "metadata": {},
     "output_type": "display_data"
    },
    {
     "data": {
      "text/plain": [
       "'compound: -0.0772, '"
      ]
     },
     "metadata": {},
     "output_type": "display_data"
    },
    {
     "data": {
      "text/plain": [
       "'neg: 0.065, '"
      ]
     },
     "metadata": {},
     "output_type": "display_data"
    },
    {
     "data": {
      "text/plain": [
       "'neu: 0.879, '"
      ]
     },
     "metadata": {},
     "output_type": "display_data"
    },
    {
     "data": {
      "text/plain": [
       "'pos: 0.056, '"
      ]
     },
     "metadata": {},
     "output_type": "display_data"
    },
    {
     "data": {
      "text/plain": [
       "\"Paulette filed for bankruptcy a few days later.When media reports about Paulette's 1,000-mile walk began appearing, Smith said she and her friend were only temporarily surprised.\""
      ]
     },
     "metadata": {},
     "output_type": "display_data"
    },
    {
     "data": {
      "text/plain": [
       "'compound: 0.6249, '"
      ]
     },
     "metadata": {},
     "output_type": "display_data"
    },
    {
     "data": {
      "text/plain": [
       "'neg: 0.0, '"
      ]
     },
     "metadata": {},
     "output_type": "display_data"
    },
    {
     "data": {
      "text/plain": [
       "'neu: 0.819, '"
      ]
     },
     "metadata": {},
     "output_type": "display_data"
    },
    {
     "data": {
      "text/plain": [
       "'pos: 0.181, '"
      ]
     },
     "metadata": {},
     "output_type": "display_data"
    },
    {
     "data": {
      "text/plain": [
       "'Knowing her the way they did, this was just another \"newfangled idea of how to get money,\" Smith said.'"
      ]
     },
     "metadata": {},
     "output_type": "display_data"
    },
    {
     "data": {
      "text/plain": [
       "'compound: 0.0, '"
      ]
     },
     "metadata": {},
     "output_type": "display_data"
    },
    {
     "data": {
      "text/plain": [
       "'neg: 0.0, '"
      ]
     },
     "metadata": {},
     "output_type": "display_data"
    },
    {
     "data": {
      "text/plain": [
       "'neu: 1.0, '"
      ]
     },
     "metadata": {},
     "output_type": "display_data"
    },
    {
     "data": {
      "text/plain": [
       "'pos: 0.0, '"
      ]
     },
     "metadata": {},
     "output_type": "display_data"
    },
    {
     "data": {
      "text/plain": [
       "'\"She found a way for people to feel sorry for her, a way to collect money and notoriety.'"
      ]
     },
     "metadata": {},
     "output_type": "display_data"
    },
    {
     "data": {
      "text/plain": [
       "'compound: -0.0772, '"
      ]
     },
     "metadata": {},
     "output_type": "display_data"
    },
    {
     "data": {
      "text/plain": [
       "'neg: 0.08, '"
      ]
     },
     "metadata": {},
     "output_type": "display_data"
    },
    {
     "data": {
      "text/plain": [
       "'neu: 0.92, '"
      ]
     },
     "metadata": {},
     "output_type": "display_data"
    },
    {
     "data": {
      "text/plain": [
       "'pos: 0.0, '"
      ]
     },
     "metadata": {},
     "output_type": "display_data"
    },
    {
     "data": {
      "text/plain": [
       "'\"Paulette Leaphart captured the attention of young documentary filmmakers when she approached a producer, lifted up her shirt and said her story needed to be told.A day with BeyoncéIt became clear, as I ambled along with her, that Paulette possessed an inflated sense of her fame.She told me she imagined having her own reality TV show and a movie deal by the time her walk was over.'"
      ]
     },
     "metadata": {},
     "output_type": "display_data"
    },
    {
     "data": {
      "text/plain": [
       "'compound: 0.3818, '"
      ]
     },
     "metadata": {},
     "output_type": "display_data"
    },
    {
     "data": {
      "text/plain": [
       "'neg: 0.0, '"
      ]
     },
     "metadata": {},
     "output_type": "display_data"
    },
    {
     "data": {
      "text/plain": [
       "'neu: 0.96, '"
      ]
     },
     "metadata": {},
     "output_type": "display_data"
    },
    {
     "data": {
      "text/plain": [
       "'pos: 0.04, '"
      ]
     },
     "metadata": {},
     "output_type": "display_data"
    },
    {
     "data": {
      "text/plain": [
       "'She envisioned a career doing motivational speaking across the globe.She spoke about Beyoncé as if they were friends and said the star had spent a whole day alone with her on the set of \"Lemonade.\"'"
      ]
     },
     "metadata": {},
     "output_type": "display_data"
    },
    {
     "data": {
      "text/plain": [
       "'compound: 0.2732, '"
      ]
     },
     "metadata": {},
     "output_type": "display_data"
    },
    {
     "data": {
      "text/plain": [
       "'neg: 0.055, '"
      ]
     },
     "metadata": {},
     "output_type": "display_data"
    },
    {
     "data": {
      "text/plain": [
       "'neu: 0.859, '"
      ]
     },
     "metadata": {},
     "output_type": "display_data"
    },
    {
     "data": {
      "text/plain": [
       "'pos: 0.086, '"
      ]
     },
     "metadata": {},
     "output_type": "display_data"
    },
    {
     "data": {
      "text/plain": [
       "'She said Beyoncé wanted her daughter, Blue Ivy, to look up to women like her.'"
      ]
     },
     "metadata": {},
     "output_type": "display_data"
    },
    {
     "data": {
      "text/plain": [
       "'compound: 0.3612, '"
      ]
     },
     "metadata": {},
     "output_type": "display_data"
    },
    {
     "data": {
      "text/plain": [
       "'neg: 0.0, '"
      ]
     },
     "metadata": {},
     "output_type": "display_data"
    },
    {
     "data": {
      "text/plain": [
       "'neu: 0.848, '"
      ]
     },
     "metadata": {},
     "output_type": "display_data"
    },
    {
     "data": {
      "text/plain": [
       "'pos: 0.152, '"
      ]
     },
     "metadata": {},
     "output_type": "display_data"
    },
    {
     "data": {
      "text/plain": [
       "\"She said Beyoncé had promised to walk with her for a mile.I reached out a number of times to Beyoncé's publicist to ask about their relationship but never got a response.Paulette predicted that by the time she arrived in Washington, thousands of women would join her.\""
      ]
     },
     "metadata": {},
     "output_type": "display_data"
    },
    {
     "data": {
      "text/plain": [
       "'compound: 0.5994, '"
      ]
     },
     "metadata": {},
     "output_type": "display_data"
    },
    {
     "data": {
      "text/plain": [
       "'neg: 0.0, '"
      ]
     },
     "metadata": {},
     "output_type": "display_data"
    },
    {
     "data": {
      "text/plain": [
       "'neu: 0.85, '"
      ]
     },
     "metadata": {},
     "output_type": "display_data"
    },
    {
     "data": {
      "text/plain": [
       "'pos: 0.15, '"
      ]
     },
     "metadata": {},
     "output_type": "display_data"
    },
    {
     "data": {
      "text/plain": [
       "\"She said she'd been invited to walk in places as far-flung as Kenya and Jamaica and that she was a hero in Israel.These seemingly over-the-top statements only made me question her further.I knew she was struggling, and I worried about her.\""
      ]
     },
     "metadata": {},
     "output_type": "display_data"
    },
    {
     "data": {
      "text/plain": [
       "'compound: -0.1027, '"
      ]
     },
     "metadata": {},
     "output_type": "display_data"
    },
    {
     "data": {
      "text/plain": [
       "'neg: 0.112, '"
      ]
     },
     "metadata": {},
     "output_type": "display_data"
    },
    {
     "data": {
      "text/plain": [
       "'neu: 0.807, '"
      ]
     },
     "metadata": {},
     "output_type": "display_data"
    },
    {
     "data": {
      "text/plain": [
       "'pos: 0.081, '"
      ]
     },
     "metadata": {},
     "output_type": "display_data"
    },
    {
     "data": {
      "text/plain": [
       "\"... Part of me wanted to close the book on this story, leave it unwritten and move on.I followed her daily on Facebook to see where she was and what she'd do or say next.\""
      ]
     },
     "metadata": {},
     "output_type": "display_data"
    },
    {
     "data": {
      "text/plain": [
       "'compound: -0.0516, '"
      ]
     },
     "metadata": {},
     "output_type": "display_data"
    },
    {
     "data": {
      "text/plain": [
       "'neg: 0.034, '"
      ]
     },
     "metadata": {},
     "output_type": "display_data"
    },
    {
     "data": {
      "text/plain": [
       "'neu: 0.966, '"
      ]
     },
     "metadata": {},
     "output_type": "display_data"
    },
    {
     "data": {
      "text/plain": [
       "'pos: 0.0, '"
      ]
     },
     "metadata": {},
     "output_type": "display_data"
    },
    {
     "data": {
      "text/plain": [
       "'Five days after I left her, she posted a picture of the stroller with the flat tire.'"
      ]
     },
     "metadata": {},
     "output_type": "display_data"
    },
    {
     "data": {
      "text/plain": [
       "'compound: 0.0, '"
      ]
     },
     "metadata": {},
     "output_type": "display_data"
    },
    {
     "data": {
      "text/plain": [
       "'neg: 0.0, '"
      ]
     },
     "metadata": {},
     "output_type": "display_data"
    },
    {
     "data": {
      "text/plain": [
       "'neu: 1.0, '"
      ]
     },
     "metadata": {},
     "output_type": "display_data"
    },
    {
     "data": {
      "text/plain": [
       "'pos: 0.0, '"
      ]
     },
     "metadata": {},
     "output_type": "display_data"
    },
    {
     "data": {
      "text/plain": [
       "\"The next day she posted a picture I'd seen her take with a man outside Charlotte.\""
      ]
     },
     "metadata": {},
     "output_type": "display_data"
    },
    {
     "data": {
      "text/plain": [
       "'compound: 0.0, '"
      ]
     },
     "metadata": {},
     "output_type": "display_data"
    },
    {
     "data": {
      "text/plain": [
       "'neg: 0.0, '"
      ]
     },
     "metadata": {},
     "output_type": "display_data"
    },
    {
     "data": {
      "text/plain": [
       "'neu: 1.0, '"
      ]
     },
     "metadata": {},
     "output_type": "display_data"
    },
    {
     "data": {
      "text/plain": [
       "'pos: 0.0, '"
      ]
     },
     "metadata": {},
     "output_type": "display_data"
    },
    {
     "data": {
      "text/plain": [
       "\"She was supposed to be nearing Durham at this point, around 150 miles away from where we said goodbye, and I couldn't help but wonder why she was still sharing shots from nearly a week earlier.\""
      ]
     },
     "metadata": {},
     "output_type": "display_data"
    },
    {
     "data": {
      "text/plain": [
       "'compound: 0.4715, '"
      ]
     },
     "metadata": {},
     "output_type": "display_data"
    },
    {
     "data": {
      "text/plain": [
       "'neg: 0.044, '"
      ]
     },
     "metadata": {},
     "output_type": "display_data"
    },
    {
     "data": {
      "text/plain": [
       "'neu: 0.857, '"
      ]
     },
     "metadata": {},
     "output_type": "display_data"
    },
    {
     "data": {
      "text/plain": [
       "'pos: 0.099, '"
      ]
     },
     "metadata": {},
     "output_type": "display_data"
    },
    {
     "data": {
      "text/plain": [
       "'I learned that she stayed in the house where I met her for five nights total -- two after we parted ways.'"
      ]
     },
     "metadata": {},
     "output_type": "display_data"
    },
    {
     "data": {
      "text/plain": [
       "'compound: 0.0, '"
      ]
     },
     "metadata": {},
     "output_type": "display_data"
    },
    {
     "data": {
      "text/plain": [
       "'neg: 0.0, '"
      ]
     },
     "metadata": {},
     "output_type": "display_data"
    },
    {
     "data": {
      "text/plain": [
       "'neu: 1.0, '"
      ]
     },
     "metadata": {},
     "output_type": "display_data"
    },
    {
     "data": {
      "text/plain": [
       "'pos: 0.0, '"
      ]
     },
     "metadata": {},
     "output_type": "display_data"
    },
    {
     "data": {
      "text/plain": [
       "'After that, she seemed to take as many days off as she walked.She visited with relatives and girlfriends and frolicked on a beach.'"
      ]
     },
     "metadata": {},
     "output_type": "display_data"
    },
    {
     "data": {
      "text/plain": [
       "'compound: 0.0, '"
      ]
     },
     "metadata": {},
     "output_type": "display_data"
    },
    {
     "data": {
      "text/plain": [
       "'neg: 0.0, '"
      ]
     },
     "metadata": {},
     "output_type": "display_data"
    },
    {
     "data": {
      "text/plain": [
       "'neu: 1.0, '"
      ]
     },
     "metadata": {},
     "output_type": "display_data"
    },
    {
     "data": {
      "text/plain": [
       "'pos: 0.0, '"
      ]
     },
     "metadata": {},
     "output_type": "display_data"
    },
    {
     "data": {
      "text/plain": [
       "'She fell sick and rested.'"
      ]
     },
     "metadata": {},
     "output_type": "display_data"
    },
    {
     "data": {
      "text/plain": [
       "'compound: -0.5106, '"
      ]
     },
     "metadata": {},
     "output_type": "display_data"
    },
    {
     "data": {
      "text/plain": [
       "'neg: 0.452, '"
      ]
     },
     "metadata": {},
     "output_type": "display_data"
    },
    {
     "data": {
      "text/plain": [
       "'neu: 0.548, '"
      ]
     },
     "metadata": {},
     "output_type": "display_data"
    },
    {
     "data": {
      "text/plain": [
       "'pos: 0.0, '"
      ]
     },
     "metadata": {},
     "output_type": "display_data"
    },
    {
     "data": {
      "text/plain": [
       "'She phoned to tell me about circulation problems in her feet and cried about being bullied online.'"
      ]
     },
     "metadata": {},
     "output_type": "display_data"
    },
    {
     "data": {
      "text/plain": [
       "'compound: -0.8555, '"
      ]
     },
     "metadata": {},
     "output_type": "display_data"
    },
    {
     "data": {
      "text/plain": [
       "'neg: 0.402, '"
      ]
     },
     "metadata": {},
     "output_type": "display_data"
    },
    {
     "data": {
      "text/plain": [
       "'neu: 0.598, '"
      ]
     },
     "metadata": {},
     "output_type": "display_data"
    },
    {
     "data": {
      "text/plain": [
       "'pos: 0.0, '"
      ]
     },
     "metadata": {},
     "output_type": "display_data"
    },
    {
     "data": {
      "text/plain": [
       "\"She put her walk on hold to travel up to Washington to attend The United State of Women Summit, hosted by first lady Michelle Obama and Oprah Winfrey, but didn't stay.\""
      ]
     },
     "metadata": {},
     "output_type": "display_data"
    },
    {
     "data": {
      "text/plain": [
       "'compound: 0.2263, '"
      ]
     },
     "metadata": {},
     "output_type": "display_data"
    },
    {
     "data": {
      "text/plain": [
       "'neg: 0.0, '"
      ]
     },
     "metadata": {},
     "output_type": "display_data"
    },
    {
     "data": {
      "text/plain": [
       "'neu: 0.94, '"
      ]
     },
     "metadata": {},
     "output_type": "display_data"
    },
    {
     "data": {
      "text/plain": [
       "'pos: 0.06, '"
      ]
     },
     "metadata": {},
     "output_type": "display_data"
    },
    {
     "data": {
      "text/plain": [
       "'The next day she posted photos of herself in a hospital bed, saying she was dehydrated.I knew she was struggling, and I worried about her.'"
      ]
     },
     "metadata": {},
     "output_type": "display_data"
    },
    {
     "data": {
      "text/plain": [
       "'compound: -0.6124, '"
      ]
     },
     "metadata": {},
     "output_type": "display_data"
    },
    {
     "data": {
      "text/plain": [
       "'neg: 0.192, '"
      ]
     },
     "metadata": {},
     "output_type": "display_data"
    },
    {
     "data": {
      "text/plain": [
       "'neu: 0.808, '"
      ]
     },
     "metadata": {},
     "output_type": "display_data"
    },
    {
     "data": {
      "text/plain": [
       "'pos: 0.0, '"
      ]
     },
     "metadata": {},
     "output_type": "display_data"
    },
    {
     "data": {
      "text/plain": [
       "\"I suspected the attention had derailed her initial mission, that she'd gotten in deeper than she could handle.\""
      ]
     },
     "metadata": {},
     "output_type": "display_data"
    },
    {
     "data": {
      "text/plain": [
       "'compound: -0.5106, '"
      ]
     },
     "metadata": {},
     "output_type": "display_data"
    },
    {
     "data": {
      "text/plain": [
       "'neg: 0.223, '"
      ]
     },
     "metadata": {},
     "output_type": "display_data"
    },
    {
     "data": {
      "text/plain": [
       "'neu: 0.777, '"
      ]
     },
     "metadata": {},
     "output_type": "display_data"
    },
    {
     "data": {
      "text/plain": [
       "'pos: 0.0, '"
      ]
     },
     "metadata": {},
     "output_type": "display_data"
    },
    {
     "data": {
      "text/plain": [
       "'I wondered if she was surrounded by people who no longer cared about her best interests.'"
      ]
     },
     "metadata": {},
     "output_type": "display_data"
    },
    {
     "data": {
      "text/plain": [
       "'compound: 0.7783, '"
      ]
     },
     "metadata": {},
     "output_type": "display_data"
    },
    {
     "data": {
      "text/plain": [
       "'neg: 0.099, '"
      ]
     },
     "metadata": {},
     "output_type": "display_data"
    },
    {
     "data": {
      "text/plain": [
       "'neu: 0.495, '"
      ]
     },
     "metadata": {},
     "output_type": "display_data"
    },
    {
     "data": {
      "text/plain": [
       "'pos: 0.405, '"
      ]
     },
     "metadata": {},
     "output_type": "display_data"
    },
    {
     "data": {
      "text/plain": [
       "'I feared there might be something bigger going on with her, that she might have other issues.'"
      ]
     },
     "metadata": {},
     "output_type": "display_data"
    },
    {
     "data": {
      "text/plain": [
       "'compound: -0.4939, '"
      ]
     },
     "metadata": {},
     "output_type": "display_data"
    },
    {
     "data": {
      "text/plain": [
       "'neg: 0.176, '"
      ]
     },
     "metadata": {},
     "output_type": "display_data"
    },
    {
     "data": {
      "text/plain": [
       "'neu: 0.824, '"
      ]
     },
     "metadata": {},
     "output_type": "display_data"
    },
    {
     "data": {
      "text/plain": [
       "'pos: 0.0, '"
      ]
     },
     "metadata": {},
     "output_type": "display_data"
    },
    {
     "data": {
      "text/plain": [
       "'Part of me wanted to close the book on this story, leave it unwritten and move on.'"
      ]
     },
     "metadata": {},
     "output_type": "display_data"
    },
    {
     "data": {
      "text/plain": [
       "'compound: -0.0516, '"
      ]
     },
     "metadata": {},
     "output_type": "display_data"
    },
    {
     "data": {
      "text/plain": [
       "'neg: 0.07, '"
      ]
     },
     "metadata": {},
     "output_type": "display_data"
    },
    {
     "data": {
      "text/plain": [
       "'neu: 0.93, '"
      ]
     },
     "metadata": {},
     "output_type": "display_data"
    },
    {
     "data": {
      "text/plain": [
       "'pos: 0.0, '"
      ]
     },
     "metadata": {},
     "output_type": "display_data"
    },
    {
     "data": {
      "text/plain": [
       "'Her journey now felt tragic and sad.'"
      ]
     },
     "metadata": {},
     "output_type": "display_data"
    },
    {
     "data": {
      "text/plain": [
       "'compound: -0.7269, '"
      ]
     },
     "metadata": {},
     "output_type": "display_data"
    },
    {
     "data": {
      "text/plain": [
       "'neg: 0.55, '"
      ]
     },
     "metadata": {},
     "output_type": "display_data"
    },
    {
     "data": {
      "text/plain": [
       "'neu: 0.45, '"
      ]
     },
     "metadata": {},
     "output_type": "display_data"
    },
    {
     "data": {
      "text/plain": [
       "'pos: 0.0, '"
      ]
     },
     "metadata": {},
     "output_type": "display_data"
    },
    {
     "data": {
      "text/plain": [
       "'What purpose would outing her discrepancies serve?But I kept reminding myself Paulette put herself in the spotlight.'"
      ]
     },
     "metadata": {},
     "output_type": "display_data"
    },
    {
     "data": {
      "text/plain": [
       "'compound: 0.0, '"
      ]
     },
     "metadata": {},
     "output_type": "display_data"
    },
    {
     "data": {
      "text/plain": [
       "'neg: 0.0, '"
      ]
     },
     "metadata": {},
     "output_type": "display_data"
    },
    {
     "data": {
      "text/plain": [
       "'neu: 1.0, '"
      ]
     },
     "metadata": {},
     "output_type": "display_data"
    },
    {
     "data": {
      "text/plain": [
       "'pos: 0.0, '"
      ]
     },
     "metadata": {},
     "output_type": "display_data"
    },
    {
     "data": {
      "text/plain": [
       "'Millions of people subscribed to her story, including plenty of journalists.'"
      ]
     },
     "metadata": {},
     "output_type": "display_data"
    },
    {
     "data": {
      "text/plain": [
       "'compound: 0.0, '"
      ]
     },
     "metadata": {},
     "output_type": "display_data"
    },
    {
     "data": {
      "text/plain": [
       "'neg: 0.0, '"
      ]
     },
     "metadata": {},
     "output_type": "display_data"
    },
    {
     "data": {
      "text/plain": [
       "'neu: 1.0, '"
      ]
     },
     "metadata": {},
     "output_type": "display_data"
    },
    {
     "data": {
      "text/plain": [
       "'pos: 0.0, '"
      ]
     },
     "metadata": {},
     "output_type": "display_data"
    },
    {
     "data": {
      "text/plain": [
       "'Beyond notoriety, what else was she after?'"
      ]
     },
     "metadata": {},
     "output_type": "display_data"
    },
    {
     "data": {
      "text/plain": [
       "'compound: 0.0, '"
      ]
     },
     "metadata": {},
     "output_type": "display_data"
    },
    {
     "data": {
      "text/plain": [
       "'neg: 0.0, '"
      ]
     },
     "metadata": {},
     "output_type": "display_data"
    },
    {
     "data": {
      "text/plain": [
       "'neu: 1.0, '"
      ]
     },
     "metadata": {},
     "output_type": "display_data"
    },
    {
     "data": {
      "text/plain": [
       "'pos: 0.0, '"
      ]
     },
     "metadata": {},
     "output_type": "display_data"
    },
    {
     "data": {
      "text/plain": [
       "'How was she affecting others?'"
      ]
     },
     "metadata": {},
     "output_type": "display_data"
    },
    {
     "data": {
      "text/plain": [
       "'compound: 0.0, '"
      ]
     },
     "metadata": {},
     "output_type": "display_data"
    },
    {
     "data": {
      "text/plain": [
       "'neg: 0.0, '"
      ]
     },
     "metadata": {},
     "output_type": "display_data"
    },
    {
     "data": {
      "text/plain": [
       "'neu: 1.0, '"
      ]
     },
     "metadata": {},
     "output_type": "display_data"
    },
    {
     "data": {
      "text/plain": [
       "'pos: 0.0, '"
      ]
     },
     "metadata": {},
     "output_type": "display_data"
    },
    {
     "data": {
      "text/plain": [
       "'Maybe there was something to gain from digging deeper -- for all of us.The trailer for \"Scar Story,\" a proposed documentary about Paulette Leaphart\\'s 1,000-mile walk, was filmed in New Orleans, where Paulette lives.Looking for directionPart of what kept me going was what I learned about the documentary.The filmmakers told me they\\'d spent seven months preparing for this venture.'"
      ]
     },
     "metadata": {},
     "output_type": "display_data"
    },
    {
     "data": {
      "text/plain": [
       "'compound: 0.5267, '"
      ]
     },
     "metadata": {},
     "output_type": "display_data"
    },
    {
     "data": {
      "text/plain": [
       "'neg: 0.0, '"
      ]
     },
     "metadata": {},
     "output_type": "display_data"
    },
    {
     "data": {
      "text/plain": [
       "'neu: 0.943, '"
      ]
     },
     "metadata": {},
     "output_type": "display_data"
    },
    {
     "data": {
      "text/plain": [
       "'pos: 0.057, '"
      ]
     },
     "metadata": {},
     "output_type": "display_data"
    },
    {
     "data": {
      "text/plain": [
       "\"They said Paulette had signed off on the trailer and Kickstarter page and had been told time and again that the film crew's intention was to simply document her journey.They thought they'd made it clear to Paulette that she would be responsible for her personal arrangements, logistics, support system and finances.\""
      ]
     },
     "metadata": {},
     "output_type": "display_data"
    },
    {
     "data": {
      "text/plain": [
       "'compound: 0.765, '"
      ]
     },
     "metadata": {},
     "output_type": "display_data"
    },
    {
     "data": {
      "text/plain": [
       "'neg: 0.0, '"
      ]
     },
     "metadata": {},
     "output_type": "display_data"
    },
    {
     "data": {
      "text/plain": [
       "'neu: 0.863, '"
      ]
     },
     "metadata": {},
     "output_type": "display_data"
    },
    {
     "data": {
      "text/plain": [
       "'pos: 0.137, '"
      ]
     },
     "metadata": {},
     "output_type": "display_data"
    },
    {
     "data": {
      "text/plain": [
       "'As the departure date approached, they said, they kept checking to make sure her plans were on schedule.'"
      ]
     },
     "metadata": {},
     "output_type": "display_data"
    },
    {
     "data": {
      "text/plain": [
       "'compound: 0.3182, '"
      ]
     },
     "metadata": {},
     "output_type": "display_data"
    },
    {
     "data": {
      "text/plain": [
       "'neg: 0.0, '"
      ]
     },
     "metadata": {},
     "output_type": "display_data"
    },
    {
     "data": {
      "text/plain": [
       "'neu: 0.881, '"
      ]
     },
     "metadata": {},
     "output_type": "display_data"
    },
    {
     "data": {
      "text/plain": [
       "'pos: 0.119, '"
      ]
     },
     "metadata": {},
     "output_type": "display_data"
    },
    {
     "data": {
      "text/plain": [
       "'Paulette assured them she was ready.The day they set out, the filmmakers learned that her plan was to lean on them.'"
      ]
     },
     "metadata": {},
     "output_type": "display_data"
    },
    {
     "data": {
      "text/plain": [
       "'compound: 0.3612, '"
      ]
     },
     "metadata": {},
     "output_type": "display_data"
    },
    {
     "data": {
      "text/plain": [
       "'neg: 0.0, '"
      ]
     },
     "metadata": {},
     "output_type": "display_data"
    },
    {
     "data": {
      "text/plain": [
       "'neu: 0.889, '"
      ]
     },
     "metadata": {},
     "output_type": "display_data"
    },
    {
     "data": {
      "text/plain": [
       "'pos: 0.111, '"
      ]
     },
     "metadata": {},
     "output_type": "display_data"
    },
    {
     "data": {
      "text/plain": [
       "'Director Emily MacKenzie said Paulette turned to her and asked, \"Which way should I go?'"
      ]
     },
     "metadata": {},
     "output_type": "display_data"
    },
    {
     "data": {
      "text/plain": [
       "'compound: 0.0, '"
      ]
     },
     "metadata": {},
     "output_type": "display_data"
    },
    {
     "data": {
      "text/plain": [
       "'neg: 0.0, '"
      ]
     },
     "metadata": {},
     "output_type": "display_data"
    },
    {
     "data": {
      "text/plain": [
       "'neu: 1.0, '"
      ]
     },
     "metadata": {},
     "output_type": "display_data"
    },
    {
     "data": {
      "text/plain": [
       "'pos: 0.0, '"
      ]
     },
     "metadata": {},
     "output_type": "display_data"
    },
    {
     "data": {
      "text/plain": [
       "'\"\"My heart sank,\" MacKenzie told me.'"
      ]
     },
     "metadata": {},
     "output_type": "display_data"
    },
    {
     "data": {
      "text/plain": [
       "'compound: 0.0, '"
      ]
     },
     "metadata": {},
     "output_type": "display_data"
    },
    {
     "data": {
      "text/plain": [
       "'neg: 0.0, '"
      ]
     },
     "metadata": {},
     "output_type": "display_data"
    },
    {
     "data": {
      "text/plain": [
       "'neu: 1.0, '"
      ]
     },
     "metadata": {},
     "output_type": "display_data"
    },
    {
     "data": {
      "text/plain": [
       "'pos: 0.0, '"
      ]
     },
     "metadata": {},
     "output_type": "display_data"
    },
    {
     "data": {
      "text/plain": [
       "'\"In that moment when she said that, I felt betrayed and deeply worried.'"
      ]
     },
     "metadata": {},
     "output_type": "display_data"
    },
    {
     "data": {
      "text/plain": [
       "'compound: -0.7574, '"
      ]
     },
     "metadata": {},
     "output_type": "display_data"
    },
    {
     "data": {
      "text/plain": [
       "'neg: 0.394, '"
      ]
     },
     "metadata": {},
     "output_type": "display_data"
    },
    {
     "data": {
      "text/plain": [
       "'neu: 0.606, '"
      ]
     },
     "metadata": {},
     "output_type": "display_data"
    },
    {
     "data": {
      "text/plain": [
       "'pos: 0.0, '"
      ]
     },
     "metadata": {},
     "output_type": "display_data"
    },
    {
     "data": {
      "text/plain": [
       "'\"Paulette also insisted on bringing her daughter.'"
      ]
     },
     "metadata": {},
     "output_type": "display_data"
    },
    {
     "data": {
      "text/plain": [
       "'compound: 0.0, '"
      ]
     },
     "metadata": {},
     "output_type": "display_data"
    },
    {
     "data": {
      "text/plain": [
       "'neg: 0.0, '"
      ]
     },
     "metadata": {},
     "output_type": "display_data"
    },
    {
     "data": {
      "text/plain": [
       "'neu: 1.0, '"
      ]
     },
     "metadata": {},
     "output_type": "display_data"
    },
    {
     "data": {
      "text/plain": [
       "'pos: 0.0, '"
      ]
     },
     "metadata": {},
     "output_type": "display_data"
    },
    {
     "data": {
      "text/plain": [
       "'The filmmakers had expressed concerns about this in earlier conversations.'"
      ]
     },
     "metadata": {},
     "output_type": "display_data"
    },
    {
     "data": {
      "text/plain": [
       "'compound: 0.0, '"
      ]
     },
     "metadata": {},
     "output_type": "display_data"
    },
    {
     "data": {
      "text/plain": [
       "'neg: 0.0, '"
      ]
     },
     "metadata": {},
     "output_type": "display_data"
    },
    {
     "data": {
      "text/plain": [
       "'neu: 1.0, '"
      ]
     },
     "metadata": {},
     "output_type": "display_data"
    },
    {
     "data": {
      "text/plain": [
       "'pos: 0.0, '"
      ]
     },
     "metadata": {},
     "output_type": "display_data"
    },
    {
     "data": {
      "text/plain": [
       "'How would Paulette walk and care for her at the same time?'"
      ]
     },
     "metadata": {},
     "output_type": "display_data"
    },
    {
     "data": {
      "text/plain": [
       "'compound: 0.4939, '"
      ]
     },
     "metadata": {},
     "output_type": "display_data"
    },
    {
     "data": {
      "text/plain": [
       "'neg: 0.0, '"
      ]
     },
     "metadata": {},
     "output_type": "display_data"
    },
    {
     "data": {
      "text/plain": [
       "'neu: 0.775, '"
      ]
     },
     "metadata": {},
     "output_type": "display_data"
    },
    {
     "data": {
      "text/plain": [
       "'pos: 0.225, '"
      ]
     },
     "metadata": {},
     "output_type": "display_data"
    },
    {
     "data": {
      "text/plain": [
       "\"She insisted she could handle it.They agreed to help out in small ways; they'd gladly walk Paulette's daughter to the bathroom or make her a sandwich.\""
      ]
     },
     "metadata": {},
     "output_type": "display_data"
    },
    {
     "data": {
      "text/plain": [
       "'compound: 0.7351, '"
      ]
     },
     "metadata": {},
     "output_type": "display_data"
    },
    {
     "data": {
      "text/plain": [
       "'neg: 0.0, '"
      ]
     },
     "metadata": {},
     "output_type": "display_data"
    },
    {
     "data": {
      "text/plain": [
       "'neu: 0.753, '"
      ]
     },
     "metadata": {},
     "output_type": "display_data"
    },
    {
     "data": {
      "text/plain": [
       "'pos: 0.247, '"
      ]
     },
     "metadata": {},
     "output_type": "display_data"
    },
    {
     "data": {
      "text/plain": [
       "\"But once the walk began, they said, Paulette wanted them to take on far more responsibility for her daughter than they'd discussed or agreed to -- and when they resisted, she grew furious.They had a film to make and couldn't be liable for the welfare of a child, they told her.I am sad to report that while we were with her on the road, the environment became hostile and unsafe for my team.\""
      ]
     },
     "metadata": {},
     "output_type": "display_data"
    },
    {
     "data": {
      "text/plain": [
       "'compound: -0.5574, '"
      ]
     },
     "metadata": {},
     "output_type": "display_data"
    },
    {
     "data": {
      "text/plain": [
       "'neg: 0.075, '"
      ]
     },
     "metadata": {},
     "output_type": "display_data"
    },
    {
     "data": {
      "text/plain": [
       "'neu: 0.897, '"
      ]
     },
     "metadata": {},
     "output_type": "display_data"
    },
    {
     "data": {
      "text/plain": [
       "'pos: 0.028, '"
      ]
     },
     "metadata": {},
     "output_type": "display_data"
    },
    {
     "data": {
      "text/plain": [
       "'Filmmaker Emily MacKenzieEverything about the walk now made them nervous.'"
      ]
     },
     "metadata": {},
     "output_type": "display_data"
    },
    {
     "data": {
      "text/plain": [
       "'compound: -0.2732, '"
      ]
     },
     "metadata": {},
     "output_type": "display_data"
    },
    {
     "data": {
      "text/plain": [
       "'neg: 0.189, '"
      ]
     },
     "metadata": {},
     "output_type": "display_data"
    },
    {
     "data": {
      "text/plain": [
       "'neu: 0.811, '"
      ]
     },
     "metadata": {},
     "output_type": "display_data"
    },
    {
     "data": {
      "text/plain": [
       "'pos: 0.0, '"
      ]
     },
     "metadata": {},
     "output_type": "display_data"
    },
    {
     "data": {
      "text/plain": [
       "\"Paulette got horrible blisters, even though she said she'd been training for more than a year.\""
      ]
     },
     "metadata": {},
     "output_type": "display_data"
    },
    {
     "data": {
      "text/plain": [
       "'compound: -0.5423, '"
      ]
     },
     "metadata": {},
     "output_type": "display_data"
    },
    {
     "data": {
      "text/plain": [
       "'neg: 0.2, '"
      ]
     },
     "metadata": {},
     "output_type": "display_data"
    },
    {
     "data": {
      "text/plain": [
       "'neu: 0.8, '"
      ]
     },
     "metadata": {},
     "output_type": "display_data"
    },
    {
     "data": {
      "text/plain": [
       "'pos: 0.0, '"
      ]
     },
     "metadata": {},
     "output_type": "display_data"
    },
    {
     "data": {
      "text/plain": [
       "\"(Her explanation, on Facebook, was that she'd only trained on flat ground.)\""
      ]
     },
     "metadata": {},
     "output_type": "display_data"
    },
    {
     "data": {
      "text/plain": [
       "'compound: 0.0, '"
      ]
     },
     "metadata": {},
     "output_type": "display_data"
    },
    {
     "data": {
      "text/plain": [
       "'neg: 0.0, '"
      ]
     },
     "metadata": {},
     "output_type": "display_data"
    },
    {
     "data": {
      "text/plain": [
       "'neu: 1.0, '"
      ]
     },
     "metadata": {},
     "output_type": "display_data"
    },
    {
     "data": {
      "text/plain": [
       "'pos: 0.0, '"
      ]
     },
     "metadata": {},
     "output_type": "display_data"
    },
    {
     "data": {
      "text/plain": [
       "'They spent three days with her -- covering 17, 11 and 9 miles -- and all signs pointed to disaster.'"
      ]
     },
     "metadata": {},
     "output_type": "display_data"
    },
    {
     "data": {
      "text/plain": [
       "'compound: -0.6249, '"
      ]
     },
     "metadata": {},
     "output_type": "display_data"
    },
    {
     "data": {
      "text/plain": [
       "'neg: 0.186, '"
      ]
     },
     "metadata": {},
     "output_type": "display_data"
    },
    {
     "data": {
      "text/plain": [
       "'neu: 0.814, '"
      ]
     },
     "metadata": {},
     "output_type": "display_data"
    },
    {
     "data": {
      "text/plain": [
       "'pos: 0.0, '"
      ]
     },
     "metadata": {},
     "output_type": "display_data"
    },
    {
     "data": {
      "text/plain": [
       "'Paulette blamed them for not being prepared.'"
      ]
     },
     "metadata": {},
     "output_type": "display_data"
    },
    {
     "data": {
      "text/plain": [
       "'compound: -0.5812, '"
      ]
     },
     "metadata": {},
     "output_type": "display_data"
    },
    {
     "data": {
      "text/plain": [
       "'neg: 0.488, '"
      ]
     },
     "metadata": {},
     "output_type": "display_data"
    },
    {
     "data": {
      "text/plain": [
       "'neu: 0.512, '"
      ]
     },
     "metadata": {},
     "output_type": "display_data"
    },
    {
     "data": {
      "text/plain": [
       "'pos: 0.0, '"
      ]
     },
     "metadata": {},
     "output_type": "display_data"
    },
    {
     "data": {
      "text/plain": [
       "\"They'd put their lives on hold for a year for this project and were crushed, but felt they had no choice but to walk away.They worried about Paulette and her daughter, though.\""
      ]
     },
     "metadata": {},
     "output_type": "display_data"
    },
    {
     "data": {
      "text/plain": [
       "'compound: -0.7579, '"
      ]
     },
     "metadata": {},
     "output_type": "display_data"
    },
    {
     "data": {
      "text/plain": [
       "'neg: 0.211, '"
      ]
     },
     "metadata": {},
     "output_type": "display_data"
    },
    {
     "data": {
      "text/plain": [
       "'neu: 0.789, '"
      ]
     },
     "metadata": {},
     "output_type": "display_data"
    },
    {
     "data": {
      "text/plain": [
       "'pos: 0.0, '"
      ]
     },
     "metadata": {},
     "output_type": "display_data"
    },
    {
     "data": {
      "text/plain": [
       "'They said they offered to drive them home to New Orleans, where Paulette lives, or at least take her daughter to relatives.'"
      ]
     },
     "metadata": {},
     "output_type": "display_data"
    },
    {
     "data": {
      "text/plain": [
       "'compound: 0.0, '"
      ]
     },
     "metadata": {},
     "output_type": "display_data"
    },
    {
     "data": {
      "text/plain": [
       "'neg: 0.0, '"
      ]
     },
     "metadata": {},
     "output_type": "display_data"
    },
    {
     "data": {
      "text/plain": [
       "'neu: 1.0, '"
      ]
     },
     "metadata": {},
     "output_type": "display_data"
    },
    {
     "data": {
      "text/plain": [
       "'pos: 0.0, '"
      ]
     },
     "metadata": {},
     "output_type": "display_data"
    },
    {
     "data": {
      "text/plain": [
       "\"They were in contact with one of Paulette's cousins, who was also concerned.\""
      ]
     },
     "metadata": {},
     "output_type": "display_data"
    },
    {
     "data": {
      "text/plain": [
       "'compound: 0.0, '"
      ]
     },
     "metadata": {},
     "output_type": "display_data"
    },
    {
     "data": {
      "text/plain": [
       "'neg: 0.0, '"
      ]
     },
     "metadata": {},
     "output_type": "display_data"
    },
    {
     "data": {
      "text/plain": [
       "'neu: 1.0, '"
      ]
     },
     "metadata": {},
     "output_type": "display_data"
    },
    {
     "data": {
      "text/plain": [
       "'pos: 0.0, '"
      ]
     },
     "metadata": {},
     "output_type": "display_data"
    },
    {
     "data": {
      "text/plain": [
       "\"They only left when they were assured loved ones were on the way.Soon after their paths diverged, they said, Paulette's mileage seemed to quadruple.\""
      ]
     },
     "metadata": {},
     "output_type": "display_data"
    },
    {
     "data": {
      "text/plain": [
       "'compound: 0.7506, '"
      ]
     },
     "metadata": {},
     "output_type": "display_data"
    },
    {
     "data": {
      "text/plain": [
       "'neg: 0.0, '"
      ]
     },
     "metadata": {},
     "output_type": "display_data"
    },
    {
     "data": {
      "text/plain": [
       "'neu: 0.775, '"
      ]
     },
     "metadata": {},
     "output_type": "display_data"
    },
    {
     "data": {
      "text/plain": [
       "'pos: 0.225, '"
      ]
     },
     "metadata": {},
     "output_type": "display_data"
    },
    {
     "data": {
      "text/plain": [
       "\"One day she boasted online about a full day of walking that, given the distance between her self-reported starting and stopping points, would have amounted to about 65 miles.Finally, in June, MacKenzie posted a letter on the film's website on behalf of the team, telling supporters why the film's focus had changed to feature other women.\""
      ]
     },
     "metadata": {},
     "output_type": "display_data"
    },
    {
     "data": {
      "text/plain": [
       "'compound: 0.3182, '"
      ]
     },
     "metadata": {},
     "output_type": "display_data"
    },
    {
     "data": {
      "text/plain": [
       "'neg: 0.028, '"
      ]
     },
     "metadata": {},
     "output_type": "display_data"
    },
    {
     "data": {
      "text/plain": [
       "'neu: 0.92, '"
      ]
     },
     "metadata": {},
     "output_type": "display_data"
    },
    {
     "data": {
      "text/plain": [
       "'pos: 0.051, '"
      ]
     },
     "metadata": {},
     "output_type": "display_data"
    },
    {
     "data": {
      "text/plain": [
       "'She chose her words carefully.'"
      ]
     },
     "metadata": {},
     "output_type": "display_data"
    },
    {
     "data": {
      "text/plain": [
       "'compound: 0.128, '"
      ]
     },
     "metadata": {},
     "output_type": "display_data"
    },
    {
     "data": {
      "text/plain": [
       "'neg: 0.0, '"
      ]
     },
     "metadata": {},
     "output_type": "display_data"
    },
    {
     "data": {
      "text/plain": [
       "'neu: 0.727, '"
      ]
     },
     "metadata": {},
     "output_type": "display_data"
    },
    {
     "data": {
      "text/plain": [
       "'pos: 0.273, '"
      ]
     },
     "metadata": {},
     "output_type": "display_data"
    },
    {
     "data": {
      "text/plain": [
       "'\"I am sad to report that while we were with her on the road, the environment became hostile and unsafe for my team.'"
      ]
     },
     "metadata": {},
     "output_type": "display_data"
    },
    {
     "data": {
      "text/plain": [
       "'compound: -0.6908, '"
      ]
     },
     "metadata": {},
     "output_type": "display_data"
    },
    {
     "data": {
      "text/plain": [
       "'neg: 0.213, '"
      ]
     },
     "metadata": {},
     "output_type": "display_data"
    },
    {
     "data": {
      "text/plain": [
       "'neu: 0.787, '"
      ]
     },
     "metadata": {},
     "output_type": "display_data"
    },
    {
     "data": {
      "text/plain": [
       "'pos: 0.0, '"
      ]
     },
     "metadata": {},
     "output_type": "display_data"
    },
    {
     "data": {
      "text/plain": [
       "'We realized the distressing truth that the terms under which we had agreed to film the documentary were false and that we would be in a compromised and legally liable position to stay on the road any longer.'"
      ]
     },
     "metadata": {},
     "output_type": "display_data"
    },
    {
     "data": {
      "text/plain": [
       "'compound: 0.2732, '"
      ]
     },
     "metadata": {},
     "output_type": "display_data"
    },
    {
     "data": {
      "text/plain": [
       "'neg: 0.065, '"
      ]
     },
     "metadata": {},
     "output_type": "display_data"
    },
    {
     "data": {
      "text/plain": [
       "'neu: 0.795, '"
      ]
     },
     "metadata": {},
     "output_type": "display_data"
    },
    {
     "data": {
      "text/plain": [
       "'pos: 0.14, '"
      ]
     },
     "metadata": {},
     "output_type": "display_data"
    },
    {
     "data": {
      "text/plain": [
       "'In good conscience, I could not keep my crew on the road.'"
      ]
     },
     "metadata": {},
     "output_type": "display_data"
    },
    {
     "data": {
      "text/plain": [
       "'compound: 0.4404, '"
      ]
     },
     "metadata": {},
     "output_type": "display_data"
    },
    {
     "data": {
      "text/plain": [
       "'neg: 0.0, '"
      ]
     },
     "metadata": {},
     "output_type": "display_data"
    },
    {
     "data": {
      "text/plain": [
       "'neu: 0.775, '"
      ]
     },
     "metadata": {},
     "output_type": "display_data"
    },
    {
     "data": {
      "text/plain": [
       "'pos: 0.225, '"
      ]
     },
     "metadata": {},
     "output_type": "display_data"
    },
    {
     "data": {
      "text/plain": [
       "'Hence, we are not filming further with Paulette.'"
      ]
     },
     "metadata": {},
     "output_type": "display_data"
    },
    {
     "data": {
      "text/plain": [
       "'compound: 0.0, '"
      ]
     },
     "metadata": {},
     "output_type": "display_data"
    },
    {
     "data": {
      "text/plain": [
       "'neg: 0.0, '"
      ]
     },
     "metadata": {},
     "output_type": "display_data"
    },
    {
     "data": {
      "text/plain": [
       "'neu: 1.0, '"
      ]
     },
     "metadata": {},
     "output_type": "display_data"
    },
    {
     "data": {
      "text/plain": [
       "'pos: 0.0, '"
      ]
     },
     "metadata": {},
     "output_type": "display_data"
    },
    {
     "data": {
      "text/plain": [
       "'\"The attacks from Paulette\\'s supporters were almost immediate.You\\'re going to be arrested for this.'"
      ]
     },
     "metadata": {},
     "output_type": "display_data"
    },
    {
     "data": {
      "text/plain": [
       "'compound: -0.4767, '"
      ]
     },
     "metadata": {},
     "output_type": "display_data"
    },
    {
     "data": {
      "text/plain": [
       "'neg: 0.302, '"
      ]
     },
     "metadata": {},
     "output_type": "display_data"
    },
    {
     "data": {
      "text/plain": [
       "'neu: 0.553, '"
      ]
     },
     "metadata": {},
     "output_type": "display_data"
    },
    {
     "data": {
      "text/plain": [
       "'pos: 0.146, '"
      ]
     },
     "metadata": {},
     "output_type": "display_data"
    },
    {
     "data": {
      "text/plain": [
       "'God knows what you did!'"
      ]
     },
     "metadata": {},
     "output_type": "display_data"
    },
    {
     "data": {
      "text/plain": [
       "'compound: 0.3382, '"
      ]
     },
     "metadata": {},
     "output_type": "display_data"
    },
    {
     "data": {
      "text/plain": [
       "'neg: 0.0, '"
      ]
     },
     "metadata": {},
     "output_type": "display_data"
    },
    {
     "data": {
      "text/plain": [
       "'neu: 0.626, '"
      ]
     },
     "metadata": {},
     "output_type": "display_data"
    },
    {
     "data": {
      "text/plain": [
       "'pos: 0.374, '"
      ]
     },
     "metadata": {},
     "output_type": "display_data"
    },
    {
     "data": {
      "text/plain": [
       "'How could you leave a homeless woman?Someone reached out wondering how they could organize to buy Paulette a house.'"
      ]
     },
     "metadata": {},
     "output_type": "display_data"
    },
    {
     "data": {
      "text/plain": [
       "'compound: 0.0516, '"
      ]
     },
     "metadata": {},
     "output_type": "display_data"
    },
    {
     "data": {
      "text/plain": [
       "'neg: 0.068, '"
      ]
     },
     "metadata": {},
     "output_type": "display_data"
    },
    {
     "data": {
      "text/plain": [
       "'neu: 0.852, '"
      ]
     },
     "metadata": {},
     "output_type": "display_data"
    },
    {
     "data": {
      "text/plain": [
       "'pos: 0.08, '"
      ]
     },
     "metadata": {},
     "output_type": "display_data"
    },
    {
     "data": {
      "text/plain": [
       "'The filmmakers could only shake their heads.'"
      ]
     },
     "metadata": {},
     "output_type": "display_data"
    },
    {
     "data": {
      "text/plain": [
       "'compound: -0.1779, '"
      ]
     },
     "metadata": {},
     "output_type": "display_data"
    },
    {
     "data": {
      "text/plain": [
       "'neg: 0.221, '"
      ]
     },
     "metadata": {},
     "output_type": "display_data"
    },
    {
     "data": {
      "text/plain": [
       "'neu: 0.779, '"
      ]
     },
     "metadata": {},
     "output_type": "display_data"
    },
    {
     "data": {
      "text/plain": [
       "'pos: 0.0, '"
      ]
     },
     "metadata": {},
     "output_type": "display_data"
    },
    {
     "data": {
      "text/plain": [
       "\"They'd been in Paulette's home.\""
      ]
     },
     "metadata": {},
     "output_type": "display_data"
    },
    {
     "data": {
      "text/plain": [
       "'compound: 0.0, '"
      ]
     },
     "metadata": {},
     "output_type": "display_data"
    },
    {
     "data": {
      "text/plain": [
       "'neg: 0.0, '"
      ]
     },
     "metadata": {},
     "output_type": "display_data"
    },
    {
     "data": {
      "text/plain": [
       "'neu: 1.0, '"
      ]
     },
     "metadata": {},
     "output_type": "display_data"
    },
    {
     "data": {
      "text/plain": [
       "'pos: 0.0, '"
      ]
     },
     "metadata": {},
     "output_type": "display_data"
    },
    {
     "data": {
      "text/plain": [
       "\"They knew she wasn't homeless.When Paulette saw the letter she immediately threatened legal action, saying her lawyer would be in touch.\""
      ]
     },
     "metadata": {},
     "output_type": "display_data"
    },
    {
     "data": {
      "text/plain": [
       "'compound: -0.3612, '"
      ]
     },
     "metadata": {},
     "output_type": "display_data"
    },
    {
     "data": {
      "text/plain": [
       "'neg: 0.128, '"
      ]
     },
     "metadata": {},
     "output_type": "display_data"
    },
    {
     "data": {
      "text/plain": [
       "'neu: 0.809, '"
      ]
     },
     "metadata": {},
     "output_type": "display_data"
    },
    {
     "data": {
      "text/plain": [
       "'pos: 0.064, '"
      ]
     },
     "metadata": {},
     "output_type": "display_data"
    },
    {
     "data": {
      "text/plain": [
       "'The filmmakers never heard from an attorney.A frequent presence on Facebook, Paulette Leaphart is a big fan of selfies.'"
      ]
     },
     "metadata": {},
     "output_type": "display_data"
    },
    {
     "data": {
      "text/plain": [
       "'compound: 0.3182, '"
      ]
     },
     "metadata": {},
     "output_type": "display_data"
    },
    {
     "data": {
      "text/plain": [
       "'neg: 0.0, '"
      ]
     },
     "metadata": {},
     "output_type": "display_data"
    },
    {
     "data": {
      "text/plain": [
       "'neu: 0.881, '"
      ]
     },
     "metadata": {},
     "output_type": "display_data"
    },
    {
     "data": {
      "text/plain": [
       "'pos: 0.119, '"
      ]
     },
     "metadata": {},
     "output_type": "display_data"
    },
    {
     "data": {
      "text/plain": [
       "\"She posts glamour shots of herself frequently.The A TeamAt a certain point, beyond fact-checking Paulette's background, I knew I had to look into her online critics.\""
      ]
     },
     "metadata": {},
     "output_type": "display_data"
    },
    {
     "data": {
      "text/plain": [
       "'compound: 0.5106, '"
      ]
     },
     "metadata": {},
     "output_type": "display_data"
    },
    {
     "data": {
      "text/plain": [
       "'neg: 0.082, '"
      ]
     },
     "metadata": {},
     "output_type": "display_data"
    },
    {
     "data": {
      "text/plain": [
       "'neu: 0.712, '"
      ]
     },
     "metadata": {},
     "output_type": "display_data"
    },
    {
     "data": {
      "text/plain": [
       "'pos: 0.206, '"
      ]
     },
     "metadata": {},
     "output_type": "display_data"
    },
    {
     "data": {
      "text/plain": [
       "\"That's when I learned about three women who call themselves The A Team.\""
      ]
     },
     "metadata": {},
     "output_type": "display_data"
    },
    {
     "data": {
      "text/plain": [
       "'compound: 0.0, '"
      ]
     },
     "metadata": {},
     "output_type": "display_data"
    },
    {
     "data": {
      "text/plain": [
       "'neg: 0.0, '"
      ]
     },
     "metadata": {},
     "output_type": "display_data"
    },
    {
     "data": {
      "text/plain": [
       "'neu: 1.0, '"
      ]
     },
     "metadata": {},
     "output_type": "display_data"
    },
    {
     "data": {
      "text/plain": [
       "'pos: 0.0, '"
      ]
     },
     "metadata": {},
     "output_type": "display_data"
    },
    {
     "data": {
      "text/plain": [
       "\"At the helm is Kimberly McCarty, Paulette's chief adversary, the woman Paulette said was spreading lies about her.Paulette initially said she didn't know McCarty.\""
      ]
     },
     "metadata": {},
     "output_type": "display_data"
    },
    {
     "data": {
      "text/plain": [
       "'compound: -0.5574, '"
      ]
     },
     "metadata": {},
     "output_type": "display_data"
    },
    {
     "data": {
      "text/plain": [
       "'neg: 0.173, '"
      ]
     },
     "metadata": {},
     "output_type": "display_data"
    },
    {
     "data": {
      "text/plain": [
       "'neu: 0.827, '"
      ]
     },
     "metadata": {},
     "output_type": "display_data"
    },
    {
     "data": {
      "text/plain": [
       "'pos: 0.0, '"
      ]
     },
     "metadata": {},
     "output_type": "display_data"
    },
    {
     "data": {
      "text/plain": [
       "\"But McCarty said she and Paulette connected via Facebook five years ago, before Paulette's diagnosis.\""
      ]
     },
     "metadata": {},
     "output_type": "display_data"
    },
    {
     "data": {
      "text/plain": [
       "'compound: 0.0, '"
      ]
     },
     "metadata": {},
     "output_type": "display_data"
    },
    {
     "data": {
      "text/plain": [
       "'neg: 0.0, '"
      ]
     },
     "metadata": {},
     "output_type": "display_data"
    },
    {
     "data": {
      "text/plain": [
       "'neu: 1.0, '"
      ]
     },
     "metadata": {},
     "output_type": "display_data"
    },
    {
     "data": {
      "text/plain": [
       "'pos: 0.0, '"
      ]
     },
     "metadata": {},
     "output_type": "display_data"
    },
    {
     "data": {
      "text/plain": [
       "'McCarty said Paulette insisted on taking her out for a nice birthday dinner, only to have forgotten her credit card.'"
      ]
     },
     "metadata": {},
     "output_type": "display_data"
    },
    {
     "data": {
      "text/plain": [
       "'compound: 0.5423, '"
      ]
     },
     "metadata": {},
     "output_type": "display_data"
    },
    {
     "data": {
      "text/plain": [
       "'neg: 0.082, '"
      ]
     },
     "metadata": {},
     "output_type": "display_data"
    },
    {
     "data": {
      "text/plain": [
       "'neu: 0.687, '"
      ]
     },
     "metadata": {},
     "output_type": "display_data"
    },
    {
     "data": {
      "text/plain": [
       "'pos: 0.232, '"
      ]
     },
     "metadata": {},
     "output_type": "display_data"
    },
    {
     "data": {
      "text/plain": [
       "'McCarty said she was forced to foot the bill for them both.'"
      ]
     },
     "metadata": {},
     "output_type": "display_data"
    },
    {
     "data": {
      "text/plain": [
       "'compound: -0.4588, '"
      ]
     },
     "metadata": {},
     "output_type": "display_data"
    },
    {
     "data": {
      "text/plain": [
       "'neg: 0.214, '"
      ]
     },
     "metadata": {},
     "output_type": "display_data"
    },
    {
     "data": {
      "text/plain": [
       "'neu: 0.786, '"
      ]
     },
     "metadata": {},
     "output_type": "display_data"
    },
    {
     "data": {
      "text/plain": [
       "'pos: 0.0, '"
      ]
     },
     "metadata": {},
     "output_type": "display_data"
    },
    {
     "data": {
      "text/plain": [
       "\"McCarty said Paulette told her a movie was being made about her based on a book she'd written and that R&B artist Fantasia was doing the soundtrack.\""
      ]
     },
     "metadata": {},
     "output_type": "display_data"
    },
    {
     "data": {
      "text/plain": [
       "'compound: 0.0, '"
      ]
     },
     "metadata": {},
     "output_type": "display_data"
    },
    {
     "data": {
      "text/plain": [
       "'neg: 0.0, '"
      ]
     },
     "metadata": {},
     "output_type": "display_data"
    },
    {
     "data": {
      "text/plain": [
       "'neu: 1.0, '"
      ]
     },
     "metadata": {},
     "output_type": "display_data"
    },
    {
     "data": {
      "text/plain": [
       "'pos: 0.0, '"
      ]
     },
     "metadata": {},
     "output_type": "display_data"
    },
    {
     "data": {
      "text/plain": [
       "\"When Paulette later revealed her breast cancer on Facebook, McCarty didn't buy it.Paulette later admitted she'd met McCarty once, but she likes to point out that McCarty has a criminal record and can't be trusted.\""
      ]
     },
     "metadata": {},
     "output_type": "display_data"
    },
    {
     "data": {
      "text/plain": [
       "'compound: -0.7738, '"
      ]
     },
     "metadata": {},
     "output_type": "display_data"
    },
    {
     "data": {
      "text/plain": [
       "'neg: 0.239, '"
      ]
     },
     "metadata": {},
     "output_type": "display_data"
    },
    {
     "data": {
      "text/plain": [
       "'neu: 0.651, '"
      ]
     },
     "metadata": {},
     "output_type": "display_data"
    },
    {
     "data": {
      "text/plain": [
       "'pos: 0.11, '"
      ]
     },
     "metadata": {},
     "output_type": "display_data"
    },
    {
     "data": {
      "text/plain": [
       "\"It's true: McCarty has been convicted of theft, forgery and false pretense -- which could certainly make her a questionable source and made me reticent about reaching out to her at all.\""
      ]
     },
     "metadata": {},
     "output_type": "display_data"
    },
    {
     "data": {
      "text/plain": [
       "'compound: 0.5859, '"
      ]
     },
     "metadata": {},
     "output_type": "display_data"
    },
    {
     "data": {
      "text/plain": [
       "'neg: 0.061, '"
      ]
     },
     "metadata": {},
     "output_type": "display_data"
    },
    {
     "data": {
      "text/plain": [
       "'neu: 0.746, '"
      ]
     },
     "metadata": {},
     "output_type": "display_data"
    },
    {
     "data": {
      "text/plain": [
       "'pos: 0.193, '"
      ]
     },
     "metadata": {},
     "output_type": "display_data"
    },
    {
     "data": {
      "text/plain": [
       "\"But McCarty owns her past and doesn't deny making mistakes.McCarty has been on an obsessive mission to cast Paulette as a fraud.\""
      ]
     },
     "metadata": {},
     "output_type": "display_data"
    },
    {
     "data": {
      "text/plain": [
       "'compound: -0.5667, '"
      ]
     },
     "metadata": {},
     "output_type": "display_data"
    },
    {
     "data": {
      "text/plain": [
       "'neg: 0.221, '"
      ]
     },
     "metadata": {},
     "output_type": "display_data"
    },
    {
     "data": {
      "text/plain": [
       "'neu: 0.699, '"
      ]
     },
     "metadata": {},
     "output_type": "display_data"
    },
    {
     "data": {
      "text/plain": [
       "'pos: 0.079, '"
      ]
     },
     "metadata": {},
     "output_type": "display_data"
    },
    {
     "data": {
      "text/plain": [
       "\"She has gone so far as to say Paulette never even had cancer, that her double mastectomy was elective after she tested positive for the BRCA gene (think Angelina Jolie's preventive surgery).\""
      ]
     },
     "metadata": {},
     "output_type": "display_data"
    },
    {
     "data": {
      "text/plain": [
       "'compound: 0.7973, '"
      ]
     },
     "metadata": {},
     "output_type": "display_data"
    },
    {
     "data": {
      "text/plain": [
       "'neg: 0.0, '"
      ]
     },
     "metadata": {},
     "output_type": "display_data"
    },
    {
     "data": {
      "text/plain": [
       "'neu: 0.808, '"
      ]
     },
     "metadata": {},
     "output_type": "display_data"
    },
    {
     "data": {
      "text/plain": [
       "'pos: 0.192, '"
      ]
     },
     "metadata": {},
     "output_type": "display_data"
    },
    {
     "data": {
      "text/plain": [
       "\"McCarty insisted her fight is less about Paulette and more about honoring those like her father who've battled cancer, and the friends she's lost to the disease.\""
      ]
     },
     "metadata": {},
     "output_type": "display_data"
    },
    {
     "data": {
      "text/plain": [
       "'compound: -0.323, '"
      ]
     },
     "metadata": {},
     "output_type": "display_data"
    },
    {
     "data": {
      "text/plain": [
       "'neg: 0.283, '"
      ]
     },
     "metadata": {},
     "output_type": "display_data"
    },
    {
     "data": {
      "text/plain": [
       "'neu: 0.492, '"
      ]
     },
     "metadata": {},
     "output_type": "display_data"
    },
    {
     "data": {
      "text/plain": [
       "'pos: 0.226, '"
      ]
     },
     "metadata": {},
     "output_type": "display_data"
    },
    {
     "data": {
      "text/plain": [
       "'But McCarty, and some of the people who chime in on her posts, can be downright cruel.'"
      ]
     },
     "metadata": {},
     "output_type": "display_data"
    },
    {
     "data": {
      "text/plain": [
       "'compound: -0.5859, '"
      ]
     },
     "metadata": {},
     "output_type": "display_data"
    },
    {
     "data": {
      "text/plain": [
       "'neg: 0.192, '"
      ]
     },
     "metadata": {},
     "output_type": "display_data"
    },
    {
     "data": {
      "text/plain": [
       "'neu: 0.808, '"
      ]
     },
     "metadata": {},
     "output_type": "display_data"
    },
    {
     "data": {
      "text/plain": [
       "'pos: 0.0, '"
      ]
     },
     "metadata": {},
     "output_type": "display_data"
    },
    {
     "data": {
      "text/plain": [
       "'They have called Paulette names, mocked her appearance, poked fun at her weight.Whether or not McCarty can be trusted, her claims were enough to force me to hit pause.'"
      ]
     },
     "metadata": {},
     "output_type": "display_data"
    },
    {
     "data": {
      "text/plain": [
       "'compound: 0.6249, '"
      ]
     },
     "metadata": {},
     "output_type": "display_data"
    },
    {
     "data": {
      "text/plain": [
       "'neg: 0.066, '"
      ]
     },
     "metadata": {},
     "output_type": "display_data"
    },
    {
     "data": {
      "text/plain": [
       "'neu: 0.749, '"
      ]
     },
     "metadata": {},
     "output_type": "display_data"
    },
    {
     "data": {
      "text/plain": [
       "'pos: 0.184, '"
      ]
     },
     "metadata": {},
     "output_type": "display_data"
    },
    {
     "data": {
      "text/plain": [
       "'I needed to know, with certainty, that Paulette actually had cancer.Mixed in with selfies, Paulette Leaphart often added shots of herself in hospital beds or otherwise struggling.'"
      ]
     },
     "metadata": {},
     "output_type": "display_data"
    },
    {
     "data": {
      "text/plain": [
       "'compound: -0.2023, '"
      ]
     },
     "metadata": {},
     "output_type": "display_data"
    },
    {
     "data": {
      "text/plain": [
       "'neg: 0.097, '"
      ]
     },
     "metadata": {},
     "output_type": "display_data"
    },
    {
     "data": {
      "text/plain": [
       "'neu: 0.833, '"
      ]
     },
     "metadata": {},
     "output_type": "display_data"
    },
    {
     "data": {
      "text/plain": [
       "'pos: 0.069, '"
      ]
     },
     "metadata": {},
     "output_type": "display_data"
    },
    {
     "data": {
      "text/plain": [
       "'She asked for prayers and got them by the hundreds.15 pages of medical recordsPaulette, at first, welcomed the chance to clear this up.'"
      ]
     },
     "metadata": {},
     "output_type": "display_data"
    },
    {
     "data": {
      "text/plain": [
       "'compound: 0.7184, '"
      ]
     },
     "metadata": {},
     "output_type": "display_data"
    },
    {
     "data": {
      "text/plain": [
       "'neg: 0.0, '"
      ]
     },
     "metadata": {},
     "output_type": "display_data"
    },
    {
     "data": {
      "text/plain": [
       "'neu: 0.741, '"
      ]
     },
     "metadata": {},
     "output_type": "display_data"
    },
    {
     "data": {
      "text/plain": [
       "'pos: 0.259, '"
      ]
     },
     "metadata": {},
     "output_type": "display_data"
    },
    {
     "data": {
      "text/plain": [
       "'With me on the line, she called one of her doctors and requested that her medical records be faxed to her.'"
      ]
     },
     "metadata": {},
     "output_type": "display_data"
    },
    {
     "data": {
      "text/plain": [
       "'compound: 0.0, '"
      ]
     },
     "metadata": {},
     "output_type": "display_data"
    },
    {
     "data": {
      "text/plain": [
       "'neg: 0.0, '"
      ]
     },
     "metadata": {},
     "output_type": "display_data"
    },
    {
     "data": {
      "text/plain": [
       "'neu: 1.0, '"
      ]
     },
     "metadata": {},
     "output_type": "display_data"
    },
    {
     "data": {
      "text/plain": [
       "'pos: 0.0, '"
      ]
     },
     "metadata": {},
     "output_type": "display_data"
    },
    {
     "data": {
      "text/plain": [
       "\"What she didn't tell the receptionist was that she was giving them my fax number.\""
      ]
     },
     "metadata": {},
     "output_type": "display_data"
    },
    {
     "data": {
      "text/plain": [
       "'compound: 0.4019, '"
      ]
     },
     "metadata": {},
     "output_type": "display_data"
    },
    {
     "data": {
      "text/plain": [
       "'neg: 0.0, '"
      ]
     },
     "metadata": {},
     "output_type": "display_data"
    },
    {
     "data": {
      "text/plain": [
       "'neu: 0.778, '"
      ]
     },
     "metadata": {},
     "output_type": "display_data"
    },
    {
     "data": {
      "text/plain": [
       "'pos: 0.222, '"
      ]
     },
     "metadata": {},
     "output_type": "display_data"
    },
    {
     "data": {
      "text/plain": [
       "\"And that's how I learned that Paulette did, in fact, have a 0.7 cm cancerous tumor in her right breast, and that one of six sentinel lymph nodes removed from her right side also tested positive for cancer.Sometimes, though, when Paulette shares her story, she talks about cancer in her left breast.\""
      ]
     },
     "metadata": {},
     "output_type": "display_data"
    },
    {
     "data": {
      "text/plain": [
       "'compound: -0.296, '"
      ]
     },
     "metadata": {},
     "output_type": "display_data"
    },
    {
     "data": {
      "text/plain": [
       "'neg: 0.119, '"
      ]
     },
     "metadata": {},
     "output_type": "display_data"
    },
    {
     "data": {
      "text/plain": [
       "'neu: 0.782, '"
      ]
     },
     "metadata": {},
     "output_type": "display_data"
    },
    {
     "data": {
      "text/plain": [
       "'pos: 0.099, '"
      ]
     },
     "metadata": {},
     "output_type": "display_data"
    },
    {
     "data": {
      "text/plain": [
       "'The left breast was benign, the pathology report shows.'"
      ]
     },
     "metadata": {},
     "output_type": "display_data"
    },
    {
     "data": {
      "text/plain": [
       "'compound: 0.3182, '"
      ]
     },
     "metadata": {},
     "output_type": "display_data"
    },
    {
     "data": {
      "text/plain": [
       "'neg: 0.0, '"
      ]
     },
     "metadata": {},
     "output_type": "display_data"
    },
    {
     "data": {
      "text/plain": [
       "'neu: 0.777, '"
      ]
     },
     "metadata": {},
     "output_type": "display_data"
    },
    {
     "data": {
      "text/plain": [
       "'pos: 0.223, '"
      ]
     },
     "metadata": {},
     "output_type": "display_data"
    },
    {
     "data": {
      "text/plain": [
       "'She also has talked about her cancer metastasizing to other organs in her body.'"
      ]
     },
     "metadata": {},
     "output_type": "display_data"
    },
    {
     "data": {
      "text/plain": [
       "'compound: -0.6597, '"
      ]
     },
     "metadata": {},
     "output_type": "display_data"
    },
    {
     "data": {
      "text/plain": [
       "'neg: 0.253, '"
      ]
     },
     "metadata": {},
     "output_type": "display_data"
    },
    {
     "data": {
      "text/plain": [
       "'neu: 0.747, '"
      ]
     },
     "metadata": {},
     "output_type": "display_data"
    },
    {
     "data": {
      "text/plain": [
       "'pos: 0.0, '"
      ]
     },
     "metadata": {},
     "output_type": "display_data"
    },
    {
     "data": {
      "text/plain": [
       "\"To be clear, this could have happened; we don't have all of Paulette's medical records, just those that were faxed to me.Still, I was confused.\""
      ]
     },
     "metadata": {},
     "output_type": "display_data"
    },
    {
     "data": {
      "text/plain": [
       "'compound: 0.0772, '"
      ]
     },
     "metadata": {},
     "output_type": "display_data"
    },
    {
     "data": {
      "text/plain": [
       "'neg: 0.086, '"
      ]
     },
     "metadata": {},
     "output_type": "display_data"
    },
    {
     "data": {
      "text/plain": [
       "'neu: 0.818, '"
      ]
     },
     "metadata": {},
     "output_type": "display_data"
    },
    {
     "data": {
      "text/plain": [
       "'pos: 0.097, '"
      ]
     },
     "metadata": {},
     "output_type": "display_data"
    },
    {
     "data": {
      "text/plain": [
       "'I asked Paulette for permission to talk to her doctor so I could get a better understanding of her disease and treatment.'"
      ]
     },
     "metadata": {},
     "output_type": "display_data"
    },
    {
     "data": {
      "text/plain": [
       "'compound: 0.4877, '"
      ]
     },
     "metadata": {},
     "output_type": "display_data"
    },
    {
     "data": {
      "text/plain": [
       "'neg: 0.0, '"
      ]
     },
     "metadata": {},
     "output_type": "display_data"
    },
    {
     "data": {
      "text/plain": [
       "'neu: 0.851, '"
      ]
     },
     "metadata": {},
     "output_type": "display_data"
    },
    {
     "data": {
      "text/plain": [
       "'pos: 0.149, '"
      ]
     },
     "metadata": {},
     "output_type": "display_data"
    },
    {
     "data": {
      "text/plain": [
       "'Whenever I asked for details about radiation, chemotherapy and medications, the information she shared was often vague.'"
      ]
     },
     "metadata": {},
     "output_type": "display_data"
    },
    {
     "data": {
      "text/plain": [
       "'compound: 0.25, '"
      ]
     },
     "metadata": {},
     "output_type": "display_data"
    },
    {
     "data": {
      "text/plain": [
       "'neg: 0.079, '"
      ]
     },
     "metadata": {},
     "output_type": "display_data"
    },
    {
     "data": {
      "text/plain": [
       "'neu: 0.787, '"
      ]
     },
     "metadata": {},
     "output_type": "display_data"
    },
    {
     "data": {
      "text/plain": [
       "'pos: 0.135, '"
      ]
     },
     "metadata": {},
     "output_type": "display_data"
    },
    {
     "data": {
      "text/plain": [
       "\"She said she requested that her oncologist talk to me, but when I called his office I was told she'd made no such request and the doctor couldn't speak.\""
      ]
     },
     "metadata": {},
     "output_type": "display_data"
    },
    {
     "data": {
      "text/plain": [
       "'compound: -0.4215, '"
      ]
     },
     "metadata": {},
     "output_type": "display_data"
    },
    {
     "data": {
      "text/plain": [
       "'neg: 0.097, '"
      ]
     },
     "metadata": {},
     "output_type": "display_data"
    },
    {
     "data": {
      "text/plain": [
       "'neu: 0.903, '"
      ]
     },
     "metadata": {},
     "output_type": "display_data"
    },
    {
     "data": {
      "text/plain": [
       "'pos: 0.0, '"
      ]
     },
     "metadata": {},
     "output_type": "display_data"
    },
    {
     "data": {
      "text/plain": [
       "\"When I told her this, she never followed up.So instead I enlisted a surgeon who specializes in breast surgical oncology to interpret the 15 pages of medical records I had.What I do know, based on the records I've seen, is that Paulette had breast cancer in her right breast.\""
      ]
     },
     "metadata": {},
     "output_type": "display_data"
    },
    {
     "data": {
      "text/plain": [
       "'compound: -0.6597, '"
      ]
     },
     "metadata": {},
     "output_type": "display_data"
    },
    {
     "data": {
      "text/plain": [
       "'neg: 0.093, '"
      ]
     },
     "metadata": {},
     "output_type": "display_data"
    },
    {
     "data": {
      "text/plain": [
       "'neu: 0.907, '"
      ]
     },
     "metadata": {},
     "output_type": "display_data"
    },
    {
     "data": {
      "text/plain": [
       "'pos: 0.0, '"
      ]
     },
     "metadata": {},
     "output_type": "display_data"
    },
    {
     "data": {
      "text/plain": [
       "'Claims that she did not have cancer are lies.Paulette\\'s 0.7 cm tumor is considered \"very, very small,\" according to the surgeon, who did not want to be named.'"
      ]
     },
     "metadata": {},
     "output_type": "display_data"
    },
    {
     "data": {
      "text/plain": [
       "'compound: 0.1764, '"
      ]
     },
     "metadata": {},
     "output_type": "display_data"
    },
    {
     "data": {
      "text/plain": [
       "'neg: 0.118, '"
      ]
     },
     "metadata": {},
     "output_type": "display_data"
    },
    {
     "data": {
      "text/plain": [
       "'neu: 0.773, '"
      ]
     },
     "metadata": {},
     "output_type": "display_data"
    },
    {
     "data": {
      "text/plain": [
       "'pos: 0.109, '"
      ]
     },
     "metadata": {},
     "output_type": "display_data"
    },
    {
     "data": {
      "text/plain": [
       "'A \"re-excision,\" after an initial lumpectomy, could have gotten the slight margin of cancer cells left behind, the surgeon said.'"
      ]
     },
     "metadata": {},
     "output_type": "display_data"
    },
    {
     "data": {
      "text/plain": [
       "'compound: -0.6597, '"
      ]
     },
     "metadata": {},
     "output_type": "display_data"
    },
    {
     "data": {
      "text/plain": [
       "'neg: 0.196, '"
      ]
     },
     "metadata": {},
     "output_type": "display_data"
    },
    {
     "data": {
      "text/plain": [
       "'neu: 0.804, '"
      ]
     },
     "metadata": {},
     "output_type": "display_data"
    },
    {
     "data": {
      "text/plain": [
       "'pos: 0.0, '"
      ]
     },
     "metadata": {},
     "output_type": "display_data"
    },
    {
     "data": {
      "text/plain": [
       "'Instead, Paulette opted for a double mastectomy.Paulette said she has a family history of cancer, so such an aggressive approach can be understood, the surgeon said.'"
      ]
     },
     "metadata": {},
     "output_type": "display_data"
    },
    {
     "data": {
      "text/plain": [
       "'compound: -0.7402, '"
      ]
     },
     "metadata": {},
     "output_type": "display_data"
    },
    {
     "data": {
      "text/plain": [
       "'neg: 0.222, '"
      ]
     },
     "metadata": {},
     "output_type": "display_data"
    },
    {
     "data": {
      "text/plain": [
       "'neu: 0.778, '"
      ]
     },
     "metadata": {},
     "output_type": "display_data"
    },
    {
     "data": {
      "text/plain": [
       "'pos: 0.0, '"
      ]
     },
     "metadata": {},
     "output_type": "display_data"
    },
    {
     "data": {
      "text/plain": [
       "'Because one of the six lymph nodes removed tested positive, she had what doctors describe as stage 2a cancer.'"
      ]
     },
     "metadata": {},
     "output_type": "display_data"
    },
    {
     "data": {
      "text/plain": [
       "'compound: -0.2023, '"
      ]
     },
     "metadata": {},
     "output_type": "display_data"
    },
    {
     "data": {
      "text/plain": [
       "'neg: 0.176, '"
      ]
     },
     "metadata": {},
     "output_type": "display_data"
    },
    {
     "data": {
      "text/plain": [
       "'neu: 0.68, '"
      ]
     },
     "metadata": {},
     "output_type": "display_data"
    },
    {
     "data": {
      "text/plain": [
       "'pos: 0.144, '"
      ]
     },
     "metadata": {},
     "output_type": "display_data"
    },
    {
     "data": {
      "text/plain": [
       "\"Based on what the surgeon saw, she couldn't say whether chemotherapy or radiation would have been necessary.It should also be noted there is no definitive course of treatment for breast cancer.\""
      ]
     },
     "metadata": {},
     "output_type": "display_data"
    },
    {
     "data": {
      "text/plain": [
       "'compound: -0.765, '"
      ]
     },
     "metadata": {},
     "output_type": "display_data"
    },
    {
     "data": {
      "text/plain": [
       "'neg: 0.185, '"
      ]
     },
     "metadata": {},
     "output_type": "display_data"
    },
    {
     "data": {
      "text/plain": [
       "'neu: 0.815, '"
      ]
     },
     "metadata": {},
     "output_type": "display_data"
    },
    {
     "data": {
      "text/plain": [
       "'pos: 0.0, '"
      ]
     },
     "metadata": {},
     "output_type": "display_data"
    },
    {
     "data": {
      "text/plain": [
       "\"It's a deeply personal decision a woman makes with her doctor.Perhaps Paulette had radiation and chemotherapy, as she told me and said on Facebook.\""
      ]
     },
     "metadata": {},
     "output_type": "display_data"
    },
    {
     "data": {
      "text/plain": [
       "'compound: 0.0, '"
      ]
     },
     "metadata": {},
     "output_type": "display_data"
    },
    {
     "data": {
      "text/plain": [
       "'neg: 0.0, '"
      ]
     },
     "metadata": {},
     "output_type": "display_data"
    },
    {
     "data": {
      "text/plain": [
       "'neu: 1.0, '"
      ]
     },
     "metadata": {},
     "output_type": "display_data"
    },
    {
     "data": {
      "text/plain": [
       "'pos: 0.0, '"
      ]
     },
     "metadata": {},
     "output_type": "display_data"
    },
    {
     "data": {
      "text/plain": [
       "\"But the records I received did not confirm this, and without talking to her oncologist -- something I needed her help to do -- I can't say with certainty that she did.\""
      ]
     },
     "metadata": {},
     "output_type": "display_data"
    },
    {
     "data": {
      "text/plain": [
       "'compound: 0.2406, '"
      ]
     },
     "metadata": {},
     "output_type": "display_data"
    },
    {
     "data": {
      "text/plain": [
       "'neg: 0.055, '"
      ]
     },
     "metadata": {},
     "output_type": "display_data"
    },
    {
     "data": {
      "text/plain": [
       "'neu: 0.859, '"
      ]
     },
     "metadata": {},
     "output_type": "display_data"
    },
    {
     "data": {
      "text/plain": [
       "'pos: 0.086, '"
      ]
     },
     "metadata": {},
     "output_type": "display_data"
    },
    {
     "data": {
      "text/plain": [
       "\"And I certainly can't say I've seen all her medical records.What I do know, based on the records I've seen, is that Paulette had breast cancer in her right breast.\""
      ]
     },
     "metadata": {},
     "output_type": "display_data"
    },
    {
     "data": {
      "text/plain": [
       "'compound: -0.4588, '"
      ]
     },
     "metadata": {},
     "output_type": "display_data"
    },
    {
     "data": {
      "text/plain": [
       "'neg: 0.134, '"
      ]
     },
     "metadata": {},
     "output_type": "display_data"
    },
    {
     "data": {
      "text/plain": [
       "'neu: 0.793, '"
      ]
     },
     "metadata": {},
     "output_type": "display_data"
    },
    {
     "data": {
      "text/plain": [
       "'pos: 0.073, '"
      ]
     },
     "metadata": {},
     "output_type": "display_data"
    },
    {
     "data": {
      "text/plain": [
       "\"Claims that she did not have cancer are lies.But exactly how her treatment played out beyond the double mastectomy remains unclear, as do details about how her cancer evolved.Members of The A Team have pulled together presentations , outlining frequent contradictions in Paulette's story.\""
      ]
     },
     "metadata": {},
     "output_type": "display_data"
    },
    {
     "data": {
      "text/plain": [
       "'compound: 0.7296, '"
      ]
     },
     "metadata": {},
     "output_type": "display_data"
    },
    {
     "data": {
      "text/plain": [
       "'neg: 0.085, '"
      ]
     },
     "metadata": {},
     "output_type": "display_data"
    },
    {
     "data": {
      "text/plain": [
       "'neu: 0.729, '"
      ]
     },
     "metadata": {},
     "output_type": "display_data"
    },
    {
     "data": {
      "text/plain": [
       "'pos: 0.186, '"
      ]
     },
     "metadata": {},
     "output_type": "display_data"
    },
    {
     "data": {
      "text/plain": [
       "\"They have saved every post she's made on Facebook over the past several years and allow her to argue their case for them.\""
      ]
     },
     "metadata": {},
     "output_type": "display_data"
    },
    {
     "data": {
      "text/plain": [
       "'compound: 0.3182, '"
      ]
     },
     "metadata": {},
     "output_type": "display_data"
    },
    {
     "data": {
      "text/plain": [
       "'neg: 0.089, '"
      ]
     },
     "metadata": {},
     "output_type": "display_data"
    },
    {
     "data": {
      "text/plain": [
       "'neu: 0.738, '"
      ]
     },
     "metadata": {},
     "output_type": "display_data"
    },
    {
     "data": {
      "text/plain": [
       "'pos: 0.173, '"
      ]
     },
     "metadata": {},
     "output_type": "display_data"
    },
    {
     "data": {
      "text/plain": [
       "'Why was she bald before she started chemotherapy?'"
      ]
     },
     "metadata": {},
     "output_type": "display_data"
    },
    {
     "data": {
      "text/plain": [
       "'compound: 0.0, '"
      ]
     },
     "metadata": {},
     "output_type": "display_data"
    },
    {
     "data": {
      "text/plain": [
       "'neg: 0.0, '"
      ]
     },
     "metadata": {},
     "output_type": "display_data"
    },
    {
     "data": {
      "text/plain": [
       "'neu: 1.0, '"
      ]
     },
     "metadata": {},
     "output_type": "display_data"
    },
    {
     "data": {
      "text/plain": [
       "'pos: 0.0, '"
      ]
     },
     "metadata": {},
     "output_type": "display_data"
    },
    {
     "data": {
      "text/plain": [
       "'How does she explain recycling identical photos to describe different doctor appointments?'"
      ]
     },
     "metadata": {},
     "output_type": "display_data"
    },
    {
     "data": {
      "text/plain": [
       "'compound: 0.0, '"
      ]
     },
     "metadata": {},
     "output_type": "display_data"
    },
    {
     "data": {
      "text/plain": [
       "'neg: 0.0, '"
      ]
     },
     "metadata": {},
     "output_type": "display_data"
    },
    {
     "data": {
      "text/plain": [
       "'neu: 1.0, '"
      ]
     },
     "metadata": {},
     "output_type": "display_data"
    },
    {
     "data": {
      "text/plain": [
       "'pos: 0.0, '"
      ]
     },
     "metadata": {},
     "output_type": "display_data"
    },
    {
     "data": {
      "text/plain": [
       "'What happened to the cancer she once said was in her liver?'"
      ]
     },
     "metadata": {},
     "output_type": "display_data"
    },
    {
     "data": {
      "text/plain": [
       "'compound: -0.6597, '"
      ]
     },
     "metadata": {},
     "output_type": "display_data"
    },
    {
     "data": {
      "text/plain": [
       "'neg: 0.286, '"
      ]
     },
     "metadata": {},
     "output_type": "display_data"
    },
    {
     "data": {
      "text/plain": [
       "'neu: 0.714, '"
      ]
     },
     "metadata": {},
     "output_type": "display_data"
    },
    {
     "data": {
      "text/plain": [
       "'pos: 0.0, '"
      ]
     },
     "metadata": {},
     "output_type": "display_data"
    },
    {
     "data": {
      "text/plain": [
       "'How could she say pneumonia cleared her lungs of tumors?'"
      ]
     },
     "metadata": {},
     "output_type": "display_data"
    },
    {
     "data": {
      "text/plain": [
       "'compound: 0.1027, '"
      ]
     },
     "metadata": {},
     "output_type": "display_data"
    },
    {
     "data": {
      "text/plain": [
       "'neg: 0.0, '"
      ]
     },
     "metadata": {},
     "output_type": "display_data"
    },
    {
     "data": {
      "text/plain": [
       "'neu: 0.865, '"
      ]
     },
     "metadata": {},
     "output_type": "display_data"
    },
    {
     "data": {
      "text/plain": [
       "'pos: 0.135, '"
      ]
     },
     "metadata": {},
     "output_type": "display_data"
    },
    {
     "data": {
      "text/plain": [
       "\"How did she walk 5 miles each way to doctor's appointments when she claimed to be so sick?Katrina Adams is another member of The A Team.\""
      ]
     },
     "metadata": {},
     "output_type": "display_data"
    },
    {
     "data": {
      "text/plain": [
       "'compound: 0.0, '"
      ]
     },
     "metadata": {},
     "output_type": "display_data"
    },
    {
     "data": {
      "text/plain": [
       "'neg: 0.0, '"
      ]
     },
     "metadata": {},
     "output_type": "display_data"
    },
    {
     "data": {
      "text/plain": [
       "'neu: 1.0, '"
      ]
     },
     "metadata": {},
     "output_type": "display_data"
    },
    {
     "data": {
      "text/plain": [
       "'pos: 0.0, '"
      ]
     },
     "metadata": {},
     "output_type": "display_data"
    },
    {
     "data": {
      "text/plain": [
       "'Her sympathy initially went out to Paulette.'"
      ]
     },
     "metadata": {},
     "output_type": "display_data"
    },
    {
     "data": {
      "text/plain": [
       "'compound: 0.3612, '"
      ]
     },
     "metadata": {},
     "output_type": "display_data"
    },
    {
     "data": {
      "text/plain": [
       "'neg: 0.0, '"
      ]
     },
     "metadata": {},
     "output_type": "display_data"
    },
    {
     "data": {
      "text/plain": [
       "'neu: 0.706, '"
      ]
     },
     "metadata": {},
     "output_type": "display_data"
    },
    {
     "data": {
      "text/plain": [
       "'pos: 0.294, '"
      ]
     },
     "metadata": {},
     "output_type": "display_data"
    },
    {
     "data": {
      "text/plain": [
       "'She followed her on Facebook and told her she was praying for her.'"
      ]
     },
     "metadata": {},
     "output_type": "display_data"
    },
    {
     "data": {
      "text/plain": [
       "'compound: 0.3612, '"
      ]
     },
     "metadata": {},
     "output_type": "display_data"
    },
    {
     "data": {
      "text/plain": [
       "'neg: 0.0, '"
      ]
     },
     "metadata": {},
     "output_type": "display_data"
    },
    {
     "data": {
      "text/plain": [
       "'neu: 0.828, '"
      ]
     },
     "metadata": {},
     "output_type": "display_data"
    },
    {
     "data": {
      "text/plain": [
       "'pos: 0.172, '"
      ]
     },
     "metadata": {},
     "output_type": "display_data"
    },
    {
     "data": {
      "text/plain": [
       "'But then she started seeing posts that left her baffled.'"
      ]
     },
     "metadata": {},
     "output_type": "display_data"
    },
    {
     "data": {
      "text/plain": [
       "'compound: 0.0, '"
      ]
     },
     "metadata": {},
     "output_type": "display_data"
    },
    {
     "data": {
      "text/plain": [
       "'neg: 0.0, '"
      ]
     },
     "metadata": {},
     "output_type": "display_data"
    },
    {
     "data": {
      "text/plain": [
       "'neu: 1.0, '"
      ]
     },
     "metadata": {},
     "output_type": "display_data"
    },
    {
     "data": {
      "text/plain": [
       "'pos: 0.0, '"
      ]
     },
     "metadata": {},
     "output_type": "display_data"
    },
    {
     "data": {
      "text/plain": [
       "\"One day Paulette would be languishing in a hospital bed, and the next she'd be out shopping with her children.\""
      ]
     },
     "metadata": {},
     "output_type": "display_data"
    },
    {
     "data": {
      "text/plain": [
       "'compound: 0.0, '"
      ]
     },
     "metadata": {},
     "output_type": "display_data"
    },
    {
     "data": {
      "text/plain": [
       "'neg: 0.0, '"
      ]
     },
     "metadata": {},
     "output_type": "display_data"
    },
    {
     "data": {
      "text/plain": [
       "'neu: 1.0, '"
      ]
     },
     "metadata": {},
     "output_type": "display_data"
    },
    {
     "data": {
      "text/plain": [
       "'pos: 0.0, '"
      ]
     },
     "metadata": {},
     "output_type": "display_data"
    },
    {
     "data": {
      "text/plain": [
       "\"Then Adams' own mother-in-law was diagnosed with cancer, and Adams saw how chemo ravaged her body.\""
      ]
     },
     "metadata": {},
     "output_type": "display_data"
    },
    {
     "data": {
      "text/plain": [
       "'compound: -0.6597, '"
      ]
     },
     "metadata": {},
     "output_type": "display_data"
    },
    {
     "data": {
      "text/plain": [
       "'neg: 0.227, '"
      ]
     },
     "metadata": {},
     "output_type": "display_data"
    },
    {
     "data": {
      "text/plain": [
       "'neu: 0.773, '"
      ]
     },
     "metadata": {},
     "output_type": "display_data"
    },
    {
     "data": {
      "text/plain": [
       "'pos: 0.0, '"
      ]
     },
     "metadata": {},
     "output_type": "display_data"
    },
    {
     "data": {
      "text/plain": [
       "'How could Paulette be so active?'"
      ]
     },
     "metadata": {},
     "output_type": "display_data"
    },
    {
     "data": {
      "text/plain": [
       "'compound: 0.541, '"
      ]
     },
     "metadata": {},
     "output_type": "display_data"
    },
    {
     "data": {
      "text/plain": [
       "'neg: 0.0, '"
      ]
     },
     "metadata": {},
     "output_type": "display_data"
    },
    {
     "data": {
      "text/plain": [
       "'neu: 0.589, '"
      ]
     },
     "metadata": {},
     "output_type": "display_data"
    },
    {
     "data": {
      "text/plain": [
       "'pos: 0.411, '"
      ]
     },
     "metadata": {},
     "output_type": "display_data"
    },
    {
     "data": {
      "text/plain": [
       "\"She started watching more closely, found McCarty along the way and realized she wasn't alone in having doubts.\""
      ]
     },
     "metadata": {},
     "output_type": "display_data"
    },
    {
     "data": {
      "text/plain": [
       "'compound: -0.1179, '"
      ]
     },
     "metadata": {},
     "output_type": "display_data"
    },
    {
     "data": {
      "text/plain": [
       "'neg: 0.11, '"
      ]
     },
     "metadata": {},
     "output_type": "display_data"
    },
    {
     "data": {
      "text/plain": [
       "'neu: 0.802, '"
      ]
     },
     "metadata": {},
     "output_type": "display_data"
    },
    {
     "data": {
      "text/plain": [
       "'pos: 0.087, '"
      ]
     },
     "metadata": {},
     "output_type": "display_data"
    },
    {
     "data": {
      "text/plain": [
       "'\"I let it go for a while,\" Adams said.'"
      ]
     },
     "metadata": {},
     "output_type": "display_data"
    },
    {
     "data": {
      "text/plain": [
       "'compound: 0.0, '"
      ]
     },
     "metadata": {},
     "output_type": "display_data"
    },
    {
     "data": {
      "text/plain": [
       "'neg: 0.0, '"
      ]
     },
     "metadata": {},
     "output_type": "display_data"
    },
    {
     "data": {
      "text/plain": [
       "'neu: 1.0, '"
      ]
     },
     "metadata": {},
     "output_type": "display_data"
    },
    {
     "data": {
      "text/plain": [
       "'pos: 0.0, '"
      ]
     },
     "metadata": {},
     "output_type": "display_data"
    },
    {
     "data": {
      "text/plain": [
       "'\"But then this walk came along and it sent me over the edge.'"
      ]
     },
     "metadata": {},
     "output_type": "display_data"
    },
    {
     "data": {
      "text/plain": [
       "'compound: 0.0, '"
      ]
     },
     "metadata": {},
     "output_type": "display_data"
    },
    {
     "data": {
      "text/plain": [
       "'neg: 0.0, '"
      ]
     },
     "metadata": {},
     "output_type": "display_data"
    },
    {
     "data": {
      "text/plain": [
       "'neu: 1.0, '"
      ]
     },
     "metadata": {},
     "output_type": "display_data"
    },
    {
     "data": {
      "text/plain": [
       "'pos: 0.0, '"
      ]
     },
     "metadata": {},
     "output_type": "display_data"
    },
    {
     "data": {
      "text/plain": [
       "'\"Using a Facebook pseudonym, \"Marwin Jones,\" Adams also chronicled Paulette\\'s posts and shared her outrage.'"
      ]
     },
     "metadata": {},
     "output_type": "display_data"
    },
    {
     "data": {
      "text/plain": [
       "'compound: -0.2263, '"
      ]
     },
     "metadata": {},
     "output_type": "display_data"
    },
    {
     "data": {
      "text/plain": [
       "'neg: 0.186, '"
      ]
     },
     "metadata": {},
     "output_type": "display_data"
    },
    {
     "data": {
      "text/plain": [
       "'neu: 0.678, '"
      ]
     },
     "metadata": {},
     "output_type": "display_data"
    },
    {
     "data": {
      "text/plain": [
       "'pos: 0.136, '"
      ]
     },
     "metadata": {},
     "output_type": "display_data"
    },
    {
     "data": {
      "text/plain": [
       "'\"How can you have heart & liver surgery, pneumonia, train to walk from MS to D.C., home school your children and move six times, all while battling stage 2 aggressive breast cancer that \\'in your words\\' Spread to your liver and lungs.'"
      ]
     },
     "metadata": {},
     "output_type": "display_data"
    },
    {
     "data": {
      "text/plain": [
       "'compound: -0.7964, '"
      ]
     },
     "metadata": {},
     "output_type": "display_data"
    },
    {
     "data": {
      "text/plain": [
       "'neg: 0.18, '"
      ]
     },
     "metadata": {},
     "output_type": "display_data"
    },
    {
     "data": {
      "text/plain": [
       "'neu: 0.82, '"
      ]
     },
     "metadata": {},
     "output_type": "display_data"
    },
    {
     "data": {
      "text/plain": [
       "'pos: 0.0, '"
      ]
     },
     "metadata": {},
     "output_type": "display_data"
    },
    {
     "data": {
      "text/plain": [
       "'Not to mention, you took \\'breaks\\' from the cancer treatment to travel for leisure,\" she posted in July.'"
      ]
     },
     "metadata": {},
     "output_type": "display_data"
    },
    {
     "data": {
      "text/plain": [
       "'compound: -0.6597, '"
      ]
     },
     "metadata": {},
     "output_type": "display_data"
    },
    {
     "data": {
      "text/plain": [
       "'neg: 0.206, '"
      ]
     },
     "metadata": {},
     "output_type": "display_data"
    },
    {
     "data": {
      "text/plain": [
       "'neu: 0.794, '"
      ]
     },
     "metadata": {},
     "output_type": "display_data"
    },
    {
     "data": {
      "text/plain": [
       "'pos: 0.0, '"
      ]
     },
     "metadata": {},
     "output_type": "display_data"
    },
    {
     "data": {
      "text/plain": [
       "'\"Who does that?'"
      ]
     },
     "metadata": {},
     "output_type": "display_data"
    },
    {
     "data": {
      "text/plain": [
       "'compound: 0.0, '"
      ]
     },
     "metadata": {},
     "output_type": "display_data"
    },
    {
     "data": {
      "text/plain": [
       "'neg: 0.0, '"
      ]
     },
     "metadata": {},
     "output_type": "display_data"
    },
    {
     "data": {
      "text/plain": [
       "'neu: 1.0, '"
      ]
     },
     "metadata": {},
     "output_type": "display_data"
    },
    {
     "data": {
      "text/plain": [
       "'pos: 0.0, '"
      ]
     },
     "metadata": {},
     "output_type": "display_data"
    },
    {
     "data": {
      "text/plain": [
       "\"This alone is enough to look at you with the 'side eye.'\""
      ]
     },
     "metadata": {},
     "output_type": "display_data"
    },
    {
     "data": {
      "text/plain": [
       "'compound: -0.25, '"
      ]
     },
     "metadata": {},
     "output_type": "display_data"
    },
    {
     "data": {
      "text/plain": [
       "'neg: 0.154, '"
      ]
     },
     "metadata": {},
     "output_type": "display_data"
    },
    {
     "data": {
      "text/plain": [
       "'neu: 0.846, '"
      ]
     },
     "metadata": {},
     "output_type": "display_data"
    },
    {
     "data": {
      "text/plain": [
       "'pos: 0.0, '"
      ]
     },
     "metadata": {},
     "output_type": "display_data"
    },
    {
     "data": {
      "text/plain": [
       "'\"Paulette Leaphart has been treated as a hero by many.'"
      ]
     },
     "metadata": {},
     "output_type": "display_data"
    },
    {
     "data": {
      "text/plain": [
       "'compound: 0.5574, '"
      ]
     },
     "metadata": {},
     "output_type": "display_data"
    },
    {
     "data": {
      "text/plain": [
       "'neg: 0.0, '"
      ]
     },
     "metadata": {},
     "output_type": "display_data"
    },
    {
     "data": {
      "text/plain": [
       "'neu: 0.69, '"
      ]
     },
     "metadata": {},
     "output_type": "display_data"
    },
    {
     "data": {
      "text/plain": [
       "'pos: 0.31, '"
      ]
     },
     "metadata": {},
     "output_type": "display_data"
    },
    {
     "data": {
      "text/plain": [
       "'She imagined having a reality TV show and movie deal by the end of her walk.From help to hesitationBeyond The A Team, there were others who initially supported Paulette and now have nothing to do with her.'"
      ]
     },
     "metadata": {},
     "output_type": "display_data"
    },
    {
     "data": {
      "text/plain": [
       "'compound: 0.6124, '"
      ]
     },
     "metadata": {},
     "output_type": "display_data"
    },
    {
     "data": {
      "text/plain": [
       "'neg: 0.0, '"
      ]
     },
     "metadata": {},
     "output_type": "display_data"
    },
    {
     "data": {
      "text/plain": [
       "'neu: 0.868, '"
      ]
     },
     "metadata": {},
     "output_type": "display_data"
    },
    {
     "data": {
      "text/plain": [
       "'pos: 0.132, '"
      ]
     },
     "metadata": {},
     "output_type": "display_data"
    },
    {
     "data": {
      "text/plain": [
       "'Among them were a seasoned public relations professional, a Washington insider with connections to a breast cancer foundation, and a best-selling erotic-fiction author and publisher known as Zane.An old trusted friend encouraged Zane to sit down with Paulette.'"
      ]
     },
     "metadata": {},
     "output_type": "display_data"
    },
    {
     "data": {
      "text/plain": [
       "'compound: 0.5267, '"
      ]
     },
     "metadata": {},
     "output_type": "display_data"
    },
    {
     "data": {
      "text/plain": [
       "'neg: 0.102, '"
      ]
     },
     "metadata": {},
     "output_type": "display_data"
    },
    {
     "data": {
      "text/plain": [
       "'neu: 0.694, '"
      ]
     },
     "metadata": {},
     "output_type": "display_data"
    },
    {
     "data": {
      "text/plain": [
       "'pos: 0.204, '"
      ]
     },
     "metadata": {},
     "output_type": "display_data"
    },
    {
     "data": {
      "text/plain": [
       "\"Zane was happy to meet her and offer help, but it didn't take long for Zane to grow suspicious.\""
      ]
     },
     "metadata": {},
     "output_type": "display_data"
    },
    {
     "data": {
      "text/plain": [
       "'compound: -0.0129, '"
      ]
     },
     "metadata": {},
     "output_type": "display_data"
    },
    {
     "data": {
      "text/plain": [
       "'neg: 0.139, '"
      ]
     },
     "metadata": {},
     "output_type": "display_data"
    },
    {
     "data": {
      "text/plain": [
       "'neu: 0.682, '"
      ]
     },
     "metadata": {},
     "output_type": "display_data"
    },
    {
     "data": {
      "text/plain": [
       "'pos: 0.179, '"
      ]
     },
     "metadata": {},
     "output_type": "display_data"
    },
    {
     "data": {
      "text/plain": [
       "'As she described it, she saw the story change in the course of a day: One minute Paulette complained about how much she was paying for cancer medications, but when Zane proposed a way to get medications donated, Paulette said she was on disability and everything was covered, Zane said.'"
      ]
     },
     "metadata": {},
     "output_type": "display_data"
    },
    {
     "data": {
      "text/plain": [
       "'compound: -0.5499, '"
      ]
     },
     "metadata": {},
     "output_type": "display_data"
    },
    {
     "data": {
      "text/plain": [
       "'neg: 0.09, '"
      ]
     },
     "metadata": {},
     "output_type": "display_data"
    },
    {
     "data": {
      "text/plain": [
       "'neu: 0.91, '"
      ]
     },
     "metadata": {},
     "output_type": "display_data"
    },
    {
     "data": {
      "text/plain": [
       "'pos: 0.0, '"
      ]
     },
     "metadata": {},
     "output_type": "display_data"
    },
    {
     "data": {
      "text/plain": [
       "'When Paulette told her she owed doctors $200,000, someone Zane knew offered Paulette that money on the condition it go directly to the doctors.'"
      ]
     },
     "metadata": {},
     "output_type": "display_data"
    },
    {
     "data": {
      "text/plain": [
       "'compound: 0.0, '"
      ]
     },
     "metadata": {},
     "output_type": "display_data"
    },
    {
     "data": {
      "text/plain": [
       "'neg: 0.0, '"
      ]
     },
     "metadata": {},
     "output_type": "display_data"
    },
    {
     "data": {
      "text/plain": [
       "'neu: 1.0, '"
      ]
     },
     "metadata": {},
     "output_type": "display_data"
    },
    {
     "data": {
      "text/plain": [
       "'pos: 0.0, '"
      ]
     },
     "metadata": {},
     "output_type": "display_data"
    },
    {
     "data": {
      "text/plain": [
       "\"Paulette passed on the offer, Zane said, saying she'd prefer to declare bankruptcy after the walk.Another friend of Zane's, with Marriott connections, reached out to Paulette to offer booklets of hotel vouchers so she could stay in rooms free during her walk.\""
      ]
     },
     "metadata": {},
     "output_type": "display_data"
    },
    {
     "data": {
      "text/plain": [
       "'compound: 0.7845, '"
      ]
     },
     "metadata": {},
     "output_type": "display_data"
    },
    {
     "data": {
      "text/plain": [
       "'neg: 0.0, '"
      ]
     },
     "metadata": {},
     "output_type": "display_data"
    },
    {
     "data": {
      "text/plain": [
       "'neu: 0.832, '"
      ]
     },
     "metadata": {},
     "output_type": "display_data"
    },
    {
     "data": {
      "text/plain": [
       "'pos: 0.168, '"
      ]
     },
     "metadata": {},
     "output_type": "display_data"
    },
    {
     "data": {
      "text/plain": [
       "'Paulette never responded.Despite all this, Zane said, she has no animosity for Paulette.'"
      ]
     },
     "metadata": {},
     "output_type": "display_data"
    },
    {
     "data": {
      "text/plain": [
       "'compound: -0.6249, '"
      ]
     },
     "metadata": {},
     "output_type": "display_data"
    },
    {
     "data": {
      "text/plain": [
       "'neg: 0.317, '"
      ]
     },
     "metadata": {},
     "output_type": "display_data"
    },
    {
     "data": {
      "text/plain": [
       "'neu: 0.683, '"
      ]
     },
     "metadata": {},
     "output_type": "display_data"
    },
    {
     "data": {
      "text/plain": [
       "'pos: 0.0, '"
      ]
     },
     "metadata": {},
     "output_type": "display_data"
    },
    {
     "data": {
      "text/plain": [
       "'\"It was just one of those things that once I became apprehensive I didn\\'t want to be involved,\" she said.'"
      ]
     },
     "metadata": {},
     "output_type": "display_data"
    },
    {
     "data": {
      "text/plain": [
       "'compound: -0.0572, '"
      ]
     },
     "metadata": {},
     "output_type": "display_data"
    },
    {
     "data": {
      "text/plain": [
       "'neg: 0.067, '"
      ]
     },
     "metadata": {},
     "output_type": "display_data"
    },
    {
     "data": {
      "text/plain": [
       "'neu: 0.933, '"
      ]
     },
     "metadata": {},
     "output_type": "display_data"
    },
    {
     "data": {
      "text/plain": [
       "'pos: 0.0, '"
      ]
     },
     "metadata": {},
     "output_type": "display_data"
    },
    {
     "data": {
      "text/plain": [
       "'\"At the end of the day, I wish her well.'"
      ]
     },
     "metadata": {},
     "output_type": "display_data"
    },
    {
     "data": {
      "text/plain": [
       "'compound: 0.5859, '"
      ]
     },
     "metadata": {},
     "output_type": "display_data"
    },
    {
     "data": {
      "text/plain": [
       "'neg: 0.0, '"
      ]
     },
     "metadata": {},
     "output_type": "display_data"
    },
    {
     "data": {
      "text/plain": [
       "'neu: 0.593, '"
      ]
     },
     "metadata": {},
     "output_type": "display_data"
    },
    {
     "data": {
      "text/plain": [
       "'pos: 0.407, '"
      ]
     },
     "metadata": {},
     "output_type": "display_data"
    },
    {
     "data": {
      "text/plain": [
       "\"I just couldn't be caught up in it.\""
      ]
     },
     "metadata": {},
     "output_type": "display_data"
    },
    {
     "data": {
      "text/plain": [
       "'compound: 0.0, '"
      ]
     },
     "metadata": {},
     "output_type": "display_data"
    },
    {
     "data": {
      "text/plain": [
       "'neg: 0.0, '"
      ]
     },
     "metadata": {},
     "output_type": "display_data"
    },
    {
     "data": {
      "text/plain": [
       "'neu: 1.0, '"
      ]
     },
     "metadata": {},
     "output_type": "display_data"
    },
    {
     "data": {
      "text/plain": [
       "'pos: 0.0, '"
      ]
     },
     "metadata": {},
     "output_type": "display_data"
    },
    {
     "data": {
      "text/plain": [
       "'\"She made valid points a blind man could see.'"
      ]
     },
     "metadata": {},
     "output_type": "display_data"
    },
    {
     "data": {
      "text/plain": [
       "'compound: -0.4019, '"
      ]
     },
     "metadata": {},
     "output_type": "display_data"
    },
    {
     "data": {
      "text/plain": [
       "'neg: 0.278, '"
      ]
     },
     "metadata": {},
     "output_type": "display_data"
    },
    {
     "data": {
      "text/plain": [
       "'neu: 0.722, '"
      ]
     },
     "metadata": {},
     "output_type": "display_data"
    },
    {
     "data": {
      "text/plain": [
       "'pos: 0.0, '"
      ]
     },
     "metadata": {},
     "output_type": "display_data"
    },
    {
     "data": {
      "text/plain": [
       "\"Carmen Lawrence, after reading Facebook posts critical of PauletteOne woman who did get caught up in it was Carmen Lawrence from Cleveland, who said she had been Facebook friends with Paulette for a few years.She'd followed her battle with cancer, pneumonia and other ailments.\""
      ]
     },
     "metadata": {},
     "output_type": "display_data"
    },
    {
     "data": {
      "text/plain": [
       "'compound: -0.7351, '"
      ]
     },
     "metadata": {},
     "output_type": "display_data"
    },
    {
     "data": {
      "text/plain": [
       "'neg: 0.181, '"
      ]
     },
     "metadata": {},
     "output_type": "display_data"
    },
    {
     "data": {
      "text/plain": [
       "'neu: 0.759, '"
      ]
     },
     "metadata": {},
     "output_type": "display_data"
    },
    {
     "data": {
      "text/plain": [
       "'pos: 0.06, '"
      ]
     },
     "metadata": {},
     "output_type": "display_data"
    },
    {
     "data": {
      "text/plain": [
       "'And when Paulette embarked on this ambitious walk, Lawrence wanted to help.Lawrence told me she took up a collection at work for Paulette.'"
      ]
     },
     "metadata": {},
     "output_type": "display_data"
    },
    {
     "data": {
      "text/plain": [
       "'compound: 0.561, '"
      ]
     },
     "metadata": {},
     "output_type": "display_data"
    },
    {
     "data": {
      "text/plain": [
       "'neg: 0.0, '"
      ]
     },
     "metadata": {},
     "output_type": "display_data"
    },
    {
     "data": {
      "text/plain": [
       "'neu: 0.853, '"
      ]
     },
     "metadata": {},
     "output_type": "display_data"
    },
    {
     "data": {
      "text/plain": [
       "'pos: 0.147, '"
      ]
     },
     "metadata": {},
     "output_type": "display_data"
    },
    {
     "data": {
      "text/plain": [
       "'Although Paulette has a GoFundMe page for donations, which has raised $8,640 toward a goal of $100,000, she suggested Lawrence wire her money directly.'"
      ]
     },
     "metadata": {},
     "output_type": "display_data"
    },
    {
     "data": {
      "text/plain": [
       "'compound: 0.0, '"
      ]
     },
     "metadata": {},
     "output_type": "display_data"
    },
    {
     "data": {
      "text/plain": [
       "'neg: 0.0, '"
      ]
     },
     "metadata": {},
     "output_type": "display_data"
    },
    {
     "data": {
      "text/plain": [
       "'neu: 1.0, '"
      ]
     },
     "metadata": {},
     "output_type": "display_data"
    },
    {
     "data": {
      "text/plain": [
       "'pos: 0.0, '"
      ]
     },
     "metadata": {},
     "output_type": "display_data"
    },
    {
     "data": {
      "text/plain": [
       "'Lawrence did.'"
      ]
     },
     "metadata": {},
     "output_type": "display_data"
    },
    {
     "data": {
      "text/plain": [
       "'compound: 0.0, '"
      ]
     },
     "metadata": {},
     "output_type": "display_data"
    },
    {
     "data": {
      "text/plain": [
       "'neg: 0.0, '"
      ]
     },
     "metadata": {},
     "output_type": "display_data"
    },
    {
     "data": {
      "text/plain": [
       "'neu: 1.0, '"
      ]
     },
     "metadata": {},
     "output_type": "display_data"
    },
    {
     "data": {
      "text/plain": [
       "'pos: 0.0, '"
      ]
     },
     "metadata": {},
     "output_type": "display_data"
    },
    {
     "data": {
      "text/plain": [
       "'She sent Paulette \"well over $800,\" she said.But Lawrence grew wary.'"
      ]
     },
     "metadata": {},
     "output_type": "display_data"
    },
    {
     "data": {
      "text/plain": [
       "'compound: 0.2732, '"
      ]
     },
     "metadata": {},
     "output_type": "display_data"
    },
    {
     "data": {
      "text/plain": [
       "'neg: 0.0, '"
      ]
     },
     "metadata": {},
     "output_type": "display_data"
    },
    {
     "data": {
      "text/plain": [
       "'neu: 0.826, '"
      ]
     },
     "metadata": {},
     "output_type": "display_data"
    },
    {
     "data": {
      "text/plain": [
       "'pos: 0.174, '"
      ]
     },
     "metadata": {},
     "output_type": "display_data"
    },
    {
     "data": {
      "text/plain": [
       "\"She didn't understand why Paulette was posting only parts of her walk.\""
      ]
     },
     "metadata": {},
     "output_type": "display_data"
    },
    {
     "data": {
      "text/plain": [
       "'compound: 0.0, '"
      ]
     },
     "metadata": {},
     "output_type": "display_data"
    },
    {
     "data": {
      "text/plain": [
       "'neg: 0.0, '"
      ]
     },
     "metadata": {},
     "output_type": "display_data"
    },
    {
     "data": {
      "text/plain": [
       "'neu: 1.0, '"
      ]
     },
     "metadata": {},
     "output_type": "display_data"
    },
    {
     "data": {
      "text/plain": [
       "'pos: 0.0, '"
      ]
     },
     "metadata": {},
     "output_type": "display_data"
    },
    {
     "data": {
      "text/plain": [
       "\"And when Paulette posted about being stalked by McCarty, Lawrence couldn't help but peek at McCarty's page.\""
      ]
     },
     "metadata": {},
     "output_type": "display_data"
    },
    {
     "data": {
      "text/plain": [
       "'compound: -0.1603, '"
      ]
     },
     "metadata": {},
     "output_type": "display_data"
    },
    {
     "data": {
      "text/plain": [
       "'neg: 0.092, '"
      ]
     },
     "metadata": {},
     "output_type": "display_data"
    },
    {
     "data": {
      "text/plain": [
       "'neu: 0.908, '"
      ]
     },
     "metadata": {},
     "output_type": "display_data"
    },
    {
     "data": {
      "text/plain": [
       "'pos: 0.0, '"
      ]
     },
     "metadata": {},
     "output_type": "display_data"
    },
    {
     "data": {
      "text/plain": [
       "'\"She made valid points a blind man could see,\" Lawrence said.She reached out to Paulette to ask questions.'"
      ]
     },
     "metadata": {},
     "output_type": "display_data"
    },
    {
     "data": {
      "text/plain": [
       "'compound: -0.3182, '"
      ]
     },
     "metadata": {},
     "output_type": "display_data"
    },
    {
     "data": {
      "text/plain": [
       "'neg: 0.141, '"
      ]
     },
     "metadata": {},
     "output_type": "display_data"
    },
    {
     "data": {
      "text/plain": [
       "'neu: 0.785, '"
      ]
     },
     "metadata": {},
     "output_type": "display_data"
    },
    {
     "data": {
      "text/plain": [
       "'pos: 0.073, '"
      ]
     },
     "metadata": {},
     "output_type": "display_data"
    },
    {
     "data": {
      "text/plain": [
       "'How did she know McCarty?'"
      ]
     },
     "metadata": {},
     "output_type": "display_data"
    },
    {
     "data": {
      "text/plain": [
       "'compound: 0.0, '"
      ]
     },
     "metadata": {},
     "output_type": "display_data"
    },
    {
     "data": {
      "text/plain": [
       "'neg: 0.0, '"
      ]
     },
     "metadata": {},
     "output_type": "display_data"
    },
    {
     "data": {
      "text/plain": [
       "'neu: 1.0, '"
      ]
     },
     "metadata": {},
     "output_type": "display_data"
    },
    {
     "data": {
      "text/plain": [
       "'pos: 0.0, '"
      ]
     },
     "metadata": {},
     "output_type": "display_data"
    },
    {
     "data": {
      "text/plain": [
       "\"Why wasn't her walk recorded?\""
      ]
     },
     "metadata": {},
     "output_type": "display_data"
    },
    {
     "data": {
      "text/plain": [
       "'compound: 0.0, '"
      ]
     },
     "metadata": {},
     "output_type": "display_data"
    },
    {
     "data": {
      "text/plain": [
       "'neg: 0.0, '"
      ]
     },
     "metadata": {},
     "output_type": "display_data"
    },
    {
     "data": {
      "text/plain": [
       "'neu: 1.0, '"
      ]
     },
     "metadata": {},
     "output_type": "display_data"
    },
    {
     "data": {
      "text/plain": [
       "'pos: 0.0, '"
      ]
     },
     "metadata": {},
     "output_type": "display_data"
    },
    {
     "data": {
      "text/plain": [
       "'Did she have cancer?'"
      ]
     },
     "metadata": {},
     "output_type": "display_data"
    },
    {
     "data": {
      "text/plain": [
       "'compound: -0.6597, '"
      ]
     },
     "metadata": {},
     "output_type": "display_data"
    },
    {
     "data": {
      "text/plain": [
       "'neg: 0.595, '"
      ]
     },
     "metadata": {},
     "output_type": "display_data"
    },
    {
     "data": {
      "text/plain": [
       "'neu: 0.405, '"
      ]
     },
     "metadata": {},
     "output_type": "display_data"
    },
    {
     "data": {
      "text/plain": [
       "'pos: 0.0, '"
      ]
     },
     "metadata": {},
     "output_type": "display_data"
    },
    {
     "data": {
      "text/plain": [
       "'\"I was blocked in minutes\" from her Facebook page, Lawrence said.'"
      ]
     },
     "metadata": {},
     "output_type": "display_data"
    },
    {
     "data": {
      "text/plain": [
       "'compound: -0.2732, '"
      ]
     },
     "metadata": {},
     "output_type": "display_data"
    },
    {
     "data": {
      "text/plain": [
       "'neg: 0.174, '"
      ]
     },
     "metadata": {},
     "output_type": "display_data"
    },
    {
     "data": {
      "text/plain": [
       "'neu: 0.826, '"
      ]
     },
     "metadata": {},
     "output_type": "display_data"
    },
    {
     "data": {
      "text/plain": [
       "'pos: 0.0, '"
      ]
     },
     "metadata": {},
     "output_type": "display_data"
    },
    {
     "data": {
      "text/plain": [
       "'In that moment, any trust she had in Paulette was lost.'"
      ]
     },
     "metadata": {},
     "output_type": "display_data"
    },
    {
     "data": {
      "text/plain": [
       "'compound: 0.25, '"
      ]
     },
     "metadata": {},
     "output_type": "display_data"
    },
    {
     "data": {
      "text/plain": [
       "'neg: 0.158, '"
      ]
     },
     "metadata": {},
     "output_type": "display_data"
    },
    {
     "data": {
      "text/plain": [
       "'neu: 0.616, '"
      ]
     },
     "metadata": {},
     "output_type": "display_data"
    },
    {
     "data": {
      "text/plain": [
       "'pos: 0.226, '"
      ]
     },
     "metadata": {},
     "output_type": "display_data"
    },
    {
     "data": {
      "text/plain": [
       "'\"I was so into her story,\" Lawrence said.'"
      ]
     },
     "metadata": {},
     "output_type": "display_data"
    },
    {
     "data": {
      "text/plain": [
       "'compound: 0.0, '"
      ]
     },
     "metadata": {},
     "output_type": "display_data"
    },
    {
     "data": {
      "text/plain": [
       "'neg: 0.0, '"
      ]
     },
     "metadata": {},
     "output_type": "display_data"
    },
    {
     "data": {
      "text/plain": [
       "'neu: 1.0, '"
      ]
     },
     "metadata": {},
     "output_type": "display_data"
    },
    {
     "data": {
      "text/plain": [
       "'pos: 0.0, '"
      ]
     },
     "metadata": {},
     "output_type": "display_data"
    },
    {
     "data": {
      "text/plain": [
       "'\"She hung herself.'"
      ]
     },
     "metadata": {},
     "output_type": "display_data"
    },
    {
     "data": {
      "text/plain": [
       "'compound: 0.0, '"
      ]
     },
     "metadata": {},
     "output_type": "display_data"
    },
    {
     "data": {
      "text/plain": [
       "'neg: 0.0, '"
      ]
     },
     "metadata": {},
     "output_type": "display_data"
    },
    {
     "data": {
      "text/plain": [
       "'neu: 1.0, '"
      ]
     },
     "metadata": {},
     "output_type": "display_data"
    },
    {
     "data": {
      "text/plain": [
       "'pos: 0.0, '"
      ]
     },
     "metadata": {},
     "output_type": "display_data"
    },
    {
     "data": {
      "text/plain": [
       "'\"Paulette Leaphart was diagnosed with breast cancer in January 2014 but was unable to have reconstructive surgery because of a blood-clotting disorder.Family mattersPart of Paulette\\'s story centers on when her cancer struck -- seven months after a first cousin, Monique McDonald, died of breast cancer.Paulette often said she moved to Mississippi in 2013 to care for Monique and her four daughters.'"
      ]
     },
     "metadata": {},
     "output_type": "display_data"
    },
    {
     "data": {
      "text/plain": [
       "'compound: -0.9169, '"
      ]
     },
     "metadata": {},
     "output_type": "display_data"
    },
    {
     "data": {
      "text/plain": [
       "'neg: 0.217, '"
      ]
     },
     "metadata": {},
     "output_type": "display_data"
    },
    {
     "data": {
      "text/plain": [
       "'neu: 0.725, '"
      ]
     },
     "metadata": {},
     "output_type": "display_data"
    },
    {
     "data": {
      "text/plain": [
       "'pos: 0.058, '"
      ]
     },
     "metadata": {},
     "output_type": "display_data"
    },
    {
     "data": {
      "text/plain": [
       "\"I heard Paulette tell a crowd she was the only one who could set her cousin free; that Monique needed Paulette to tell her it was safe to let go and be with God, and only then did she peacefully pass.But Monique's mother and oldest child aren't having it.As a little girl, Ashia McDonald, 22, was mesmerized by Paulette.\""
      ]
     },
     "metadata": {},
     "output_type": "display_data"
    },
    {
     "data": {
      "text/plain": [
       "'compound: 0.8934, '"
      ]
     },
     "metadata": {},
     "output_type": "display_data"
    },
    {
     "data": {
      "text/plain": [
       "'neg: 0.0, '"
      ]
     },
     "metadata": {},
     "output_type": "display_data"
    },
    {
     "data": {
      "text/plain": [
       "'neu: 0.816, '"
      ]
     },
     "metadata": {},
     "output_type": "display_data"
    },
    {
     "data": {
      "text/plain": [
       "'pos: 0.184, '"
      ]
     },
     "metadata": {},
     "output_type": "display_data"
    },
    {
     "data": {
      "text/plain": [
       "\"She was the relative who got out of Biloxi, lived a glamorous life and seemed to have it all.When her mom got really sick, she said, Paulette began calling every day, promising she'd send money and come help.\""
      ]
     },
     "metadata": {},
     "output_type": "display_data"
    },
    {
     "data": {
      "text/plain": [
       "'compound: 0.6258, '"
      ]
     },
     "metadata": {},
     "output_type": "display_data"
    },
    {
     "data": {
      "text/plain": [
       "'neg: 0.079, '"
      ]
     },
     "metadata": {},
     "output_type": "display_data"
    },
    {
     "data": {
      "text/plain": [
       "'neu: 0.729, '"
      ]
     },
     "metadata": {},
     "output_type": "display_data"
    },
    {
     "data": {
      "text/plain": [
       "'pos: 0.192, '"
      ]
     },
     "metadata": {},
     "output_type": "display_data"
    },
    {
     "data": {
      "text/plain": [
       "\"She showed up the day Monique died, Ashia said, and told relatives she'd been evicted from her home.\""
      ]
     },
     "metadata": {},
     "output_type": "display_data"
    },
    {
     "data": {
      "text/plain": [
       "'compound: -0.5574, '"
      ]
     },
     "metadata": {},
     "output_type": "display_data"
    },
    {
     "data": {
      "text/plain": [
       "'neg: 0.175, '"
      ]
     },
     "metadata": {},
     "output_type": "display_data"
    },
    {
     "data": {
      "text/plain": [
       "'neu: 0.825, '"
      ]
     },
     "metadata": {},
     "output_type": "display_data"
    },
    {
     "data": {
      "text/plain": [
       "'pos: 0.0, '"
      ]
     },
     "metadata": {},
     "output_type": "display_data"
    },
    {
     "data": {
      "text/plain": [
       "'Rather than arrive to help, Ashia said, Paulette was the one who needed help.Court documents confirm that Paulette failed to pay rent on a Lithia, Florida, home in May 2013.'"
      ]
     },
     "metadata": {},
     "output_type": "display_data"
    },
    {
     "data": {
      "text/plain": [
       "'compound: -0.25, '"
      ]
     },
     "metadata": {},
     "output_type": "display_data"
    },
    {
     "data": {
      "text/plain": [
       "'neg: 0.141, '"
      ]
     },
     "metadata": {},
     "output_type": "display_data"
    },
    {
     "data": {
      "text/plain": [
       "'neu: 0.778, '"
      ]
     },
     "metadata": {},
     "output_type": "display_data"
    },
    {
     "data": {
      "text/plain": [
       "'pos: 0.081, '"
      ]
     },
     "metadata": {},
     "output_type": "display_data"
    },
    {
     "data": {
      "text/plain": [
       "'Her landlord threatened legal action in mid-May before filing for an eviction.'"
      ]
     },
     "metadata": {},
     "output_type": "display_data"
    },
    {
     "data": {
      "text/plain": [
       "'compound: -0.6705, '"
      ]
     },
     "metadata": {},
     "output_type": "display_data"
    },
    {
     "data": {
      "text/plain": [
       "'neg: 0.364, '"
      ]
     },
     "metadata": {},
     "output_type": "display_data"
    },
    {
     "data": {
      "text/plain": [
       "'neu: 0.545, '"
      ]
     },
     "metadata": {},
     "output_type": "display_data"
    },
    {
     "data": {
      "text/plain": [
       "'pos: 0.091, '"
      ]
     },
     "metadata": {},
     "output_type": "display_data"
    },
    {
     "data": {
      "text/plain": [
       "\"Monique died on June 1.The family later learned Paulette had gone to area churches asking for donations for Monique's children, saying she was caring for them, Ashia said.\""
      ]
     },
     "metadata": {},
     "output_type": "display_data"
    },
    {
     "data": {
      "text/plain": [
       "'compound: -0.1027, '"
      ]
     },
     "metadata": {},
     "output_type": "display_data"
    },
    {
     "data": {
      "text/plain": [
       "'neg: 0.11, '"
      ]
     },
     "metadata": {},
     "output_type": "display_data"
    },
    {
     "data": {
      "text/plain": [
       "'neu: 0.793, '"
      ]
     },
     "metadata": {},
     "output_type": "display_data"
    },
    {
     "data": {
      "text/plain": [
       "'pos: 0.098, '"
      ]
     },
     "metadata": {},
     "output_type": "display_data"
    },
    {
     "data": {
      "text/plain": [
       "'Other than the $50 dorm fee Paulette offered when Ashia went to college that fall, she said she and her sisters -- who were in the custody of their grandmother, Brenda McDonald -- never saw this financial help.'"
      ]
     },
     "metadata": {},
     "output_type": "display_data"
    },
    {
     "data": {
      "text/plain": [
       "'compound: 0.4019, '"
      ]
     },
     "metadata": {},
     "output_type": "display_data"
    },
    {
     "data": {
      "text/plain": [
       "'neg: 0.0, '"
      ]
     },
     "metadata": {},
     "output_type": "display_data"
    },
    {
     "data": {
      "text/plain": [
       "'neu: 0.932, '"
      ]
     },
     "metadata": {},
     "output_type": "display_data"
    },
    {
     "data": {
      "text/plain": [
       "'pos: 0.068, '"
      ]
     },
     "metadata": {},
     "output_type": "display_data"
    },
    {
     "data": {
      "text/plain": [
       "'\"It tears me up because that\\'s my sister\\'s child,\" said McDonald, 59.'"
      ]
     },
     "metadata": {},
     "output_type": "display_data"
    },
    {
     "data": {
      "text/plain": [
       "'compound: -0.2263, '"
      ]
     },
     "metadata": {},
     "output_type": "display_data"
    },
    {
     "data": {
      "text/plain": [
       "'neg: 0.147, '"
      ]
     },
     "metadata": {},
     "output_type": "display_data"
    },
    {
     "data": {
      "text/plain": [
       "'neu: 0.853, '"
      ]
     },
     "metadata": {},
     "output_type": "display_data"
    },
    {
     "data": {
      "text/plain": [
       "'pos: 0.0, '"
      ]
     },
     "metadata": {},
     "output_type": "display_data"
    },
    {
     "data": {
      "text/plain": [
       "'She quit her job to care for her grandchildren, and she cries over the phone when she talks about Paulette.'"
      ]
     },
     "metadata": {},
     "output_type": "display_data"
    },
    {
     "data": {
      "text/plain": [
       "'compound: 0.128, '"
      ]
     },
     "metadata": {},
     "output_type": "display_data"
    },
    {
     "data": {
      "text/plain": [
       "'neg: 0.113, '"
      ]
     },
     "metadata": {},
     "output_type": "display_data"
    },
    {
     "data": {
      "text/plain": [
       "'neu: 0.753, '"
      ]
     },
     "metadata": {},
     "output_type": "display_data"
    },
    {
     "data": {
      "text/plain": [
       "'pos: 0.134, '"
      ]
     },
     "metadata": {},
     "output_type": "display_data"
    },
    {
     "data": {
      "text/plain": [
       "'\"She took advantage of my grandkids.'"
      ]
     },
     "metadata": {},
     "output_type": "display_data"
    },
    {
     "data": {
      "text/plain": [
       "'compound: 0.25, '"
      ]
     },
     "metadata": {},
     "output_type": "display_data"
    },
    {
     "data": {
      "text/plain": [
       "'neg: 0.0, '"
      ]
     },
     "metadata": {},
     "output_type": "display_data"
    },
    {
     "data": {
      "text/plain": [
       "'neu: 0.714, '"
      ]
     },
     "metadata": {},
     "output_type": "display_data"
    },
    {
     "data": {
      "text/plain": [
       "'pos: 0.286, '"
      ]
     },
     "metadata": {},
     "output_type": "display_data"
    },
    {
     "data": {
      "text/plain": [
       "'She took from them.'"
      ]
     },
     "metadata": {},
     "output_type": "display_data"
    },
    {
     "data": {
      "text/plain": [
       "'compound: 0.0, '"
      ]
     },
     "metadata": {},
     "output_type": "display_data"
    },
    {
     "data": {
      "text/plain": [
       "'neg: 0.0, '"
      ]
     },
     "metadata": {},
     "output_type": "display_data"
    },
    {
     "data": {
      "text/plain": [
       "'neu: 1.0, '"
      ]
     },
     "metadata": {},
     "output_type": "display_data"
    },
    {
     "data": {
      "text/plain": [
       "'pos: 0.0, '"
      ]
     },
     "metadata": {},
     "output_type": "display_data"
    },
    {
     "data": {
      "text/plain": [
       "\"She took their mother's death and ran with it.\""
      ]
     },
     "metadata": {},
     "output_type": "display_data"
    },
    {
     "data": {
      "text/plain": [
       "'compound: -0.5994, '"
      ]
     },
     "metadata": {},
     "output_type": "display_data"
    },
    {
     "data": {
      "text/plain": [
       "'neg: 0.328, '"
      ]
     },
     "metadata": {},
     "output_type": "display_data"
    },
    {
     "data": {
      "text/plain": [
       "'neu: 0.672, '"
      ]
     },
     "metadata": {},
     "output_type": "display_data"
    },
    {
     "data": {
      "text/plain": [
       "'pos: 0.0, '"
      ]
     },
     "metadata": {},
     "output_type": "display_data"
    },
    {
     "data": {
      "text/plain": [
       "'\"Ashia thinks back to her mother\\'s packed funeral and remembers being struck by Paulette\\'s demeanor.'"
      ]
     },
     "metadata": {},
     "output_type": "display_data"
    },
    {
     "data": {
      "text/plain": [
       "'compound: -0.5423, '"
      ]
     },
     "metadata": {},
     "output_type": "display_data"
    },
    {
     "data": {
      "text/plain": [
       "'neg: 0.257, '"
      ]
     },
     "metadata": {},
     "output_type": "display_data"
    },
    {
     "data": {
      "text/plain": [
       "'neu: 0.743, '"
      ]
     },
     "metadata": {},
     "output_type": "display_data"
    },
    {
     "data": {
      "text/plain": [
       "'pos: 0.0, '"
      ]
     },
     "metadata": {},
     "output_type": "display_data"
    },
    {
     "data": {
      "text/plain": [
       "'As mourners grieved and comforted one another, Ashia noticed something else in Paulette.'"
      ]
     },
     "metadata": {},
     "output_type": "display_data"
    },
    {
     "data": {
      "text/plain": [
       "'compound: -0.4588, '"
      ]
     },
     "metadata": {},
     "output_type": "display_data"
    },
    {
     "data": {
      "text/plain": [
       "'neg: 0.312, '"
      ]
     },
     "metadata": {},
     "output_type": "display_data"
    },
    {
     "data": {
      "text/plain": [
       "'neu: 0.538, '"
      ]
     },
     "metadata": {},
     "output_type": "display_data"
    },
    {
     "data": {
      "text/plain": [
       "'pos: 0.151, '"
      ]
     },
     "metadata": {},
     "output_type": "display_data"
    },
    {
     "data": {
      "text/plain": [
       "'\"She was so intrigued.'"
      ]
     },
     "metadata": {},
     "output_type": "display_data"
    },
    {
     "data": {
      "text/plain": [
       "'compound: 0.0, '"
      ]
     },
     "metadata": {},
     "output_type": "display_data"
    },
    {
     "data": {
      "text/plain": [
       "'neg: 0.0, '"
      ]
     },
     "metadata": {},
     "output_type": "display_data"
    },
    {
     "data": {
      "text/plain": [
       "'neu: 1.0, '"
      ]
     },
     "metadata": {},
     "output_type": "display_data"
    },
    {
     "data": {
      "text/plain": [
       "'pos: 0.0, '"
      ]
     },
     "metadata": {},
     "output_type": "display_data"
    },
    {
     "data": {
      "text/plain": [
       "'...'"
      ]
     },
     "metadata": {},
     "output_type": "display_data"
    },
    {
     "data": {
      "text/plain": [
       "'compound: 0.0, '"
      ]
     },
     "metadata": {},
     "output_type": "display_data"
    },
    {
     "data": {
      "text/plain": [
       "'neg: 0.0, '"
      ]
     },
     "metadata": {},
     "output_type": "display_data"
    },
    {
     "data": {
      "text/plain": [
       "'neu: 1.0, '"
      ]
     },
     "metadata": {},
     "output_type": "display_data"
    },
    {
     "data": {
      "text/plain": [
       "'pos: 0.0, '"
      ]
     },
     "metadata": {},
     "output_type": "display_data"
    },
    {
     "data": {
      "text/plain": [
       "'There was no sympathy.'"
      ]
     },
     "metadata": {},
     "output_type": "display_data"
    },
    {
     "data": {
      "text/plain": [
       "'compound: 0.0772, '"
      ]
     },
     "metadata": {},
     "output_type": "display_data"
    },
    {
     "data": {
      "text/plain": [
       "'neg: 0.328, '"
      ]
     },
     "metadata": {},
     "output_type": "display_data"
    },
    {
     "data": {
      "text/plain": [
       "'neu: 0.299, '"
      ]
     },
     "metadata": {},
     "output_type": "display_data"
    },
    {
     "data": {
      "text/plain": [
       "'pos: 0.373, '"
      ]
     },
     "metadata": {},
     "output_type": "display_data"
    },
    {
     "data": {
      "text/plain": [
       "'There was no sadness.'"
      ]
     },
     "metadata": {},
     "output_type": "display_data"
    },
    {
     "data": {
      "text/plain": [
       "'compound: -0.6249, '"
      ]
     },
     "metadata": {},
     "output_type": "display_data"
    },
    {
     "data": {
      "text/plain": [
       "'neg: 0.718, '"
      ]
     },
     "metadata": {},
     "output_type": "display_data"
    },
    {
     "data": {
      "text/plain": [
       "'neu: 0.282, '"
      ]
     },
     "metadata": {},
     "output_type": "display_data"
    },
    {
     "data": {
      "text/plain": [
       "'pos: 0.0, '"
      ]
     },
     "metadata": {},
     "output_type": "display_data"
    },
    {
     "data": {
      "text/plain": [
       "'It was weird, like she wanted to be in my mother\\'s shoes,\" Ashia said.'"
      ]
     },
     "metadata": {},
     "output_type": "display_data"
    },
    {
     "data": {
      "text/plain": [
       "'compound: 0.2023, '"
      ]
     },
     "metadata": {},
     "output_type": "display_data"
    },
    {
     "data": {
      "text/plain": [
       "'neg: 0.105, '"
      ]
     },
     "metadata": {},
     "output_type": "display_data"
    },
    {
     "data": {
      "text/plain": [
       "'neu: 0.741, '"
      ]
     },
     "metadata": {},
     "output_type": "display_data"
    },
    {
     "data": {
      "text/plain": [
       "'pos: 0.154, '"
      ]
     },
     "metadata": {},
     "output_type": "display_data"
    },
    {
     "data": {
      "text/plain": [
       "'\"It had everything to do with the crowd and the love.'"
      ]
     },
     "metadata": {},
     "output_type": "display_data"
    },
    {
     "data": {
      "text/plain": [
       "'compound: 0.6369, '"
      ]
     },
     "metadata": {},
     "output_type": "display_data"
    },
    {
     "data": {
      "text/plain": [
       "'neg: 0.0, '"
      ]
     },
     "metadata": {},
     "output_type": "display_data"
    },
    {
     "data": {
      "text/plain": [
       "'neu: 0.704, '"
      ]
     },
     "metadata": {},
     "output_type": "display_data"
    },
    {
     "data": {
      "text/plain": [
       "'pos: 0.296, '"
      ]
     },
     "metadata": {},
     "output_type": "display_data"
    },
    {
     "data": {
      "text/plain": [
       "'...'"
      ]
     },
     "metadata": {},
     "output_type": "display_data"
    },
    {
     "data": {
      "text/plain": [
       "'compound: 0.0, '"
      ]
     },
     "metadata": {},
     "output_type": "display_data"
    },
    {
     "data": {
      "text/plain": [
       "'neg: 0.0, '"
      ]
     },
     "metadata": {},
     "output_type": "display_data"
    },
    {
     "data": {
      "text/plain": [
       "'neu: 1.0, '"
      ]
     },
     "metadata": {},
     "output_type": "display_data"
    },
    {
     "data": {
      "text/plain": [
       "'pos: 0.0, '"
      ]
     },
     "metadata": {},
     "output_type": "display_data"
    },
    {
     "data": {
      "text/plain": [
       "\"I'm telling you, I knew she had something up her sleeve.\""
      ]
     },
     "metadata": {},
     "output_type": "display_data"
    },
    {
     "data": {
      "text/plain": [
       "'compound: 0.0, '"
      ]
     },
     "metadata": {},
     "output_type": "display_data"
    },
    {
     "data": {
      "text/plain": [
       "'neg: 0.0, '"
      ]
     },
     "metadata": {},
     "output_type": "display_data"
    },
    {
     "data": {
      "text/plain": [
       "'neu: 1.0, '"
      ]
     },
     "metadata": {},
     "output_type": "display_data"
    },
    {
     "data": {
      "text/plain": [
       "'pos: 0.0, '"
      ]
     },
     "metadata": {},
     "output_type": "display_data"
    },
    {
     "data": {
      "text/plain": [
       "'\"Seven months after the funeral, Paulette was diagnosed with breast cancer.Sometimes my mom gives so much she gets hurt.'"
      ]
     },
     "metadata": {},
     "output_type": "display_data"
    },
    {
     "data": {
      "text/plain": [
       "'compound: -0.7096, '"
      ]
     },
     "metadata": {},
     "output_type": "display_data"
    },
    {
     "data": {
      "text/plain": [
       "'neg: 0.258, '"
      ]
     },
     "metadata": {},
     "output_type": "display_data"
    },
    {
     "data": {
      "text/plain": [
       "'neu: 0.742, '"
      ]
     },
     "metadata": {},
     "output_type": "display_data"
    },
    {
     "data": {
      "text/plain": [
       "'pos: 0.0, '"
      ]
     },
     "metadata": {},
     "output_type": "display_data"
    },
    {
     "data": {
      "text/plain": [
       "'Her intentions are always pure.'"
      ]
     },
     "metadata": {},
     "output_type": "display_data"
    },
    {
     "data": {
      "text/plain": [
       "'compound: 0.0, '"
      ]
     },
     "metadata": {},
     "output_type": "display_data"
    },
    {
     "data": {
      "text/plain": [
       "'neg: 0.0, '"
      ]
     },
     "metadata": {},
     "output_type": "display_data"
    },
    {
     "data": {
      "text/plain": [
       "'neu: 1.0, '"
      ]
     },
     "metadata": {},
     "output_type": "display_data"
    },
    {
     "data": {
      "text/plain": [
       "'pos: 0.0, '"
      ]
     },
     "metadata": {},
     "output_type": "display_data"
    },
    {
     "data": {
      "text/plain": [
       "\"Porsha Cummings, Paulette's oldest childAnother of Paulette's cousins, Candy McDonald, 29, told me of her own anger with Paulette.\""
      ]
     },
     "metadata": {},
     "output_type": "display_data"
    },
    {
     "data": {
      "text/plain": [
       "'compound: -0.5719, '"
      ]
     },
     "metadata": {},
     "output_type": "display_data"
    },
    {
     "data": {
      "text/plain": [
       "'neg: 0.171, '"
      ]
     },
     "metadata": {},
     "output_type": "display_data"
    },
    {
     "data": {
      "text/plain": [
       "'neu: 0.829, '"
      ]
     },
     "metadata": {},
     "output_type": "display_data"
    },
    {
     "data": {
      "text/plain": [
       "'pos: 0.0, '"
      ]
     },
     "metadata": {},
     "output_type": "display_data"
    },
    {
     "data": {
      "text/plain": [
       "'She, too, always looked up to her \"Auntie Paulette.\"'"
      ]
     },
     "metadata": {},
     "output_type": "display_data"
    },
    {
     "data": {
      "text/plain": [
       "'compound: 0.0, '"
      ]
     },
     "metadata": {},
     "output_type": "display_data"
    },
    {
     "data": {
      "text/plain": [
       "'neg: 0.0, '"
      ]
     },
     "metadata": {},
     "output_type": "display_data"
    },
    {
     "data": {
      "text/plain": [
       "'neu: 1.0, '"
      ]
     },
     "metadata": {},
     "output_type": "display_data"
    },
    {
     "data": {
      "text/plain": [
       "'pos: 0.0, '"
      ]
     },
     "metadata": {},
     "output_type": "display_data"
    },
    {
     "data": {
      "text/plain": [
       "\"But that ended after Candy said she signed a lease for Paulette, which she then skipped out on, hurting Candy's credit, she said.\""
      ]
     },
     "metadata": {},
     "output_type": "display_data"
    },
    {
     "data": {
      "text/plain": [
       "'compound: -0.0258, '"
      ]
     },
     "metadata": {},
     "output_type": "display_data"
    },
    {
     "data": {
      "text/plain": [
       "'neg: 0.107, '"
      ]
     },
     "metadata": {},
     "output_type": "display_data"
    },
    {
     "data": {
      "text/plain": [
       "'neu: 0.791, '"
      ]
     },
     "metadata": {},
     "output_type": "display_data"
    },
    {
     "data": {
      "text/plain": [
       "'pos: 0.103, '"
      ]
     },
     "metadata": {},
     "output_type": "display_data"
    },
    {
     "data": {
      "text/plain": [
       "'Candy also says Paulette stole her beloved Yorkie named Suge.Paulette has had three marriages.'"
      ]
     },
     "metadata": {},
     "output_type": "display_data"
    },
    {
     "data": {
      "text/plain": [
       "'compound: 0.5106, '"
      ]
     },
     "metadata": {},
     "output_type": "display_data"
    },
    {
     "data": {
      "text/plain": [
       "'neg: 0.0, '"
      ]
     },
     "metadata": {},
     "output_type": "display_data"
    },
    {
     "data": {
      "text/plain": [
       "'neu: 0.798, '"
      ]
     },
     "metadata": {},
     "output_type": "display_data"
    },
    {
     "data": {
      "text/plain": [
       "'pos: 0.202, '"
      ]
     },
     "metadata": {},
     "output_type": "display_data"
    },
    {
     "data": {
      "text/plain": [
       "'The first lasted 16 years; the second, four years; the third fell apart in about a week, according to the three men.Her first husband, David McKenzie, said Paulette was a stay-at-home mom who often provided day care out of their home, and he -- a military man -- was frequently away.'"
      ]
     },
     "metadata": {},
     "output_type": "display_data"
    },
    {
     "data": {
      "text/plain": [
       "'compound: 0.4939, '"
      ]
     },
     "metadata": {},
     "output_type": "display_data"
    },
    {
     "data": {
      "text/plain": [
       "'neg: 0.0, '"
      ]
     },
     "metadata": {},
     "output_type": "display_data"
    },
    {
     "data": {
      "text/plain": [
       "'neu: 0.936, '"
      ]
     },
     "metadata": {},
     "output_type": "display_data"
    },
    {
     "data": {
      "text/plain": [
       "'pos: 0.064, '"
      ]
     },
     "metadata": {},
     "output_type": "display_data"
    },
    {
     "data": {
      "text/plain": [
       "\"He read a few articles about Paulette's journey and worried about her walking along highways with a child but applauded her effort to raise awareness about cancer.He can't help but laugh a little, though, when he thinks about her setting out to trek 1,000 miles.\""
      ]
     },
     "metadata": {},
     "output_type": "display_data"
    },
    {
     "data": {
      "text/plain": [
       "'compound: -0.6277, '"
      ]
     },
     "metadata": {},
     "output_type": "display_data"
    },
    {
     "data": {
      "text/plain": [
       "'neg: 0.169, '"
      ]
     },
     "metadata": {},
     "output_type": "display_data"
    },
    {
     "data": {
      "text/plain": [
       "'neu: 0.766, '"
      ]
     },
     "metadata": {},
     "output_type": "display_data"
    },
    {
     "data": {
      "text/plain": [
       "'pos: 0.065, '"
      ]
     },
     "metadata": {},
     "output_type": "display_data"
    },
    {
     "data": {
      "text/plain": [
       "'\"I will say that it\\'s out of her character to walk that far,\" he said.The Paulette he knew didn\\'t exercise and \"might walk down the street or around the block,\" he said.'"
      ]
     },
     "metadata": {},
     "output_type": "display_data"
    },
    {
     "data": {
      "text/plain": [
       "'compound: 0.0, '"
      ]
     },
     "metadata": {},
     "output_type": "display_data"
    },
    {
     "data": {
      "text/plain": [
       "'neg: 0.0, '"
      ]
     },
     "metadata": {},
     "output_type": "display_data"
    },
    {
     "data": {
      "text/plain": [
       "'neu: 1.0, '"
      ]
     },
     "metadata": {},
     "output_type": "display_data"
    },
    {
     "data": {
      "text/plain": [
       "'pos: 0.0, '"
      ]
     },
     "metadata": {},
     "output_type": "display_data"
    },
    {
     "data": {
      "text/plain": [
       "'\"But life changes, seasons change and people change.'"
      ]
     },
     "metadata": {},
     "output_type": "display_data"
    },
    {
     "data": {
      "text/plain": [
       "'compound: 0.0, '"
      ]
     },
     "metadata": {},
     "output_type": "display_data"
    },
    {
     "data": {
      "text/plain": [
       "'neg: 0.0, '"
      ]
     },
     "metadata": {},
     "output_type": "display_data"
    },
    {
     "data": {
      "text/plain": [
       "'neu: 1.0, '"
      ]
     },
     "metadata": {},
     "output_type": "display_data"
    },
    {
     "data": {
      "text/plain": [
       "'pos: 0.0, '"
      ]
     },
     "metadata": {},
     "output_type": "display_data"
    },
    {
     "data": {
      "text/plain": [
       "'\"The second man she married, Craig Leaphart, was hesitant to talk.'"
      ]
     },
     "metadata": {},
     "output_type": "display_data"
    },
    {
     "data": {
      "text/plain": [
       "'compound: -0.25, '"
      ]
     },
     "metadata": {},
     "output_type": "display_data"
    },
    {
     "data": {
      "text/plain": [
       "'neg: 0.167, '"
      ]
     },
     "metadata": {},
     "output_type": "display_data"
    },
    {
     "data": {
      "text/plain": [
       "'neu: 0.833, '"
      ]
     },
     "metadata": {},
     "output_type": "display_data"
    },
    {
     "data": {
      "text/plain": [
       "'pos: 0.0, '"
      ]
     },
     "metadata": {},
     "output_type": "display_data"
    },
    {
     "data": {
      "text/plain": [
       "'\"I would say that her heart is in the right place and leave it at that,\" he said.He did add that she\\'s had \"serious health issues\" and that \"her mom had breast cancer.'"
      ]
     },
     "metadata": {},
     "output_type": "display_data"
    },
    {
     "data": {
      "text/plain": [
       "'compound: -0.7096, '"
      ]
     },
     "metadata": {},
     "output_type": "display_data"
    },
    {
     "data": {
      "text/plain": [
       "'neg: 0.187, '"
      ]
     },
     "metadata": {},
     "output_type": "display_data"
    },
    {
     "data": {
      "text/plain": [
       "'neu: 0.813, '"
      ]
     },
     "metadata": {},
     "output_type": "display_data"
    },
    {
     "data": {
      "text/plain": [
       "'pos: 0.0, '"
      ]
     },
     "metadata": {},
     "output_type": "display_data"
    },
    {
     "data": {
      "text/plain": [
       "'\"I asked how he felt about his daughter walking with Paulette.'"
      ]
     },
     "metadata": {},
     "output_type": "display_data"
    },
    {
     "data": {
      "text/plain": [
       "'compound: 0.0, '"
      ]
     },
     "metadata": {},
     "output_type": "display_data"
    },
    {
     "data": {
      "text/plain": [
       "'neg: 0.0, '"
      ]
     },
     "metadata": {},
     "output_type": "display_data"
    },
    {
     "data": {
      "text/plain": [
       "'neu: 1.0, '"
      ]
     },
     "metadata": {},
     "output_type": "display_data"
    },
    {
     "data": {
      "text/plain": [
       "'pos: 0.0, '"
      ]
     },
     "metadata": {},
     "output_type": "display_data"
    },
    {
     "data": {
      "text/plain": [
       "'\"I have no comment on that,\" he said, before hanging up.Her third husband, Sidney Williams, told me he\\'d met Paulette on an online dating site right before her double mastectomy.'"
      ]
     },
     "metadata": {},
     "output_type": "display_data"
    },
    {
     "data": {
      "text/plain": [
       "'compound: -0.296, '"
      ]
     },
     "metadata": {},
     "output_type": "display_data"
    },
    {
     "data": {
      "text/plain": [
       "'neg: 0.071, '"
      ]
     },
     "metadata": {},
     "output_type": "display_data"
    },
    {
     "data": {
      "text/plain": [
       "'neu: 0.929, '"
      ]
     },
     "metadata": {},
     "output_type": "display_data"
    },
    {
     "data": {
      "text/plain": [
       "'pos: 0.0, '"
      ]
     },
     "metadata": {},
     "output_type": "display_data"
    },
    {
     "data": {
      "text/plain": [
       "'She told him about her cancer, and he fell for her.'"
      ]
     },
     "metadata": {},
     "output_type": "display_data"
    },
    {
     "data": {
      "text/plain": [
       "'compound: -0.6597, '"
      ]
     },
     "metadata": {},
     "output_type": "display_data"
    },
    {
     "data": {
      "text/plain": [
       "'neg: 0.306, '"
      ]
     },
     "metadata": {},
     "output_type": "display_data"
    },
    {
     "data": {
      "text/plain": [
       "'neu: 0.694, '"
      ]
     },
     "metadata": {},
     "output_type": "display_data"
    },
    {
     "data": {
      "text/plain": [
       "'pos: 0.0, '"
      ]
     },
     "metadata": {},
     "output_type": "display_data"
    },
    {
     "data": {
      "text/plain": [
       "'Months after the double mastectomy, she moved in with him in Seattle, he said.'"
      ]
     },
     "metadata": {},
     "output_type": "display_data"
    },
    {
     "data": {
      "text/plain": [
       "'compound: 0.0, '"
      ]
     },
     "metadata": {},
     "output_type": "display_data"
    },
    {
     "data": {
      "text/plain": [
       "'neg: 0.0, '"
      ]
     },
     "metadata": {},
     "output_type": "display_data"
    },
    {
     "data": {
      "text/plain": [
       "'neu: 1.0, '"
      ]
     },
     "metadata": {},
     "output_type": "display_data"
    },
    {
     "data": {
      "text/plain": [
       "'pos: 0.0, '"
      ]
     },
     "metadata": {},
     "output_type": "display_data"
    },
    {
     "data": {
      "text/plain": [
       "'When she told him she had to go to MD Anderson in Houston for cancer treatment, he suggested she stay in Seattle, and he took her to a cancer center there to discuss treatment.'"
      ]
     },
     "metadata": {},
     "output_type": "display_data"
    },
    {
     "data": {
      "text/plain": [
       "'compound: -0.8689, '"
      ]
     },
     "metadata": {},
     "output_type": "display_data"
    },
    {
     "data": {
      "text/plain": [
       "'neg: 0.221, '"
      ]
     },
     "metadata": {},
     "output_type": "display_data"
    },
    {
     "data": {
      "text/plain": [
       "'neu: 0.779, '"
      ]
     },
     "metadata": {},
     "output_type": "display_data"
    },
    {
     "data": {
      "text/plain": [
       "'pos: 0.0, '"
      ]
     },
     "metadata": {},
     "output_type": "display_data"
    },
    {
     "data": {
      "text/plain": [
       "'He walked into the room just as a doctor was telling her there was no sign of cancer, he said.'"
      ]
     },
     "metadata": {},
     "output_type": "display_data"
    },
    {
     "data": {
      "text/plain": [
       "'compound: -0.765, '"
      ]
     },
     "metadata": {},
     "output_type": "display_data"
    },
    {
     "data": {
      "text/plain": [
       "'neg: 0.28, '"
      ]
     },
     "metadata": {},
     "output_type": "display_data"
    },
    {
     "data": {
      "text/plain": [
       "'neu: 0.72, '"
      ]
     },
     "metadata": {},
     "output_type": "display_data"
    },
    {
     "data": {
      "text/plain": [
       "'pos: 0.0, '"
      ]
     },
     "metadata": {},
     "output_type": "display_data"
    },
    {
     "data": {
      "text/plain": [
       "'\"She herded me out of the office at that point,\" he said.Williams interpreted this to mean she\\'d never had cancer and said, in that moment, he felt like he\\'d been \"suckered.\"'"
      ]
     },
     "metadata": {},
     "output_type": "display_data"
    },
    {
     "data": {
      "text/plain": [
       "'compound: 0.7198, '"
      ]
     },
     "metadata": {},
     "output_type": "display_data"
    },
    {
     "data": {
      "text/plain": [
       "'neg: 0.0, '"
      ]
     },
     "metadata": {},
     "output_type": "display_data"
    },
    {
     "data": {
      "text/plain": [
       "'neu: 0.828, '"
      ]
     },
     "metadata": {},
     "output_type": "display_data"
    },
    {
     "data": {
      "text/plain": [
       "'pos: 0.172, '"
      ]
     },
     "metadata": {},
     "output_type": "display_data"
    },
    {
     "data": {
      "text/plain": [
       "\"He said he couldn't believe a word she said anymore and told her the marriage was over.\""
      ]
     },
     "metadata": {},
     "output_type": "display_data"
    },
    {
     "data": {
      "text/plain": [
       "'compound: 0.0, '"
      ]
     },
     "metadata": {},
     "output_type": "display_data"
    },
    {
     "data": {
      "text/plain": [
       "'neg: 0.0, '"
      ]
     },
     "metadata": {},
     "output_type": "display_data"
    },
    {
     "data": {
      "text/plain": [
       "'neu: 1.0, '"
      ]
     },
     "metadata": {},
     "output_type": "display_data"
    },
    {
     "data": {
      "text/plain": [
       "'pos: 0.0, '"
      ]
     },
     "metadata": {},
     "output_type": "display_data"
    },
    {
     "data": {
      "text/plain": [
       "'He was heartbroken and disappointed but relieved to get out early.She told me she left him after overhearing him say, while she was in the throes of her cancer battle, \"I didn\\'t marry her to watch her die.'"
      ]
     },
     "metadata": {},
     "output_type": "display_data"
    },
    {
     "data": {
      "text/plain": [
       "'compound: -0.9528, '"
      ]
     },
     "metadata": {},
     "output_type": "display_data"
    },
    {
     "data": {
      "text/plain": [
       "'neg: 0.356, '"
      ]
     },
     "metadata": {},
     "output_type": "display_data"
    },
    {
     "data": {
      "text/plain": [
       "'neu: 0.582, '"
      ]
     },
     "metadata": {},
     "output_type": "display_data"
    },
    {
     "data": {
      "text/plain": [
       "'pos: 0.062, '"
      ]
     },
     "metadata": {},
     "output_type": "display_data"
    },
    {
     "data": {
      "text/plain": [
       "'\"Williams said she stole his 2003 Jaguar and left the state.'"
      ]
     },
     "metadata": {},
     "output_type": "display_data"
    },
    {
     "data": {
      "text/plain": [
       "'compound: 0.0, '"
      ]
     },
     "metadata": {},
     "output_type": "display_data"
    },
    {
     "data": {
      "text/plain": [
       "'neg: 0.0, '"
      ]
     },
     "metadata": {},
     "output_type": "display_data"
    },
    {
     "data": {
      "text/plain": [
       "'neu: 1.0, '"
      ]
     },
     "metadata": {},
     "output_type": "display_data"
    },
    {
     "data": {
      "text/plain": [
       "'pos: 0.0, '"
      ]
     },
     "metadata": {},
     "output_type": "display_data"
    },
    {
     "data": {
      "text/plain": [
       "'She told me she took his car, saying she drove it cross-country in spite of how sick she was.'"
      ]
     },
     "metadata": {},
     "output_type": "display_data"
    },
    {
     "data": {
      "text/plain": [
       "'compound: -0.7717, '"
      ]
     },
     "metadata": {},
     "output_type": "display_data"
    },
    {
     "data": {
      "text/plain": [
       "'neg: 0.283, '"
      ]
     },
     "metadata": {},
     "output_type": "display_data"
    },
    {
     "data": {
      "text/plain": [
       "'neu: 0.717, '"
      ]
     },
     "metadata": {},
     "output_type": "display_data"
    },
    {
     "data": {
      "text/plain": [
       "'pos: 0.0, '"
      ]
     },
     "metadata": {},
     "output_type": "display_data"
    },
    {
     "data": {
      "text/plain": [
       "'Williams said he never saw that car again.Paulette Leaphart carried no sign and insisted the scars across her chest told her story.'"
      ]
     },
     "metadata": {},
     "output_type": "display_data"
    },
    {
     "data": {
      "text/plain": [
       "'compound: -0.296, '"
      ]
     },
     "metadata": {},
     "output_type": "display_data"
    },
    {
     "data": {
      "text/plain": [
       "'neg: 0.095, '"
      ]
     },
     "metadata": {},
     "output_type": "display_data"
    },
    {
     "data": {
      "text/plain": [
       "'neu: 0.905, '"
      ]
     },
     "metadata": {},
     "output_type": "display_data"
    },
    {
     "data": {
      "text/plain": [
       "'pos: 0.0, '"
      ]
     },
     "metadata": {},
     "output_type": "display_data"
    },
    {
     "data": {
      "text/plain": [
       "\"She walked along busy roads, like US 29, saying this was how she could be best noticed.A daughter's defensePorsha Cummings takes the criticism of Paulette personally.\""
      ]
     },
     "metadata": {},
     "output_type": "display_data"
    },
    {
     "data": {
      "text/plain": [
       "'compound: 0.5859, '"
      ]
     },
     "metadata": {},
     "output_type": "display_data"
    },
    {
     "data": {
      "text/plain": [
       "'neg: 0.089, '"
      ]
     },
     "metadata": {},
     "output_type": "display_data"
    },
    {
     "data": {
      "text/plain": [
       "'neu: 0.706, '"
      ]
     },
     "metadata": {},
     "output_type": "display_data"
    },
    {
     "data": {
      "text/plain": [
       "'pos: 0.206, '"
      ]
     },
     "metadata": {},
     "output_type": "display_data"
    },
    {
     "data": {
      "text/plain": [
       "\"Cummings, 31, is Paulette's oldest child.\""
      ]
     },
     "metadata": {},
     "output_type": "display_data"
    },
    {
     "data": {
      "text/plain": [
       "'compound: 0.0, '"
      ]
     },
     "metadata": {},
     "output_type": "display_data"
    },
    {
     "data": {
      "text/plain": [
       "'neg: 0.0, '"
      ]
     },
     "metadata": {},
     "output_type": "display_data"
    },
    {
     "data": {
      "text/plain": [
       "'neu: 1.0, '"
      ]
     },
     "metadata": {},
     "output_type": "display_data"
    },
    {
     "data": {
      "text/plain": [
       "'pos: 0.0, '"
      ]
     },
     "metadata": {},
     "output_type": "display_data"
    },
    {
     "data": {
      "text/plain": [
       "'The Fort Worth, Texas, hairstylist and mother of three girls talks about a mom who has always given to and thought of others.'"
      ]
     },
     "metadata": {},
     "output_type": "display_data"
    },
    {
     "data": {
      "text/plain": [
       "'compound: 0.2263, '"
      ]
     },
     "metadata": {},
     "output_type": "display_data"
    },
    {
     "data": {
      "text/plain": [
       "'neg: 0.0, '"
      ]
     },
     "metadata": {},
     "output_type": "display_data"
    },
    {
     "data": {
      "text/plain": [
       "'neu: 0.917, '"
      ]
     },
     "metadata": {},
     "output_type": "display_data"
    },
    {
     "data": {
      "text/plain": [
       "'pos: 0.083, '"
      ]
     },
     "metadata": {},
     "output_type": "display_data"
    },
    {
     "data": {
      "text/plain": [
       "'\"Sometimes my mom gives so much she gets hurt,\" Cummings said.'"
      ]
     },
     "metadata": {},
     "output_type": "display_data"
    },
    {
     "data": {
      "text/plain": [
       "'compound: 0.0, '"
      ]
     },
     "metadata": {},
     "output_type": "display_data"
    },
    {
     "data": {
      "text/plain": [
       "'neg: 0.0, '"
      ]
     },
     "metadata": {},
     "output_type": "display_data"
    },
    {
     "data": {
      "text/plain": [
       "'neu: 1.0, '"
      ]
     },
     "metadata": {},
     "output_type": "display_data"
    },
    {
     "data": {
      "text/plain": [
       "'pos: 0.0, '"
      ]
     },
     "metadata": {},
     "output_type": "display_data"
    },
    {
     "data": {
      "text/plain": [
       "'\"Her intentions are always pure.'"
      ]
     },
     "metadata": {},
     "output_type": "display_data"
    },
    {
     "data": {
      "text/plain": [
       "'compound: 0.0, '"
      ]
     },
     "metadata": {},
     "output_type": "display_data"
    },
    {
     "data": {
      "text/plain": [
       "'neg: 0.0, '"
      ]
     },
     "metadata": {},
     "output_type": "display_data"
    },
    {
     "data": {
      "text/plain": [
       "'neu: 1.0, '"
      ]
     },
     "metadata": {},
     "output_type": "display_data"
    },
    {
     "data": {
      "text/plain": [
       "'pos: 0.0, '"
      ]
     },
     "metadata": {},
     "output_type": "display_data"
    },
    {
     "data": {
      "text/plain": [
       "'\"A daughter from a relationship before Paulette\\'s first marriage, Cummings said she grew up a \"military brat\" in a family that always lived a \"very affluent lifestyle.\"'"
      ]
     },
     "metadata": {},
     "output_type": "display_data"
    },
    {
     "data": {
      "text/plain": [
       "'compound: 0.0, '"
      ]
     },
     "metadata": {},
     "output_type": "display_data"
    },
    {
     "data": {
      "text/plain": [
       "'neg: 0.0, '"
      ]
     },
     "metadata": {},
     "output_type": "display_data"
    },
    {
     "data": {
      "text/plain": [
       "'neu: 1.0, '"
      ]
     },
     "metadata": {},
     "output_type": "display_data"
    },
    {
     "data": {
      "text/plain": [
       "'pos: 0.0, '"
      ]
     },
     "metadata": {},
     "output_type": "display_data"
    },
    {
     "data": {
      "text/plain": [
       "\"Her mother welcomed girls who'd aged out of the foster system.\""
      ]
     },
     "metadata": {},
     "output_type": "display_data"
    },
    {
     "data": {
      "text/plain": [
       "'compound: 0.34, '"
      ]
     },
     "metadata": {},
     "output_type": "display_data"
    },
    {
     "data": {
      "text/plain": [
       "'neg: 0.0, '"
      ]
     },
     "metadata": {},
     "output_type": "display_data"
    },
    {
     "data": {
      "text/plain": [
       "'neu: 0.806, '"
      ]
     },
     "metadata": {},
     "output_type": "display_data"
    },
    {
     "data": {
      "text/plain": [
       "'pos: 0.194, '"
      ]
     },
     "metadata": {},
     "output_type": "display_data"
    },
    {
     "data": {
      "text/plain": [
       "\"She ran a day care center out of their home and cut deals for parents who couldn't afford the care.\""
      ]
     },
     "metadata": {},
     "output_type": "display_data"
    },
    {
     "data": {
      "text/plain": [
       "'compound: 0.6486, '"
      ]
     },
     "metadata": {},
     "output_type": "display_data"
    },
    {
     "data": {
      "text/plain": [
       "'neg: 0.086, '"
      ]
     },
     "metadata": {},
     "output_type": "display_data"
    },
    {
     "data": {
      "text/plain": [
       "'neu: 0.653, '"
      ]
     },
     "metadata": {},
     "output_type": "display_data"
    },
    {
     "data": {
      "text/plain": [
       "'pos: 0.261, '"
      ]
     },
     "metadata": {},
     "output_type": "display_data"
    },
    {
     "data": {
      "text/plain": [
       "'She took in foster children and paid for their private-school educations.So when Paulette called Cummings and told her she had cancer and was struggling financially, Cummings wanted to take care of her mother.'"
      ]
     },
     "metadata": {},
     "output_type": "display_data"
    },
    {
     "data": {
      "text/plain": [
       "'compound: -0.6124, '"
      ]
     },
     "metadata": {},
     "output_type": "display_data"
    },
    {
     "data": {
      "text/plain": [
       "'neg: 0.178, '"
      ]
     },
     "metadata": {},
     "output_type": "display_data"
    },
    {
     "data": {
      "text/plain": [
       "'neu: 0.743, '"
      ]
     },
     "metadata": {},
     "output_type": "display_data"
    },
    {
     "data": {
      "text/plain": [
       "'pos: 0.079, '"
      ]
     },
     "metadata": {},
     "output_type": "display_data"
    },
    {
     "data": {
      "text/plain": [
       "'She said she told her mom to come to Texas so she and her fiancé could help.'"
      ]
     },
     "metadata": {},
     "output_type": "display_data"
    },
    {
     "data": {
      "text/plain": [
       "'compound: 0.4019, '"
      ]
     },
     "metadata": {},
     "output_type": "display_data"
    },
    {
     "data": {
      "text/plain": [
       "'neg: 0.0, '"
      ]
     },
     "metadata": {},
     "output_type": "display_data"
    },
    {
     "data": {
      "text/plain": [
       "'neu: 0.856, '"
      ]
     },
     "metadata": {},
     "output_type": "display_data"
    },
    {
     "data": {
      "text/plain": [
       "'pos: 0.144, '"
      ]
     },
     "metadata": {},
     "output_type": "display_data"
    },
    {
     "data": {
      "text/plain": [
       "\"But Paulette wouldn't have it.\""
      ]
     },
     "metadata": {},
     "output_type": "display_data"
    },
    {
     "data": {
      "text/plain": [
       "'compound: 0.0, '"
      ]
     },
     "metadata": {},
     "output_type": "display_data"
    },
    {
     "data": {
      "text/plain": [
       "'neg: 0.0, '"
      ]
     },
     "metadata": {},
     "output_type": "display_data"
    },
    {
     "data": {
      "text/plain": [
       "'neu: 1.0, '"
      ]
     },
     "metadata": {},
     "output_type": "display_data"
    },
    {
     "data": {
      "text/plain": [
       "'pos: 0.0, '"
      ]
     },
     "metadata": {},
     "output_type": "display_data"
    },
    {
     "data": {
      "text/plain": [
       "'\"She wanted to put on a strong face for her children,\" Cummings remembered, and didn\\'t want to burden anyone.Paulette didn\\'t have insurance, Cummings said, and told her she had depleted her savings paying for chemo and other procedures, including $40,000 to remove her breasts.'"
      ]
     },
     "metadata": {},
     "output_type": "display_data"
    },
    {
     "data": {
      "text/plain": [
       "'compound: 0.6688, '"
      ]
     },
     "metadata": {},
     "output_type": "display_data"
    },
    {
     "data": {
      "text/plain": [
       "'neg: 0.026, '"
      ]
     },
     "metadata": {},
     "output_type": "display_data"
    },
    {
     "data": {
      "text/plain": [
       "'neu: 0.852, '"
      ]
     },
     "metadata": {},
     "output_type": "display_data"
    },
    {
     "data": {
      "text/plain": [
       "'pos: 0.122, '"
      ]
     },
     "metadata": {},
     "output_type": "display_data"
    },
    {
     "data": {
      "text/plain": [
       "\"Cummings had been saving up for her wedding and insisted her mother take what she had.It crushed Cummings to think of her mom sleeping on an air mattress, facing outrageous medical bills and not having all she'd been accustomed to.\""
      ]
     },
     "metadata": {},
     "output_type": "display_data"
    },
    {
     "data": {
      "text/plain": [
       "'compound: -0.7003, '"
      ]
     },
     "metadata": {},
     "output_type": "display_data"
    },
    {
     "data": {
      "text/plain": [
       "'neg: 0.132, '"
      ]
     },
     "metadata": {},
     "output_type": "display_data"
    },
    {
     "data": {
      "text/plain": [
       "'neu: 0.868, '"
      ]
     },
     "metadata": {},
     "output_type": "display_data"
    },
    {
     "data": {
      "text/plain": [
       "'pos: 0.0, '"
      ]
     },
     "metadata": {},
     "output_type": "display_data"
    },
    {
     "data": {
      "text/plain": [
       "'And then to see people say she was never sick with cancer?'"
      ]
     },
     "metadata": {},
     "output_type": "display_data"
    },
    {
     "data": {
      "text/plain": [
       "'compound: 0.7366, '"
      ]
     },
     "metadata": {},
     "output_type": "display_data"
    },
    {
     "data": {
      "text/plain": [
       "'neg: 0.0, '"
      ]
     },
     "metadata": {},
     "output_type": "display_data"
    },
    {
     "data": {
      "text/plain": [
       "'neu: 0.617, '"
      ]
     },
     "metadata": {},
     "output_type": "display_data"
    },
    {
     "data": {
      "text/plain": [
       "'pos: 0.383, '"
      ]
     },
     "metadata": {},
     "output_type": "display_data"
    },
    {
     "data": {
      "text/plain": [
       "\"That just incensed Paulette's daughter.\""
      ]
     },
     "metadata": {},
     "output_type": "display_data"
    },
    {
     "data": {
      "text/plain": [
       "'compound: -0.4588, '"
      ]
     },
     "metadata": {},
     "output_type": "display_data"
    },
    {
     "data": {
      "text/plain": [
       "'neg: 0.429, '"
      ]
     },
     "metadata": {},
     "output_type": "display_data"
    },
    {
     "data": {
      "text/plain": [
       "'neu: 0.571, '"
      ]
     },
     "metadata": {},
     "output_type": "display_data"
    },
    {
     "data": {
      "text/plain": [
       "'pos: 0.0, '"
      ]
     },
     "metadata": {},
     "output_type": "display_data"
    },
    {
     "data": {
      "text/plain": [
       "'\"We know her story.'"
      ]
     },
     "metadata": {},
     "output_type": "display_data"
    },
    {
     "data": {
      "text/plain": [
       "'compound: 0.0, '"
      ]
     },
     "metadata": {},
     "output_type": "display_data"
    },
    {
     "data": {
      "text/plain": [
       "'neg: 0.0, '"
      ]
     },
     "metadata": {},
     "output_type": "display_data"
    },
    {
     "data": {
      "text/plain": [
       "'neu: 1.0, '"
      ]
     },
     "metadata": {},
     "output_type": "display_data"
    },
    {
     "data": {
      "text/plain": [
       "'pos: 0.0, '"
      ]
     },
     "metadata": {},
     "output_type": "display_data"
    },
    {
     "data": {
      "text/plain": [
       "'We were there,\" Cummings said.'"
      ]
     },
     "metadata": {},
     "output_type": "display_data"
    },
    {
     "data": {
      "text/plain": [
       "'compound: 0.0, '"
      ]
     },
     "metadata": {},
     "output_type": "display_data"
    },
    {
     "data": {
      "text/plain": [
       "'neg: 0.0, '"
      ]
     },
     "metadata": {},
     "output_type": "display_data"
    },
    {
     "data": {
      "text/plain": [
       "'neu: 1.0, '"
      ]
     },
     "metadata": {},
     "output_type": "display_data"
    },
    {
     "data": {
      "text/plain": [
       "'pos: 0.0, '"
      ]
     },
     "metadata": {},
     "output_type": "display_data"
    },
    {
     "data": {
      "text/plain": [
       "'\"We\\'re just happy she\\'s surviving and that she\\'s thriving in her survival.'"
      ]
     },
     "metadata": {},
     "output_type": "display_data"
    },
    {
     "data": {
      "text/plain": [
       "'compound: 0.7096, '"
      ]
     },
     "metadata": {},
     "output_type": "display_data"
    },
    {
     "data": {
      "text/plain": [
       "'neg: 0.0, '"
      ]
     },
     "metadata": {},
     "output_type": "display_data"
    },
    {
     "data": {
      "text/plain": [
       "'neu: 0.629, '"
      ]
     },
     "metadata": {},
     "output_type": "display_data"
    },
    {
     "data": {
      "text/plain": [
       "'pos: 0.371, '"
      ]
     },
     "metadata": {},
     "output_type": "display_data"
    },
    {
     "data": {
      "text/plain": [
       "'...'"
      ]
     },
     "metadata": {},
     "output_type": "display_data"
    },
    {
     "data": {
      "text/plain": [
       "'compound: 0.0, '"
      ]
     },
     "metadata": {},
     "output_type": "display_data"
    },
    {
     "data": {
      "text/plain": [
       "'neg: 0.0, '"
      ]
     },
     "metadata": {},
     "output_type": "display_data"
    },
    {
     "data": {
      "text/plain": [
       "'neu: 1.0, '"
      ]
     },
     "metadata": {},
     "output_type": "display_data"
    },
    {
     "data": {
      "text/plain": [
       "'pos: 0.0, '"
      ]
     },
     "metadata": {},
     "output_type": "display_data"
    },
    {
     "data": {
      "text/plain": [
       "\"I'm proud to be her daughter.\""
      ]
     },
     "metadata": {},
     "output_type": "display_data"
    },
    {
     "data": {
      "text/plain": [
       "'compound: 0.4767, '"
      ]
     },
     "metadata": {},
     "output_type": "display_data"
    },
    {
     "data": {
      "text/plain": [
       "'neg: 0.0, '"
      ]
     },
     "metadata": {},
     "output_type": "display_data"
    },
    {
     "data": {
      "text/plain": [
       "'neu: 0.617, '"
      ]
     },
     "metadata": {},
     "output_type": "display_data"
    },
    {
     "data": {
      "text/plain": [
       "'pos: 0.383, '"
      ]
     },
     "metadata": {},
     "output_type": "display_data"
    },
    {
     "data": {
      "text/plain": [
       "'\"The trailer for a proposed documentary about Paulette Leaphart, which was later scrapped, showed her walking through her New Orleans neighborhood.Back with questionsThe next time I saw Paulette after I left her in Charlotte was in Washington.'"
      ]
     },
     "metadata": {},
     "output_type": "display_data"
    },
    {
     "data": {
      "text/plain": [
       "'compound: 0.0, '"
      ]
     },
     "metadata": {},
     "output_type": "display_data"
    },
    {
     "data": {
      "text/plain": [
       "'neg: 0.0, '"
      ]
     },
     "metadata": {},
     "output_type": "display_data"
    },
    {
     "data": {
      "text/plain": [
       "'neu: 1.0, '"
      ]
     },
     "metadata": {},
     "output_type": "display_data"
    },
    {
     "data": {
      "text/plain": [
       "'pos: 0.0, '"
      ]
     },
     "metadata": {},
     "output_type": "display_data"
    },
    {
     "data": {
      "text/plain": [
       "'She had indeed reached the capital by June 27, her 50th birthday, crossing a bridge into the district on foot.'"
      ]
     },
     "metadata": {},
     "output_type": "display_data"
    },
    {
     "data": {
      "text/plain": [
       "'compound: 0.1027, '"
      ]
     },
     "metadata": {},
     "output_type": "display_data"
    },
    {
     "data": {
      "text/plain": [
       "'neg: 0.0, '"
      ]
     },
     "metadata": {},
     "output_type": "display_data"
    },
    {
     "data": {
      "text/plain": [
       "'neu: 0.928, '"
      ]
     },
     "metadata": {},
     "output_type": "display_data"
    },
    {
     "data": {
      "text/plain": [
       "'pos: 0.072, '"
      ]
     },
     "metadata": {},
     "output_type": "display_data"
    },
    {
     "data": {
      "text/plain": [
       "'A rally to welcome her was scheduled for a week later, after Congress was back in session.She was surprised to see me.'"
      ]
     },
     "metadata": {},
     "output_type": "display_data"
    },
    {
     "data": {
      "text/plain": [
       "'compound: 0.5994, '"
      ]
     },
     "metadata": {},
     "output_type": "display_data"
    },
    {
     "data": {
      "text/plain": [
       "'neg: 0.0, '"
      ]
     },
     "metadata": {},
     "output_type": "display_data"
    },
    {
     "data": {
      "text/plain": [
       "'neu: 0.786, '"
      ]
     },
     "metadata": {},
     "output_type": "display_data"
    },
    {
     "data": {
      "text/plain": [
       "'pos: 0.214, '"
      ]
     },
     "metadata": {},
     "output_type": "display_data"
    },
    {
     "data": {
      "text/plain": [
       "'Because I hadn\\'t written about her yet, she said, \"I thought you kicked me to the curb.\"'"
      ]
     },
     "metadata": {},
     "output_type": "display_data"
    },
    {
     "data": {
      "text/plain": [
       "'compound: 0.0, '"
      ]
     },
     "metadata": {},
     "output_type": "display_data"
    },
    {
     "data": {
      "text/plain": [
       "'neg: 0.0, '"
      ]
     },
     "metadata": {},
     "output_type": "display_data"
    },
    {
     "data": {
      "text/plain": [
       "'neu: 1.0, '"
      ]
     },
     "metadata": {},
     "output_type": "display_data"
    },
    {
     "data": {
      "text/plain": [
       "'pos: 0.0, '"
      ]
     },
     "metadata": {},
     "output_type": "display_data"
    },
    {
     "data": {
      "text/plain": [
       "'Her words reminded me of the cold description she offered about the documentary filmmakers, who she said left her and her daughter \"like dogs on the side of the road.'"
      ]
     },
     "metadata": {},
     "output_type": "display_data"
    },
    {
     "data": {
      "text/plain": [
       "'compound: 0.3612, '"
      ]
     },
     "metadata": {},
     "output_type": "display_data"
    },
    {
     "data": {
      "text/plain": [
       "'neg: 0.0, '"
      ]
     },
     "metadata": {},
     "output_type": "display_data"
    },
    {
     "data": {
      "text/plain": [
       "'neu: 0.921, '"
      ]
     },
     "metadata": {},
     "output_type": "display_data"
    },
    {
     "data": {
      "text/plain": [
       "'pos: 0.079, '"
      ]
     },
     "metadata": {},
     "output_type": "display_data"
    },
    {
     "data": {
      "text/plain": [
       "'\"I\\'d come back to Paulette because I still had questions.Outside a church, a crowd of maybe 50 people gathered.'"
      ]
     },
     "metadata": {},
     "output_type": "display_data"
    },
    {
     "data": {
      "text/plain": [
       "'compound: 0.0, '"
      ]
     },
     "metadata": {},
     "output_type": "display_data"
    },
    {
     "data": {
      "text/plain": [
       "'neg: 0.0, '"
      ]
     },
     "metadata": {},
     "output_type": "display_data"
    },
    {
     "data": {
      "text/plain": [
       "'neu: 1.0, '"
      ]
     },
     "metadata": {},
     "output_type": "display_data"
    },
    {
     "data": {
      "text/plain": [
       "'pos: 0.0, '"
      ]
     },
     "metadata": {},
     "output_type": "display_data"
    },
    {
     "data": {
      "text/plain": [
       "\"Certainly not the thousands she'd told me earlier would join her on her walk through D.C.\""
      ]
     },
     "metadata": {},
     "output_type": "display_data"
    },
    {
     "data": {
      "text/plain": [
       "'compound: 0.5574, '"
      ]
     },
     "metadata": {},
     "output_type": "display_data"
    },
    {
     "data": {
      "text/plain": [
       "'neg: 0.0, '"
      ]
     },
     "metadata": {},
     "output_type": "display_data"
    },
    {
     "data": {
      "text/plain": [
       "'neu: 0.753, '"
      ]
     },
     "metadata": {},
     "output_type": "display_data"
    },
    {
     "data": {
      "text/plain": [
       "'pos: 0.247, '"
      ]
     },
     "metadata": {},
     "output_type": "display_data"
    },
    {
     "data": {
      "text/plain": [
       "'Together, they would head to the Capitol for a rally.'"
      ]
     },
     "metadata": {},
     "output_type": "display_data"
    },
    {
     "data": {
      "text/plain": [
       "'compound: 0.0, '"
      ]
     },
     "metadata": {},
     "output_type": "display_data"
    },
    {
     "data": {
      "text/plain": [
       "'neg: 0.0, '"
      ]
     },
     "metadata": {},
     "output_type": "display_data"
    },
    {
     "data": {
      "text/plain": [
       "'neu: 1.0, '"
      ]
     },
     "metadata": {},
     "output_type": "display_data"
    },
    {
     "data": {
      "text/plain": [
       "'pos: 0.0, '"
      ]
     },
     "metadata": {},
     "output_type": "display_data"
    },
    {
     "data": {
      "text/plain": [
       "\"There were women who wept when they saw Paulette, some who'd driven hours to be by her side.\""
      ]
     },
     "metadata": {},
     "output_type": "display_data"
    },
    {
     "data": {
      "text/plain": [
       "'compound: -0.4588, '"
      ]
     },
     "metadata": {},
     "output_type": "display_data"
    },
    {
     "data": {
      "text/plain": [
       "'neg: 0.15, '"
      ]
     },
     "metadata": {},
     "output_type": "display_data"
    },
    {
     "data": {
      "text/plain": [
       "'neu: 0.85, '"
      ]
     },
     "metadata": {},
     "output_type": "display_data"
    },
    {
     "data": {
      "text/plain": [
       "'pos: 0.0, '"
      ]
     },
     "metadata": {},
     "output_type": "display_data"
    },
    {
     "data": {
      "text/plain": [
       "'They marveled at her, calling her the strongest woman alive.Local reporters popped by to meet her.'"
      ]
     },
     "metadata": {},
     "output_type": "display_data"
    },
    {
     "data": {
      "text/plain": [
       "'compound: 0.4404, '"
      ]
     },
     "metadata": {},
     "output_type": "display_data"
    },
    {
     "data": {
      "text/plain": [
       "'neg: 0.0, '"
      ]
     },
     "metadata": {},
     "output_type": "display_data"
    },
    {
     "data": {
      "text/plain": [
       "'neu: 0.838, '"
      ]
     },
     "metadata": {},
     "output_type": "display_data"
    },
    {
     "data": {
      "text/plain": [
       "'pos: 0.162, '"
      ]
     },
     "metadata": {},
     "output_type": "display_data"
    },
    {
     "data": {
      "text/plain": [
       "'They filmed and gushed.'"
      ]
     },
     "metadata": {},
     "output_type": "display_data"
    },
    {
     "data": {
      "text/plain": [
       "'compound: 0.0, '"
      ]
     },
     "metadata": {},
     "output_type": "display_data"
    },
    {
     "data": {
      "text/plain": [
       "'neg: 0.0, '"
      ]
     },
     "metadata": {},
     "output_type": "display_data"
    },
    {
     "data": {
      "text/plain": [
       "'neu: 1.0, '"
      ]
     },
     "metadata": {},
     "output_type": "display_data"
    },
    {
     "data": {
      "text/plain": [
       "'pos: 0.0, '"
      ]
     },
     "metadata": {},
     "output_type": "display_data"
    },
    {
     "data": {
      "text/plain": [
       "\"I watched a cameraman turn teary-eyed while she spoke.Several women took off their shirts to reveal their own scars, something they'd never done before.\""
      ]
     },
     "metadata": {},
     "output_type": "display_data"
    },
    {
     "data": {
      "text/plain": [
       "'compound: 0.0, '"
      ]
     },
     "metadata": {},
     "output_type": "display_data"
    },
    {
     "data": {
      "text/plain": [
       "'neg: 0.0, '"
      ]
     },
     "metadata": {},
     "output_type": "display_data"
    },
    {
     "data": {
      "text/plain": [
       "'neu: 1.0, '"
      ]
     },
     "metadata": {},
     "output_type": "display_data"
    },
    {
     "data": {
      "text/plain": [
       "'pos: 0.0, '"
      ]
     },
     "metadata": {},
     "output_type": "display_data"
    },
    {
     "data": {
      "text/plain": [
       "\"I walked with one woman, her chest discolored by radiation burns, who almost didn't make it here because of ongoing pain.\""
      ]
     },
     "metadata": {},
     "output_type": "display_data"
    },
    {
     "data": {
      "text/plain": [
       "'compound: -0.5106, '"
      ]
     },
     "metadata": {},
     "output_type": "display_data"
    },
    {
     "data": {
      "text/plain": [
       "'neg: 0.148, '"
      ]
     },
     "metadata": {},
     "output_type": "display_data"
    },
    {
     "data": {
      "text/plain": [
       "'neu: 0.852, '"
      ]
     },
     "metadata": {},
     "output_type": "display_data"
    },
    {
     "data": {
      "text/plain": [
       "'pos: 0.0, '"
      ]
     },
     "metadata": {},
     "output_type": "display_data"
    },
    {
     "data": {
      "text/plain": [
       "'Women thanked Paulette and cried in her arms.'"
      ]
     },
     "metadata": {},
     "output_type": "display_data"
    },
    {
     "data": {
      "text/plain": [
       "'compound: 0.0772, '"
      ]
     },
     "metadata": {},
     "output_type": "display_data"
    },
    {
     "data": {
      "text/plain": [
       "'neg: 0.226, '"
      ]
     },
     "metadata": {},
     "output_type": "display_data"
    },
    {
     "data": {
      "text/plain": [
       "'neu: 0.522, '"
      ]
     },
     "metadata": {},
     "output_type": "display_data"
    },
    {
     "data": {
      "text/plain": [
       "'pos: 0.252, '"
      ]
     },
     "metadata": {},
     "output_type": "display_data"
    },
    {
     "data": {
      "text/plain": [
       "\"She'd inspired them.\""
      ]
     },
     "metadata": {},
     "output_type": "display_data"
    },
    {
     "data": {
      "text/plain": [
       "'compound: 0.4939, '"
      ]
     },
     "metadata": {},
     "output_type": "display_data"
    },
    {
     "data": {
      "text/plain": [
       "'neg: 0.0, '"
      ]
     },
     "metadata": {},
     "output_type": "display_data"
    },
    {
     "data": {
      "text/plain": [
       "'neu: 0.385, '"
      ]
     },
     "metadata": {},
     "output_type": "display_data"
    },
    {
     "data": {
      "text/plain": [
       "'pos: 0.615, '"
      ]
     },
     "metadata": {},
     "output_type": "display_data"
    },
    {
     "data": {
      "text/plain": [
       "'She understood them and was like them.'"
      ]
     },
     "metadata": {},
     "output_type": "display_data"
    },
    {
     "data": {
      "text/plain": [
       "'compound: 0.3612, '"
      ]
     },
     "metadata": {},
     "output_type": "display_data"
    },
    {
     "data": {
      "text/plain": [
       "'neg: 0.0, '"
      ]
     },
     "metadata": {},
     "output_type": "display_data"
    },
    {
     "data": {
      "text/plain": [
       "'neu: 0.706, '"
      ]
     },
     "metadata": {},
     "output_type": "display_data"
    },
    {
     "data": {
      "text/plain": [
       "'pos: 0.294, '"
      ]
     },
     "metadata": {},
     "output_type": "display_data"
    },
    {
     "data": {
      "text/plain": [
       "'She was their hero.We walked 5 miles that day.'"
      ]
     },
     "metadata": {},
     "output_type": "display_data"
    },
    {
     "data": {
      "text/plain": [
       "'compound: 0.0, '"
      ]
     },
     "metadata": {},
     "output_type": "display_data"
    },
    {
     "data": {
      "text/plain": [
       "'neg: 0.0, '"
      ]
     },
     "metadata": {},
     "output_type": "display_data"
    },
    {
     "data": {
      "text/plain": [
       "'neu: 1.0, '"
      ]
     },
     "metadata": {},
     "output_type": "display_data"
    },
    {
     "data": {
      "text/plain": [
       "'pos: 0.0, '"
      ]
     },
     "metadata": {},
     "output_type": "display_data"
    },
    {
     "data": {
      "text/plain": [
       "'I weighed in with those walking and -- once again -- began to fear I was being too hard on Paulette.'"
      ]
     },
     "metadata": {},
     "output_type": "display_data"
    },
    {
     "data": {
      "text/plain": [
       "'compound: -0.5574, '"
      ]
     },
     "metadata": {},
     "output_type": "display_data"
    },
    {
     "data": {
      "text/plain": [
       "'neg: 0.213, '"
      ]
     },
     "metadata": {},
     "output_type": "display_data"
    },
    {
     "data": {
      "text/plain": [
       "'neu: 0.787, '"
      ]
     },
     "metadata": {},
     "output_type": "display_data"
    },
    {
     "data": {
      "text/plain": [
       "'pos: 0.0, '"
      ]
     },
     "metadata": {},
     "output_type": "display_data"
    },
    {
     "data": {
      "text/plain": [
       "\"So what if she hadn't literally walked all 1,000 miles?\""
      ]
     },
     "metadata": {},
     "output_type": "display_data"
    },
    {
     "data": {
      "text/plain": [
       "'compound: 0.0, '"
      ]
     },
     "metadata": {},
     "output_type": "display_data"
    },
    {
     "data": {
      "text/plain": [
       "'neg: 0.0, '"
      ]
     },
     "metadata": {},
     "output_type": "display_data"
    },
    {
     "data": {
      "text/plain": [
       "'neu: 1.0, '"
      ]
     },
     "metadata": {},
     "output_type": "display_data"
    },
    {
     "data": {
      "text/plain": [
       "'pos: 0.0, '"
      ]
     },
     "metadata": {},
     "output_type": "display_data"
    },
    {
     "data": {
      "text/plain": [
       "'She was still making a difference.'"
      ]
     },
     "metadata": {},
     "output_type": "display_data"
    },
    {
     "data": {
      "text/plain": [
       "'compound: 0.0, '"
      ]
     },
     "metadata": {},
     "output_type": "display_data"
    },
    {
     "data": {
      "text/plain": [
       "'neg: 0.0, '"
      ]
     },
     "metadata": {},
     "output_type": "display_data"
    },
    {
     "data": {
      "text/plain": [
       "'neu: 1.0, '"
      ]
     },
     "metadata": {},
     "output_type": "display_data"
    },
    {
     "data": {
      "text/plain": [
       "'pos: 0.0, '"
      ]
     },
     "metadata": {},
     "output_type": "display_data"
    },
    {
     "data": {
      "text/plain": [
       "'Who was I to question this power she had?'"
      ]
     },
     "metadata": {},
     "output_type": "display_data"
    },
    {
     "data": {
      "text/plain": [
       "'compound: 0.0, '"
      ]
     },
     "metadata": {},
     "output_type": "display_data"
    },
    {
     "data": {
      "text/plain": [
       "'neg: 0.0, '"
      ]
     },
     "metadata": {},
     "output_type": "display_data"
    },
    {
     "data": {
      "text/plain": [
       "'neu: 1.0, '"
      ]
     },
     "metadata": {},
     "output_type": "display_data"
    },
    {
     "data": {
      "text/plain": [
       "'pos: 0.0, '"
      ]
     },
     "metadata": {},
     "output_type": "display_data"
    },
    {
     "data": {
      "text/plain": [
       "\"Clearly, she'd touched people who needed her.But then, as she'd done before, Paulette got in her own way.She has a knack for saying more than she should.\""
      ]
     },
     "metadata": {},
     "output_type": "display_data"
    },
    {
     "data": {
      "text/plain": [
       "'compound: 0.4019, '"
      ]
     },
     "metadata": {},
     "output_type": "display_data"
    },
    {
     "data": {
      "text/plain": [
       "'neg: 0.0, '"
      ]
     },
     "metadata": {},
     "output_type": "display_data"
    },
    {
     "data": {
      "text/plain": [
       "'neu: 0.903, '"
      ]
     },
     "metadata": {},
     "output_type": "display_data"
    },
    {
     "data": {
      "text/plain": [
       "'pos: 0.097, '"
      ]
     },
     "metadata": {},
     "output_type": "display_data"
    },
    {
     "data": {
      "text/plain": [
       "\"If she walked and spoke of cancer, women's health, her faith, it would be sufficient.\""
      ]
     },
     "metadata": {},
     "output_type": "display_data"
    },
    {
     "data": {
      "text/plain": [
       "'compound: -0.3818, '"
      ]
     },
     "metadata": {},
     "output_type": "display_data"
    },
    {
     "data": {
      "text/plain": [
       "'neg: 0.218, '"
      ]
     },
     "metadata": {},
     "output_type": "display_data"
    },
    {
     "data": {
      "text/plain": [
       "'neu: 0.644, '"
      ]
     },
     "metadata": {},
     "output_type": "display_data"
    },
    {
     "data": {
      "text/plain": [
       "'pos: 0.139, '"
      ]
     },
     "metadata": {},
     "output_type": "display_data"
    },
    {
     "data": {
      "text/plain": [
       "\"But she's prone to hyperbole that gets her in trouble.They did the same thing to Jesus.\""
      ]
     },
     "metadata": {},
     "output_type": "display_data"
    },
    {
     "data": {
      "text/plain": [
       "'compound: 0.0, '"
      ]
     },
     "metadata": {},
     "output_type": "display_data"
    },
    {
     "data": {
      "text/plain": [
       "'neg: 0.0, '"
      ]
     },
     "metadata": {},
     "output_type": "display_data"
    },
    {
     "data": {
      "text/plain": [
       "'neu: 1.0, '"
      ]
     },
     "metadata": {},
     "output_type": "display_data"
    },
    {
     "data": {
      "text/plain": [
       "'pos: 0.0, '"
      ]
     },
     "metadata": {},
     "output_type": "display_data"
    },
    {
     "data": {
      "text/plain": [
       "\"They're going to have to kill me to stop me.\""
      ]
     },
     "metadata": {},
     "output_type": "display_data"
    },
    {
     "data": {
      "text/plain": [
       "'compound: -0.7845, '"
      ]
     },
     "metadata": {},
     "output_type": "display_data"
    },
    {
     "data": {
      "text/plain": [
       "'neg: 0.463, '"
      ]
     },
     "metadata": {},
     "output_type": "display_data"
    },
    {
     "data": {
      "text/plain": [
       "'neu: 0.537, '"
      ]
     },
     "metadata": {},
     "output_type": "display_data"
    },
    {
     "data": {
      "text/plain": [
       "'pos: 0.0, '"
      ]
     },
     "metadata": {},
     "output_type": "display_data"
    },
    {
     "data": {
      "text/plain": [
       "'Paulette LeaphartApropos of nothing we were discussing, she blurted out that \"Harry called\" and appeared shocked when I didn\\'t immediately know who she was talking about.'"
      ]
     },
     "metadata": {},
     "output_type": "display_data"
    },
    {
     "data": {
      "text/plain": [
       "'compound: -0.3182, '"
      ]
     },
     "metadata": {},
     "output_type": "display_data"
    },
    {
     "data": {
      "text/plain": [
       "'neg: 0.087, '"
      ]
     },
     "metadata": {},
     "output_type": "display_data"
    },
    {
     "data": {
      "text/plain": [
       "'neu: 0.913, '"
      ]
     },
     "metadata": {},
     "output_type": "display_data"
    },
    {
     "data": {
      "text/plain": [
       "'pos: 0.0, '"
      ]
     },
     "metadata": {},
     "output_type": "display_data"
    },
    {
     "data": {
      "text/plain": [
       "'\"You don\\'t know Harry?\"'"
      ]
     },
     "metadata": {},
     "output_type": "display_data"
    },
    {
     "data": {
      "text/plain": [
       "'compound: 0.0, '"
      ]
     },
     "metadata": {},
     "output_type": "display_data"
    },
    {
     "data": {
      "text/plain": [
       "'neg: 0.0, '"
      ]
     },
     "metadata": {},
     "output_type": "display_data"
    },
    {
     "data": {
      "text/plain": [
       "'neu: 1.0, '"
      ]
     },
     "metadata": {},
     "output_type": "display_data"
    },
    {
     "data": {
      "text/plain": [
       "'pos: 0.0, '"
      ]
     },
     "metadata": {},
     "output_type": "display_data"
    },
    {
     "data": {
      "text/plain": [
       "'she said, eyebrows raised.'"
      ]
     },
     "metadata": {},
     "output_type": "display_data"
    },
    {
     "data": {
      "text/plain": [
       "'compound: 0.0, '"
      ]
     },
     "metadata": {},
     "output_type": "display_data"
    },
    {
     "data": {
      "text/plain": [
       "'neg: 0.0, '"
      ]
     },
     "metadata": {},
     "output_type": "display_data"
    },
    {
     "data": {
      "text/plain": [
       "'neu: 1.0, '"
      ]
     },
     "metadata": {},
     "output_type": "display_data"
    },
    {
     "data": {
      "text/plain": [
       "'pos: 0.0, '"
      ]
     },
     "metadata": {},
     "output_type": "display_data"
    },
    {
     "data": {
      "text/plain": [
       "'It was Harry Connick Jr., I learned, and she said he wanted her on the premiere of his new show.'"
      ]
     },
     "metadata": {},
     "output_type": "display_data"
    },
    {
     "data": {
      "text/plain": [
       "'compound: 0.0, '"
      ]
     },
     "metadata": {},
     "output_type": "display_data"
    },
    {
     "data": {
      "text/plain": [
       "'neg: 0.0, '"
      ]
     },
     "metadata": {},
     "output_type": "display_data"
    },
    {
     "data": {
      "text/plain": [
       "'neu: 1.0, '"
      ]
     },
     "metadata": {},
     "output_type": "display_data"
    },
    {
     "data": {
      "text/plain": [
       "'pos: 0.0, '"
      ]
     },
     "metadata": {},
     "output_type": "display_data"
    },
    {
     "data": {
      "text/plain": [
       "'When I followed up, a spokeswoman for the show told me a producer had been in touch with Paulette about her story but that she did not appear on the premiere, and was not scheduled to appear on any shows.I asked if Beyoncé ever showed up, and Paulette responded, \"No, she\\'s really busy.\"'"
      ]
     },
     "metadata": {},
     "output_type": "display_data"
    },
    {
     "data": {
      "text/plain": [
       "'compound: 0.0, '"
      ]
     },
     "metadata": {},
     "output_type": "display_data"
    },
    {
     "data": {
      "text/plain": [
       "'neg: 0.0, '"
      ]
     },
     "metadata": {},
     "output_type": "display_data"
    },
    {
     "data": {
      "text/plain": [
       "'neu: 1.0, '"
      ]
     },
     "metadata": {},
     "output_type": "display_data"
    },
    {
     "data": {
      "text/plain": [
       "'pos: 0.0, '"
      ]
     },
     "metadata": {},
     "output_type": "display_data"
    },
    {
     "data": {
      "text/plain": [
       "'And then she added with a coy smile, \"We\\'re going to catch up later.'"
      ]
     },
     "metadata": {},
     "output_type": "display_data"
    },
    {
     "data": {
      "text/plain": [
       "'compound: 0.3612, '"
      ]
     },
     "metadata": {},
     "output_type": "display_data"
    },
    {
     "data": {
      "text/plain": [
       "'neg: 0.0, '"
      ]
     },
     "metadata": {},
     "output_type": "display_data"
    },
    {
     "data": {
      "text/plain": [
       "'neu: 0.828, '"
      ]
     },
     "metadata": {},
     "output_type": "display_data"
    },
    {
     "data": {
      "text/plain": [
       "'pos: 0.172, '"
      ]
     },
     "metadata": {},
     "output_type": "display_data"
    },
    {
     "data": {
      "text/plain": [
       "'\"I asked her about her work as a social worker, and she told me she single-handedly reformed the foster care system in the state of Virginia.'"
      ]
     },
     "metadata": {},
     "output_type": "display_data"
    },
    {
     "data": {
      "text/plain": [
       "'compound: 0.4939, '"
      ]
     },
     "metadata": {},
     "output_type": "display_data"
    },
    {
     "data": {
      "text/plain": [
       "'neg: 0.0, '"
      ]
     },
     "metadata": {},
     "output_type": "display_data"
    },
    {
     "data": {
      "text/plain": [
       "'neu: 0.882, '"
      ]
     },
     "metadata": {},
     "output_type": "display_data"
    },
    {
     "data": {
      "text/plain": [
       "'pos: 0.118, '"
      ]
     },
     "metadata": {},
     "output_type": "display_data"
    },
    {
     "data": {
      "text/plain": [
       "\"When I said I'd love to learn more about the program she developed, she told me to Google it.\""
      ]
     },
     "metadata": {},
     "output_type": "display_data"
    },
    {
     "data": {
      "text/plain": [
       "'compound: 0.6369, '"
      ]
     },
     "metadata": {},
     "output_type": "display_data"
    },
    {
     "data": {
      "text/plain": [
       "'neg: 0.0, '"
      ]
     },
     "metadata": {},
     "output_type": "display_data"
    },
    {
     "data": {
      "text/plain": [
       "'neu: 0.802, '"
      ]
     },
     "metadata": {},
     "output_type": "display_data"
    },
    {
     "data": {
      "text/plain": [
       "'pos: 0.198, '"
      ]
     },
     "metadata": {},
     "output_type": "display_data"
    },
    {
     "data": {
      "text/plain": [
       "\"I asked if the program had a name and she couldn't give me one.\""
      ]
     },
     "metadata": {},
     "output_type": "display_data"
    },
    {
     "data": {
      "text/plain": [
       "'compound: 0.0, '"
      ]
     },
     "metadata": {},
     "output_type": "display_data"
    },
    {
     "data": {
      "text/plain": [
       "'neg: 0.0, '"
      ]
     },
     "metadata": {},
     "output_type": "display_data"
    },
    {
     "data": {
      "text/plain": [
       "'neu: 1.0, '"
      ]
     },
     "metadata": {},
     "output_type": "display_data"
    },
    {
     "data": {
      "text/plain": [
       "'pos: 0.0, '"
      ]
     },
     "metadata": {},
     "output_type": "display_data"
    },
    {
     "data": {
      "text/plain": [
       "\"I tried to confirm Paulette's story by calling the director of social services in the city where Paulette said she worked; despite leaving a dozen messages, I never heard back.\""
      ]
     },
     "metadata": {},
     "output_type": "display_data"
    },
    {
     "data": {
      "text/plain": [
       "'compound: 0.0, '"
      ]
     },
     "metadata": {},
     "output_type": "display_data"
    },
    {
     "data": {
      "text/plain": [
       "'neg: 0.0, '"
      ]
     },
     "metadata": {},
     "output_type": "display_data"
    },
    {
     "data": {
      "text/plain": [
       "'neu: 1.0, '"
      ]
     },
     "metadata": {},
     "output_type": "display_data"
    },
    {
     "data": {
      "text/plain": [
       "'pos: 0.0, '"
      ]
     },
     "metadata": {},
     "output_type": "display_data"
    },
    {
     "data": {
      "text/plain": [
       "\"The director's assistant said she'd never heard of Paulette, despite starting there long before Paulette claims to have revolutionized the system.I wanted to know about Paulette's finances when cancer struck.\""
      ]
     },
     "metadata": {},
     "output_type": "display_data"
    },
    {
     "data": {
      "text/plain": [
       "'compound: -0.7506, '"
      ]
     },
     "metadata": {},
     "output_type": "display_data"
    },
    {
     "data": {
      "text/plain": [
       "'neg: 0.186, '"
      ]
     },
     "metadata": {},
     "output_type": "display_data"
    },
    {
     "data": {
      "text/plain": [
       "'neu: 0.814, '"
      ]
     },
     "metadata": {},
     "output_type": "display_data"
    },
    {
     "data": {
      "text/plain": [
       "'pos: 0.0, '"
      ]
     },
     "metadata": {},
     "output_type": "display_data"
    },
    {
     "data": {
      "text/plain": [
       "'She said she\\'d been bringing in less than $5,000 a month between child support and half of an ex-husband\\'s retirement money.In one breath, Paulette would say she made too much to qualify for Medicaid; in another she\\'d talk about being homeless.I asked where she was when she lost everything, and she described giving up a house in Mississippi, as well as all her jewelry and her cars.\"Cars?\"'"
      ]
     },
     "metadata": {},
     "output_type": "display_data"
    },
    {
     "data": {
      "text/plain": [
       "'compound: 0.5994, '"
      ]
     },
     "metadata": {},
     "output_type": "display_data"
    },
    {
     "data": {
      "text/plain": [
       "'neg: 0.033, '"
      ]
     },
     "metadata": {},
     "output_type": "display_data"
    },
    {
     "data": {
      "text/plain": [
       "'neu: 0.865, '"
      ]
     },
     "metadata": {},
     "output_type": "display_data"
    },
    {
     "data": {
      "text/plain": [
       "'pos: 0.102, '"
      ]
     },
     "metadata": {},
     "output_type": "display_data"
    },
    {
     "data": {
      "text/plain": [
       "'I asked.'"
      ]
     },
     "metadata": {},
     "output_type": "display_data"
    },
    {
     "data": {
      "text/plain": [
       "'compound: 0.0, '"
      ]
     },
     "metadata": {},
     "output_type": "display_data"
    },
    {
     "data": {
      "text/plain": [
       "'neg: 0.0, '"
      ]
     },
     "metadata": {},
     "output_type": "display_data"
    },
    {
     "data": {
      "text/plain": [
       "'neu: 1.0, '"
      ]
     },
     "metadata": {},
     "output_type": "display_data"
    },
    {
     "data": {
      "text/plain": [
       "'pos: 0.0, '"
      ]
     },
     "metadata": {},
     "output_type": "display_data"
    },
    {
     "data": {
      "text/plain": [
       "'She said she had three of them: two Mercedes and a Cadillac Escalade.I asked Paulette what she was raising the money for.'"
      ]
     },
     "metadata": {},
     "output_type": "display_data"
    },
    {
     "data": {
      "text/plain": [
       "'compound: 0.0, '"
      ]
     },
     "metadata": {},
     "output_type": "display_data"
    },
    {
     "data": {
      "text/plain": [
       "'neg: 0.0, '"
      ]
     },
     "metadata": {},
     "output_type": "display_data"
    },
    {
     "data": {
      "text/plain": [
       "'neu: 1.0, '"
      ]
     },
     "metadata": {},
     "output_type": "display_data"
    },
    {
     "data": {
      "text/plain": [
       "'pos: 0.0, '"
      ]
     },
     "metadata": {},
     "output_type": "display_data"
    },
    {
     "data": {
      "text/plain": [
       "'Was it for a cause?'"
      ]
     },
     "metadata": {},
     "output_type": "display_data"
    },
    {
     "data": {
      "text/plain": [
       "'compound: 0.0, '"
      ]
     },
     "metadata": {},
     "output_type": "display_data"
    },
    {
     "data": {
      "text/plain": [
       "'neg: 0.0, '"
      ]
     },
     "metadata": {},
     "output_type": "display_data"
    },
    {
     "data": {
      "text/plain": [
       "'neu: 1.0, '"
      ]
     },
     "metadata": {},
     "output_type": "display_data"
    },
    {
     "data": {
      "text/plain": [
       "'pos: 0.0, '"
      ]
     },
     "metadata": {},
     "output_type": "display_data"
    },
    {
     "data": {
      "text/plain": [
       "'Was it to help fund research to find a cure?'"
      ]
     },
     "metadata": {},
     "output_type": "display_data"
    },
    {
     "data": {
      "text/plain": [
       "'compound: 0.4019, '"
      ]
     },
     "metadata": {},
     "output_type": "display_data"
    },
    {
     "data": {
      "text/plain": [
       "'neg: 0.0, '"
      ]
     },
     "metadata": {},
     "output_type": "display_data"
    },
    {
     "data": {
      "text/plain": [
       "'neu: 0.748, '"
      ]
     },
     "metadata": {},
     "output_type": "display_data"
    },
    {
     "data": {
      "text/plain": [
       "'pos: 0.252, '"
      ]
     },
     "metadata": {},
     "output_type": "display_data"
    },
    {
     "data": {
      "text/plain": [
       "'She told me the money was only to cover her expenses.On Facebook she shared photos of people passing her money, including one in which a driver leaned across his passenger seat, waving a $100 bill.Her critics wondered if she\\'s reporting any of the donations she\\'s received -- whether online, by wire or in person -- and suggested people file complaints with the IRS.Paulette\\'s supporters told me these critics were just \"trying to snuff out her light,\" as one put it.'"
      ]
     },
     "metadata": {},
     "output_type": "display_data"
    },
    {
     "data": {
      "text/plain": [
       "'compound: -0.2023, '"
      ]
     },
     "metadata": {},
     "output_type": "display_data"
    },
    {
     "data": {
      "text/plain": [
       "'neg: 0.083, '"
      ]
     },
     "metadata": {},
     "output_type": "display_data"
    },
    {
     "data": {
      "text/plain": [
       "'neu: 0.855, '"
      ]
     },
     "metadata": {},
     "output_type": "display_data"
    },
    {
     "data": {
      "text/plain": [
       "'pos: 0.062, '"
      ]
     },
     "metadata": {},
     "output_type": "display_data"
    },
    {
     "data": {
      "text/plain": [
       "'Paulette insists on Facebook that she loves her haters.'"
      ]
     },
     "metadata": {},
     "output_type": "display_data"
    },
    {
     "data": {
      "text/plain": [
       "'compound: 0.128, '"
      ]
     },
     "metadata": {},
     "output_type": "display_data"
    },
    {
     "data": {
      "text/plain": [
       "'neg: 0.23, '"
      ]
     },
     "metadata": {},
     "output_type": "display_data"
    },
    {
     "data": {
      "text/plain": [
       "'neu: 0.504, '"
      ]
     },
     "metadata": {},
     "output_type": "display_data"
    },
    {
     "data": {
      "text/plain": [
       "'pos: 0.266, '"
      ]
     },
     "metadata": {},
     "output_type": "display_data"
    },
    {
     "data": {
      "text/plain": [
       "'She thinks about their efforts to tear her down and also says this: \"They did the same thing to Jesus.'"
      ]
     },
     "metadata": {},
     "output_type": "display_data"
    },
    {
     "data": {
      "text/plain": [
       "'compound: 0.0, '"
      ]
     },
     "metadata": {},
     "output_type": "display_data"
    },
    {
     "data": {
      "text/plain": [
       "'neg: 0.0, '"
      ]
     },
     "metadata": {},
     "output_type": "display_data"
    },
    {
     "data": {
      "text/plain": [
       "'neu: 1.0, '"
      ]
     },
     "metadata": {},
     "output_type": "display_data"
    },
    {
     "data": {
      "text/plain": [
       "'pos: 0.0, '"
      ]
     },
     "metadata": {},
     "output_type": "display_data"
    },
    {
     "data": {
      "text/plain": [
       "\"They're going to have to kill me to stop me.\""
      ]
     },
     "metadata": {},
     "output_type": "display_data"
    },
    {
     "data": {
      "text/plain": [
       "'compound: -0.7845, '"
      ]
     },
     "metadata": {},
     "output_type": "display_data"
    },
    {
     "data": {
      "text/plain": [
       "'neg: 0.463, '"
      ]
     },
     "metadata": {},
     "output_type": "display_data"
    },
    {
     "data": {
      "text/plain": [
       "'neu: 0.537, '"
      ]
     },
     "metadata": {},
     "output_type": "display_data"
    },
    {
     "data": {
      "text/plain": [
       "'pos: 0.0, '"
      ]
     },
     "metadata": {},
     "output_type": "display_data"
    },
    {
     "data": {
      "text/plain": [
       "'\"In some cities along the way, Paulette Leaphart was joined by others for community walks.'"
      ]
     },
     "metadata": {},
     "output_type": "display_data"
    },
    {
     "data": {
      "text/plain": [
       "'compound: 0.0, '"
      ]
     },
     "metadata": {},
     "output_type": "display_data"
    },
    {
     "data": {
      "text/plain": [
       "'neg: 0.0, '"
      ]
     },
     "metadata": {},
     "output_type": "display_data"
    },
    {
     "data": {
      "text/plain": [
       "'neu: 1.0, '"
      ]
     },
     "metadata": {},
     "output_type": "display_data"
    },
    {
     "data": {
      "text/plain": [
       "'pos: 0.0, '"
      ]
     },
     "metadata": {},
     "output_type": "display_data"
    },
    {
     "data": {
      "text/plain": [
       "'This group in Charlotte sang hymns and chanted \"We need a cure\" and \"Breast cancer sucks.'"
      ]
     },
     "metadata": {},
     "output_type": "display_data"
    },
    {
     "data": {
      "text/plain": [
       "'compound: -0.7845, '"
      ]
     },
     "metadata": {},
     "output_type": "display_data"
    },
    {
     "data": {
      "text/plain": [
       "'neg: 0.347, '"
      ]
     },
     "metadata": {},
     "output_type": "display_data"
    },
    {
     "data": {
      "text/plain": [
       "'neu: 0.653, '"
      ]
     },
     "metadata": {},
     "output_type": "display_data"
    },
    {
     "data": {
      "text/plain": [
       "'pos: 0.0, '"
      ]
     },
     "metadata": {},
     "output_type": "display_data"
    },
    {
     "data": {
      "text/plain": [
       "'\"Addressing the crowdShe took the stage at a park near the Capitol like a rock star.'"
      ]
     },
     "metadata": {},
     "output_type": "display_data"
    },
    {
     "data": {
      "text/plain": [
       "'compound: 0.3612, '"
      ]
     },
     "metadata": {},
     "output_type": "display_data"
    },
    {
     "data": {
      "text/plain": [
       "'neg: 0.0, '"
      ]
     },
     "metadata": {},
     "output_type": "display_data"
    },
    {
     "data": {
      "text/plain": [
       "'neu: 0.839, '"
      ]
     },
     "metadata": {},
     "output_type": "display_data"
    },
    {
     "data": {
      "text/plain": [
       "'pos: 0.161, '"
      ]
     },
     "metadata": {},
     "output_type": "display_data"
    },
    {
     "data": {
      "text/plain": [
       "'\"Survivor\" by Destiny\\'s Child blared through speakers, and she implored people to dance.A couple of women who\\'d driven in from eastern Pennsylvania sat on the sidelines, watching her in awe.'"
      ]
     },
     "metadata": {},
     "output_type": "display_data"
    },
    {
     "data": {
      "text/plain": [
       "'compound: 0.0, '"
      ]
     },
     "metadata": {},
     "output_type": "display_data"
    },
    {
     "data": {
      "text/plain": [
       "'neg: 0.0, '"
      ]
     },
     "metadata": {},
     "output_type": "display_data"
    },
    {
     "data": {
      "text/plain": [
       "'neu: 1.0, '"
      ]
     },
     "metadata": {},
     "output_type": "display_data"
    },
    {
     "data": {
      "text/plain": [
       "'pos: 0.0, '"
      ]
     },
     "metadata": {},
     "output_type": "display_data"
    },
    {
     "data": {
      "text/plain": [
       "'\"She radiates,\" said one.'"
      ]
     },
     "metadata": {},
     "output_type": "display_data"
    },
    {
     "data": {
      "text/plain": [
       "'compound: 0.0, '"
      ]
     },
     "metadata": {},
     "output_type": "display_data"
    },
    {
     "data": {
      "text/plain": [
       "'neg: 0.0, '"
      ]
     },
     "metadata": {},
     "output_type": "display_data"
    },
    {
     "data": {
      "text/plain": [
       "'neu: 1.0, '"
      ]
     },
     "metadata": {},
     "output_type": "display_data"
    },
    {
     "data": {
      "text/plain": [
       "'pos: 0.0, '"
      ]
     },
     "metadata": {},
     "output_type": "display_data"
    },
    {
     "data": {
      "text/plain": [
       "'\"I actually got to walk next to her!\"'"
      ]
     },
     "metadata": {},
     "output_type": "display_data"
    },
    {
     "data": {
      "text/plain": [
       "'compound: 0.0, '"
      ]
     },
     "metadata": {},
     "output_type": "display_data"
    },
    {
     "data": {
      "text/plain": [
       "'neg: 0.0, '"
      ]
     },
     "metadata": {},
     "output_type": "display_data"
    },
    {
     "data": {
      "text/plain": [
       "'neu: 1.0, '"
      ]
     },
     "metadata": {},
     "output_type": "display_data"
    },
    {
     "data": {
      "text/plain": [
       "'pos: 0.0, '"
      ]
     },
     "metadata": {},
     "output_type": "display_data"
    },
    {
     "data": {
      "text/plain": [
       "'gushed the other.Paulette spoke about God sending her directly to a surgeon to remove her breasts.'"
      ]
     },
     "metadata": {},
     "output_type": "display_data"
    },
    {
     "data": {
      "text/plain": [
       "'compound: 0.2732, '"
      ]
     },
     "metadata": {},
     "output_type": "display_data"
    },
    {
     "data": {
      "text/plain": [
       "'neg: 0.0, '"
      ]
     },
     "metadata": {},
     "output_type": "display_data"
    },
    {
     "data": {
      "text/plain": [
       "'neu: 0.87, '"
      ]
     },
     "metadata": {},
     "output_type": "display_data"
    },
    {
     "data": {
      "text/plain": [
       "'pos: 0.13, '"
      ]
     },
     "metadata": {},
     "output_type": "display_data"
    },
    {
     "data": {
      "text/plain": [
       "'Some women answered with amens; others appeared troubled.'"
      ]
     },
     "metadata": {},
     "output_type": "display_data"
    },
    {
     "data": {
      "text/plain": [
       "'compound: -0.4588, '"
      ]
     },
     "metadata": {},
     "output_type": "display_data"
    },
    {
     "data": {
      "text/plain": [
       "'neg: 0.3, '"
      ]
     },
     "metadata": {},
     "output_type": "display_data"
    },
    {
     "data": {
      "text/plain": [
       "'neu: 0.7, '"
      ]
     },
     "metadata": {},
     "output_type": "display_data"
    },
    {
     "data": {
      "text/plain": [
       "'pos: 0.0, '"
      ]
     },
     "metadata": {},
     "output_type": "display_data"
    },
    {
     "data": {
      "text/plain": [
       "'\"I\\'m pretty sure you have to go to an oncologist before you go to the surgeon,\" a woman who\\'d lost one of her own breasts to cancer said to me later.'"
      ]
     },
     "metadata": {},
     "output_type": "display_data"
    },
    {
     "data": {
      "text/plain": [
       "'compound: -0.296, '"
      ]
     },
     "metadata": {},
     "output_type": "display_data"
    },
    {
     "data": {
      "text/plain": [
       "'neg: 0.175, '"
      ]
     },
     "metadata": {},
     "output_type": "display_data"
    },
    {
     "data": {
      "text/plain": [
       "'neu: 0.681, '"
      ]
     },
     "metadata": {},
     "output_type": "display_data"
    },
    {
     "data": {
      "text/plain": [
       "'pos: 0.144, '"
      ]
     },
     "metadata": {},
     "output_type": "display_data"
    },
    {
     "data": {
      "text/plain": [
       "\"This woman is a devout Catholic and doesn't doubt the power of God, but she said this part of Paulette's story sounded a little off to her.All day I'd scanned the crowd looking for Shameka Fulston.\""
      ]
     },
     "metadata": {},
     "output_type": "display_data"
    },
    {
     "data": {
      "text/plain": [
       "'compound: 0.2744, '"
      ]
     },
     "metadata": {},
     "output_type": "display_data"
    },
    {
     "data": {
      "text/plain": [
       "'neg: 0.0, '"
      ]
     },
     "metadata": {},
     "output_type": "display_data"
    },
    {
     "data": {
      "text/plain": [
       "'neu: 0.912, '"
      ]
     },
     "metadata": {},
     "output_type": "display_data"
    },
    {
     "data": {
      "text/plain": [
       "'pos: 0.088, '"
      ]
     },
     "metadata": {},
     "output_type": "display_data"
    },
    {
     "data": {
      "text/plain": [
       "\"She was the woman who'd driven through the night from Atlanta to walk with Paulette in Charlotte and had bared her own scarred and breastless chest.\""
      ]
     },
     "metadata": {},
     "output_type": "display_data"
    },
    {
     "data": {
      "text/plain": [
       "'compound: 0.0, '"
      ]
     },
     "metadata": {},
     "output_type": "display_data"
    },
    {
     "data": {
      "text/plain": [
       "'neg: 0.0, '"
      ]
     },
     "metadata": {},
     "output_type": "display_data"
    },
    {
     "data": {
      "text/plain": [
       "'neu: 1.0, '"
      ]
     },
     "metadata": {},
     "output_type": "display_data"
    },
    {
     "data": {
      "text/plain": [
       "'pos: 0.0, '"
      ]
     },
     "metadata": {},
     "output_type": "display_data"
    },
    {
     "data": {
      "text/plain": [
       "\"She said back then she would walk the last 100 miles of Paulette's journey with her and join her in Washington, but she was nowhere to be seen.I'm sort of sad this walk is over.\""
      ]
     },
     "metadata": {},
     "output_type": "display_data"
    },
    {
     "data": {
      "text/plain": [
       "'compound: -0.611, '"
      ]
     },
     "metadata": {},
     "output_type": "display_data"
    },
    {
     "data": {
      "text/plain": [
       "'neg: 0.117, '"
      ]
     },
     "metadata": {},
     "output_type": "display_data"
    },
    {
     "data": {
      "text/plain": [
       "'neu: 0.842, '"
      ]
     },
     "metadata": {},
     "output_type": "display_data"
    },
    {
     "data": {
      "text/plain": [
       "'pos: 0.041, '"
      ]
     },
     "metadata": {},
     "output_type": "display_data"
    },
    {
     "data": {
      "text/plain": [
       "'If I kept walking, I could have a new house by the end of the year!'"
      ]
     },
     "metadata": {},
     "output_type": "display_data"
    },
    {
     "data": {
      "text/plain": [
       "'compound: 0.0, '"
      ]
     },
     "metadata": {},
     "output_type": "display_data"
    },
    {
     "data": {
      "text/plain": [
       "'neg: 0.0, '"
      ]
     },
     "metadata": {},
     "output_type": "display_data"
    },
    {
     "data": {
      "text/plain": [
       "'neu: 1.0, '"
      ]
     },
     "metadata": {},
     "output_type": "display_data"
    },
    {
     "data": {
      "text/plain": [
       "'pos: 0.0, '"
      ]
     },
     "metadata": {},
     "output_type": "display_data"
    },
    {
     "data": {
      "text/plain": [
       "'Paulette Leaphart to a crowd of supporters outside the US CapitolI later called Fulston to see what became of her.'"
      ]
     },
     "metadata": {},
     "output_type": "display_data"
    },
    {
     "data": {
      "text/plain": [
       "'compound: 0.4404, '"
      ]
     },
     "metadata": {},
     "output_type": "display_data"
    },
    {
     "data": {
      "text/plain": [
       "'neg: 0.0, '"
      ]
     },
     "metadata": {},
     "output_type": "display_data"
    },
    {
     "data": {
      "text/plain": [
       "'neu: 0.861, '"
      ]
     },
     "metadata": {},
     "output_type": "display_data"
    },
    {
     "data": {
      "text/plain": [
       "'pos: 0.139, '"
      ]
     },
     "metadata": {},
     "output_type": "display_data"
    },
    {
     "data": {
      "text/plain": [
       "'She said several things about Paulette gave her pause in Charlotte.'"
      ]
     },
     "metadata": {},
     "output_type": "display_data"
    },
    {
     "data": {
      "text/plain": [
       "'compound: 0.0, '"
      ]
     },
     "metadata": {},
     "output_type": "display_data"
    },
    {
     "data": {
      "text/plain": [
       "'neg: 0.0, '"
      ]
     },
     "metadata": {},
     "output_type": "display_data"
    },
    {
     "data": {
      "text/plain": [
       "'neu: 1.0, '"
      ]
     },
     "metadata": {},
     "output_type": "display_data"
    },
    {
     "data": {
      "text/plain": [
       "'pos: 0.0, '"
      ]
     },
     "metadata": {},
     "output_type": "display_data"
    },
    {
     "data": {
      "text/plain": [
       "'For one, she said Paulette grew annoyed, even angry, when she found out Fulston could have gotten reconstructive surgery but chose not to.'"
      ]
     },
     "metadata": {},
     "output_type": "display_data"
    },
    {
     "data": {
      "text/plain": [
       "'compound: -0.4497, '"
      ]
     },
     "metadata": {},
     "output_type": "display_data"
    },
    {
     "data": {
      "text/plain": [
       "'neg: 0.158, '"
      ]
     },
     "metadata": {},
     "output_type": "display_data"
    },
    {
     "data": {
      "text/plain": [
       "'neu: 0.842, '"
      ]
     },
     "metadata": {},
     "output_type": "display_data"
    },
    {
     "data": {
      "text/plain": [
       "'pos: 0.0, '"
      ]
     },
     "metadata": {},
     "output_type": "display_data"
    },
    {
     "data": {
      "text/plain": [
       "\"Paulette told me she had picked out size D breast implants before doctors said reconstructive surgery was too dangerous.Fulston didn't want reconstructive surgery because her body had already been through enough, she said.\""
      ]
     },
     "metadata": {},
     "output_type": "display_data"
    },
    {
     "data": {
      "text/plain": [
       "'compound: -0.0572, '"
      ]
     },
     "metadata": {},
     "output_type": "display_data"
    },
    {
     "data": {
      "text/plain": [
       "'neg: 0.038, '"
      ]
     },
     "metadata": {},
     "output_type": "display_data"
    },
    {
     "data": {
      "text/plain": [
       "'neu: 0.962, '"
      ]
     },
     "metadata": {},
     "output_type": "display_data"
    },
    {
     "data": {
      "text/plain": [
       "'pos: 0.0, '"
      ]
     },
     "metadata": {},
     "output_type": "display_data"
    },
    {
     "data": {
      "text/plain": [
       "'Now, the person who preached that women should embrace their scars was making Fulston feel judged for hers.'"
      ]
     },
     "metadata": {},
     "output_type": "display_data"
    },
    {
     "data": {
      "text/plain": [
       "'compound: 0.3182, '"
      ]
     },
     "metadata": {},
     "output_type": "display_data"
    },
    {
     "data": {
      "text/plain": [
       "'neg: 0.0, '"
      ]
     },
     "metadata": {},
     "output_type": "display_data"
    },
    {
     "data": {
      "text/plain": [
       "'neu: 0.881, '"
      ]
     },
     "metadata": {},
     "output_type": "display_data"
    },
    {
     "data": {
      "text/plain": [
       "'pos: 0.119, '"
      ]
     },
     "metadata": {},
     "output_type": "display_data"
    },
    {
     "data": {
      "text/plain": [
       "'Then, Fulston said, when she asked what Paulette planned to petition Congress about, Paulette had no clear answer.'"
      ]
     },
     "metadata": {},
     "output_type": "display_data"
    },
    {
     "data": {
      "text/plain": [
       "'compound: 0.1027, '"
      ]
     },
     "metadata": {},
     "output_type": "display_data"
    },
    {
     "data": {
      "text/plain": [
       "'neg: 0.106, '"
      ]
     },
     "metadata": {},
     "output_type": "display_data"
    },
    {
     "data": {
      "text/plain": [
       "'neu: 0.769, '"
      ]
     },
     "metadata": {},
     "output_type": "display_data"
    },
    {
     "data": {
      "text/plain": [
       "'pos: 0.125, '"
      ]
     },
     "metadata": {},
     "output_type": "display_data"
    },
    {
     "data": {
      "text/plain": [
       "'\"I just don\\'t like being a part of something that doesn\\'t seem to have a lot of direction,\" Fulston said.Later, she was asked to fly up to Washington for a photo op with Paulette, Fulston said, and she balked.'"
      ]
     },
     "metadata": {},
     "output_type": "display_data"
    },
    {
     "data": {
      "text/plain": [
       "'compound: -0.2755, '"
      ]
     },
     "metadata": {},
     "output_type": "display_data"
    },
    {
     "data": {
      "text/plain": [
       "'neg: 0.057, '"
      ]
     },
     "metadata": {},
     "output_type": "display_data"
    },
    {
     "data": {
      "text/plain": [
       "'neu: 0.943, '"
      ]
     },
     "metadata": {},
     "output_type": "display_data"
    },
    {
     "data": {
      "text/plain": [
       "'pos: 0.0, '"
      ]
     },
     "metadata": {},
     "output_type": "display_data"
    },
    {
     "data": {
      "text/plain": [
       "'To travel for pictures seemed absurd and a waste of her time.'"
      ]
     },
     "metadata": {},
     "output_type": "display_data"
    },
    {
     "data": {
      "text/plain": [
       "'compound: -0.4215, '"
      ]
     },
     "metadata": {},
     "output_type": "display_data"
    },
    {
     "data": {
      "text/plain": [
       "'neg: 0.219, '"
      ]
     },
     "metadata": {},
     "output_type": "display_data"
    },
    {
     "data": {
      "text/plain": [
       "'neu: 0.781, '"
      ]
     },
     "metadata": {},
     "output_type": "display_data"
    },
    {
     "data": {
      "text/plain": [
       "'pos: 0.0, '"
      ]
     },
     "metadata": {},
     "output_type": "display_data"
    },
    {
     "data": {
      "text/plain": [
       "'She remains confused about what Paulette is fighting for.From a stage in the park outside the Capitol, Paulette looked out at her admirers.'"
      ]
     },
     "metadata": {},
     "output_type": "display_data"
    },
    {
     "data": {
      "text/plain": [
       "'compound: -0.2732, '"
      ]
     },
     "metadata": {},
     "output_type": "display_data"
    },
    {
     "data": {
      "text/plain": [
       "'neg: 0.181, '"
      ]
     },
     "metadata": {},
     "output_type": "display_data"
    },
    {
     "data": {
      "text/plain": [
       "'neu: 0.717, '"
      ]
     },
     "metadata": {},
     "output_type": "display_data"
    },
    {
     "data": {
      "text/plain": [
       "'pos: 0.102, '"
      ]
     },
     "metadata": {},
     "output_type": "display_data"
    },
    {
     "data": {
      "text/plain": [
       "'She said none of this walking was for the money.'"
      ]
     },
     "metadata": {},
     "output_type": "display_data"
    },
    {
     "data": {
      "text/plain": [
       "'compound: 0.0, '"
      ]
     },
     "metadata": {},
     "output_type": "display_data"
    },
    {
     "data": {
      "text/plain": [
       "'neg: 0.0, '"
      ]
     },
     "metadata": {},
     "output_type": "display_data"
    },
    {
     "data": {
      "text/plain": [
       "'neu: 1.0, '"
      ]
     },
     "metadata": {},
     "output_type": "display_data"
    },
    {
     "data": {
      "text/plain": [
       "'pos: 0.0, '"
      ]
     },
     "metadata": {},
     "output_type": "display_data"
    },
    {
     "data": {
      "text/plain": [
       "'But then she boasted about the time she raised $1,200 in one day.'"
      ]
     },
     "metadata": {},
     "output_type": "display_data"
    },
    {
     "data": {
      "text/plain": [
       "'compound: 0.0, '"
      ]
     },
     "metadata": {},
     "output_type": "display_data"
    },
    {
     "data": {
      "text/plain": [
       "'neg: 0.0, '"
      ]
     },
     "metadata": {},
     "output_type": "display_data"
    },
    {
     "data": {
      "text/plain": [
       "'neu: 1.0, '"
      ]
     },
     "metadata": {},
     "output_type": "display_data"
    },
    {
     "data": {
      "text/plain": [
       "'pos: 0.0, '"
      ]
     },
     "metadata": {},
     "output_type": "display_data"
    },
    {
     "data": {
      "text/plain": [
       "'\"I\\'m sort of sad this walk is over,\" she told the crowd.'"
      ]
     },
     "metadata": {},
     "output_type": "display_data"
    },
    {
     "data": {
      "text/plain": [
       "'compound: -0.5256, '"
      ]
     },
     "metadata": {},
     "output_type": "display_data"
    },
    {
     "data": {
      "text/plain": [
       "'neg: 0.236, '"
      ]
     },
     "metadata": {},
     "output_type": "display_data"
    },
    {
     "data": {
      "text/plain": [
       "'neu: 0.764, '"
      ]
     },
     "metadata": {},
     "output_type": "display_data"
    },
    {
     "data": {
      "text/plain": [
       "'pos: 0.0, '"
      ]
     },
     "metadata": {},
     "output_type": "display_data"
    },
    {
     "data": {
      "text/plain": [
       "'\"If I kept walking, I could have a new house by the end of the year!'"
      ]
     },
     "metadata": {},
     "output_type": "display_data"
    },
    {
     "data": {
      "text/plain": [
       "'compound: 0.0, '"
      ]
     },
     "metadata": {},
     "output_type": "display_data"
    },
    {
     "data": {
      "text/plain": [
       "'neg: 0.0, '"
      ]
     },
     "metadata": {},
     "output_type": "display_data"
    },
    {
     "data": {
      "text/plain": [
       "'neu: 1.0, '"
      ]
     },
     "metadata": {},
     "output_type": "display_data"
    },
    {
     "data": {
      "text/plain": [
       "'pos: 0.0, '"
      ]
     },
     "metadata": {},
     "output_type": "display_data"
    },
    {
     "data": {
      "text/plain": [
       "'\"Filmmakers spent seven months preparing to film Paulette Leaphart\\'s walk, but they walked away after only a few days.'"
      ]
     },
     "metadata": {},
     "output_type": "display_data"
    },
    {
     "data": {
      "text/plain": [
       "'compound: 0.0, '"
      ]
     },
     "metadata": {},
     "output_type": "display_data"
    },
    {
     "data": {
      "text/plain": [
       "'neg: 0.0, '"
      ]
     },
     "metadata": {},
     "output_type": "display_data"
    },
    {
     "data": {
      "text/plain": [
       "'neu: 1.0, '"
      ]
     },
     "metadata": {},
     "output_type": "display_data"
    },
    {
     "data": {
      "text/plain": [
       "'pos: 0.0, '"
      ]
     },
     "metadata": {},
     "output_type": "display_data"
    },
    {
     "data": {
      "text/plain": [
       "\"Paulette says she was abandoned; the filmmakers tell a different story.Blocked on FacebookAfter the walk Paulette went back to New Orleans and posted pictures of herself sitting on plush leather seats behind the steering wheel of what appeared to be a new Mercedes SUV.Paulette later told me she'd be addressing a crowd of 40,000 people over Labor Day weekend.\""
      ]
     },
     "metadata": {},
     "output_type": "display_data"
    },
    {
     "data": {
      "text/plain": [
       "'compound: -0.4588, '"
      ]
     },
     "metadata": {},
     "output_type": "display_data"
    },
    {
     "data": {
      "text/plain": [
       "'neg: 0.052, '"
      ]
     },
     "metadata": {},
     "output_type": "display_data"
    },
    {
     "data": {
      "text/plain": [
       "'neu: 0.948, '"
      ]
     },
     "metadata": {},
     "output_type": "display_data"
    },
    {
     "data": {
      "text/plain": [
       "'pos: 0.0, '"
      ]
     },
     "metadata": {},
     "output_type": "display_data"
    },
    {
     "data": {
      "text/plain": [
       "\"She gave me the name of the event -- I asked her to repeat it so I knew I had it right -- but I couldn't find any evidence of it ever existing.\""
      ]
     },
     "metadata": {},
     "output_type": "display_data"
    },
    {
     "data": {
      "text/plain": [
       "'compound: 0.0, '"
      ]
     },
     "metadata": {},
     "output_type": "display_data"
    },
    {
     "data": {
      "text/plain": [
       "'neg: 0.0, '"
      ]
     },
     "metadata": {},
     "output_type": "display_data"
    },
    {
     "data": {
      "text/plain": [
       "'neu: 1.0, '"
      ]
     },
     "metadata": {},
     "output_type": "display_data"
    },
    {
     "data": {
      "text/plain": [
       "'pos: 0.0, '"
      ]
     },
     "metadata": {},
     "output_type": "display_data"
    },
    {
     "data": {
      "text/plain": [
       "\"And on Labor Day weekend, this woman who consistently posted on Facebook multiple times a day said nothing about a speaking engagement.Paulette continued to say she wasn't out for fame and attention but kept sharing glamor shots and pictures from TV and film sets.\""
      ]
     },
     "metadata": {},
     "output_type": "display_data"
    },
    {
     "data": {
      "text/plain": [
       "'compound: 0.7991, '"
      ]
     },
     "metadata": {},
     "output_type": "display_data"
    },
    {
     "data": {
      "text/plain": [
       "'neg: 0.035, '"
      ]
     },
     "metadata": {},
     "output_type": "display_data"
    },
    {
     "data": {
      "text/plain": [
       "'neu: 0.803, '"
      ]
     },
     "metadata": {},
     "output_type": "display_data"
    },
    {
     "data": {
      "text/plain": [
       "'pos: 0.162, '"
      ]
     },
     "metadata": {},
     "output_type": "display_data"
    },
    {
     "data": {
      "text/plain": [
       "\"She posted about her daughter now having an agent but did not respond when I texted to congratulate her and asked to learn more.She has since blocked me from her personal Facebook account.It's what she does when people ask questions, I've been told time and again.\""
      ]
     },
     "metadata": {},
     "output_type": "display_data"
    },
    {
     "data": {
      "text/plain": [
       "'compound: 0.3919, '"
      ]
     },
     "metadata": {},
     "output_type": "display_data"
    },
    {
     "data": {
      "text/plain": [
       "'neg: 0.053, '"
      ]
     },
     "metadata": {},
     "output_type": "display_data"
    },
    {
     "data": {
      "text/plain": [
       "'neu: 0.861, '"
      ]
     },
     "metadata": {},
     "output_type": "display_data"
    },
    {
     "data": {
      "text/plain": [
       "'pos: 0.086, '"
      ]
     },
     "metadata": {},
     "output_type": "display_data"
    },
    {
     "data": {
      "text/plain": [
       "\"One woman, after noticing Paulette's posts about her newfound fame and attention, simply asked her how she was paying it forward.\""
      ]
     },
     "metadata": {},
     "output_type": "display_data"
    },
    {
     "data": {
      "text/plain": [
       "'compound: 0.4404, '"
      ]
     },
     "metadata": {},
     "output_type": "display_data"
    },
    {
     "data": {
      "text/plain": [
       "'neg: 0.0, '"
      ]
     },
     "metadata": {},
     "output_type": "display_data"
    },
    {
     "data": {
      "text/plain": [
       "'neu: 0.873, '"
      ]
     },
     "metadata": {},
     "output_type": "display_data"
    },
    {
     "data": {
      "text/plain": [
       "'pos: 0.127, '"
      ]
     },
     "metadata": {},
     "output_type": "display_data"
    },
    {
     "data": {
      "text/plain": [
       "'She, too, got blocked.In November, Paulette posted a video in which she talked about a CNN reporter who had been on \"a witch hunt\" for six months.'"
      ]
     },
     "metadata": {},
     "output_type": "display_data"
    },
    {
     "data": {
      "text/plain": [
       "'compound: -0.3612, '"
      ]
     },
     "metadata": {},
     "output_type": "display_data"
    },
    {
     "data": {
      "text/plain": [
       "'neg: 0.094, '"
      ]
     },
     "metadata": {},
     "output_type": "display_data"
    },
    {
     "data": {
      "text/plain": [
       "'neu: 0.906, '"
      ]
     },
     "metadata": {},
     "output_type": "display_data"
    },
    {
     "data": {
      "text/plain": [
       "'pos: 0.0, '"
      ]
     },
     "metadata": {},
     "output_type": "display_data"
    },
    {
     "data": {
      "text/plain": [
       "'She\\'d been warned that I was working on a story -- \"a negative article,\" she said -- and shared what she felt after seeing me in Washington.'"
      ]
     },
     "metadata": {},
     "output_type": "display_data"
    },
    {
     "data": {
      "text/plain": [
       "'compound: -0.5267, '"
      ]
     },
     "metadata": {},
     "output_type": "display_data"
    },
    {
     "data": {
      "text/plain": [
       "'neg: 0.192, '"
      ]
     },
     "metadata": {},
     "output_type": "display_data"
    },
    {
     "data": {
      "text/plain": [
       "'neu: 0.728, '"
      ]
     },
     "metadata": {},
     "output_type": "display_data"
    },
    {
     "data": {
      "text/plain": [
       "'pos: 0.079, '"
      ]
     },
     "metadata": {},
     "output_type": "display_data"
    },
    {
     "data": {
      "text/plain": [
       "'\"Her eyes were dark,\" she told her followers.'"
      ]
     },
     "metadata": {},
     "output_type": "display_data"
    },
    {
     "data": {
      "text/plain": [
       "'compound: 0.0, '"
      ]
     },
     "metadata": {},
     "output_type": "display_data"
    },
    {
     "data": {
      "text/plain": [
       "'neg: 0.0, '"
      ]
     },
     "metadata": {},
     "output_type": "display_data"
    },
    {
     "data": {
      "text/plain": [
       "'neu: 1.0, '"
      ]
     },
     "metadata": {},
     "output_type": "display_data"
    },
    {
     "data": {
      "text/plain": [
       "'pos: 0.0, '"
      ]
     },
     "metadata": {},
     "output_type": "display_data"
    },
    {
     "data": {
      "text/plain": [
       "'\"And I felt this spirit about her and it was very uncomfortable.'"
      ]
     },
     "metadata": {},
     "output_type": "display_data"
    },
    {
     "data": {
      "text/plain": [
       "'compound: -0.2542, '"
      ]
     },
     "metadata": {},
     "output_type": "display_data"
    },
    {
     "data": {
      "text/plain": [
       "'neg: 0.21, '"
      ]
     },
     "metadata": {},
     "output_type": "display_data"
    },
    {
     "data": {
      "text/plain": [
       "'neu: 0.654, '"
      ]
     },
     "metadata": {},
     "output_type": "display_data"
    },
    {
     "data": {
      "text/plain": [
       "'pos: 0.136, '"
      ]
     },
     "metadata": {},
     "output_type": "display_data"
    },
    {
     "data": {
      "text/plain": [
       "'... My manager noticed something about her, too.'"
      ]
     },
     "metadata": {},
     "output_type": "display_data"
    },
    {
     "data": {
      "text/plain": [
       "'compound: 0.0, '"
      ]
     },
     "metadata": {},
     "output_type": "display_data"
    },
    {
     "data": {
      "text/plain": [
       "'neg: 0.0, '"
      ]
     },
     "metadata": {},
     "output_type": "display_data"
    },
    {
     "data": {
      "text/plain": [
       "'neu: 1.0, '"
      ]
     },
     "metadata": {},
     "output_type": "display_data"
    },
    {
     "data": {
      "text/plain": [
       "'pos: 0.0, '"
      ]
     },
     "metadata": {},
     "output_type": "display_data"
    },
    {
     "data": {
      "text/plain": [
       "'\"(Her claims are) unfair to those women who truly endured those treatments to survive breast cancer.'"
      ]
     },
     "metadata": {},
     "output_type": "display_data"
    },
    {
     "data": {
      "text/plain": [
       "'compound: -0.6808, '"
      ]
     },
     "metadata": {},
     "output_type": "display_data"
    },
    {
     "data": {
      "text/plain": [
       "'neg: 0.321, '"
      ]
     },
     "metadata": {},
     "output_type": "display_data"
    },
    {
     "data": {
      "text/plain": [
       "'neu: 0.556, '"
      ]
     },
     "metadata": {},
     "output_type": "display_data"
    },
    {
     "data": {
      "text/plain": [
       "'pos: 0.124, '"
      ]
     },
     "metadata": {},
     "output_type": "display_data"
    },
    {
     "data": {
      "text/plain": [
       "'The exploitation ... has got to stop.'"
      ]
     },
     "metadata": {},
     "output_type": "display_data"
    },
    {
     "data": {
      "text/plain": [
       "'compound: -0.296, '"
      ]
     },
     "metadata": {},
     "output_type": "display_data"
    },
    {
     "data": {
      "text/plain": [
       "'neg: 0.268, '"
      ]
     },
     "metadata": {},
     "output_type": "display_data"
    },
    {
     "data": {
      "text/plain": [
       "'neu: 0.732, '"
      ]
     },
     "metadata": {},
     "output_type": "display_data"
    },
    {
     "data": {
      "text/plain": [
       "'pos: 0.0, '"
      ]
     },
     "metadata": {},
     "output_type": "display_data"
    },
    {
     "data": {
      "text/plain": [
       "\"Dr. Melanye Maclin, a Maryland dermatologistNot always beautifulLast fall, someone put me in touch with Dr. Melanye Maclin , a Maryland dermatologist who does research and has developed hair and skin care product lines.She has media and celebrity connections in the Washington area and says she was asked to help get Paulette publicity when she arrived in the nation's capital at the end of her walk.\""
      ]
     },
     "metadata": {},
     "output_type": "display_data"
    },
    {
     "data": {
      "text/plain": [
       "'compound: 0.7096, '"
      ]
     },
     "metadata": {},
     "output_type": "display_data"
    },
    {
     "data": {
      "text/plain": [
       "'neg: 0.0, '"
      ]
     },
     "metadata": {},
     "output_type": "display_data"
    },
    {
     "data": {
      "text/plain": [
       "'neu: 0.912, '"
      ]
     },
     "metadata": {},
     "output_type": "display_data"
    },
    {
     "data": {
      "text/plain": [
       "'pos: 0.088, '"
      ]
     },
     "metadata": {},
     "output_type": "display_data"
    },
    {
     "data": {
      "text/plain": [
       "\"Maclin had been watching Paulette's journey and was intrigued, so it was easy enough for her to make a couple of quick calls.She invited Paulette to her home for lunch, where they discussed a campaign Maclin wanted to launch for her skincare line.\""
      ]
     },
     "metadata": {},
     "output_type": "display_data"
    },
    {
     "data": {
      "text/plain": [
       "'compound: 0.4877, '"
      ]
     },
     "metadata": {},
     "output_type": "display_data"
    },
    {
     "data": {
      "text/plain": [
       "'neg: 0.0, '"
      ]
     },
     "metadata": {},
     "output_type": "display_data"
    },
    {
     "data": {
      "text/plain": [
       "'neu: 0.927, '"
      ]
     },
     "metadata": {},
     "output_type": "display_data"
    },
    {
     "data": {
      "text/plain": [
       "'pos: 0.073, '"
      ]
     },
     "metadata": {},
     "output_type": "display_data"
    },
    {
     "data": {
      "text/plain": [
       "'It was to be called \"Always Beautiful\" and would be about capturing a person\\'s inner beauty.'"
      ]
     },
     "metadata": {},
     "output_type": "display_data"
    },
    {
     "data": {
      "text/plain": [
       "'compound: 0.8271, '"
      ]
     },
     "metadata": {},
     "output_type": "display_data"
    },
    {
     "data": {
      "text/plain": [
       "'neg: 0.0, '"
      ]
     },
     "metadata": {},
     "output_type": "display_data"
    },
    {
     "data": {
      "text/plain": [
       "'neu: 0.628, '"
      ]
     },
     "metadata": {},
     "output_type": "display_data"
    },
    {
     "data": {
      "text/plain": [
       "'pos: 0.372, '"
      ]
     },
     "metadata": {},
     "output_type": "display_data"
    },
    {
     "data": {
      "text/plain": [
       "'Paulette seemed the \"living example\" of the message, and \"Dr. Mac,\" as she\\'s often called, imagined Paulette being the face of the campaign.A couple of friends, including a breast cancer surgeon, saw Maclin\\'s enthusiasm about Paulette and told her to be cautious.'"
      ]
     },
     "metadata": {},
     "output_type": "display_data"
    },
    {
     "data": {
      "text/plain": [
       "'compound: 0.0516, '"
      ]
     },
     "metadata": {},
     "output_type": "display_data"
    },
    {
     "data": {
      "text/plain": [
       "'neg: 0.119, '"
      ]
     },
     "metadata": {},
     "output_type": "display_data"
    },
    {
     "data": {
      "text/plain": [
       "'neu: 0.758, '"
      ]
     },
     "metadata": {},
     "output_type": "display_data"
    },
    {
     "data": {
      "text/plain": [
       "'pos: 0.123, '"
      ]
     },
     "metadata": {},
     "output_type": "display_data"
    },
    {
     "data": {
      "text/plain": [
       "'But she, like so many others, wanted to believe.'"
      ]
     },
     "metadata": {},
     "output_type": "display_data"
    },
    {
     "data": {
      "text/plain": [
       "'compound: 0.3612, '"
      ]
     },
     "metadata": {},
     "output_type": "display_data"
    },
    {
     "data": {
      "text/plain": [
       "'neg: 0.0, '"
      ]
     },
     "metadata": {},
     "output_type": "display_data"
    },
    {
     "data": {
      "text/plain": [
       "'neu: 0.762, '"
      ]
     },
     "metadata": {},
     "output_type": "display_data"
    },
    {
     "data": {
      "text/plain": [
       "'pos: 0.238, '"
      ]
     },
     "metadata": {},
     "output_type": "display_data"
    },
    {
     "data": {
      "text/plain": [
       "'So did her friend Chantay Savage, a recording artist whose remake of Gloria Gaynor\\'s \"I Will Survive\" went gold.'"
      ]
     },
     "metadata": {},
     "output_type": "display_data"
    },
    {
     "data": {
      "text/plain": [
       "'compound: 0.1189, '"
      ]
     },
     "metadata": {},
     "output_type": "display_data"
    },
    {
     "data": {
      "text/plain": [
       "'neg: 0.134, '"
      ]
     },
     "metadata": {},
     "output_type": "display_data"
    },
    {
     "data": {
      "text/plain": [
       "'neu: 0.712, '"
      ]
     },
     "metadata": {},
     "output_type": "display_data"
    },
    {
     "data": {
      "text/plain": [
       "'pos: 0.154, '"
      ]
     },
     "metadata": {},
     "output_type": "display_data"
    },
    {
     "data": {
      "text/plain": [
       "'Savage\\'s mother died of breast cancer, and she recorded a song, \"Always Beautiful,\" for Dr. Mac.'"
      ]
     },
     "metadata": {},
     "output_type": "display_data"
    },
    {
     "data": {
      "text/plain": [
       "'compound: -0.8402, '"
      ]
     },
     "metadata": {},
     "output_type": "display_data"
    },
    {
     "data": {
      "text/plain": [
       "'neg: 0.381, '"
      ]
     },
     "metadata": {},
     "output_type": "display_data"
    },
    {
     "data": {
      "text/plain": [
       "'neu: 0.619, '"
      ]
     },
     "metadata": {},
     "output_type": "display_data"
    },
    {
     "data": {
      "text/plain": [
       "'pos: 0.0, '"
      ]
     },
     "metadata": {},
     "output_type": "display_data"
    },
    {
     "data": {
      "text/plain": [
       "'The song was released on social media and featured Paulette in the video.The flood of negative remarks and accusations about Paulette was almost immediate.'"
      ]
     },
     "metadata": {},
     "output_type": "display_data"
    },
    {
     "data": {
      "text/plain": [
       "'compound: -0.7184, '"
      ]
     },
     "metadata": {},
     "output_type": "display_data"
    },
    {
     "data": {
      "text/plain": [
       "'neg: 0.214, '"
      ]
     },
     "metadata": {},
     "output_type": "display_data"
    },
    {
     "data": {
      "text/plain": [
       "'neu: 0.786, '"
      ]
     },
     "metadata": {},
     "output_type": "display_data"
    },
    {
     "data": {
      "text/plain": [
       "'pos: 0.0, '"
      ]
     },
     "metadata": {},
     "output_type": "display_data"
    },
    {
     "data": {
      "text/plain": [
       "'They took the doctor and Savage by surprise, and they yanked the video.'"
      ]
     },
     "metadata": {},
     "output_type": "display_data"
    },
    {
     "data": {
      "text/plain": [
       "'compound: -0.2263, '"
      ]
     },
     "metadata": {},
     "output_type": "display_data"
    },
    {
     "data": {
      "text/plain": [
       "'neg: 0.186, '"
      ]
     },
     "metadata": {},
     "output_type": "display_data"
    },
    {
     "data": {
      "text/plain": [
       "'neu: 0.683, '"
      ]
     },
     "metadata": {},
     "output_type": "display_data"
    },
    {
     "data": {
      "text/plain": [
       "'pos: 0.13, '"
      ]
     },
     "metadata": {},
     "output_type": "display_data"
    },
    {
     "data": {
      "text/plain": [
       "\"They also began to look at what Paulette's critics were posting.\""
      ]
     },
     "metadata": {},
     "output_type": "display_data"
    },
    {
     "data": {
      "text/plain": [
       "'compound: -0.296, '"
      ]
     },
     "metadata": {},
     "output_type": "display_data"
    },
    {
     "data": {
      "text/plain": [
       "'neg: 0.18, '"
      ]
     },
     "metadata": {},
     "output_type": "display_data"
    },
    {
     "data": {
      "text/plain": [
       "'neu: 0.82, '"
      ]
     },
     "metadata": {},
     "output_type": "display_data"
    },
    {
     "data": {
      "text/plain": [
       "'pos: 0.0, '"
      ]
     },
     "metadata": {},
     "output_type": "display_data"
    },
    {
     "data": {
      "text/plain": [
       "\"In an email, Maclin reflected more on what she'd seen on Paulette's Facebook page and heard from Paulette directly.\""
      ]
     },
     "metadata": {},
     "output_type": "display_data"
    },
    {
     "data": {
      "text/plain": [
       "'compound: 0.0, '"
      ]
     },
     "metadata": {},
     "output_type": "display_data"
    },
    {
     "data": {
      "text/plain": [
       "'neg: 0.0, '"
      ]
     },
     "metadata": {},
     "output_type": "display_data"
    },
    {
     "data": {
      "text/plain": [
       "'neu: 1.0, '"
      ]
     },
     "metadata": {},
     "output_type": "display_data"
    },
    {
     "data": {
      "text/plain": [
       "'pos: 0.0, '"
      ]
     },
     "metadata": {},
     "output_type": "display_data"
    },
    {
     "data": {
      "text/plain": [
       "'\"She does not display hyperpigmentation from radiation or scars claimed from the multiple surgeries due to admitted liver and lung metastasis,\" Maclin wrote.The breast surgeon I\\'d enlisted to look at the limited medical records I had about Paulette agreed that the photos show no obvious sign of radiation or additional surgeries, but also reserved judgment, saying some people are less likely to scar.But there was more from Maclin, who added, \"It was also bizarre that she told me that she did not do chemotherapy,\" contradicting the story she has told on social media.Her claims are \"unfair to those women who truly endured those treatments to survive breast cancer,\" Maclin said.'"
      ]
     },
     "metadata": {},
     "output_type": "display_data"
    },
    {
     "data": {
      "text/plain": [
       "'compound: -0.2748, '"
      ]
     },
     "metadata": {},
     "output_type": "display_data"
    },
    {
     "data": {
      "text/plain": [
       "'neg: 0.084, '"
      ]
     },
     "metadata": {},
     "output_type": "display_data"
    },
    {
     "data": {
      "text/plain": [
       "'neu: 0.84, '"
      ]
     },
     "metadata": {},
     "output_type": "display_data"
    },
    {
     "data": {
      "text/plain": [
       "'pos: 0.075, '"
      ]
     },
     "metadata": {},
     "output_type": "display_data"
    },
    {
     "data": {
      "text/plain": [
       "'\"The exploitation ... has got to stop.'"
      ]
     },
     "metadata": {},
     "output_type": "display_data"
    },
    {
     "data": {
      "text/plain": [
       "'compound: -0.296, '"
      ]
     },
     "metadata": {},
     "output_type": "display_data"
    },
    {
     "data": {
      "text/plain": [
       "'neg: 0.268, '"
      ]
     },
     "metadata": {},
     "output_type": "display_data"
    },
    {
     "data": {
      "text/plain": [
       "'neu: 0.732, '"
      ]
     },
     "metadata": {},
     "output_type": "display_data"
    },
    {
     "data": {
      "text/plain": [
       "'pos: 0.0, '"
      ]
     },
     "metadata": {},
     "output_type": "display_data"
    },
    {
     "data": {
      "text/plain": [
       "'\"Paulette Leaphart\\'s walk stirred up a media frenzy.'"
      ]
     },
     "metadata": {},
     "output_type": "display_data"
    },
    {
     "data": {
      "text/plain": [
       "'compound: -0.3182, '"
      ]
     },
     "metadata": {},
     "output_type": "display_data"
    },
    {
     "data": {
      "text/plain": [
       "'neg: 0.277, '"
      ]
     },
     "metadata": {},
     "output_type": "display_data"
    },
    {
     "data": {
      "text/plain": [
       "'neu: 0.723, '"
      ]
     },
     "metadata": {},
     "output_type": "display_data"
    },
    {
     "data": {
      "text/plain": [
       "'pos: 0.0, '"
      ]
     },
     "metadata": {},
     "output_type": "display_data"
    },
    {
     "data": {
      "text/plain": [
       "\"Her image and story appeared in print, online and across screens around the globe.The media and the messageOne leader in breast cancer activism, who didn't want to be named, encouraged me to think about Paulette in a different way.\""
      ]
     },
     "metadata": {},
     "output_type": "display_data"
    },
    {
     "data": {
      "text/plain": [
       "'compound: -0.4805, '"
      ]
     },
     "metadata": {},
     "output_type": "display_data"
    },
    {
     "data": {
      "text/plain": [
       "'neg: 0.13, '"
      ]
     },
     "metadata": {},
     "output_type": "display_data"
    },
    {
     "data": {
      "text/plain": [
       "'neu: 0.812, '"
      ]
     },
     "metadata": {},
     "output_type": "display_data"
    },
    {
     "data": {
      "text/plain": [
       "'pos: 0.058, '"
      ]
     },
     "metadata": {},
     "output_type": "display_data"
    },
    {
     "data": {
      "text/plain": [
       "\"Yes, she may be prone to exaggeration and not entirely believable, but if she touches one person, if she inspires one woman to get a mammogram, isn't that a win?\""
      ]
     },
     "metadata": {},
     "output_type": "display_data"
    },
    {
     "data": {
      "text/plain": [
       "'compound: 0.1511, '"
      ]
     },
     "metadata": {},
     "output_type": "display_data"
    },
    {
     "data": {
      "text/plain": [
       "'neg: 0.118, '"
      ]
     },
     "metadata": {},
     "output_type": "display_data"
    },
    {
     "data": {
      "text/plain": [
       "'neu: 0.718, '"
      ]
     },
     "metadata": {},
     "output_type": "display_data"
    },
    {
     "data": {
      "text/plain": [
       "'pos: 0.164, '"
      ]
     },
     "metadata": {},
     "output_type": "display_data"
    },
    {
     "data": {
      "text/plain": [
       "\"And, this activist added, Paulette largely speaks to a population that deserves attention.Black women are less likely to receive breast cancer diagnoses at an early stage than are white women, are more likely to receive a diagnosis of triple-negative breast cancer (which means cancer cells don't have the receptors to respond to certain drugs and therapies) and have the lowest breast cancer survival rate of any ethnic or racial group, according to the American Cancer Society and the Centers for Disease Control and PreventionThe difference in mortality rates can be attributed to the stage of diagnosis, tumor characteristics and issues such as obesity.\""
      ]
     },
     "metadata": {},
     "output_type": "display_data"
    },
    {
     "data": {
      "text/plain": [
       "'compound: -0.9801, '"
      ]
     },
     "metadata": {},
     "output_type": "display_data"
    },
    {
     "data": {
      "text/plain": [
       "'neg: 0.222, '"
      ]
     },
     "metadata": {},
     "output_type": "display_data"
    },
    {
     "data": {
      "text/plain": [
       "'neu: 0.76, '"
      ]
     },
     "metadata": {},
     "output_type": "display_data"
    },
    {
     "data": {
      "text/plain": [
       "'pos: 0.017, '"
      ]
     },
     "metadata": {},
     "output_type": "display_data"
    },
    {
     "data": {
      "text/plain": [
       "'But it is also influenced by levels of education and access to treatment and health insurance, a comprehensive American Cancer Society report says.Furthermore, Paulette has tapped into an audience that shares her faith.If women are taking notice and paying more attention to their breasts because of her, that may be all that matters.'"
      ]
     },
     "metadata": {},
     "output_type": "display_data"
    },
    {
     "data": {
      "text/plain": [
       "'compound: -0.2732, '"
      ]
     },
     "metadata": {},
     "output_type": "display_data"
    },
    {
     "data": {
      "text/plain": [
       "'neg: 0.076, '"
      ]
     },
     "metadata": {},
     "output_type": "display_data"
    },
    {
     "data": {
      "text/plain": [
       "'neu: 0.832, '"
      ]
     },
     "metadata": {},
     "output_type": "display_data"
    },
    {
     "data": {
      "text/plain": [
       "'pos: 0.092, '"
      ]
     },
     "metadata": {},
     "output_type": "display_data"
    },
    {
     "data": {
      "text/plain": [
       "\"The message may be more important than the messenger.There's no way to measure how much of a difference Paulette Leaphart made in shaping the conversation about cancer in this country.But then another activist, who also didn't want to be named, described Paulette as dangerous.\""
      ]
     },
     "metadata": {},
     "output_type": "display_data"
    },
    {
     "data": {
      "text/plain": [
       "'compound: -0.8329, '"
      ]
     },
     "metadata": {},
     "output_type": "display_data"
    },
    {
     "data": {
      "text/plain": [
       "'neg: 0.214, '"
      ]
     },
     "metadata": {},
     "output_type": "display_data"
    },
    {
     "data": {
      "text/plain": [
       "'neu: 0.745, '"
      ]
     },
     "metadata": {},
     "output_type": "display_data"
    },
    {
     "data": {
      "text/plain": [
       "'pos: 0.041, '"
      ]
     },
     "metadata": {},
     "output_type": "display_data"
    },
    {
     "data": {
      "text/plain": [
       "'This activist works with women with stage 4 metastatic cancer, women whose cancer has spread to other organs, usually the bones, brain, liver or lungs.'"
      ]
     },
     "metadata": {},
     "output_type": "display_data"
    },
    {
     "data": {
      "text/plain": [
       "'compound: -0.8689, '"
      ]
     },
     "metadata": {},
     "output_type": "display_data"
    },
    {
     "data": {
      "text/plain": [
       "'neg: 0.286, '"
      ]
     },
     "metadata": {},
     "output_type": "display_data"
    },
    {
     "data": {
      "text/plain": [
       "'neu: 0.714, '"
      ]
     },
     "metadata": {},
     "output_type": "display_data"
    },
    {
     "data": {
      "text/plain": [
       "'pos: 0.0, '"
      ]
     },
     "metadata": {},
     "output_type": "display_data"
    },
    {
     "data": {
      "text/plain": [
       "\"Their survival rate is the lowest, and these women, this activist said, are facing the end.For a while, she followed Paulette's journey.\""
      ]
     },
     "metadata": {},
     "output_type": "display_data"
    },
    {
     "data": {
      "text/plain": [
       "'compound: -0.3818, '"
      ]
     },
     "metadata": {},
     "output_type": "display_data"
    },
    {
     "data": {
      "text/plain": [
       "'neg: 0.115, '"
      ]
     },
     "metadata": {},
     "output_type": "display_data"
    },
    {
     "data": {
      "text/plain": [
       "'neu: 0.885, '"
      ]
     },
     "metadata": {},
     "output_type": "display_data"
    },
    {
     "data": {
      "text/plain": [
       "'pos: 0.0, '"
      ]
     },
     "metadata": {},
     "output_type": "display_data"
    },
    {
     "data": {
      "text/plain": [
       "'Then, she said, she saw a Facebook post about a woman with stage 4 who Paulette said successfully prayed away her cancer.'"
      ]
     },
     "metadata": {},
     "output_type": "display_data"
    },
    {
     "data": {
      "text/plain": [
       "'compound: -0.296, '"
      ]
     },
     "metadata": {},
     "output_type": "display_data"
    },
    {
     "data": {
      "text/plain": [
       "'neg: 0.179, '"
      ]
     },
     "metadata": {},
     "output_type": "display_data"
    },
    {
     "data": {
      "text/plain": [
       "'neu: 0.691, '"
      ]
     },
     "metadata": {},
     "output_type": "display_data"
    },
    {
     "data": {
      "text/plain": [
       "'pos: 0.13, '"
      ]
     },
     "metadata": {},
     "output_type": "display_data"
    },
    {
     "data": {
      "text/plain": [
       "'\"That was it for me,\" said the activist, who then unfriended Paulette.'"
      ]
     },
     "metadata": {},
     "output_type": "display_data"
    },
    {
     "data": {
      "text/plain": [
       "'compound: 0.0, '"
      ]
     },
     "metadata": {},
     "output_type": "display_data"
    },
    {
     "data": {
      "text/plain": [
       "'neg: 0.0, '"
      ]
     },
     "metadata": {},
     "output_type": "display_data"
    },
    {
     "data": {
      "text/plain": [
       "'neu: 1.0, '"
      ]
     },
     "metadata": {},
     "output_type": "display_data"
    },
    {
     "data": {
      "text/plain": [
       "'pos: 0.0, '"
      ]
     },
     "metadata": {},
     "output_type": "display_data"
    },
    {
     "data": {
      "text/plain": [
       "'\"Does that mean my friends weren\\'t worthy of being saved?'"
      ]
     },
     "metadata": {},
     "output_type": "display_data"
    },
    {
     "data": {
      "text/plain": [
       "'compound: 0.5414, '"
      ]
     },
     "metadata": {},
     "output_type": "display_data"
    },
    {
     "data": {
      "text/plain": [
       "'neg: 0.157, '"
      ]
     },
     "metadata": {},
     "output_type": "display_data"
    },
    {
     "data": {
      "text/plain": [
       "'neu: 0.457, '"
      ]
     },
     "metadata": {},
     "output_type": "display_data"
    },
    {
     "data": {
      "text/plain": [
       "'pos: 0.385, '"
      ]
     },
     "metadata": {},
     "output_type": "display_data"
    },
    {
     "data": {
      "text/plain": [
       "'\"Others voiced concerns about her preying on people\\'s emotions and their wallets while standing on a pedestal for a cause that seemed undefined.I wondered if other journalists had faced doubts and hurdles; I wanted to hear their experiences covering Paulette.One newspaper reporter, on condition of anonymity, admitted to having had some misgivings but was on a tight deadline and being pushed to publish.'"
      ]
     },
     "metadata": {},
     "output_type": "display_data"
    },
    {
     "data": {
      "text/plain": [
       "'compound: -0.1027, '"
      ]
     },
     "metadata": {},
     "output_type": "display_data"
    },
    {
     "data": {
      "text/plain": [
       "'neg: 0.027, '"
      ]
     },
     "metadata": {},
     "output_type": "display_data"
    },
    {
     "data": {
      "text/plain": [
       "'neu: 0.953, '"
      ]
     },
     "metadata": {},
     "output_type": "display_data"
    },
    {
     "data": {
      "text/plain": [
       "'pos: 0.02, '"
      ]
     },
     "metadata": {},
     "output_type": "display_data"
    },
    {
     "data": {
      "text/plain": [
       "\"Another piece was put out by someone who, it turned out, wasn't a journalist and didn't have the tools or obligation to check Paulette's story.\""
      ]
     },
     "metadata": {},
     "output_type": "display_data"
    },
    {
     "data": {
      "text/plain": [
       "'compound: 0.0, '"
      ]
     },
     "metadata": {},
     "output_type": "display_data"
    },
    {
     "data": {
      "text/plain": [
       "'neg: 0.0, '"
      ]
     },
     "metadata": {},
     "output_type": "display_data"
    },
    {
     "data": {
      "text/plain": [
       "'neu: 1.0, '"
      ]
     },
     "metadata": {},
     "output_type": "display_data"
    },
    {
     "data": {
      "text/plain": [
       "'pos: 0.0, '"
      ]
     },
     "metadata": {},
     "output_type": "display_data"
    },
    {
     "data": {
      "text/plain": [
       "\"What mattered most in this case, I was told, was giving voice to the struggles she represented.Other journalists I contacted didn't want to comment at all.Upworthy, a website for viral content, reached out to Emily MacKenzie, the documentary filmmaker, to see if she could vouch for Paulette's story.\""
      ]
     },
     "metadata": {},
     "output_type": "display_data"
    },
    {
     "data": {
      "text/plain": [
       "'compound: 0.0201, '"
      ]
     },
     "metadata": {},
     "output_type": "display_data"
    },
    {
     "data": {
      "text/plain": [
       "'neg: 0.077, '"
      ]
     },
     "metadata": {},
     "output_type": "display_data"
    },
    {
     "data": {
      "text/plain": [
       "'neu: 0.845, '"
      ]
     },
     "metadata": {},
     "output_type": "display_data"
    },
    {
     "data": {
      "text/plain": [
       "'pos: 0.078, '"
      ]
     },
     "metadata": {},
     "output_type": "display_data"
    },
    {
     "data": {
      "text/plain": [
       "'MacKenzie said she told them that, in good conscience, she could not and advised the site against sharing any videos of Paulette.'"
      ]
     },
     "metadata": {},
     "output_type": "display_data"
    },
    {
     "data": {
      "text/plain": [
       "'compound: 0.6908, '"
      ]
     },
     "metadata": {},
     "output_type": "display_data"
    },
    {
     "data": {
      "text/plain": [
       "'neg: 0.0, '"
      ]
     },
     "metadata": {},
     "output_type": "display_data"
    },
    {
     "data": {
      "text/plain": [
       "'neu: 0.778, '"
      ]
     },
     "metadata": {},
     "output_type": "display_data"
    },
    {
     "data": {
      "text/plain": [
       "'pos: 0.222, '"
      ]
     },
     "metadata": {},
     "output_type": "display_data"
    },
    {
     "data": {
      "text/plain": [
       "\"The site did anyway, and one video it posted in June got more than 20 million views, which only prompted other outlets to tell Paulette's story.I reached out to people at Upworthy, including the vice president who MacKenzie said she spoke to, more than half a dozen times.\""
      ]
     },
     "metadata": {},
     "output_type": "display_data"
    },
    {
     "data": {
      "text/plain": [
       "'compound: 0.1027, '"
      ]
     },
     "metadata": {},
     "output_type": "display_data"
    },
    {
     "data": {
      "text/plain": [
       "'neg: 0.0, '"
      ]
     },
     "metadata": {},
     "output_type": "display_data"
    },
    {
     "data": {
      "text/plain": [
       "'neu: 0.97, '"
      ]
     },
     "metadata": {},
     "output_type": "display_data"
    },
    {
     "data": {
      "text/plain": [
       "'pos: 0.03, '"
      ]
     },
     "metadata": {},
     "output_type": "display_data"
    },
    {
     "data": {
      "text/plain": [
       "'I said I wanted to learn about their vetting process and the decision to share videos about Paulette.'"
      ]
     },
     "metadata": {},
     "output_type": "display_data"
    },
    {
     "data": {
      "text/plain": [
       "'compound: 0.296, '"
      ]
     },
     "metadata": {},
     "output_type": "display_data"
    },
    {
     "data": {
      "text/plain": [
       "'neg: 0.0, '"
      ]
     },
     "metadata": {},
     "output_type": "display_data"
    },
    {
     "data": {
      "text/plain": [
       "'neu: 0.872, '"
      ]
     },
     "metadata": {},
     "output_type": "display_data"
    },
    {
     "data": {
      "text/plain": [
       "'pos: 0.128, '"
      ]
     },
     "metadata": {},
     "output_type": "display_data"
    },
    {
     "data": {
      "text/plain": [
       "'I never got a response.Paulette Leaphart appeared on TV and film sets after her walk ended and posted selfies with Will Smith and Scott Bakula.Hollywood sets and setbacksBefore she blocked me from seeing her Facebook page, I checked on her social media presence from time to time.'"
      ]
     },
     "metadata": {},
     "output_type": "display_data"
    },
    {
     "data": {
      "text/plain": [
       "'compound: -0.2732, '"
      ]
     },
     "metadata": {},
     "output_type": "display_data"
    },
    {
     "data": {
      "text/plain": [
       "'neg: 0.047, '"
      ]
     },
     "metadata": {},
     "output_type": "display_data"
    },
    {
     "data": {
      "text/plain": [
       "'neu: 0.953, '"
      ]
     },
     "metadata": {},
     "output_type": "display_data"
    },
    {
     "data": {
      "text/plain": [
       "'pos: 0.0, '"
      ]
     },
     "metadata": {},
     "output_type": "display_data"
    },
    {
     "data": {
      "text/plain": [
       "'The images were often a mixture of selfies and pictures of her posing, impeccably made up and modeling new clothes.'"
      ]
     },
     "metadata": {},
     "output_type": "display_data"
    },
    {
     "data": {
      "text/plain": [
       "'compound: 0.0, '"
      ]
     },
     "metadata": {},
     "output_type": "display_data"
    },
    {
     "data": {
      "text/plain": [
       "'neg: 0.0, '"
      ]
     },
     "metadata": {},
     "output_type": "display_data"
    },
    {
     "data": {
      "text/plain": [
       "'neu: 1.0, '"
      ]
     },
     "metadata": {},
     "output_type": "display_data"
    },
    {
     "data": {
      "text/plain": [
       "'pos: 0.0, '"
      ]
     },
     "metadata": {},
     "output_type": "display_data"
    },
    {
     "data": {
      "text/plain": [
       "'She appeared on the sets of CBS\\' \"NCIS: New Orleans\" and the upcoming movie \"Girls Trip,\" posting pictures with stars and mentioning names like Queen Latifah and Jada Pinkett Smith.'"
      ]
     },
     "metadata": {},
     "output_type": "display_data"
    },
    {
     "data": {
      "text/plain": [
       "'compound: 0.3612, '"
      ]
     },
     "metadata": {},
     "output_type": "display_data"
    },
    {
     "data": {
      "text/plain": [
       "'neg: 0.0, '"
      ]
     },
     "metadata": {},
     "output_type": "display_data"
    },
    {
     "data": {
      "text/plain": [
       "'neu: 0.921, '"
      ]
     },
     "metadata": {},
     "output_type": "display_data"
    },
    {
     "data": {
      "text/plain": [
       "'pos: 0.079, '"
      ]
     },
     "metadata": {},
     "output_type": "display_data"
    },
    {
     "data": {
      "text/plain": [
       "'She shared a shot with Scott Bakula on the \"NCIS\" set, and another with Will Smith, who was visiting the \"Girls Trip\" set.'"
      ]
     },
     "metadata": {},
     "output_type": "display_data"
    },
    {
     "data": {
      "text/plain": [
       "'compound: 0.34, '"
      ]
     },
     "metadata": {},
     "output_type": "display_data"
    },
    {
     "data": {
      "text/plain": [
       "'neg: 0.0, '"
      ]
     },
     "metadata": {},
     "output_type": "display_data"
    },
    {
     "data": {
      "text/plain": [
       "'neu: 0.897, '"
      ]
     },
     "metadata": {},
     "output_type": "display_data"
    },
    {
     "data": {
      "text/plain": [
       "'pos: 0.103, '"
      ]
     },
     "metadata": {},
     "output_type": "display_data"
    },
    {
     "data": {
      "text/plain": [
       "'\"Will Smith heard about my story and came over to shake my hand,\" she wrote.Other photos showed her home in bed, giving two thumbs up from a gurney in an ambulance and in a hospital room bed.'"
      ]
     },
     "metadata": {},
     "output_type": "display_data"
    },
    {
     "data": {
      "text/plain": [
       "'compound: 0.1779, '"
      ]
     },
     "metadata": {},
     "output_type": "display_data"
    },
    {
     "data": {
      "text/plain": [
       "'neg: 0.046, '"
      ]
     },
     "metadata": {},
     "output_type": "display_data"
    },
    {
     "data": {
      "text/plain": [
       "'neu: 0.889, '"
      ]
     },
     "metadata": {},
     "output_type": "display_data"
    },
    {
     "data": {
      "text/plain": [
       "'pos: 0.065, '"
      ]
     },
     "metadata": {},
     "output_type": "display_data"
    },
    {
     "data": {
      "text/plain": [
       "'She pleaded for prayers and talked about pain and setbacks.'"
      ]
     },
     "metadata": {},
     "output_type": "display_data"
    },
    {
     "data": {
      "text/plain": [
       "'compound: -0.5106, '"
      ]
     },
     "metadata": {},
     "output_type": "display_data"
    },
    {
     "data": {
      "text/plain": [
       "'neg: 0.268, '"
      ]
     },
     "metadata": {},
     "output_type": "display_data"
    },
    {
     "data": {
      "text/plain": [
       "'neu: 0.732, '"
      ]
     },
     "metadata": {},
     "output_type": "display_data"
    },
    {
     "data": {
      "text/plain": [
       "'pos: 0.0, '"
      ]
     },
     "metadata": {},
     "output_type": "display_data"
    },
    {
     "data": {
      "text/plain": [
       "'At one point she feared she had kidney cancer and asked people to pray for her.'"
      ]
     },
     "metadata": {},
     "output_type": "display_data"
    },
    {
     "data": {
      "text/plain": [
       "'compound: -0.743, '"
      ]
     },
     "metadata": {},
     "output_type": "display_data"
    },
    {
     "data": {
      "text/plain": [
       "'neg: 0.332, '"
      ]
     },
     "metadata": {},
     "output_type": "display_data"
    },
    {
     "data": {
      "text/plain": [
       "'neu: 0.568, '"
      ]
     },
     "metadata": {},
     "output_type": "display_data"
    },
    {
     "data": {
      "text/plain": [
       "'pos: 0.1, '"
      ]
     },
     "metadata": {},
     "output_type": "display_data"
    },
    {
     "data": {
      "text/plain": [
       "'It turned out to be a kidney stone.'"
      ]
     },
     "metadata": {},
     "output_type": "display_data"
    },
    {
     "data": {
      "text/plain": [
       "'compound: 0.0, '"
      ]
     },
     "metadata": {},
     "output_type": "display_data"
    },
    {
     "data": {
      "text/plain": [
       "'neg: 0.0, '"
      ]
     },
     "metadata": {},
     "output_type": "display_data"
    },
    {
     "data": {
      "text/plain": [
       "'neu: 1.0, '"
      ]
     },
     "metadata": {},
     "output_type": "display_data"
    },
    {
     "data": {
      "text/plain": [
       "'pos: 0.0, '"
      ]
     },
     "metadata": {},
     "output_type": "display_data"
    },
    {
     "data": {
      "text/plain": [
       "'She worried a lump under her arm was the return of breast cancer, and supporters overwhelmed her with more prayers.'"
      ]
     },
     "metadata": {},
     "output_type": "display_data"
    },
    {
     "data": {
      "text/plain": [
       "'compound: -0.5423, '"
      ]
     },
     "metadata": {},
     "output_type": "display_data"
    },
    {
     "data": {
      "text/plain": [
       "'neg: 0.257, '"
      ]
     },
     "metadata": {},
     "output_type": "display_data"
    },
    {
     "data": {
      "text/plain": [
       "'neu: 0.584, '"
      ]
     },
     "metadata": {},
     "output_type": "display_data"
    },
    {
     "data": {
      "text/plain": [
       "'pos: 0.16, '"
      ]
     },
     "metadata": {},
     "output_type": "display_data"
    },
    {
     "data": {
      "text/plain": [
       "\"It was a cyst.One day she'd be listless under the covers; another she'd be dolled up in clothes she said were created specifically for her.\""
      ]
     },
     "metadata": {},
     "output_type": "display_data"
    },
    {
     "data": {
      "text/plain": [
       "'compound: 0.25, '"
      ]
     },
     "metadata": {},
     "output_type": "display_data"
    },
    {
     "data": {
      "text/plain": [
       "'neg: 0.0, '"
      ]
     },
     "metadata": {},
     "output_type": "display_data"
    },
    {
     "data": {
      "text/plain": [
       "'neu: 0.92, '"
      ]
     },
     "metadata": {},
     "output_type": "display_data"
    },
    {
     "data": {
      "text/plain": [
       "'pos: 0.08, '"
      ]
     },
     "metadata": {},
     "output_type": "display_data"
    },
    {
     "data": {
      "text/plain": [
       "\"She'd stand beside people she'd identify as her personal stylist, her fashion consultant, her makeup artist.We need this story.\""
      ]
     },
     "metadata": {},
     "output_type": "display_data"
    },
    {
     "data": {
      "text/plain": [
       "'compound: 0.0, '"
      ]
     },
     "metadata": {},
     "output_type": "display_data"
    },
    {
     "data": {
      "text/plain": [
       "'neg: 0.0, '"
      ]
     },
     "metadata": {},
     "output_type": "display_data"
    },
    {
     "data": {
      "text/plain": [
       "'neu: 1.0, '"
      ]
     },
     "metadata": {},
     "output_type": "display_data"
    },
    {
     "data": {
      "text/plain": [
       "'pos: 0.0, '"
      ]
     },
     "metadata": {},
     "output_type": "display_data"
    },
    {
     "data": {
      "text/plain": [
       "'We need this woman before us.'"
      ]
     },
     "metadata": {},
     "output_type": "display_data"
    },
    {
     "data": {
      "text/plain": [
       "'compound: 0.0, '"
      ]
     },
     "metadata": {},
     "output_type": "display_data"
    },
    {
     "data": {
      "text/plain": [
       "'neg: 0.0, '"
      ]
     },
     "metadata": {},
     "output_type": "display_data"
    },
    {
     "data": {
      "text/plain": [
       "'neu: 1.0, '"
      ]
     },
     "metadata": {},
     "output_type": "display_data"
    },
    {
     "data": {
      "text/plain": [
       "'pos: 0.0, '"
      ]
     },
     "metadata": {},
     "output_type": "display_data"
    },
    {
     "data": {
      "text/plain": [
       "'We need this woman and what she did on the tip of our tongues.'"
      ]
     },
     "metadata": {},
     "output_type": "display_data"
    },
    {
     "data": {
      "text/plain": [
       "'compound: 0.0, '"
      ]
     },
     "metadata": {},
     "output_type": "display_data"
    },
    {
     "data": {
      "text/plain": [
       "'neg: 0.0, '"
      ]
     },
     "metadata": {},
     "output_type": "display_data"
    },
    {
     "data": {
      "text/plain": [
       "'neu: 1.0, '"
      ]
     },
     "metadata": {},
     "output_type": "display_data"
    },
    {
     "data": {
      "text/plain": [
       "'pos: 0.0, '"
      ]
     },
     "metadata": {},
     "output_type": "display_data"
    },
    {
     "data": {
      "text/plain": [
       "'Nikky Finney, poet and authorAt one point over the summer, she encouraged people to sign a petition for a proposed \"cancer relief bill\" written by a Michigan resident.'"
      ]
     },
     "metadata": {},
     "output_type": "display_data"
    },
    {
     "data": {
      "text/plain": [
       "'compound: 0.0516, '"
      ]
     },
     "metadata": {},
     "output_type": "display_data"
    },
    {
     "data": {
      "text/plain": [
       "'neg: 0.138, '"
      ]
     },
     "metadata": {},
     "output_type": "display_data"
    },
    {
     "data": {
      "text/plain": [
       "'neu: 0.688, '"
      ]
     },
     "metadata": {},
     "output_type": "display_data"
    },
    {
     "data": {
      "text/plain": [
       "'pos: 0.175, '"
      ]
     },
     "metadata": {},
     "output_type": "display_data"
    },
    {
     "data": {
      "text/plain": [
       "\"But that push seemed sporadic.Since then, I've used other Facebook accounts to keep tabs on her posts.She's been the keynote speaker at a few events.\""
      ]
     },
     "metadata": {},
     "output_type": "display_data"
    },
    {
     "data": {
      "text/plain": [
       "'compound: 0.0, '"
      ]
     },
     "metadata": {},
     "output_type": "display_data"
    },
    {
     "data": {
      "text/plain": [
       "'neg: 0.0, '"
      ]
     },
     "metadata": {},
     "output_type": "display_data"
    },
    {
     "data": {
      "text/plain": [
       "'neu: 1.0, '"
      ]
     },
     "metadata": {},
     "output_type": "display_data"
    },
    {
     "data": {
      "text/plain": [
       "'pos: 0.0, '"
      ]
     },
     "metadata": {},
     "output_type": "display_data"
    },
    {
     "data": {
      "text/plain": [
       "'She walked into turquoise waters while on a Caribbean cruise.'"
      ]
     },
     "metadata": {},
     "output_type": "display_data"
    },
    {
     "data": {
      "text/plain": [
       "'compound: 0.0, '"
      ]
     },
     "metadata": {},
     "output_type": "display_data"
    },
    {
     "data": {
      "text/plain": [
       "'neg: 0.0, '"
      ]
     },
     "metadata": {},
     "output_type": "display_data"
    },
    {
     "data": {
      "text/plain": [
       "'neu: 1.0, '"
      ]
     },
     "metadata": {},
     "output_type": "display_data"
    },
    {
     "data": {
      "text/plain": [
       "'pos: 0.0, '"
      ]
     },
     "metadata": {},
     "output_type": "display_data"
    },
    {
     "data": {
      "text/plain": [
       "'She drove to Florida to receive, by her own account, $27,000 of dental work free of charge.'"
      ]
     },
     "metadata": {},
     "output_type": "display_data"
    },
    {
     "data": {
      "text/plain": [
       "'compound: 0.5106, '"
      ]
     },
     "metadata": {},
     "output_type": "display_data"
    },
    {
     "data": {
      "text/plain": [
       "'neg: 0.0, '"
      ]
     },
     "metadata": {},
     "output_type": "display_data"
    },
    {
     "data": {
      "text/plain": [
       "'neu: 0.829, '"
      ]
     },
     "metadata": {},
     "output_type": "display_data"
    },
    {
     "data": {
      "text/plain": [
       "'pos: 0.171, '"
      ]
     },
     "metadata": {},
     "output_type": "display_data"
    },
    {
     "data": {
      "text/plain": [
       "'In early October, she attended the espnW Women + Sports Summit in California.'"
      ]
     },
     "metadata": {},
     "output_type": "display_data"
    },
    {
     "data": {
      "text/plain": [
       "'compound: 0.0, '"
      ]
     },
     "metadata": {},
     "output_type": "display_data"
    },
    {
     "data": {
      "text/plain": [
       "'neg: 0.0, '"
      ]
     },
     "metadata": {},
     "output_type": "display_data"
    },
    {
     "data": {
      "text/plain": [
       "'neu: 1.0, '"
      ]
     },
     "metadata": {},
     "output_type": "display_data"
    },
    {
     "data": {
      "text/plain": [
       "'pos: 0.0, '"
      ]
     },
     "metadata": {},
     "output_type": "display_data"
    },
    {
     "data": {
      "text/plain": [
       "'She was flown first class, put up in a posh resort and walked away with $400 in Adidas swag.'"
      ]
     },
     "metadata": {},
     "output_type": "display_data"
    },
    {
     "data": {
      "text/plain": [
       "'compound: 0.0, '"
      ]
     },
     "metadata": {},
     "output_type": "display_data"
    },
    {
     "data": {
      "text/plain": [
       "'neg: 0.0, '"
      ]
     },
     "metadata": {},
     "output_type": "display_data"
    },
    {
     "data": {
      "text/plain": [
       "'neu: 1.0, '"
      ]
     },
     "metadata": {},
     "output_type": "display_data"
    },
    {
     "data": {
      "text/plain": [
       "'pos: 0.0, '"
      ]
     },
     "metadata": {},
     "output_type": "display_data"
    },
    {
     "data": {
      "text/plain": [
       "'She was also flown to ESPN\\'s headquarters in December, where she was given the espnW Pegasus Award for Inspiration.An esteemed poet and author, Nikky Finney, took to the stage at the summit in California to share \"Topless in America,\" an original and powerful piece she wrote in Paulette\\'s honor.I reached out to Finney to see if she was aware of the questions swirling around Paulette\\'s story.'"
      ]
     },
     "metadata": {},
     "output_type": "display_data"
    },
    {
     "data": {
      "text/plain": [
       "'compound: 0.9201, '"
      ]
     },
     "metadata": {},
     "output_type": "display_data"
    },
    {
     "data": {
      "text/plain": [
       "'neg: 0.0, '"
      ]
     },
     "metadata": {},
     "output_type": "display_data"
    },
    {
     "data": {
      "text/plain": [
       "'neu: 0.799, '"
      ]
     },
     "metadata": {},
     "output_type": "display_data"
    },
    {
     "data": {
      "text/plain": [
       "'pos: 0.201, '"
      ]
     },
     "metadata": {},
     "output_type": "display_data"
    },
    {
     "data": {
      "text/plain": [
       "'She didn\\'t respond.On her website , Finney calls Paulette her \"shero.\"'"
      ]
     },
     "metadata": {},
     "output_type": "display_data"
    },
    {
     "data": {
      "text/plain": [
       "'compound: 0.0, '"
      ]
     },
     "metadata": {},
     "output_type": "display_data"
    },
    {
     "data": {
      "text/plain": [
       "'neg: 0.0, '"
      ]
     },
     "metadata": {},
     "output_type": "display_data"
    },
    {
     "data": {
      "text/plain": [
       "'neu: 1.0, '"
      ]
     },
     "metadata": {},
     "output_type": "display_data"
    },
    {
     "data": {
      "text/plain": [
       "'pos: 0.0, '"
      ]
     },
     "metadata": {},
     "output_type": "display_data"
    },
    {
     "data": {
      "text/plain": [
       "'She says she \"stopped me in my tracks and reminded me of what a woman is truly made of: Iron & Lavender.'"
      ]
     },
     "metadata": {},
     "output_type": "display_data"
    },
    {
     "data": {
      "text/plain": [
       "'compound: 0.25, '"
      ]
     },
     "metadata": {},
     "output_type": "display_data"
    },
    {
     "data": {
      "text/plain": [
       "'neg: 0.083, '"
      ]
     },
     "metadata": {},
     "output_type": "display_data"
    },
    {
     "data": {
      "text/plain": [
       "'neu: 0.789, '"
      ]
     },
     "metadata": {},
     "output_type": "display_data"
    },
    {
     "data": {
      "text/plain": [
       "'pos: 0.127, '"
      ]
     },
     "metadata": {},
     "output_type": "display_data"
    },
    {
     "data": {
      "text/plain": [
       "'\"\"We need this story.'"
      ]
     },
     "metadata": {},
     "output_type": "display_data"
    },
    {
     "data": {
      "text/plain": [
       "'compound: 0.0, '"
      ]
     },
     "metadata": {},
     "output_type": "display_data"
    },
    {
     "data": {
      "text/plain": [
       "'neg: 0.0, '"
      ]
     },
     "metadata": {},
     "output_type": "display_data"
    },
    {
     "data": {
      "text/plain": [
       "'neu: 1.0, '"
      ]
     },
     "metadata": {},
     "output_type": "display_data"
    },
    {
     "data": {
      "text/plain": [
       "'pos: 0.0, '"
      ]
     },
     "metadata": {},
     "output_type": "display_data"
    },
    {
     "data": {
      "text/plain": [
       "'We need this woman before us,\" Finney writes.'"
      ]
     },
     "metadata": {},
     "output_type": "display_data"
    },
    {
     "data": {
      "text/plain": [
       "'compound: 0.0, '"
      ]
     },
     "metadata": {},
     "output_type": "display_data"
    },
    {
     "data": {
      "text/plain": [
       "'neg: 0.0, '"
      ]
     },
     "metadata": {},
     "output_type": "display_data"
    },
    {
     "data": {
      "text/plain": [
       "'neu: 1.0, '"
      ]
     },
     "metadata": {},
     "output_type": "display_data"
    },
    {
     "data": {
      "text/plain": [
       "'pos: 0.0, '"
      ]
     },
     "metadata": {},
     "output_type": "display_data"
    },
    {
     "data": {
      "text/plain": [
       "'\"We need this woman and what she did on the tip of our tongues.'"
      ]
     },
     "metadata": {},
     "output_type": "display_data"
    },
    {
     "data": {
      "text/plain": [
       "'compound: 0.0, '"
      ]
     },
     "metadata": {},
     "output_type": "display_data"
    },
    {
     "data": {
      "text/plain": [
       "'neg: 0.0, '"
      ]
     },
     "metadata": {},
     "output_type": "display_data"
    },
    {
     "data": {
      "text/plain": [
       "'neu: 1.0, '"
      ]
     },
     "metadata": {},
     "output_type": "display_data"
    },
    {
     "data": {
      "text/plain": [
       "'pos: 0.0, '"
      ]
     },
     "metadata": {},
     "output_type": "display_data"
    },
    {
     "data": {
      "text/plain": [
       "'\"As the heat rolled in late last spring, Paulette Leaphart began to slow down.'"
      ]
     },
     "metadata": {},
     "output_type": "display_data"
    },
    {
     "data": {
      "text/plain": [
       "'compound: 0.0, '"
      ]
     },
     "metadata": {},
     "output_type": "display_data"
    },
    {
     "data": {
      "text/plain": [
       "'neg: 0.0, '"
      ]
     },
     "metadata": {},
     "output_type": "display_data"
    },
    {
     "data": {
      "text/plain": [
       "'neu: 1.0, '"
      ]
     },
     "metadata": {},
     "output_type": "display_data"
    },
    {
     "data": {
      "text/plain": [
       "'pos: 0.0, '"
      ]
     },
     "metadata": {},
     "output_type": "display_data"
    },
    {
     "data": {
      "text/plain": [
       "\"She said she hoped to walk 20 miles a day, rather than the up to 40 miles a day that she said she'd walked previously.The 'real Paulette'?What Paulette did should be on the tips of our tongues, but not because she deserves praise, others say.Annette Johnson of Beaumont, Texas, has known Paulette for several decades.\""
      ]
     },
     "metadata": {},
     "output_type": "display_data"
    },
    {
     "data": {
      "text/plain": [
       "'compound: 0.7717, '"
      ]
     },
     "metadata": {},
     "output_type": "display_data"
    },
    {
     "data": {
      "text/plain": [
       "'neg: 0.0, '"
      ]
     },
     "metadata": {},
     "output_type": "display_data"
    },
    {
     "data": {
      "text/plain": [
       "'neu: 0.884, '"
      ]
     },
     "metadata": {},
     "output_type": "display_data"
    },
    {
     "data": {
      "text/plain": [
       "'pos: 0.116, '"
      ]
     },
     "metadata": {},
     "output_type": "display_data"
    },
    {
     "data": {
      "text/plain": [
       "\"She knows some of Paulette's relatives and attended the same church when they were both living in Mississippi.Paulette reached out to Johnson in October 2013, months after Johnson was diagnosed with breast cancer and Paulette's cousin, Monique McDonald, had died.\""
      ]
     },
     "metadata": {},
     "output_type": "display_data"
    },
    {
     "data": {
      "text/plain": [
       "'compound: -0.8225, '"
      ]
     },
     "metadata": {},
     "output_type": "display_data"
    },
    {
     "data": {
      "text/plain": [
       "'neg: 0.172, '"
      ]
     },
     "metadata": {},
     "output_type": "display_data"
    },
    {
     "data": {
      "text/plain": [
       "'neu: 0.797, '"
      ]
     },
     "metadata": {},
     "output_type": "display_data"
    },
    {
     "data": {
      "text/plain": [
       "'pos: 0.03, '"
      ]
     },
     "metadata": {},
     "output_type": "display_data"
    },
    {
     "data": {
      "text/plain": [
       "\"This was a few months before Paulette's own diagnosis.\""
      ]
     },
     "metadata": {},
     "output_type": "display_data"
    },
    {
     "data": {
      "text/plain": [
       "'compound: 0.0, '"
      ]
     },
     "metadata": {},
     "output_type": "display_data"
    },
    {
     "data": {
      "text/plain": [
       "'neg: 0.0, '"
      ]
     },
     "metadata": {},
     "output_type": "display_data"
    },
    {
     "data": {
      "text/plain": [
       "'neu: 1.0, '"
      ]
     },
     "metadata": {},
     "output_type": "display_data"
    },
    {
     "data": {
      "text/plain": [
       "'pos: 0.0, '"
      ]
     },
     "metadata": {},
     "output_type": "display_data"
    },
    {
     "data": {
      "text/plain": [
       "'Johnson said Paulette wanted to hear all about what she was going through.'"
      ]
     },
     "metadata": {},
     "output_type": "display_data"
    },
    {
     "data": {
      "text/plain": [
       "'compound: 0.0, '"
      ]
     },
     "metadata": {},
     "output_type": "display_data"
    },
    {
     "data": {
      "text/plain": [
       "'neg: 0.0, '"
      ]
     },
     "metadata": {},
     "output_type": "display_data"
    },
    {
     "data": {
      "text/plain": [
       "'neu: 1.0, '"
      ]
     },
     "metadata": {},
     "output_type": "display_data"
    },
    {
     "data": {
      "text/plain": [
       "'pos: 0.0, '"
      ]
     },
     "metadata": {},
     "output_type": "display_data"
    },
    {
     "data": {
      "text/plain": [
       "'\"Then, all of a sudden, she came down with cancer,\" Johnson said.'"
      ]
     },
     "metadata": {},
     "output_type": "display_data"
    },
    {
     "data": {
      "text/plain": [
       "'compound: 0.0, '"
      ]
     },
     "metadata": {},
     "output_type": "display_data"
    },
    {
     "data": {
      "text/plain": [
       "'neg: 0.0, '"
      ]
     },
     "metadata": {},
     "output_type": "display_data"
    },
    {
     "data": {
      "text/plain": [
       "'neu: 1.0, '"
      ]
     },
     "metadata": {},
     "output_type": "display_data"
    },
    {
     "data": {
      "text/plain": [
       "'pos: 0.0, '"
      ]
     },
     "metadata": {},
     "output_type": "display_data"
    },
    {
     "data": {
      "text/plain": [
       "'\"And I was really sympathetic.'"
      ]
     },
     "metadata": {},
     "output_type": "display_data"
    },
    {
     "data": {
      "text/plain": [
       "'compound: 0.5563, '"
      ]
     },
     "metadata": {},
     "output_type": "display_data"
    },
    {
     "data": {
      "text/plain": [
       "'neg: 0.0, '"
      ]
     },
     "metadata": {},
     "output_type": "display_data"
    },
    {
     "data": {
      "text/plain": [
       "'neu: 0.455, '"
      ]
     },
     "metadata": {},
     "output_type": "display_data"
    },
    {
     "data": {
      "text/plain": [
       "'pos: 0.545, '"
      ]
     },
     "metadata": {},
     "output_type": "display_data"
    },
    {
     "data": {
      "text/plain": [
       "'\"But as time went on, Johnson began to notice something strange.'"
      ]
     },
     "metadata": {},
     "output_type": "display_data"
    },
    {
     "data": {
      "text/plain": [
       "'compound: -0.2023, '"
      ]
     },
     "metadata": {},
     "output_type": "display_data"
    },
    {
     "data": {
      "text/plain": [
       "'neg: 0.153, '"
      ]
     },
     "metadata": {},
     "output_type": "display_data"
    },
    {
     "data": {
      "text/plain": [
       "'neu: 0.847, '"
      ]
     },
     "metadata": {},
     "output_type": "display_data"
    },
    {
     "data": {
      "text/plain": [
       "'pos: 0.0, '"
      ]
     },
     "metadata": {},
     "output_type": "display_data"
    },
    {
     "data": {
      "text/plain": [
       "\"She said Paulette's Facebook posts began to mirror a little too closely the experiences Johnson had shared in phone conversations with Paulette.Johnson rattled off her dietary and workout regimens, only to see Paulette post them as if they were her own.\""
      ]
     },
     "metadata": {},
     "output_type": "display_data"
    },
    {
     "data": {
      "text/plain": [
       "'compound: 0.34, '"
      ]
     },
     "metadata": {},
     "output_type": "display_data"
    },
    {
     "data": {
      "text/plain": [
       "'neg: 0.0, '"
      ]
     },
     "metadata": {},
     "output_type": "display_data"
    },
    {
     "data": {
      "text/plain": [
       "'neu: 0.942, '"
      ]
     },
     "metadata": {},
     "output_type": "display_data"
    },
    {
     "data": {
      "text/plain": [
       "'pos: 0.058, '"
      ]
     },
     "metadata": {},
     "output_type": "display_data"
    },
    {
     "data": {
      "text/plain": [
       "'She told Paulette she lost her hair after the first chemo treatment, and all of a sudden, she said, Paulette had shaved her head.'"
      ]
     },
     "metadata": {},
     "output_type": "display_data"
    },
    {
     "data": {
      "text/plain": [
       "'compound: -0.3182, '"
      ]
     },
     "metadata": {},
     "output_type": "display_data"
    },
    {
     "data": {
      "text/plain": [
       "'neg: 0.095, '"
      ]
     },
     "metadata": {},
     "output_type": "display_data"
    },
    {
     "data": {
      "text/plain": [
       "'neu: 0.905, '"
      ]
     },
     "metadata": {},
     "output_type": "display_data"
    },
    {
     "data": {
      "text/plain": [
       "'pos: 0.0, '"
      ]
     },
     "metadata": {},
     "output_type": "display_data"
    },
    {
     "data": {
      "text/plain": [
       "\"She mentioned how she wasn't able to get a chemo treatment when her white blood cell count was too high.\""
      ]
     },
     "metadata": {},
     "output_type": "display_data"
    },
    {
     "data": {
      "text/plain": [
       "'compound: 0.0, '"
      ]
     },
     "metadata": {},
     "output_type": "display_data"
    },
    {
     "data": {
      "text/plain": [
       "'neg: 0.0, '"
      ]
     },
     "metadata": {},
     "output_type": "display_data"
    },
    {
     "data": {
      "text/plain": [
       "'neu: 1.0, '"
      ]
     },
     "metadata": {},
     "output_type": "display_data"
    },
    {
     "data": {
      "text/plain": [
       "'pos: 0.0, '"
      ]
     },
     "metadata": {},
     "output_type": "display_data"
    },
    {
     "data": {
      "text/plain": [
       "'The same thing happened to Paulette.'"
      ]
     },
     "metadata": {},
     "output_type": "display_data"
    },
    {
     "data": {
      "text/plain": [
       "'compound: 0.0, '"
      ]
     },
     "metadata": {},
     "output_type": "display_data"
    },
    {
     "data": {
      "text/plain": [
       "'neg: 0.0, '"
      ]
     },
     "metadata": {},
     "output_type": "display_data"
    },
    {
     "data": {
      "text/plain": [
       "'neu: 1.0, '"
      ]
     },
     "metadata": {},
     "output_type": "display_data"
    },
    {
     "data": {
      "text/plain": [
       "'pos: 0.0, '"
      ]
     },
     "metadata": {},
     "output_type": "display_data"
    },
    {
     "data": {
      "text/plain": [
       "'Johnson told her that during a workup, doctors found a spot on her liver.'"
      ]
     },
     "metadata": {},
     "output_type": "display_data"
    },
    {
     "data": {
      "text/plain": [
       "'compound: 0.0, '"
      ]
     },
     "metadata": {},
     "output_type": "display_data"
    },
    {
     "data": {
      "text/plain": [
       "'neg: 0.0, '"
      ]
     },
     "metadata": {},
     "output_type": "display_data"
    },
    {
     "data": {
      "text/plain": [
       "'neu: 1.0, '"
      ]
     },
     "metadata": {},
     "output_type": "display_data"
    },
    {
     "data": {
      "text/plain": [
       "'pos: 0.0, '"
      ]
     },
     "metadata": {},
     "output_type": "display_data"
    },
    {
     "data": {
      "text/plain": [
       "\"Paulette's doctors found one, too.\""
      ]
     },
     "metadata": {},
     "output_type": "display_data"
    },
    {
     "data": {
      "text/plain": [
       "'compound: 0.0, '"
      ]
     },
     "metadata": {},
     "output_type": "display_data"
    },
    {
     "data": {
      "text/plain": [
       "'neg: 0.0, '"
      ]
     },
     "metadata": {},
     "output_type": "display_data"
    },
    {
     "data": {
      "text/plain": [
       "'neu: 1.0, '"
      ]
     },
     "metadata": {},
     "output_type": "display_data"
    },
    {
     "data": {
      "text/plain": [
       "'pos: 0.0, '"
      ]
     },
     "metadata": {},
     "output_type": "display_data"
    },
    {
     "data": {
      "text/plain": [
       "'Johnson made an unusual request of her doctors: that she be allowed to keep her chemo port when it was taken out; it had been her \"lifeline,\" she said.'"
      ]
     },
     "metadata": {},
     "output_type": "display_data"
    },
    {
     "data": {
      "text/plain": [
       "'compound: 0.0, '"
      ]
     },
     "metadata": {},
     "output_type": "display_data"
    },
    {
     "data": {
      "text/plain": [
       "'neg: 0.0, '"
      ]
     },
     "metadata": {},
     "output_type": "display_data"
    },
    {
     "data": {
      "text/plain": [
       "'neu: 1.0, '"
      ]
     },
     "metadata": {},
     "output_type": "display_data"
    },
    {
     "data": {
      "text/plain": [
       "'pos: 0.0, '"
      ]
     },
     "metadata": {},
     "output_type": "display_data"
    },
    {
     "data": {
      "text/plain": [
       "'The next thing she knew, Paulette was boasting about keeping hers.'"
      ]
     },
     "metadata": {},
     "output_type": "display_data"
    },
    {
     "data": {
      "text/plain": [
       "'compound: 0.0, '"
      ]
     },
     "metadata": {},
     "output_type": "display_data"
    },
    {
     "data": {
      "text/plain": [
       "'neg: 0.0, '"
      ]
     },
     "metadata": {},
     "output_type": "display_data"
    },
    {
     "data": {
      "text/plain": [
       "'neu: 1.0, '"
      ]
     },
     "metadata": {},
     "output_type": "display_data"
    },
    {
     "data": {
      "text/plain": [
       "'pos: 0.0, '"
      ]
     },
     "metadata": {},
     "output_type": "display_data"
    },
    {
     "data": {
      "text/plain": [
       "'\"Can you not have an original thought of your own?\"'"
      ]
     },
     "metadata": {},
     "output_type": "display_data"
    },
    {
     "data": {
      "text/plain": [
       "'compound: -0.2411, '"
      ]
     },
     "metadata": {},
     "output_type": "display_data"
    },
    {
     "data": {
      "text/plain": [
       "'neg: 0.179, '"
      ]
     },
     "metadata": {},
     "output_type": "display_data"
    },
    {
     "data": {
      "text/plain": [
       "'neu: 0.821, '"
      ]
     },
     "metadata": {},
     "output_type": "display_data"
    },
    {
     "data": {
      "text/plain": [
       "'pos: 0.0, '"
      ]
     },
     "metadata": {},
     "output_type": "display_data"
    },
    {
     "data": {
      "text/plain": [
       "'Johnson said she thought.To have your story pimped, played and punked by someone for their own selfish gain is a sin and a shame.'"
      ]
     },
     "metadata": {},
     "output_type": "display_data"
    },
    {
     "data": {
      "text/plain": [
       "'compound: -0.6124, '"
      ]
     },
     "metadata": {},
     "output_type": "display_data"
    },
    {
     "data": {
      "text/plain": [
       "'neg: 0.301, '"
      ]
     },
     "metadata": {},
     "output_type": "display_data"
    },
    {
     "data": {
      "text/plain": [
       "'neu: 0.521, '"
      ]
     },
     "metadata": {},
     "output_type": "display_data"
    },
    {
     "data": {
      "text/plain": [
       "'pos: 0.178, '"
      ]
     },
     "metadata": {},
     "output_type": "display_data"
    },
    {
     "data": {
      "text/plain": [
       "'Annette Johnson, a longtime acquaintance of PauletteAnd then there was this: She told Paulette she was marrying her long-lost love.'"
      ]
     },
     "metadata": {},
     "output_type": "display_data"
    },
    {
     "data": {
      "text/plain": [
       "'compound: 0.6369, '"
      ]
     },
     "metadata": {},
     "output_type": "display_data"
    },
    {
     "data": {
      "text/plain": [
       "'neg: 0.0, '"
      ]
     },
     "metadata": {},
     "output_type": "display_data"
    },
    {
     "data": {
      "text/plain": [
       "'neu: 0.811, '"
      ]
     },
     "metadata": {},
     "output_type": "display_data"
    },
    {
     "data": {
      "text/plain": [
       "'pos: 0.189, '"
      ]
     },
     "metadata": {},
     "output_type": "display_data"
    },
    {
     "data": {
      "text/plain": [
       "'Soon after, Johnson said, Paulette told her she was marrying her long-lost love, too.'"
      ]
     },
     "metadata": {},
     "output_type": "display_data"
    },
    {
     "data": {
      "text/plain": [
       "'compound: 0.6369, '"
      ]
     },
     "metadata": {},
     "output_type": "display_data"
    },
    {
     "data": {
      "text/plain": [
       "'neg: 0.0, '"
      ]
     },
     "metadata": {},
     "output_type": "display_data"
    },
    {
     "data": {
      "text/plain": [
       "'neu: 0.756, '"
      ]
     },
     "metadata": {},
     "output_type": "display_data"
    },
    {
     "data": {
      "text/plain": [
       "'pos: 0.244, '"
      ]
     },
     "metadata": {},
     "output_type": "display_data"
    },
    {
     "data": {
      "text/plain": [
       "\"But Sidney Williams, Paulette's third husband and the supposed long-lost love, said the two had met online only months before.There were other things about Paulette's story that raised questions.\""
      ]
     },
     "metadata": {},
     "output_type": "display_data"
    },
    {
     "data": {
      "text/plain": [
       "'compound: 0.6369, '"
      ]
     },
     "metadata": {},
     "output_type": "display_data"
    },
    {
     "data": {
      "text/plain": [
       "'neg: 0.0, '"
      ]
     },
     "metadata": {},
     "output_type": "display_data"
    },
    {
     "data": {
      "text/plain": [
       "'neu: 0.87, '"
      ]
     },
     "metadata": {},
     "output_type": "display_data"
    },
    {
     "data": {
      "text/plain": [
       "'pos: 0.13, '"
      ]
     },
     "metadata": {},
     "output_type": "display_data"
    },
    {
     "data": {
      "text/plain": [
       "'When Johnson was in the throes of treatment, she felt good about herself if she could walk to the kitchen and back to bed.'"
      ]
     },
     "metadata": {},
     "output_type": "display_data"
    },
    {
     "data": {
      "text/plain": [
       "'compound: 0.4404, '"
      ]
     },
     "metadata": {},
     "output_type": "display_data"
    },
    {
     "data": {
      "text/plain": [
       "'neg: 0.0, '"
      ]
     },
     "metadata": {},
     "output_type": "display_data"
    },
    {
     "data": {
      "text/plain": [
       "'neu: 0.888, '"
      ]
     },
     "metadata": {},
     "output_type": "display_data"
    },
    {
     "data": {
      "text/plain": [
       "'pos: 0.112, '"
      ]
     },
     "metadata": {},
     "output_type": "display_data"
    },
    {
     "data": {
      "text/plain": [
       "\"Yet here was Paulette driving cross-country in Williams' car.\""
      ]
     },
     "metadata": {},
     "output_type": "display_data"
    },
    {
     "data": {
      "text/plain": [
       "'compound: 0.0, '"
      ]
     },
     "metadata": {},
     "output_type": "display_data"
    },
    {
     "data": {
      "text/plain": [
       "'neg: 0.0, '"
      ]
     },
     "metadata": {},
     "output_type": "display_data"
    },
    {
     "data": {
      "text/plain": [
       "'neu: 1.0, '"
      ]
     },
     "metadata": {},
     "output_type": "display_data"
    },
    {
     "data": {
      "text/plain": [
       "'pos: 0.0, '"
      ]
     },
     "metadata": {},
     "output_type": "display_data"
    },
    {
     "data": {
      "text/plain": [
       "'\"You drove yourself back in the midst of treatment?'"
      ]
     },
     "metadata": {},
     "output_type": "display_data"
    },
    {
     "data": {
      "text/plain": [
       "'compound: 0.0, '"
      ]
     },
     "metadata": {},
     "output_type": "display_data"
    },
    {
     "data": {
      "text/plain": [
       "'neg: 0.0, '"
      ]
     },
     "metadata": {},
     "output_type": "display_data"
    },
    {
     "data": {
      "text/plain": [
       "'neu: 1.0, '"
      ]
     },
     "metadata": {},
     "output_type": "display_data"
    },
    {
     "data": {
      "text/plain": [
       "'pos: 0.0, '"
      ]
     },
     "metadata": {},
     "output_type": "display_data"
    },
    {
     "data": {
      "text/plain": [
       "'I didn\\'t drive for a year,\" Johnson remembered saying.'"
      ]
     },
     "metadata": {},
     "output_type": "display_data"
    },
    {
     "data": {
      "text/plain": [
       "'compound: 0.0, '"
      ]
     },
     "metadata": {},
     "output_type": "display_data"
    },
    {
     "data": {
      "text/plain": [
       "'neg: 0.0, '"
      ]
     },
     "metadata": {},
     "output_type": "display_data"
    },
    {
     "data": {
      "text/plain": [
       "'neu: 1.0, '"
      ]
     },
     "metadata": {},
     "output_type": "display_data"
    },
    {
     "data": {
      "text/plain": [
       "'pos: 0.0, '"
      ]
     },
     "metadata": {},
     "output_type": "display_data"
    },
    {
     "data": {
      "text/plain": [
       "'\"How did you do that?'"
      ]
     },
     "metadata": {},
     "output_type": "display_data"
    },
    {
     "data": {
      "text/plain": [
       "'compound: 0.0, '"
      ]
     },
     "metadata": {},
     "output_type": "display_data"
    },
    {
     "data": {
      "text/plain": [
       "'neg: 0.0, '"
      ]
     },
     "metadata": {},
     "output_type": "display_data"
    },
    {
     "data": {
      "text/plain": [
       "'neu: 1.0, '"
      ]
     },
     "metadata": {},
     "output_type": "display_data"
    },
    {
     "data": {
      "text/plain": [
       "'pos: 0.0, '"
      ]
     },
     "metadata": {},
     "output_type": "display_data"
    },
    {
     "data": {
      "text/plain": [
       "'\"\"I just did it,\" she recalled Paulette answering.Paulette took pictures of herself in emergency waiting rooms just about every week, Johnson said.Other Facebook posts showed Paulette bouncing around, going on vacations, just as she was claiming to be broke and deathly ill. And she was taking repeated breaks from her treatment, which made no sense to Johnson.Johnson could no longer believe her.'"
      ]
     },
     "metadata": {},
     "output_type": "display_data"
    },
    {
     "data": {
      "text/plain": [
       "'compound: -0.891, '"
      ]
     },
     "metadata": {},
     "output_type": "display_data"
    },
    {
     "data": {
      "text/plain": [
       "'neg: 0.181, '"
      ]
     },
     "metadata": {},
     "output_type": "display_data"
    },
    {
     "data": {
      "text/plain": [
       "'neu: 0.819, '"
      ]
     },
     "metadata": {},
     "output_type": "display_data"
    },
    {
     "data": {
      "text/plain": [
       "'pos: 0.0, '"
      ]
     },
     "metadata": {},
     "output_type": "display_data"
    },
    {
     "data": {
      "text/plain": [
       "\"She'd opened up, shared her pain, thought she was confiding in and bolstering a fellow survivor.\""
      ]
     },
     "metadata": {},
     "output_type": "display_data"
    },
    {
     "data": {
      "text/plain": [
       "'compound: 0.1531, '"
      ]
     },
     "metadata": {},
     "output_type": "display_data"
    },
    {
     "data": {
      "text/plain": [
       "'neg: 0.163, '"
      ]
     },
     "metadata": {},
     "output_type": "display_data"
    },
    {
     "data": {
      "text/plain": [
       "'neu: 0.594, '"
      ]
     },
     "metadata": {},
     "output_type": "display_data"
    },
    {
     "data": {
      "text/plain": [
       "'pos: 0.243, '"
      ]
     },
     "metadata": {},
     "output_type": "display_data"
    },
    {
     "data": {
      "text/plain": [
       "\"She felt like she'd been had, and was angry because she'd defended Paulette to others.\""
      ]
     },
     "metadata": {},
     "output_type": "display_data"
    },
    {
     "data": {
      "text/plain": [
       "'compound: -0.2023, '"
      ]
     },
     "metadata": {},
     "output_type": "display_data"
    },
    {
     "data": {
      "text/plain": [
       "'neg: 0.176, '"
      ]
     },
     "metadata": {},
     "output_type": "display_data"
    },
    {
     "data": {
      "text/plain": [
       "'neu: 0.691, '"
      ]
     },
     "metadata": {},
     "output_type": "display_data"
    },
    {
     "data": {
      "text/plain": [
       "'pos: 0.133, '"
      ]
     },
     "metadata": {},
     "output_type": "display_data"
    },
    {
     "data": {
      "text/plain": [
       "'\"We share our stories to encourage another sister or brother who is going through the process.'"
      ]
     },
     "metadata": {},
     "output_type": "display_data"
    },
    {
     "data": {
      "text/plain": [
       "'compound: 0.6705, '"
      ]
     },
     "metadata": {},
     "output_type": "display_data"
    },
    {
     "data": {
      "text/plain": [
       "'neg: 0.0, '"
      ]
     },
     "metadata": {},
     "output_type": "display_data"
    },
    {
     "data": {
      "text/plain": [
       "'neu: 0.718, '"
      ]
     },
     "metadata": {},
     "output_type": "display_data"
    },
    {
     "data": {
      "text/plain": [
       "'pos: 0.282, '"
      ]
     },
     "metadata": {},
     "output_type": "display_data"
    },
    {
     "data": {
      "text/plain": [
       "'We open up and give our hearts,\" she said.'"
      ]
     },
     "metadata": {},
     "output_type": "display_data"
    },
    {
     "data": {
      "text/plain": [
       "'compound: 0.0, '"
      ]
     },
     "metadata": {},
     "output_type": "display_data"
    },
    {
     "data": {
      "text/plain": [
       "'neg: 0.0, '"
      ]
     },
     "metadata": {},
     "output_type": "display_data"
    },
    {
     "data": {
      "text/plain": [
       "'neu: 1.0, '"
      ]
     },
     "metadata": {},
     "output_type": "display_data"
    },
    {
     "data": {
      "text/plain": [
       "'pos: 0.0, '"
      ]
     },
     "metadata": {},
     "output_type": "display_data"
    },
    {
     "data": {
      "text/plain": [
       "'\"To have your story pimped, played and punked by someone for their own selfish gain is a sin and a shame.'"
      ]
     },
     "metadata": {},
     "output_type": "display_data"
    },
    {
     "data": {
      "text/plain": [
       "'compound: -0.6124, '"
      ]
     },
     "metadata": {},
     "output_type": "display_data"
    },
    {
     "data": {
      "text/plain": [
       "'neg: 0.331, '"
      ]
     },
     "metadata": {},
     "output_type": "display_data"
    },
    {
     "data": {
      "text/plain": [
       "'neu: 0.473, '"
      ]
     },
     "metadata": {},
     "output_type": "display_data"
    },
    {
     "data": {
      "text/plain": [
       "'pos: 0.196, '"
      ]
     },
     "metadata": {},
     "output_type": "display_data"
    },
    {
     "data": {
      "text/plain": [
       "'\"What Paulette has done \"hurts me to the core,\" Johnson said.'"
      ]
     },
     "metadata": {},
     "output_type": "display_data"
    },
    {
     "data": {
      "text/plain": [
       "'compound: -0.4767, '"
      ]
     },
     "metadata": {},
     "output_type": "display_data"
    },
    {
     "data": {
      "text/plain": [
       "'neg: 0.237, '"
      ]
     },
     "metadata": {},
     "output_type": "display_data"
    },
    {
     "data": {
      "text/plain": [
       "'neu: 0.763, '"
      ]
     },
     "metadata": {},
     "output_type": "display_data"
    },
    {
     "data": {
      "text/plain": [
       "'pos: 0.0, '"
      ]
     },
     "metadata": {},
     "output_type": "display_data"
    },
    {
     "data": {
      "text/plain": [
       "'She said she wants the \"real Paulette\" to stand up.'"
      ]
     },
     "metadata": {},
     "output_type": "display_data"
    },
    {
     "data": {
      "text/plain": [
       "'compound: 0.0, '"
      ]
     },
     "metadata": {},
     "output_type": "display_data"
    },
    {
     "data": {
      "text/plain": [
       "'neg: 0.0, '"
      ]
     },
     "metadata": {},
     "output_type": "display_data"
    },
    {
     "data": {
      "text/plain": [
       "'neu: 1.0, '"
      ]
     },
     "metadata": {},
     "output_type": "display_data"
    },
    {
     "data": {
      "text/plain": [
       "'pos: 0.0, '"
      ]
     },
     "metadata": {},
     "output_type": "display_data"
    },
    {
     "data": {
      "text/plain": [
       "'\"I encourage her to tell her own story.'"
      ]
     },
     "metadata": {},
     "output_type": "display_data"
    },
    {
     "data": {
      "text/plain": [
       "'compound: 0.5106, '"
      ]
     },
     "metadata": {},
     "output_type": "display_data"
    },
    {
     "data": {
      "text/plain": [
       "'neg: 0.0, '"
      ]
     },
     "metadata": {},
     "output_type": "display_data"
    },
    {
     "data": {
      "text/plain": [
       "'neu: 0.68, '"
      ]
     },
     "metadata": {},
     "output_type": "display_data"
    },
    {
     "data": {
      "text/plain": [
       "'pos: 0.32, '"
      ]
     },
     "metadata": {},
     "output_type": "display_data"
    },
    {
     "data": {
      "text/plain": [
       "'\"Last July, after arriving in Washington, Paulette Leaphart set out to lobby Congress.'"
      ]
     },
     "metadata": {},
     "output_type": "display_data"
    },
    {
     "data": {
      "text/plain": [
       "'compound: 0.0258, '"
      ]
     },
     "metadata": {},
     "output_type": "display_data"
    },
    {
     "data": {
      "text/plain": [
       "'neg: 0.0, '"
      ]
     },
     "metadata": {},
     "output_type": "display_data"
    },
    {
     "data": {
      "text/plain": [
       "'neu: 0.916, '"
      ]
     },
     "metadata": {},
     "output_type": "display_data"
    },
    {
     "data": {
      "text/plain": [
       "'pos: 0.084, '"
      ]
     },
     "metadata": {},
     "output_type": "display_data"
    },
    {
     "data": {
      "text/plain": [
       "'Her message, however, wasn\\'t entirely clear.The devil on her backI reached out to a psychologist after reading her blog post about the \"psychology of hero worship.\"'"
      ]
     },
     "metadata": {},
     "output_type": "display_data"
    },
    {
     "data": {
      "text/plain": [
       "'compound: 0.8281, '"
      ]
     },
     "metadata": {},
     "output_type": "display_data"
    },
    {
     "data": {
      "text/plain": [
       "'neg: 0.0, '"
      ]
     },
     "metadata": {},
     "output_type": "display_data"
    },
    {
     "data": {
      "text/plain": [
       "'neu: 0.716, '"
      ]
     },
     "metadata": {},
     "output_type": "display_data"
    },
    {
     "data": {
      "text/plain": [
       "'pos: 0.284, '"
      ]
     },
     "metadata": {},
     "output_type": "display_data"
    },
    {
     "data": {
      "text/plain": [
       "'She told me everyone has access to 15 minutes -- and more -- of fame these days.'"
      ]
     },
     "metadata": {},
     "output_type": "display_data"
    },
    {
     "data": {
      "text/plain": [
       "'compound: 0.4877, '"
      ]
     },
     "metadata": {},
     "output_type": "display_data"
    },
    {
     "data": {
      "text/plain": [
       "'neg: 0.0, '"
      ]
     },
     "metadata": {},
     "output_type": "display_data"
    },
    {
     "data": {
      "text/plain": [
       "'neu: 0.835, '"
      ]
     },
     "metadata": {},
     "output_type": "display_data"
    },
    {
     "data": {
      "text/plain": [
       "'pos: 0.165, '"
      ]
     },
     "metadata": {},
     "output_type": "display_data"
    },
    {
     "data": {
      "text/plain": [
       "'To stand out, though, people have to \"up the ante and up the storytelling.'"
      ]
     },
     "metadata": {},
     "output_type": "display_data"
    },
    {
     "data": {
      "text/plain": [
       "'compound: 0.0, '"
      ]
     },
     "metadata": {},
     "output_type": "display_data"
    },
    {
     "data": {
      "text/plain": [
       "'neg: 0.0, '"
      ]
     },
     "metadata": {},
     "output_type": "display_data"
    },
    {
     "data": {
      "text/plain": [
       "'neu: 1.0, '"
      ]
     },
     "metadata": {},
     "output_type": "display_data"
    },
    {
     "data": {
      "text/plain": [
       "'pos: 0.0, '"
      ]
     },
     "metadata": {},
     "output_type": "display_data"
    },
    {
     "data": {
      "text/plain": [
       "'\"In the case of Paulette, I can\\'t help but believe she upped that ante to her own detriment.On December 13, then-President Barack Obama signed the 21st Century Cures Act, a $6.3 billion bill that includes $4.8 billion for medical research for cancer and other diseases.Paulette took to Facebook Live to talk about the good news.'"
      ]
     },
     "metadata": {},
     "output_type": "display_data"
    },
    {
     "data": {
      "text/plain": [
       "'compound: -0.5966, '"
      ]
     },
     "metadata": {},
     "output_type": "display_data"
    },
    {
     "data": {
      "text/plain": [
       "'neg: 0.126, '"
      ]
     },
     "metadata": {},
     "output_type": "display_data"
    },
    {
     "data": {
      "text/plain": [
       "'neu: 0.812, '"
      ]
     },
     "metadata": {},
     "output_type": "display_data"
    },
    {
     "data": {
      "text/plain": [
       "'pos: 0.063, '"
      ]
     },
     "metadata": {},
     "output_type": "display_data"
    },
    {
     "data": {
      "text/plain": [
       "'She said her phone had been \"blowing up\" with messages.'"
      ]
     },
     "metadata": {},
     "output_type": "display_data"
    },
    {
     "data": {
      "text/plain": [
       "'compound: 0.0, '"
      ]
     },
     "metadata": {},
     "output_type": "display_data"
    },
    {
     "data": {
      "text/plain": [
       "'neg: 0.0, '"
      ]
     },
     "metadata": {},
     "output_type": "display_data"
    },
    {
     "data": {
      "text/plain": [
       "'neu: 1.0, '"
      ]
     },
     "metadata": {},
     "output_type": "display_data"
    },
    {
     "data": {
      "text/plain": [
       "'pos: 0.0, '"
      ]
     },
     "metadata": {},
     "output_type": "display_data"
    },
    {
     "data": {
      "text/plain": [
       "'\"I\\'m trying not to cry,\" she said.'"
      ]
     },
     "metadata": {},
     "output_type": "display_data"
    },
    {
     "data": {
      "text/plain": [
       "'compound: 0.0, '"
      ]
     },
     "metadata": {},
     "output_type": "display_data"
    },
    {
     "data": {
      "text/plain": [
       "'neg: 0.0, '"
      ]
     },
     "metadata": {},
     "output_type": "display_data"
    },
    {
     "data": {
      "text/plain": [
       "'neu: 1.0, '"
      ]
     },
     "metadata": {},
     "output_type": "display_data"
    },
    {
     "data": {
      "text/plain": [
       "'pos: 0.0, '"
      ]
     },
     "metadata": {},
     "output_type": "display_data"
    },
    {
     "data": {
      "text/plain": [
       "'\"But God said that there was going to be a cure, and he asked me to take that walk to talk to Congress and get their attention.'"
      ]
     },
     "metadata": {},
     "output_type": "display_data"
    },
    {
     "data": {
      "text/plain": [
       "'compound: 0.2732, '"
      ]
     },
     "metadata": {},
     "output_type": "display_data"
    },
    {
     "data": {
      "text/plain": [
       "'neg: 0.0, '"
      ]
     },
     "metadata": {},
     "output_type": "display_data"
    },
    {
     "data": {
      "text/plain": [
       "'neu: 0.923, '"
      ]
     },
     "metadata": {},
     "output_type": "display_data"
    },
    {
     "data": {
      "text/plain": [
       "'pos: 0.077, '"
      ]
     },
     "metadata": {},
     "output_type": "display_data"
    },
    {
     "data": {
      "text/plain": [
       "'\"I was there for the first two of her meetings on the Hill, along with an entourage of her children, some of her friends and fans, and a woman who says she is Paulette\\'s manager.'"
      ]
     },
     "metadata": {},
     "output_type": "display_data"
    },
    {
     "data": {
      "text/plain": [
       "'compound: 0.4767, '"
      ]
     },
     "metadata": {},
     "output_type": "display_data"
    },
    {
     "data": {
      "text/plain": [
       "'neg: 0.0, '"
      ]
     },
     "metadata": {},
     "output_type": "display_data"
    },
    {
     "data": {
      "text/plain": [
       "'neu: 0.914, '"
      ]
     },
     "metadata": {},
     "output_type": "display_data"
    },
    {
     "data": {
      "text/plain": [
       "'pos: 0.086, '"
      ]
     },
     "metadata": {},
     "output_type": "display_data"
    },
    {
     "data": {
      "text/plain": [
       "'Paulette met with aides in both cases, though Democratic Rep. John Conyers of Michigan came in at the very end of her meeting in his office and posed with her and others for pictures.'"
      ]
     },
     "metadata": {},
     "output_type": "display_data"
    },
    {
     "data": {
      "text/plain": [
       "'compound: 0.0, '"
      ]
     },
     "metadata": {},
     "output_type": "display_data"
    },
    {
     "data": {
      "text/plain": [
       "'neg: 0.0, '"
      ]
     },
     "metadata": {},
     "output_type": "display_data"
    },
    {
     "data": {
      "text/plain": [
       "'neu: 1.0, '"
      ]
     },
     "metadata": {},
     "output_type": "display_data"
    },
    {
     "data": {
      "text/plain": [
       "'pos: 0.0, '"
      ]
     },
     "metadata": {},
     "output_type": "display_data"
    },
    {
     "data": {
      "text/plain": [
       "'She later posted Facebook pictures with Rep. Donald M. Payne Jr., D-New Jersey, and Sen. Roger Wicker, a Mississippi Republican.Perhaps she grew more effective as her visits continued.'"
      ]
     },
     "metadata": {},
     "output_type": "display_data"
    },
    {
     "data": {
      "text/plain": [
       "'compound: 0.5256, '"
      ]
     },
     "metadata": {},
     "output_type": "display_data"
    },
    {
     "data": {
      "text/plain": [
       "'neg: 0.0, '"
      ]
     },
     "metadata": {},
     "output_type": "display_data"
    },
    {
     "data": {
      "text/plain": [
       "'neu: 0.885, '"
      ]
     },
     "metadata": {},
     "output_type": "display_data"
    },
    {
     "data": {
      "text/plain": [
       "'pos: 0.115, '"
      ]
     },
     "metadata": {},
     "output_type": "display_data"
    },
    {
     "data": {
      "text/plain": [
       "\"But in the meetings I attended, Paulette didn't seem to understand that the people she was meeting with were on her side -- that they, too, want a cure for cancer and more affordable health care.\""
      ]
     },
     "metadata": {},
     "output_type": "display_data"
    },
    {
     "data": {
      "text/plain": [
       "'compound: -0.1621, '"
      ]
     },
     "metadata": {},
     "output_type": "display_data"
    },
    {
     "data": {
      "text/plain": [
       "'neg: 0.11, '"
      ]
     },
     "metadata": {},
     "output_type": "display_data"
    },
    {
     "data": {
      "text/plain": [
       "'neu: 0.772, '"
      ]
     },
     "metadata": {},
     "output_type": "display_data"
    },
    {
     "data": {
      "text/plain": [
       "'pos: 0.119, '"
      ]
     },
     "metadata": {},
     "output_type": "display_data"
    },
    {
     "data": {
      "text/plain": [
       "'Nor did she get how the legislative system works or which laws -- including the Affordable Care Act -- were already in place.She complained about insurance and pharmaceutical companies, talked about being a business owner for 20 years who then became homeless.'"
      ]
     },
     "metadata": {},
     "output_type": "display_data"
    },
    {
     "data": {
      "text/plain": [
       "'compound: 0.128, '"
      ]
     },
     "metadata": {},
     "output_type": "display_data"
    },
    {
     "data": {
      "text/plain": [
       "'neg: 0.06, '"
      ]
     },
     "metadata": {},
     "output_type": "display_data"
    },
    {
     "data": {
      "text/plain": [
       "'neu: 0.869, '"
      ]
     },
     "metadata": {},
     "output_type": "display_data"
    },
    {
     "data": {
      "text/plain": [
       "'pos: 0.071, '"
      ]
     },
     "metadata": {},
     "output_type": "display_data"
    },
    {
     "data": {
      "text/plain": [
       "'She said she made $1 too much to qualify for food stamps.'"
      ]
     },
     "metadata": {},
     "output_type": "display_data"
    },
    {
     "data": {
      "text/plain": [
       "'compound: 0.0, '"
      ]
     },
     "metadata": {},
     "output_type": "display_data"
    },
    {
     "data": {
      "text/plain": [
       "'neg: 0.0, '"
      ]
     },
     "metadata": {},
     "output_type": "display_data"
    },
    {
     "data": {
      "text/plain": [
       "'neu: 1.0, '"
      ]
     },
     "metadata": {},
     "output_type": "display_data"
    },
    {
     "data": {
      "text/plain": [
       "'pos: 0.0, '"
      ]
     },
     "metadata": {},
     "output_type": "display_data"
    },
    {
     "data": {
      "text/plain": [
       "'She said she had to pay $5,000 a month for her blood disorder treatments.'"
      ]
     },
     "metadata": {},
     "output_type": "display_data"
    },
    {
     "data": {
      "text/plain": [
       "'compound: -0.4767, '"
      ]
     },
     "metadata": {},
     "output_type": "display_data"
    },
    {
     "data": {
      "text/plain": [
       "'neg: 0.272, '"
      ]
     },
     "metadata": {},
     "output_type": "display_data"
    },
    {
     "data": {
      "text/plain": [
       "'neu: 0.728, '"
      ]
     },
     "metadata": {},
     "output_type": "display_data"
    },
    {
     "data": {
      "text/plain": [
       "'pos: 0.0, '"
      ]
     },
     "metadata": {},
     "output_type": "display_data"
    },
    {
     "data": {
      "text/plain": [
       "'I could only surmise that this was in addition to the $2,500 to $5,000 a month she often said she needed to pay for her cancer treatments.'"
      ]
     },
     "metadata": {},
     "output_type": "display_data"
    },
    {
     "data": {
      "text/plain": [
       "'compound: -0.7003, '"
      ]
     },
     "metadata": {},
     "output_type": "display_data"
    },
    {
     "data": {
      "text/plain": [
       "'neg: 0.201, '"
      ]
     },
     "metadata": {},
     "output_type": "display_data"
    },
    {
     "data": {
      "text/plain": [
       "'neu: 0.799, '"
      ]
     },
     "metadata": {},
     "output_type": "display_data"
    },
    {
     "data": {
      "text/plain": [
       "'pos: 0.0, '"
      ]
     },
     "metadata": {},
     "output_type": "display_data"
    },
    {
     "data": {
      "text/plain": [
       "'\"You\\'re preaching to the choir,\" an aide said.'"
      ]
     },
     "metadata": {},
     "output_type": "display_data"
    },
    {
     "data": {
      "text/plain": [
       "'compound: 0.0, '"
      ]
     },
     "metadata": {},
     "output_type": "display_data"
    },
    {
     "data": {
      "text/plain": [
       "'neg: 0.0, '"
      ]
     },
     "metadata": {},
     "output_type": "display_data"
    },
    {
     "data": {
      "text/plain": [
       "'neu: 1.0, '"
      ]
     },
     "metadata": {},
     "output_type": "display_data"
    },
    {
     "data": {
      "text/plain": [
       "'pos: 0.0, '"
      ]
     },
     "metadata": {},
     "output_type": "display_data"
    },
    {
     "data": {
      "text/plain": [
       "'\"This congressman shares your concerns.'"
      ]
     },
     "metadata": {},
     "output_type": "display_data"
    },
    {
     "data": {
      "text/plain": [
       "'compound: 0.296, '"
      ]
     },
     "metadata": {},
     "output_type": "display_data"
    },
    {
     "data": {
      "text/plain": [
       "'neg: 0.0, '"
      ]
     },
     "metadata": {},
     "output_type": "display_data"
    },
    {
     "data": {
      "text/plain": [
       "'neu: 0.645, '"
      ]
     },
     "metadata": {},
     "output_type": "display_data"
    },
    {
     "data": {
      "text/plain": [
       "'pos: 0.355, '"
      ]
     },
     "metadata": {},
     "output_type": "display_data"
    },
    {
     "data": {
      "text/plain": [
       "'\"He explained to her how the system works, how there needs to be a certain number of votes to pass bills, how she needs to lobby in her own district to effect change.Paulette listened and demanded: \"What\\'s more important than human life?'"
      ]
     },
     "metadata": {},
     "output_type": "display_data"
    },
    {
     "data": {
      "text/plain": [
       "'compound: 0.4005, '"
      ]
     },
     "metadata": {},
     "output_type": "display_data"
    },
    {
     "data": {
      "text/plain": [
       "'neg: 0.043, '"
      ]
     },
     "metadata": {},
     "output_type": "display_data"
    },
    {
     "data": {
      "text/plain": [
       "'neu: 0.809, '"
      ]
     },
     "metadata": {},
     "output_type": "display_data"
    },
    {
     "data": {
      "text/plain": [
       "'pos: 0.148, '"
      ]
     },
     "metadata": {},
     "output_type": "display_data"
    },
    {
     "data": {
      "text/plain": [
       "'\"This story wasn\\'t just about Paulette.'"
      ]
     },
     "metadata": {},
     "output_type": "display_data"
    },
    {
     "data": {
      "text/plain": [
       "'compound: 0.0, '"
      ]
     },
     "metadata": {},
     "output_type": "display_data"
    },
    {
     "data": {
      "text/plain": [
       "'neg: 0.0, '"
      ]
     },
     "metadata": {},
     "output_type": "display_data"
    },
    {
     "data": {
      "text/plain": [
       "'neu: 1.0, '"
      ]
     },
     "metadata": {},
     "output_type": "display_data"
    },
    {
     "data": {
      "text/plain": [
       "'pos: 0.0, '"
      ]
     },
     "metadata": {},
     "output_type": "display_data"
    },
    {
     "data": {
      "text/plain": [
       "\"It's about our need to find -- and, for some of us, become -- heroes.There's no way to measure how much of a difference Paulette Leaphart made in shaping the conversation about cancer in this country.\""
      ]
     },
     "metadata": {},
     "output_type": "display_data"
    },
    {
     "data": {
      "text/plain": [
       "'compound: -0.765, '"
      ]
     },
     "metadata": {},
     "output_type": "display_data"
    },
    {
     "data": {
      "text/plain": [
       "'neg: 0.167, '"
      ]
     },
     "metadata": {},
     "output_type": "display_data"
    },
    {
     "data": {
      "text/plain": [
       "'neu: 0.833, '"
      ]
     },
     "metadata": {},
     "output_type": "display_data"
    },
    {
     "data": {
      "text/plain": [
       "'pos: 0.0, '"
      ]
     },
     "metadata": {},
     "output_type": "display_data"
    },
    {
     "data": {
      "text/plain": [
       "'She touched many minds and hearts, but whether she did so in the most honest and transparent way remains questionable.The day after Christmas, she posted a new photo from a hospital bed.'"
      ]
     },
     "metadata": {},
     "output_type": "display_data"
    },
    {
     "data": {
      "text/plain": [
       "'compound: 0.7086, '"
      ]
     },
     "metadata": {},
     "output_type": "display_data"
    },
    {
     "data": {
      "text/plain": [
       "'neg: 0.0, '"
      ]
     },
     "metadata": {},
     "output_type": "display_data"
    },
    {
     "data": {
      "text/plain": [
       "'neu: 0.856, '"
      ]
     },
     "metadata": {},
     "output_type": "display_data"
    },
    {
     "data": {
      "text/plain": [
       "'pos: 0.144, '"
      ]
     },
     "metadata": {},
     "output_type": "display_data"
    },
    {
     "data": {
      "text/plain": [
       "'She complained of excruciating pain and revealed there was a new mass, this time next to her right ovary.'"
      ]
     },
     "metadata": {},
     "output_type": "display_data"
    },
    {
     "data": {
      "text/plain": [
       "'compound: -0.8834, '"
      ]
     },
     "metadata": {},
     "output_type": "display_data"
    },
    {
     "data": {
      "text/plain": [
       "'neg: 0.407, '"
      ]
     },
     "metadata": {},
     "output_type": "display_data"
    },
    {
     "data": {
      "text/plain": [
       "'neu: 0.593, '"
      ]
     },
     "metadata": {},
     "output_type": "display_data"
    },
    {
     "data": {
      "text/plain": [
       "'pos: 0.0, '"
      ]
     },
     "metadata": {},
     "output_type": "display_data"
    },
    {
     "data": {
      "text/plain": [
       "'My stomach dropped for her.'"
      ]
     },
     "metadata": {},
     "output_type": "display_data"
    },
    {
     "data": {
      "text/plain": [
       "'compound: 0.0, '"
      ]
     },
     "metadata": {},
     "output_type": "display_data"
    },
    {
     "data": {
      "text/plain": [
       "'neg: 0.0, '"
      ]
     },
     "metadata": {},
     "output_type": "display_data"
    },
    {
     "data": {
      "text/plain": [
       "'neu: 1.0, '"
      ]
     },
     "metadata": {},
     "output_type": "display_data"
    },
    {
     "data": {
      "text/plain": [
       "'pos: 0.0, '"
      ]
     },
     "metadata": {},
     "output_type": "display_data"
    },
    {
     "data": {
      "text/plain": [
       "'She asked for prayers, and they came in by the hundreds.Then, in less than 24 hours, her longtime critic Kimberly McCarty shared an old post that questioned whether Paulette still had her ovaries.'"
      ]
     },
     "metadata": {},
     "output_type": "display_data"
    },
    {
     "data": {
      "text/plain": [
       "'compound: -0.0258, '"
      ]
     },
     "metadata": {},
     "output_type": "display_data"
    },
    {
     "data": {
      "text/plain": [
       "'neg: 0.097, '"
      ]
     },
     "metadata": {},
     "output_type": "display_data"
    },
    {
     "data": {
      "text/plain": [
       "'neu: 0.836, '"
      ]
     },
     "metadata": {},
     "output_type": "display_data"
    },
    {
     "data": {
      "text/plain": [
       "'pos: 0.067, '"
      ]
     },
     "metadata": {},
     "output_type": "display_data"
    },
    {
     "data": {
      "text/plain": [
       "\"In the post, one of Paulette's daughters wrote that her mother's ovaries were being removed out of fear that the hormones produced by them were feeding her breast cancer.\""
      ]
     },
     "metadata": {},
     "output_type": "display_data"
    },
    {
     "data": {
      "text/plain": [
       "'compound: -0.8225, '"
      ]
     },
     "metadata": {},
     "output_type": "display_data"
    },
    {
     "data": {
      "text/plain": [
       "'neg: 0.22, '"
      ]
     },
     "metadata": {},
     "output_type": "display_data"
    },
    {
     "data": {
      "text/plain": [
       "'neu: 0.78, '"
      ]
     },
     "metadata": {},
     "output_type": "display_data"
    },
    {
     "data": {
      "text/plain": [
       "'pos: 0.0, '"
      ]
     },
     "metadata": {},
     "output_type": "display_data"
    },
    {
     "data": {
      "text/plain": [
       "'And, once again, I no longer knew what to believe or feel.Then came Facebook photos from Paulette.'"
      ]
     },
     "metadata": {},
     "output_type": "display_data"
    },
    {
     "data": {
      "text/plain": [
       "'compound: -0.296, '"
      ]
     },
     "metadata": {},
     "output_type": "display_data"
    },
    {
     "data": {
      "text/plain": [
       "'neg: 0.128, '"
      ]
     },
     "metadata": {},
     "output_type": "display_data"
    },
    {
     "data": {
      "text/plain": [
       "'neu: 0.872, '"
      ]
     },
     "metadata": {},
     "output_type": "display_data"
    },
    {
     "data": {
      "text/plain": [
       "'pos: 0.0, '"
      ]
     },
     "metadata": {},
     "output_type": "display_data"
    },
    {
     "data": {
      "text/plain": [
       "'In one she was getting a vaginal ultrasound.'"
      ]
     },
     "metadata": {},
     "output_type": "display_data"
    },
    {
     "data": {
      "text/plain": [
       "'compound: 0.0, '"
      ]
     },
     "metadata": {},
     "output_type": "display_data"
    },
    {
     "data": {
      "text/plain": [
       "'neg: 0.0, '"
      ]
     },
     "metadata": {},
     "output_type": "display_data"
    },
    {
     "data": {
      "text/plain": [
       "'neu: 1.0, '"
      ]
     },
     "metadata": {},
     "output_type": "display_data"
    },
    {
     "data": {
      "text/plain": [
       "'pos: 0.0, '"
      ]
     },
     "metadata": {},
     "output_type": "display_data"
    },
    {
     "data": {
      "text/plain": [
       "'In another, she was flashing the victory sign with her fingers and smiling as she was being pushed into an MRI machine.'"
      ]
     },
     "metadata": {},
     "output_type": "display_data"
    },
    {
     "data": {
      "text/plain": [
       "'compound: 0.4588, '"
      ]
     },
     "metadata": {},
     "output_type": "display_data"
    },
    {
     "data": {
      "text/plain": [
       "'neg: 0.0, '"
      ]
     },
     "metadata": {},
     "output_type": "display_data"
    },
    {
     "data": {
      "text/plain": [
       "'neu: 0.875, '"
      ]
     },
     "metadata": {},
     "output_type": "display_data"
    },
    {
     "data": {
      "text/plain": [
       "'pos: 0.125, '"
      ]
     },
     "metadata": {},
     "output_type": "display_data"
    },
    {
     "data": {
      "text/plain": [
       "'She posed next to the doctor who, she said, had just removed her ovaries.'"
      ]
     },
     "metadata": {},
     "output_type": "display_data"
    },
    {
     "data": {
      "text/plain": [
       "'compound: 0.0, '"
      ]
     },
     "metadata": {},
     "output_type": "display_data"
    },
    {
     "data": {
      "text/plain": [
       "'neg: 0.0, '"
      ]
     },
     "metadata": {},
     "output_type": "display_data"
    },
    {
     "data": {
      "text/plain": [
       "'neu: 1.0, '"
      ]
     },
     "metadata": {},
     "output_type": "display_data"
    },
    {
     "data": {
      "text/plain": [
       "'pos: 0.0, '"
      ]
     },
     "metadata": {},
     "output_type": "display_data"
    },
    {
     "data": {
      "text/plain": [
       "'There was no cancer, she later reported.In the weeks before publishing this story, I set out to give Paulette a chance to address questions I still had and to respond to accusations made by others.'"
      ]
     },
     "metadata": {},
     "output_type": "display_data"
    },
    {
     "data": {
      "text/plain": [
       "'compound: -0.7845, '"
      ]
     },
     "metadata": {},
     "output_type": "display_data"
    },
    {
     "data": {
      "text/plain": [
       "'neg: 0.229, '"
      ]
     },
     "metadata": {},
     "output_type": "display_data"
    },
    {
     "data": {
      "text/plain": [
       "'neu: 0.72, '"
      ]
     },
     "metadata": {},
     "output_type": "display_data"
    },
    {
     "data": {
      "text/plain": [
       "'pos: 0.051, '"
      ]
     },
     "metadata": {},
     "output_type": "display_data"
    },
    {
     "data": {
      "text/plain": [
       "'I emailed her twice detailing my reporting and asking for answers about everything from her career and court judgments to her cancer and treatment.'"
      ]
     },
     "metadata": {},
     "output_type": "display_data"
    },
    {
     "data": {
      "text/plain": [
       "'compound: -0.6597, '"
      ]
     },
     "metadata": {},
     "output_type": "display_data"
    },
    {
     "data": {
      "text/plain": [
       "'neg: 0.167, '"
      ]
     },
     "metadata": {},
     "output_type": "display_data"
    },
    {
     "data": {
      "text/plain": [
       "'neu: 0.833, '"
      ]
     },
     "metadata": {},
     "output_type": "display_data"
    },
    {
     "data": {
      "text/plain": [
       "'pos: 0.0, '"
      ]
     },
     "metadata": {},
     "output_type": "display_data"
    },
    {
     "data": {
      "text/plain": [
       "'When I got no reply, I texted her and even had my editor send her a Facebook message.'"
      ]
     },
     "metadata": {},
     "output_type": "display_data"
    },
    {
     "data": {
      "text/plain": [
       "'compound: -0.296, '"
      ]
     },
     "metadata": {},
     "output_type": "display_data"
    },
    {
     "data": {
      "text/plain": [
       "'neg: 0.136, '"
      ]
     },
     "metadata": {},
     "output_type": "display_data"
    },
    {
     "data": {
      "text/plain": [
       "'neu: 0.864, '"
      ]
     },
     "metadata": {},
     "output_type": "display_data"
    },
    {
     "data": {
      "text/plain": [
       "'pos: 0.0, '"
      ]
     },
     "metadata": {},
     "output_type": "display_data"
    },
    {
     "data": {
      "text/plain": [
       "'Then I called her.'"
      ]
     },
     "metadata": {},
     "output_type": "display_data"
    },
    {
     "data": {
      "text/plain": [
       "'compound: 0.0, '"
      ]
     },
     "metadata": {},
     "output_type": "display_data"
    },
    {
     "data": {
      "text/plain": [
       "'neg: 0.0, '"
      ]
     },
     "metadata": {},
     "output_type": "display_data"
    },
    {
     "data": {
      "text/plain": [
       "'neu: 1.0, '"
      ]
     },
     "metadata": {},
     "output_type": "display_data"
    },
    {
     "data": {
      "text/plain": [
       "'pos: 0.0, '"
      ]
     },
     "metadata": {},
     "output_type": "display_data"
    },
    {
     "data": {
      "text/plain": [
       "'She indicated she had seen my questions and told me she didn\\'t want to talk to me.Soon after my first email, Paulette thanked Jesus on Facebook for her \"brand spanking new house\" and shared a photograph of the home.'"
      ]
     },
     "metadata": {},
     "output_type": "display_data"
    },
    {
     "data": {
      "text/plain": [
       "'compound: 0.6222, '"
      ]
     },
     "metadata": {},
     "output_type": "display_data"
    },
    {
     "data": {
      "text/plain": [
       "'neg: 0.029, '"
      ]
     },
     "metadata": {},
     "output_type": "display_data"
    },
    {
     "data": {
      "text/plain": [
       "'neu: 0.843, '"
      ]
     },
     "metadata": {},
     "output_type": "display_data"
    },
    {
     "data": {
      "text/plain": [
       "'pos: 0.128, '"
      ]
     },
     "metadata": {},
     "output_type": "display_data"
    },
    {
     "data": {
      "text/plain": [
       "'\"I obeyed him,\" she said of God, \"even when the devil was riding my back.'"
      ]
     },
     "metadata": {},
     "output_type": "display_data"
    },
    {
     "data": {
      "text/plain": [
       "'compound: -0.5106, '"
      ]
     },
     "metadata": {},
     "output_type": "display_data"
    },
    {
     "data": {
      "text/plain": [
       "'neg: 0.226, '"
      ]
     },
     "metadata": {},
     "output_type": "display_data"
    },
    {
     "data": {
      "text/plain": [
       "'neu: 0.667, '"
      ]
     },
     "metadata": {},
     "output_type": "display_data"
    },
    {
     "data": {
      "text/plain": [
       "'pos: 0.108, '"
      ]
     },
     "metadata": {},
     "output_type": "display_data"
    },
    {
     "data": {
      "text/plain": [
       "'\"Days before we published this story, Paulette took to Facebook Live and said that about 25 years ago, after multiple suicide attempts and a nervous breakdown, she was diagnosed with dissociative identity disorder, formerly called multiple personality disorder.'"
      ]
     },
     "metadata": {},
     "output_type": "display_data"
    },
    {
     "data": {
      "text/plain": [
       "'compound: -0.9001, '"
      ]
     },
     "metadata": {},
     "output_type": "display_data"
    },
    {
     "data": {
      "text/plain": [
       "'neg: 0.267, '"
      ]
     },
     "metadata": {},
     "output_type": "display_data"
    },
    {
     "data": {
      "text/plain": [
       "'neu: 0.733, '"
      ]
     },
     "metadata": {},
     "output_type": "display_data"
    },
    {
     "data": {
      "text/plain": [
       "'pos: 0.0, '"
      ]
     },
     "metadata": {},
     "output_type": "display_data"
    },
    {
     "data": {
      "text/plain": [
       "'She said 10 years of therapy helped her integrate more than 20 personalities.'"
      ]
     },
     "metadata": {},
     "output_type": "display_data"
    },
    {
     "data": {
      "text/plain": [
       "'compound: 0.0, '"
      ]
     },
     "metadata": {},
     "output_type": "display_data"
    },
    {
     "data": {
      "text/plain": [
       "'neg: 0.0, '"
      ]
     },
     "metadata": {},
     "output_type": "display_data"
    },
    {
     "data": {
      "text/plain": [
       "'neu: 1.0, '"
      ]
     },
     "metadata": {},
     "output_type": "display_data"
    },
    {
     "data": {
      "text/plain": [
       "'pos: 0.0, '"
      ]
     },
     "metadata": {},
     "output_type": "display_data"
    },
    {
     "data": {
      "text/plain": [
       "'She said she was going public with this after reading about the movie \"Split,\" by M. Night Shyamalan .'"
      ]
     },
     "metadata": {},
     "output_type": "display_data"
    },
    {
     "data": {
      "text/plain": [
       "'compound: 0.0, '"
      ]
     },
     "metadata": {},
     "output_type": "display_data"
    },
    {
     "data": {
      "text/plain": [
       "'neg: 0.0, '"
      ]
     },
     "metadata": {},
     "output_type": "display_data"
    },
    {
     "data": {
      "text/plain": [
       "'neu: 1.0, '"
      ]
     },
     "metadata": {},
     "output_type": "display_data"
    },
    {
     "data": {
      "text/plain": [
       "'pos: 0.0, '"
      ]
     },
     "metadata": {},
     "output_type": "display_data"
    },
    {
     "data": {
      "text/plain": [
       "'Once more, I felt for her -- and wished I could know what to believe.Paulette likes to say that when life gave her lemons, she made lemonade.'"
      ]
     },
     "metadata": {},
     "output_type": "display_data"
    },
    {
     "data": {
      "text/plain": [
       "'compound: 0.4215, '"
      ]
     },
     "metadata": {},
     "output_type": "display_data"
    },
    {
     "data": {
      "text/plain": [
       "'neg: 0.0, '"
      ]
     },
     "metadata": {},
     "output_type": "display_data"
    },
    {
     "data": {
      "text/plain": [
       "'neu: 0.896, '"
      ]
     },
     "metadata": {},
     "output_type": "display_data"
    },
    {
     "data": {
      "text/plain": [
       "'pos: 0.104, '"
      ]
     },
     "metadata": {},
     "output_type": "display_data"
    },
    {
     "data": {
      "text/plain": [
       "'She adopted yellow as the color of her campaign and often says \"yellow is the new pink.\"'"
      ]
     },
     "metadata": {},
     "output_type": "display_data"
    },
    {
     "data": {
      "text/plain": [
       "'compound: 0.0, '"
      ]
     },
     "metadata": {},
     "output_type": "display_data"
    },
    {
     "data": {
      "text/plain": [
       "'neg: 0.0, '"
      ]
     },
     "metadata": {},
     "output_type": "display_data"
    },
    {
     "data": {
      "text/plain": [
       "'neu: 1.0, '"
      ]
     },
     "metadata": {},
     "output_type": "display_data"
    },
    {
     "data": {
      "text/plain": [
       "'pos: 0.0, '"
      ]
     },
     "metadata": {},
     "output_type": "display_data"
    },
    {
     "data": {
      "text/plain": [
       "\"She once mused out loud as we walked in North Carolina whether the Susan G. Komen Foundation, the embodiment of all things pink and cancer, would put out a hit on her for stealing attention from its organization.I don't think I'll ever know the full truth about Paulette.\""
      ]
     },
     "metadata": {},
     "output_type": "display_data"
    },
    {
     "data": {
      "text/plain": [
       "'compound: -0.7783, '"
      ]
     },
     "metadata": {},
     "output_type": "display_data"
    },
    {
     "data": {
      "text/plain": [
       "'neg: 0.149, '"
      ]
     },
     "metadata": {},
     "output_type": "display_data"
    },
    {
     "data": {
      "text/plain": [
       "'neu: 0.809, '"
      ]
     },
     "metadata": {},
     "output_type": "display_data"
    },
    {
     "data": {
      "text/plain": [
       "'pos: 0.042, '"
      ]
     },
     "metadata": {},
     "output_type": "display_data"
    },
    {
     "data": {
      "text/plain": [
       "'But the color that comes to mind when I think of her is neither yellow nor pink.'"
      ]
     },
     "metadata": {},
     "output_type": "display_data"
    },
    {
     "data": {
      "text/plain": [
       "'compound: 0.0, '"
      ]
     },
     "metadata": {},
     "output_type": "display_data"
    },
    {
     "data": {
      "text/plain": [
       "'neg: 0.0, '"
      ]
     },
     "metadata": {},
     "output_type": "display_data"
    },
    {
     "data": {
      "text/plain": [
       "'neu: 1.0, '"
      ]
     },
     "metadata": {},
     "output_type": "display_data"
    },
    {
     "data": {
      "text/plain": [
       "'pos: 0.0, '"
      ]
     },
     "metadata": {},
     "output_type": "display_data"
    },
    {
     "data": {
      "text/plain": [
       "\"It's the murkiest of grays.\""
      ]
     },
     "metadata": {},
     "output_type": "display_data"
    },
    {
     "data": {
      "text/plain": [
       "'compound: 0.0, '"
      ]
     },
     "metadata": {},
     "output_type": "display_data"
    },
    {
     "data": {
      "text/plain": [
       "'neg: 0.0, '"
      ]
     },
     "metadata": {},
     "output_type": "display_data"
    },
    {
     "data": {
      "text/plain": [
       "'neu: 1.0, '"
      ]
     },
     "metadata": {},
     "output_type": "display_data"
    },
    {
     "data": {
      "text/plain": [
       "'pos: 0.0, '"
      ]
     },
     "metadata": {},
     "output_type": "display_data"
    }
   ],
   "source": [
    "sid = SentimentIntensityAnalyzer() # calls SentimentIntensitAnalyzer function\n",
    "for sentence in sentences: # for a sentence in a list of sentences\n",
    "        display (sentence) #display sentence\n",
    "        ss = sid.polarity_scores(sentence) #and assign a sentiment polarity score\n",
    "        for k in sorted(ss):        \n",
    "            display ('{0}: {1}, '.format(k, ss[k])) #format the output"
   ]
  },
  {
   "cell_type": "code",
   "execution_count": 218,
   "metadata": {},
   "outputs": [
    {
     "name": "stdout",
     "output_type": "stream",
     "text": [
      "double-mastectomy\n",
      "late\n",
      "<late.a.01: PosScore=0.0 NegScore=0.0>\n",
      "last\n",
      "<last.s.01: PosScore=0.0 NegScore=0.25>\n",
      "1,000-mile\n",
      "affordable\n",
      "<low-cost.s.01: PosScore=0.0 NegScore=0.0>\n",
      "African-American\n",
      "<african-american.s.01: PosScore=0.0 NegScore=0.0>\n",
      "much\n",
      "<much.a.01: PosScore=0.0 NegScore=0.0>\n",
      "devil\n",
      "own\n",
      "<own.s.01: PosScore=0.0 NegScore=0.0>\n",
      "Many\n",
      "<many.a.01: PosScore=0.0 NegScore=0.0>\n",
      "cancer-free\n",
      "alive\n",
      "<alive.a.01: PosScore=0.125 NegScore=0.0>\n",
      "whole\n",
      "<whole.a.01: PosScore=0.125 NegScore=0.0>\n",
      "medical\n",
      "<medical.a.01: PosScore=0.0 NegScore=0.0>\n",
      "financial\n",
      "<fiscal.a.01: PosScore=0.25 NegScore=0.0>\n",
      "up\n",
      "<up.a.01: PosScore=0.0 NegScore=0.0>\n",
      "half\n",
      "<half.s.01: PosScore=0.0 NegScore=0.0>\n",
      "civil\n",
      "<civil.s.01: PosScore=0.125 NegScore=0.0>\n",
      "criminal\n",
      "<condemnable.s.01: PosScore=0.0 NegScore=0.875>\n",
      "double\n",
      "<double.s.01: PosScore=0.5 NegScore=0.25>\n",
      "elective\n",
      "<elective.a.01: PosScore=0.0 NegScore=0.0>\n",
      "positive\n",
      "<positive.a.01: PosScore=0.625 NegScore=0.0>\n",
      "preventive\n",
      "<preventive.s.01: PosScore=0.75 NegScore=0.0>\n",
      "hospital\n",
      "cancerous\n",
      "<cancerous.s.01: PosScore=0.0 NegScore=0.0>\n",
      "right\n",
      "<right.a.01: PosScore=0.0 NegScore=0.0>\n",
      "lymph\n",
      "right\n",
      "<right.a.01: PosScore=0.0 NegScore=0.0>\n",
      "positive\n",
      "<positive.a.01: PosScore=0.625 NegScore=0.0>\n",
      "left\n",
      "<left.a.01: PosScore=0.0 NegScore=0.0>\n",
      "other\n",
      "<other.a.01: PosScore=0.0 NegScore=0.625>\n",
      "up.So\n",
      "surgical\n",
      "<surgical.a.01: PosScore=0.0 NegScore=0.0>\n",
      "medical\n",
      "<medical.a.01: PosScore=0.0 NegScore=0.0>\n",
      "right\n",
      "<right.a.01: PosScore=0.0 NegScore=0.0>\n",
      "cm\n",
      "small\n",
      "<small.a.01: PosScore=0.0 NegScore=0.375>\n",
      "initial\n",
      "<initial.s.01: PosScore=0.0 NegScore=0.0>\n",
      "slight\n",
      "<little.a.02: PosScore=0.0 NegScore=0.375>\n",
      "double\n",
      "<double.s.01: PosScore=0.5 NegScore=0.25>\n",
      "such\n",
      "<such.s.01: PosScore=0.0 NegScore=0.125>\n",
      "aggressive\n",
      "<aggressive.a.01: PosScore=0.5 NegScore=0.0>\n",
      "understood\n",
      "<understood.a.01: PosScore=0.25 NegScore=0.0>\n",
      "tested\n",
      "<tested.s.01: PosScore=0.625 NegScore=0.0>\n",
      "positive\n",
      "<positive.a.01: PosScore=0.625 NegScore=0.0>\n",
      "definitive\n",
      "<definitive.s.01: PosScore=0.25 NegScore=0.0>\n",
      "medical\n",
      "<medical.a.01: PosScore=0.0 NegScore=0.0>\n",
      "right\n",
      "<right.a.01: PosScore=0.0 NegScore=0.0>\n",
      "double\n",
      "<double.s.01: PosScore=0.5 NegScore=0.25>\n",
      "unclear\n",
      "<ill-defined.a.01: PosScore=0.375 NegScore=0.125>\n",
      "frequent\n",
      "<frequent.a.01: PosScore=0.0 NegScore=0.0>\n",
      "own\n",
      "<own.s.01: PosScore=0.0 NegScore=0.0>\n",
      "chemo\n",
      "aggressive\n",
      "<aggressive.a.01: PosScore=0.5 NegScore=0.0>\n",
      "seasoned\n",
      "<seasoned.a.01: PosScore=0.375 NegScore=0.0>\n",
      "public\n",
      "<public.a.01: PosScore=0.0 NegScore=0.125>\n",
      "professional\n",
      "<professional.a.01: PosScore=0.0 NegScore=0.0>\n",
      "best-selling\n",
      "<best-selling.s.01: PosScore=0.125 NegScore=0.0>\n",
      "old\n",
      "<old.a.01: PosScore=0.375 NegScore=0.0>\n",
      "much\n",
      "<much.a.01: PosScore=0.0 NegScore=0.0>\n",
      "critical\n",
      "<critical.a.01: PosScore=0.0 NegScore=0.5>\n",
      "few\n",
      "<few.a.01: PosScore=0.0 NegScore=0.0>\n",
      "other\n",
      "<other.a.01: PosScore=0.0 NegScore=0.625>\n",
      "unable\n",
      "<unable.a.01: PosScore=0.0 NegScore=0.75>\n",
      "reconstructive\n",
      "<reconstructive.s.01: PosScore=0.75 NegScore=0.0>\n",
      "blood-clotting\n",
      "disorder.Family\n",
      "first\n",
      "<first.a.01: PosScore=0.0 NegScore=0.0>\n",
      "funeral\n",
      "much\n",
      "<much.a.01: PosScore=0.0 NegScore=0.0>\n",
      "few\n",
      "<few.a.01: PosScore=0.0 NegScore=0.0>\n",
      "little\n",
      "<small.a.01: PosScore=0.0 NegScore=0.375>\n",
      "right\n",
      "<right.a.01: PosScore=0.0 NegScore=0.0>\n",
      "serious\n",
      "<serious.a.01: PosScore=0.125 NegScore=0.0>\n",
      "foster\n",
      "<foster.s.01: PosScore=0.0 NegScore=0.0>\n",
      "private-school\n",
      "sick\n",
      "<ill.a.01: PosScore=0.125 NegScore=0.75>\n",
      "sufficient\n",
      "<sufficient.a.01: PosScore=0.125 NegScore=0.75>\n",
      "pretty\n",
      "<pretty.s.01: PosScore=0.875 NegScore=0.125>\n",
      "own\n",
      "<own.s.01: PosScore=0.0 NegScore=0.0>\n",
      "unfair\n",
      "<unfair.a.01: PosScore=0.375 NegScore=0.375>\n",
      "living\n",
      "<living.a.01: PosScore=0.0 NegScore=0.125>\n",
      "campaign.A\n",
      "cautious\n",
      "<cautious.a.01: PosScore=0.75 NegScore=0.0>\n",
      "multiple\n",
      "<multiple.a.01: PosScore=0.0 NegScore=0.0>\n",
      "due\n",
      "<due.a.01: PosScore=0.0 NegScore=0.0>\n",
      "limited\n",
      "<limited.a.01: PosScore=0.0 NegScore=0.0>\n",
      "medical\n",
      "<medical.a.01: PosScore=0.0 NegScore=0.0>\n",
      "obvious\n",
      "<obvious.a.01: PosScore=0.5 NegScore=0.0>\n",
      "additional\n",
      "<extra.s.03: PosScore=0.0 NegScore=0.0>\n",
      "likely\n",
      "<likely.a.01: PosScore=0.5 NegScore=0.0>\n",
      "bizarre\n",
      "<bizarre.s.01: PosScore=0.0 NegScore=0.25>\n",
      "social\n",
      "<social.a.01: PosScore=0.0 NegScore=0.0>\n",
      "unfair\n",
      "<unfair.a.01: PosScore=0.375 NegScore=0.375>\n",
      "globe.The\n",
      "messageOne\n",
      "different\n",
      "<different.a.01: PosScore=0.625 NegScore=0.0>\n",
      "likely\n",
      "<likely.a.01: PosScore=0.5 NegScore=0.0>\n",
      "early\n",
      "<early.a.01: PosScore=0.0 NegScore=0.0>\n",
      "white\n",
      "<white.a.01: PosScore=0.0 NegScore=0.25>\n",
      "likely\n",
      "<likely.a.01: PosScore=0.5 NegScore=0.0>\n",
      "triple-negative\n",
      "certain\n",
      "<certain.s.01: PosScore=0.125 NegScore=0.5>\n",
      "ethnic\n",
      "<cultural.s.02: PosScore=0.0 NegScore=0.0>\n",
      "racial\n",
      "<racial.a.01: PosScore=0.0 NegScore=0.0>\n",
      "American\n",
      "<american.a.01: PosScore=0.0 NegScore=0.0>\n",
      "such\n",
      "<such.s.01: PosScore=0.0 NegScore=0.125>\n",
      "important\n",
      "<important.a.01: PosScore=0.875 NegScore=0.0>\n",
      "much\n",
      "<much.a.01: PosScore=0.0 NegScore=0.0>\n",
      "dangerous\n",
      "<dangerous.a.01: PosScore=0.0 NegScore=0.75>\n",
      "metastatic\n",
      "<metastatic.a.01: PosScore=0.0 NegScore=0.0>\n",
      "other\n",
      "<other.a.01: PosScore=0.0 NegScore=0.625>\n",
      "same\n",
      "<same.a.01: PosScore=0.0 NegScore=0.0>\n",
      "sudden\n",
      "<sudden.a.01: PosScore=0.0 NegScore=0.5>\n",
      "own\n",
      "<own.s.01: PosScore=0.0 NegScore=0.0>\n",
      "then-President\n",
      "21st\n",
      "<twenty-first.s.01: PosScore=0.0 NegScore=0.0>\n",
      "medical\n",
      "<medical.a.01: PosScore=0.0 NegScore=0.0>\n",
      "other\n",
      "<other.a.01: PosScore=0.0 NegScore=0.625>\n",
      "good\n",
      "<good.a.01: PosScore=0.75 NegScore=0.0>\n",
      "affordable\n",
      "<low-cost.s.01: PosScore=0.0 NegScore=0.0>\n",
      "much\n",
      "<much.a.01: PosScore=0.0 NegScore=0.0>\n",
      "loud\n",
      "<loud.a.01: PosScore=0.375 NegScore=0.125>\n",
      "full\n",
      "<full.a.01: PosScore=0.0 NegScore=0.0>\n"
     ]
    }
   ],
   "source": [
    "# For a sentence that contains, for example, a particular named entity (e.g. location, person, organization) the following code establishes the polarity of adjectives ('JJ) or adverbs ('RB') in the sentence. \n",
    "lemmatizer = WordNetLemmatizer()\n",
    "adj = [] # opens up an empty list to collect all the adjectives \n",
    "for i in sentences: # for each sentence in a list of sentences\n",
    "    if 'cancer' in i: #if the sentence contains a particular named entity\n",
    "        for word, tag in nltk.pos_tag(nltk.word_tokenize(i)): #tokenize the sentence and assign part of speech for each word\n",
    "            if tag==\"JJ\": #check if the word is an adjective or adverb \"RB\" or superlative \"JJS\", or comparative \"JJR\"\n",
    "                try:\n",
    "                    word_lemma = lemmatizer.lemmatize(word) # lemmatize the word\n",
    "                    print (word_lemma)\n",
    "                    adj.append(str(word)) #add it to the adj list\n",
    "                    synset=list(swn.senti_synsets(word_lemma, \"a\"))[0] #get the most likely synset for that adjective, superlative, comparative or adverb and its sentiment scoring\n",
    "                    print (synset)\n",
    "                except:\n",
    "                    pass"
   ]
  },
  {
   "cell_type": "code",
   "execution_count": 219,
   "metadata": {},
   "outputs": [
    {
     "data": {
      "text/plain": [
       "['double-mastectomy',\n",
       " 'late',\n",
       " 'last',\n",
       " '1,000-mile',\n",
       " 'affordable',\n",
       " 'African-American',\n",
       " 'much',\n",
       " 'devil',\n",
       " 'own',\n",
       " 'Many',\n",
       " 'cancer-free',\n",
       " 'alive',\n",
       " 'whole',\n",
       " 'medical',\n",
       " 'financial',\n",
       " 'up',\n",
       " 'half',\n",
       " 'civil',\n",
       " 'criminal',\n",
       " 'double',\n",
       " 'elective',\n",
       " 'positive',\n",
       " 'preventive',\n",
       " 'hospital',\n",
       " 'cancerous',\n",
       " 'right',\n",
       " 'lymph',\n",
       " 'right',\n",
       " 'positive',\n",
       " 'left',\n",
       " 'other',\n",
       " 'up.So',\n",
       " 'surgical',\n",
       " 'medical',\n",
       " 'right',\n",
       " 'cm',\n",
       " 'small',\n",
       " 'initial',\n",
       " 'slight',\n",
       " 'double',\n",
       " 'such',\n",
       " 'aggressive',\n",
       " 'understood',\n",
       " 'tested',\n",
       " 'positive',\n",
       " 'definitive',\n",
       " 'medical',\n",
       " 'right',\n",
       " 'double',\n",
       " 'unclear',\n",
       " 'frequent',\n",
       " 'own',\n",
       " 'chemo',\n",
       " 'aggressive',\n",
       " 'seasoned',\n",
       " 'public',\n",
       " 'professional',\n",
       " 'best-selling',\n",
       " 'old',\n",
       " 'much',\n",
       " 'critical',\n",
       " 'few',\n",
       " 'other',\n",
       " 'unable',\n",
       " 'reconstructive',\n",
       " 'blood-clotting',\n",
       " 'disorder.Family',\n",
       " 'first',\n",
       " 'funeral',\n",
       " 'much',\n",
       " 'few',\n",
       " 'little',\n",
       " 'right',\n",
       " 'serious',\n",
       " 'foster',\n",
       " 'private-school',\n",
       " 'sick',\n",
       " 'sufficient',\n",
       " 'pretty',\n",
       " 'own',\n",
       " 'unfair',\n",
       " 'living',\n",
       " 'campaign.A',\n",
       " 'cautious',\n",
       " 'multiple',\n",
       " 'due',\n",
       " 'limited',\n",
       " 'medical',\n",
       " 'obvious',\n",
       " 'additional',\n",
       " 'likely',\n",
       " 'bizarre',\n",
       " 'social',\n",
       " 'unfair',\n",
       " 'globe.The',\n",
       " 'messageOne',\n",
       " 'different',\n",
       " 'likely',\n",
       " 'early',\n",
       " 'white',\n",
       " 'likely',\n",
       " 'triple-negative',\n",
       " 'certain',\n",
       " 'ethnic',\n",
       " 'racial',\n",
       " 'American',\n",
       " 'such',\n",
       " 'important',\n",
       " 'much',\n",
       " 'dangerous',\n",
       " 'metastatic',\n",
       " 'other',\n",
       " 'same',\n",
       " 'sudden',\n",
       " 'own',\n",
       " 'then-President',\n",
       " '21st',\n",
       " 'medical',\n",
       " 'other',\n",
       " 'good',\n",
       " 'affordable',\n",
       " 'much',\n",
       " 'loud',\n",
       " 'full']"
      ]
     },
     "execution_count": 219,
     "metadata": {},
     "output_type": "execute_result"
    }
   ],
   "source": [
    "adj"
   ]
  },
  {
   "cell_type": "code",
   "execution_count": 221,
   "metadata": {},
   "outputs": [
    {
     "data": {
      "text/plain": [
       "[('right', 5),\n",
       " ('much', 5),\n",
       " ('medical', 5),\n",
       " ('own', 4),\n",
       " ('other', 4),\n",
       " ('double', 3),\n",
       " ('likely', 3),\n",
       " ('positive', 3),\n",
       " ('affordable', 2),\n",
       " ('aggressive', 2),\n",
       " ('such', 2),\n",
       " ('few', 2),\n",
       " ('unfair', 2),\n",
       " ('financial', 1),\n",
       " ('left', 1),\n",
       " ('lymph', 1),\n",
       " ('same', 1),\n",
       " ('surgical', 1),\n",
       " ('frequent', 1),\n",
       " ('living', 1),\n",
       " ('public', 1),\n",
       " ('disorder.Family', 1),\n",
       " ('social', 1),\n",
       " ('additional', 1),\n",
       " ('whole', 1),\n",
       " ('sudden', 1),\n",
       " ('dangerous', 1),\n",
       " ('good', 1),\n",
       " ('cancer-free', 1),\n",
       " ('21st', 1),\n",
       " ('definitive', 1),\n",
       " ('cautious', 1),\n",
       " ('Many', 1),\n",
       " ('campaign.A', 1),\n",
       " ('double-mastectomy', 1),\n",
       " ('messageOne', 1),\n",
       " ('chemo', 1),\n",
       " ('half', 1),\n",
       " ('1,000-mile', 1),\n",
       " ('full', 1),\n",
       " ('understood', 1),\n",
       " ('blood-clotting', 1),\n",
       " ('reconstructive', 1),\n",
       " ('sick', 1),\n",
       " ('seasoned', 1),\n",
       " ('little', 1),\n",
       " ('funeral', 1),\n",
       " ('small', 1),\n",
       " ('unable', 1),\n",
       " ('unclear', 1),\n",
       " ('critical', 1),\n",
       " ('best-selling', 1),\n",
       " ('foster', 1),\n",
       " ('multiple', 1),\n",
       " ('white', 1),\n",
       " ('private-school', 1),\n",
       " ('cm', 1),\n",
       " ('pretty', 1),\n",
       " ('American', 1),\n",
       " ('up.So', 1),\n",
       " ('important', 1),\n",
       " ('criminal', 1),\n",
       " ('cancerous', 1),\n",
       " ('different', 1),\n",
       " ('preventive', 1),\n",
       " ('civil', 1),\n",
       " ('metastatic', 1),\n",
       " ('sufficient', 1),\n",
       " ('devil', 1),\n",
       " ('slight', 1),\n",
       " ('globe.The', 1),\n",
       " ('racial', 1),\n",
       " ('last', 1),\n",
       " ('first', 1),\n",
       " ('limited', 1),\n",
       " ('certain', 1),\n",
       " ('due', 1),\n",
       " ('elective', 1),\n",
       " ('serious', 1),\n",
       " ('bizarre', 1),\n",
       " ('hospital', 1),\n",
       " ('late', 1),\n",
       " ('African-American', 1),\n",
       " ('early', 1),\n",
       " ('up', 1),\n",
       " ('obvious', 1),\n",
       " ('tested', 1),\n",
       " ('old', 1),\n",
       " ('professional', 1),\n",
       " ('initial', 1),\n",
       " ('alive', 1),\n",
       " ('ethnic', 1),\n",
       " ('then-President', 1),\n",
       " ('triple-negative', 1),\n",
       " ('loud', 1)]"
      ]
     },
     "execution_count": 221,
     "metadata": {},
     "output_type": "execute_result"
    }
   ],
   "source": [
    "#Extracting most common adjectives or adverbs that are found in the vicinity of a particular named entity\n",
    "adj_di = Counter(adj) #counting all the extracted adjectives and putting them in a dictionary structure\n",
    "adj_di.most_common()"
   ]
  },
  {
   "cell_type": "markdown",
   "metadata": {},
   "source": [
    "### wordnet"
   ]
  },
  {
   "cell_type": "code",
   "execution_count": 223,
   "metadata": {},
   "outputs": [
    {
     "data": {
      "text/plain": [
       "[Synset('cancer.n.01'),\n",
       " Synset('cancer.n.02'),\n",
       " Synset('cancer.n.03'),\n",
       " Synset('cancer.n.04'),\n",
       " Synset('cancer.n.05')]"
      ]
     },
     "execution_count": 223,
     "metadata": {},
     "output_type": "execute_result"
    }
   ],
   "source": [
    "wn.synsets('cancer')"
   ]
  },
  {
   "cell_type": "code",
   "execution_count": 229,
   "metadata": {},
   "outputs": [
    {
     "data": {
      "text/plain": [
       "'type genus of the family Cancridae'"
      ]
     },
     "execution_count": 229,
     "metadata": {},
     "output_type": "execute_result"
    }
   ],
   "source": [
    "wn.synset('cancer.n.05').definition()"
   ]
  },
  {
   "cell_type": "code",
   "execution_count": null,
   "metadata": {
    "collapsed": true
   },
   "outputs": [],
   "source": []
  }
 ],
 "metadata": {
  "kernelspec": {
   "display_name": "Python 3",
   "language": "python",
   "name": "python3"
  },
  "language_info": {
   "codemirror_mode": {
    "name": "ipython",
    "version": 3
   },
   "file_extension": ".py",
   "mimetype": "text/x-python",
   "name": "python",
   "nbconvert_exporter": "python",
   "pygments_lexer": "ipython3",
   "version": "3.5.2"
  }
 },
 "nbformat": 4,
 "nbformat_minor": 2
}
